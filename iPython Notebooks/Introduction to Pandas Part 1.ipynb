{
 "cells": [
  {
   "cell_type": "markdown",
   "metadata": {
    "slideshow": {
     "slide_type": "slide"
    }
   },
   "source": [
    "# Data Science Boot Camp"
   ]
  },
  {
   "cell_type": "markdown",
   "metadata": {
    "slideshow": {
     "slide_type": "slide"
    }
   },
   "source": [
    "## Introduction to Pandas Part 1"
   ]
  },
  {
   "cell_type": "markdown",
   "metadata": {
    "slideshow": {
     "slide_type": "fragment"
    }
   },
   "source": [
    "* __Pandas__ is a Python package providing fast, flexible, and expressive data structures designed to work with *relational* or *labeled* data both.<br>\n",
    "<br>\n",
    "* It is a fundamental high-level building block for doing practical, real world data analysis in Python.<br>\n",
    "<br>\n",
    "* Python has always been great for prepping and munging data, but it's never been great for analysis - you'd usually end up using R or loading it into a database and using SQL. Pandas makes Python great for analysis.<br>"
   ]
  },
  {
   "cell_type": "markdown",
   "metadata": {
    "slideshow": {
     "slide_type": "slide"
    }
   },
   "source": [
    "* Pandas is well suited for:<br>\n",
    "<br>\n",
    "    * Tabular data with heterogeneously-typed columns, as in an SQL table or Excel spreadsheet<br>\n",
    "    <br>\n",
    "    * Ordered and unordered (not necessarily fixed-frequency) time series data.<br>\n",
    "    <br>\n",
    "    * Arbitrary matrix data (homogeneously typed or heterogeneous) with row and column labels<br>\n",
    "    <br>\n",
    "    * Any other form of observational / statistical data sets. The data actually need not be labeled at all to be placed into a pandas data structure<br>\n",
    "\n"
   ]
  },
  {
   "cell_type": "markdown",
   "metadata": {
    "slideshow": {
     "slide_type": "slide"
    }
   },
   "source": [
    "* Key features of Pandas:<br>\n",
    "<br>\n",
    "    * Easy handling of __missing data__<br>\n",
    "<br>\n",
    "    * __Size mutability__: columns can be inserted and deleted from DataFrame and higher dimensional objects.<br>\n",
    "<br>\n",
    "    * Automatic and explicit __data alignment__: objects can be explicitly aligned to a set of labels, or the data can be aligned automatically.<br>\n",
    "<br>\n",
    "    * __Fast__ and __efficient__ DataFrame object with default and customized indexing.<br>\n",
    "<br>\n",
    "    * __Reshaping__ and __pivoting__ of data sets.<br>"
   ]
  },
  {
   "cell_type": "markdown",
   "metadata": {
    "slideshow": {
     "slide_type": "slide"
    }
   },
   "source": [
    "* Key features of Pandas (Continued):<br>\n",
    "<br>\n",
    "    * Label-based __slicing__, __indexing__, __fancy indexing__ and __subsetting__ of large data sets.<br>\n",
    "<br>\n",
    "    * __Group by__ data for aggregation and transformations.<br>\n",
    "<br>\n",
    "    * High performance __merging__ and __joining__ of data.<br>\n",
    "<br>\n",
    "    * __IO Tools__ for loading data into in-memory data objects from different file formats.<br>\n",
    "<br>\n",
    "    * __Time Series__ functionality.<br>"
   ]
  },
  {
   "cell_type": "markdown",
   "metadata": {
    "slideshow": {
     "slide_type": "slide"
    }
   },
   "source": [
    "* First thing we have to import pandas and numpy library under the aliases pd and np.<br>\n",
    "<br>\n",
    "* Then check our pandas version.<br>"
   ]
  },
  {
   "cell_type": "code",
   "execution_count": 1,
   "metadata": {
    "slideshow": {
     "slide_type": "fragment"
    }
   },
   "outputs": [
    {
     "name": "stdout",
     "output_type": "stream",
     "text": [
      "0.22.0\n"
     ]
    }
   ],
   "source": [
    "%matplotlib inline\n",
    "\n",
    "import pandas as pd\n",
    "import numpy as np\n",
    "\n",
    "print(pd.__version__)"
   ]
  },
  {
   "cell_type": "markdown",
   "metadata": {
    "slideshow": {
     "slide_type": "fragment"
    }
   },
   "source": [
    "* Let's set some options for `Pandas`"
   ]
  },
  {
   "cell_type": "code",
   "execution_count": 2,
   "metadata": {
    "slideshow": {
     "slide_type": "fragment"
    }
   },
   "outputs": [],
   "source": [
    "pd.set_option('display.notebook_repr_html', False)\n",
    "pd.set_option('max_columns', 10)\n",
    "pd.set_option('max_rows', 10)"
   ]
  },
  {
   "cell_type": "markdown",
   "metadata": {
    "slideshow": {
     "slide_type": "slide"
    }
   },
   "source": [
    "## Pandas Objects"
   ]
  },
  {
   "cell_type": "markdown",
   "metadata": {
    "slideshow": {
     "slide_type": "fragment"
    }
   },
   "source": [
    "* At the very basic level, Pandas objects can be thought of as enhanced versions of NumPy structured arrays in which the rows and columns are identified with labels rather than simple integer indices.<br>\n",
    "<br>\n",
    "* There are three fundamental Pandas data structures: the Series, DataFrame, and Index."
   ]
  },
  {
   "cell_type": "markdown",
   "metadata": {
    "slideshow": {
     "slide_type": "slide"
    }
   },
   "source": [
    "### Series"
   ]
  },
  {
   "cell_type": "markdown",
   "metadata": {
    "slideshow": {
     "slide_type": "fragment"
    }
   },
   "source": [
    "* A __Series__ is a single vector of data (like a NumPy array) with an *index* that labels each element in the vector.<br><br>\n",
    "* It can be created from a list or array as follows:"
   ]
  },
  {
   "cell_type": "code",
   "execution_count": 3,
   "metadata": {
    "slideshow": {
     "slide_type": "fragment"
    }
   },
   "outputs": [
    {
     "data": {
      "text/plain": [
       "0    15029231\n",
       "1     7529491\n",
       "2     7499740\n",
       "3     5445026\n",
       "4     2702492\n",
       "5     2742534\n",
       "6     4279677\n",
       "7     2133548\n",
       "8     2146129\n",
       "dtype: int64"
      ]
     },
     "execution_count": 3,
     "metadata": {},
     "output_type": "execute_result"
    }
   ],
   "source": [
    "counts = pd.Series([15029231, 7529491, 7499740, 5445026, 2702492, 2742534, 4279677, 2133548, 2146129])\n",
    "counts"
   ]
  },
  {
   "cell_type": "markdown",
   "metadata": {
    "slideshow": {
     "slide_type": "slide"
    }
   },
   "source": [
    "* If an index is not specified, a default sequence of integers is assigned as the index. A NumPy array comprises the values of the `Series`, while the index is a pandas `Index` object."
   ]
  },
  {
   "cell_type": "code",
   "execution_count": 4,
   "metadata": {
    "slideshow": {
     "slide_type": "fragment"
    }
   },
   "outputs": [
    {
     "data": {
      "text/plain": [
       "array([15029231,  7529491,  7499740,  5445026,  2702492,  2742534,\n",
       "        4279677,  2133548,  2146129])"
      ]
     },
     "execution_count": 4,
     "metadata": {},
     "output_type": "execute_result"
    }
   ],
   "source": [
    "counts.values"
   ]
  },
  {
   "cell_type": "code",
   "execution_count": 5,
   "metadata": {
    "slideshow": {
     "slide_type": "fragment"
    }
   },
   "outputs": [
    {
     "data": {
      "text/plain": [
       "RangeIndex(start=0, stop=9, step=1)"
      ]
     },
     "execution_count": 5,
     "metadata": {},
     "output_type": "execute_result"
    }
   ],
   "source": [
    "counts.index"
   ]
  },
  {
   "cell_type": "markdown",
   "metadata": {
    "slideshow": {
     "slide_type": "slide"
    }
   },
   "source": [
    "* We can assign meaningful labels to the index, if they are available:"
   ]
  },
  {
   "cell_type": "code",
   "execution_count": 6,
   "metadata": {
    "slideshow": {
     "slide_type": "fragment"
    }
   },
   "outputs": [
    {
     "data": {
      "text/plain": [
       "Istanbul Total      15029231\n",
       "Istanbul Males       7529491\n",
       "Istanbul Females     7499740\n",
       "Ankara Total         5445026\n",
       "Ankara Males         2702492\n",
       "Ankara Females       2742534\n",
       "Izmir Total          4279677\n",
       "Izmir Males          2133548\n",
       "Izmir Females        2146129\n",
       "dtype: int64"
      ]
     },
     "execution_count": 6,
     "metadata": {},
     "output_type": "execute_result"
    }
   ],
   "source": [
    "population = pd.Series([15029231, 7529491, 7499740, 5445026, 2702492, 2742534, 4279677, 2133548, 2146129], \n",
    "    index=['Istanbul Total', 'Istanbul Males', 'Istanbul Females', 'Ankara Total', 'Ankara Males', 'Ankara Females', 'Izmir Total', 'Izmir Males', 'Izmir Females'])\n",
    "population"
   ]
  },
  {
   "cell_type": "markdown",
   "metadata": {
    "slideshow": {
     "slide_type": "fragment"
    }
   },
   "source": [
    "* These labels can be used to refer to the values in the `Series`."
   ]
  },
  {
   "cell_type": "code",
   "execution_count": 7,
   "metadata": {
    "slideshow": {
     "slide_type": "fragment"
    }
   },
   "outputs": [
    {
     "data": {
      "text/plain": [
       "15029231"
      ]
     },
     "execution_count": 7,
     "metadata": {},
     "output_type": "execute_result"
    }
   ],
   "source": [
    "population['Istanbul Total']"
   ]
  },
  {
   "cell_type": "code",
   "execution_count": 8,
   "metadata": {
    "slideshow": {
     "slide_type": "slide"
    }
   },
   "outputs": [
    {
     "data": {
      "text/plain": [
       "[False, False, True, False, False, True, False, False, True]"
      ]
     },
     "execution_count": 8,
     "metadata": {},
     "output_type": "execute_result"
    }
   ],
   "source": [
    "mask = [city.endswith('Females') for city in population.index]\n",
    "mask "
   ]
  },
  {
   "cell_type": "code",
   "execution_count": 9,
   "metadata": {
    "slideshow": {
     "slide_type": "fragment"
    }
   },
   "outputs": [
    {
     "data": {
      "text/plain": [
       "Istanbul Females    7499740\n",
       "Ankara Females      2742534\n",
       "Izmir Females       2146129\n",
       "dtype: int64"
      ]
     },
     "execution_count": 9,
     "metadata": {},
     "output_type": "execute_result"
    }
   ],
   "source": [
    "population[mask]"
   ]
  },
  {
   "cell_type": "markdown",
   "metadata": {
    "slideshow": {
     "slide_type": "fragment"
    }
   },
   "source": [
    "* As you noticed that we can masking in series.<br>\n",
    "<br>\n",
    "* Also we can still use positional indexing even we assign meaningful labels to the index, if we wish.<br>"
   ]
  },
  {
   "cell_type": "code",
   "execution_count": 10,
   "metadata": {
    "slideshow": {
     "slide_type": "fragment"
    }
   },
   "outputs": [
    {
     "data": {
      "text/plain": [
       "15029231"
      ]
     },
     "execution_count": 10,
     "metadata": {},
     "output_type": "execute_result"
    }
   ],
   "source": [
    "population[0]"
   ]
  },
  {
   "cell_type": "markdown",
   "metadata": {
    "slideshow": {
     "slide_type": "slide"
    }
   },
   "source": [
    "* We can give both the array of values and the index meaningful labels themselves:<br>"
   ]
  },
  {
   "cell_type": "code",
   "execution_count": 11,
   "metadata": {
    "slideshow": {
     "slide_type": "fragment"
    }
   },
   "outputs": [
    {
     "data": {
      "text/plain": [
       "city\n",
       "Istanbul Total      15029231\n",
       "Istanbul Males       7529491\n",
       "Istanbul Females     7499740\n",
       "Ankara Total         5445026\n",
       "Ankara Males         2702492\n",
       "Ankara Females       2742534\n",
       "Izmir Total          4279677\n",
       "Izmir Males          2133548\n",
       "Izmir Females        2146129\n",
       "Name: population, dtype: int64"
      ]
     },
     "execution_count": 11,
     "metadata": {},
     "output_type": "execute_result"
    }
   ],
   "source": [
    "population.name = 'population'\n",
    "population.index.name = 'city'\n",
    "population"
   ]
  },
  {
   "cell_type": "markdown",
   "metadata": {
    "slideshow": {
     "slide_type": "slide"
    }
   },
   "source": [
    "* Also, NumPy's math functions and other operations can be applied to Series without losing the data structure.<br>"
   ]
  },
  {
   "cell_type": "code",
   "execution_count": 12,
   "metadata": {
    "slideshow": {
     "slide_type": "fragment"
    }
   },
   "outputs": [
    {
     "data": {
      "text/plain": [
       "city\n",
       "Istanbul Total      16000000.0\n",
       "Istanbul Males       8000000.0\n",
       "Istanbul Females     8000000.0\n",
       "Ankara Total         6000000.0\n",
       "Ankara Males         3000000.0\n",
       "Ankara Females       3000000.0\n",
       "Izmir Total          5000000.0\n",
       "Izmir Males          3000000.0\n",
       "Izmir Females        3000000.0\n",
       "Name: population, dtype: float64"
      ]
     },
     "execution_count": 12,
     "metadata": {},
     "output_type": "execute_result"
    }
   ],
   "source": [
    "np.ceil(population / 1000000) * 1000000"
   ]
  },
  {
   "cell_type": "markdown",
   "metadata": {
    "slideshow": {
     "slide_type": "fragment"
    }
   },
   "source": [
    "* We can also filter according to the values in the `Series` like in the Numpy's:"
   ]
  },
  {
   "cell_type": "code",
   "execution_count": 13,
   "metadata": {
    "slideshow": {
     "slide_type": "fragment"
    }
   },
   "outputs": [
    {
     "data": {
      "text/plain": [
       "city\n",
       "Istanbul Total      15029231\n",
       "Istanbul Males       7529491\n",
       "Istanbul Females     7499740\n",
       "Ankara Total         5445026\n",
       "Izmir Total          4279677\n",
       "Name: population, dtype: int64"
      ]
     },
     "execution_count": 13,
     "metadata": {},
     "output_type": "execute_result"
    }
   ],
   "source": [
    "population[population>3000000]"
   ]
  },
  {
   "cell_type": "markdown",
   "metadata": {
    "slideshow": {
     "slide_type": "slide"
    }
   },
   "source": [
    "* A `Series` can be thought of as an ordered key-value store. In fact, we can create one from a `dict`:"
   ]
  },
  {
   "cell_type": "code",
   "execution_count": 14,
   "metadata": {
    "slideshow": {
     "slide_type": "fragment"
    }
   },
   "outputs": [
    {
     "data": {
      "text/plain": [
       "Ankara Total       5445026\n",
       "Istanbul Total    15029231\n",
       "Izmir Total        4279677\n",
       "dtype: int64"
      ]
     },
     "execution_count": 14,
     "metadata": {},
     "output_type": "execute_result"
    }
   ],
   "source": [
    "populationDict = {'Istanbul Total': 15029231, 'Ankara Total': 5445026, 'Izmir Total': 4279677}\n",
    "pd.Series(populationDict)"
   ]
  },
  {
   "cell_type": "markdown",
   "metadata": {
    "slideshow": {
     "slide_type": "slide"
    }
   },
   "source": [
    "* Notice that the `Series` is created in key-sorted order.<br>\n",
    "<br>\n",
    "* If we pass a custom index to `Series`, it will select the corresponding values from the dict, and treat indices without corrsponding values as missing. Pandas uses the `NaN` (not a number) type for missing values.<br>"
   ]
  },
  {
   "cell_type": "code",
   "execution_count": 15,
   "metadata": {
    "slideshow": {
     "slide_type": "fragment"
    }
   },
   "outputs": [
    {
     "data": {
      "text/plain": [
       "Istanbul Total    15029231.0\n",
       "Ankara Total       5445026.0\n",
       "Izmir Total        4279677.0\n",
       "Bursa Total              NaN\n",
       "Antalya Total            NaN\n",
       "dtype: float64"
      ]
     },
     "execution_count": 15,
     "metadata": {},
     "output_type": "execute_result"
    }
   ],
   "source": [
    "population2 = pd.Series(populationDict, index=['Istanbul Total','Ankara Total','Izmir Total','Bursa Total', 'Antalya Total'])\n",
    "population2"
   ]
  },
  {
   "cell_type": "code",
   "execution_count": 16,
   "metadata": {
    "slideshow": {
     "slide_type": "fragment"
    }
   },
   "outputs": [
    {
     "data": {
      "text/plain": [
       "Istanbul Total    False\n",
       "Ankara Total      False\n",
       "Izmir Total       False\n",
       "Bursa Total        True\n",
       "Antalya Total      True\n",
       "dtype: bool"
      ]
     },
     "execution_count": 16,
     "metadata": {},
     "output_type": "execute_result"
    }
   ],
   "source": [
    "population2.isnull()"
   ]
  },
  {
   "cell_type": "markdown",
   "metadata": {
    "slideshow": {
     "slide_type": "slide"
    }
   },
   "source": [
    "* Critically, the labels are used to **align data** when used in operations with other Series objects:"
   ]
  },
  {
   "cell_type": "code",
   "execution_count": 17,
   "metadata": {
    "slideshow": {
     "slide_type": "fragment"
    }
   },
   "outputs": [
    {
     "data": {
      "text/plain": [
       "Ankara Females           NaN\n",
       "Ankara Males             NaN\n",
       "Ankara Total      10890052.0\n",
       "Antalya Total            NaN\n",
       "Bursa Total              NaN\n",
       "                     ...    \n",
       "Istanbul Males           NaN\n",
       "Istanbul Total    30058462.0\n",
       "Izmir Females            NaN\n",
       "Izmir Males              NaN\n",
       "Izmir Total        8559354.0\n",
       "Length: 11, dtype: float64"
      ]
     },
     "execution_count": 17,
     "metadata": {},
     "output_type": "execute_result"
    }
   ],
   "source": [
    "population + population2"
   ]
  },
  {
   "cell_type": "markdown",
   "metadata": {
    "slideshow": {
     "slide_type": "fragment"
    }
   },
   "source": [
    "* Contrast this with NumPy arrays, where arrays of the same length will combine values element-wise; adding Series combined values with the same label in the resulting series. Notice also that the missing values were propogated by addition."
   ]
  },
  {
   "cell_type": "markdown",
   "metadata": {
    "slideshow": {
     "slide_type": "slide"
    }
   },
   "source": [
    "### DataFrame"
   ]
  },
  {
   "cell_type": "markdown",
   "metadata": {
    "slideshow": {
     "slide_type": "fragment"
    }
   },
   "source": [
    "* A `DataFrame` represents a tabular, spreadsheet-like data structure containing an or- dered collection of columns, each of which can be a different value type (numeric, string, boolean, etc.).<br>\n",
    "<br>\n",
    "* `DataFrame` has both a row and column index; it can be thought of as a dict of Series (one for all sharing the same  index)."
   ]
  },
  {
   "cell_type": "code",
   "execution_count": 18,
   "metadata": {
    "slideshow": {
     "slide_type": "fragment"
    }
   },
   "outputs": [
    {
     "data": {
      "text/plain": [
       "Ankara      25632\n",
       "Antalya     20177\n",
       "Bursa       10813\n",
       "Istanbul     5461\n",
       "Izmir       11891\n",
       "dtype: int64"
      ]
     },
     "execution_count": 18,
     "metadata": {},
     "output_type": "execute_result"
    }
   ],
   "source": [
    "areaDict = {'Istanbul': 5461, 'Ankara': 25632, 'Izmir': 11891,\n",
    "            'Bursa': 10813, 'Antalya': 20177}\n",
    "area = pd.Series(areaDict)\n",
    "area"
   ]
  },
  {
   "cell_type": "code",
   "execution_count": 19,
   "metadata": {
    "slideshow": {
     "slide_type": "fragment"
    }
   },
   "outputs": [
    {
     "data": {
      "text/plain": [
       "Ankara       5445026\n",
       "Antalya      2364396\n",
       "Bursa        2936803\n",
       "Istanbul    15029231\n",
       "Izmir        4279677\n",
       "dtype: int64"
      ]
     },
     "execution_count": 19,
     "metadata": {},
     "output_type": "execute_result"
    }
   ],
   "source": [
    "populationDict = {'Istanbul': 15029231, 'Ankara': 5445026, 'Izmir': 4279677, 'Bursa': 2936803, 'Antalya': 2364396}\n",
    "population3 = pd.Series(populationDict)\n",
    "population3"
   ]
  },
  {
   "cell_type": "markdown",
   "metadata": {
    "slideshow": {
     "slide_type": "slide"
    }
   },
   "source": [
    "* Now that we have 2 Series population by cities and areas by cities, we can use a dictionary to construct a single two-dimensional object containing this information:"
   ]
  },
  {
   "cell_type": "code",
   "execution_count": 20,
   "metadata": {
    "slideshow": {
     "slide_type": "fragment"
    }
   },
   "outputs": [
    {
     "data": {
      "text/plain": [
       "           area  population\n",
       "Ankara    25632     5445026\n",
       "Antalya   20177     2364396\n",
       "Bursa     10813     2936803\n",
       "Istanbul   5461    15029231\n",
       "Izmir     11891     4279677"
      ]
     },
     "execution_count": 20,
     "metadata": {},
     "output_type": "execute_result"
    }
   ],
   "source": [
    "cities = pd.DataFrame({'population': population3, 'area': area})\n",
    "cities"
   ]
  },
  {
   "cell_type": "markdown",
   "metadata": {
    "slideshow": {
     "slide_type": "fragment"
    }
   },
   "source": [
    "* Or we can create our cities `DataFrame` with lists and indexes."
   ]
  },
  {
   "cell_type": "code",
   "execution_count": 21,
   "metadata": {
    "slideshow": {
     "slide_type": "fragment"
    }
   },
   "outputs": [
    {
     "data": {
      "text/plain": [
       "    area      city  population\n",
       "0   5461  Istanbul    15029231\n",
       "1  25632    Ankara     5445026\n",
       "2  11891     Izmir     4279677\n",
       "3  10813     Bursa     2936803\n",
       "4  20177   Antalya     2364396"
      ]
     },
     "execution_count": 21,
     "metadata": {},
     "output_type": "execute_result"
    }
   ],
   "source": [
    "cities = pd.DataFrame({\n",
    "    'population':[15029231, 5445026, 4279677, 2936803, 2364396],\n",
    "    'area':[5461, 25632, 11891, 10813, 20177],\n",
    "    'city':['Istanbul', 'Ankara', 'Izmir', 'Bursa', 'Antalya']\n",
    "    })\n",
    "cities"
   ]
  },
  {
   "cell_type": "markdown",
   "metadata": {
    "slideshow": {
     "slide_type": "slide"
    }
   },
   "source": [
    "Notice the `DataFrame` is sorted by column name. We can change the order by indexing them in the order we desire:"
   ]
  },
  {
   "cell_type": "code",
   "execution_count": 22,
   "metadata": {
    "slideshow": {
     "slide_type": "fragment"
    }
   },
   "outputs": [
    {
     "data": {
      "text/plain": [
       "       city   area  population\n",
       "0  Istanbul   5461    15029231\n",
       "1    Ankara  25632     5445026\n",
       "2     Izmir  11891     4279677\n",
       "3     Bursa  10813     2936803\n",
       "4   Antalya  20177     2364396"
      ]
     },
     "execution_count": 22,
     "metadata": {},
     "output_type": "execute_result"
    }
   ],
   "source": [
    "cities[['city','area', 'population']]"
   ]
  },
  {
   "cell_type": "markdown",
   "metadata": {
    "slideshow": {
     "slide_type": "fragment"
    }
   },
   "source": [
    "* A `DataFrame` has a second index, representing the columns:"
   ]
  },
  {
   "cell_type": "code",
   "execution_count": 23,
   "metadata": {
    "slideshow": {
     "slide_type": "fragment"
    }
   },
   "outputs": [
    {
     "data": {
      "text/plain": [
       "Index([u'area', u'city', u'population'], dtype='object')"
      ]
     },
     "execution_count": 23,
     "metadata": {},
     "output_type": "execute_result"
    }
   ],
   "source": [
    "cities.columns"
   ]
  },
  {
   "cell_type": "markdown",
   "metadata": {
    "slideshow": {
     "slide_type": "slide"
    }
   },
   "source": [
    "* If we wish to access columns, we can do so either by dictionary like indexing or by attribute:"
   ]
  },
  {
   "cell_type": "code",
   "execution_count": 24,
   "metadata": {
    "slideshow": {
     "slide_type": "fragment"
    }
   },
   "outputs": [
    {
     "data": {
      "text/plain": [
       "0     5461\n",
       "1    25632\n",
       "2    11891\n",
       "3    10813\n",
       "4    20177\n",
       "Name: area, dtype: int64"
      ]
     },
     "execution_count": 24,
     "metadata": {},
     "output_type": "execute_result"
    }
   ],
   "source": [
    "cities['area']"
   ]
  },
  {
   "cell_type": "code",
   "execution_count": 25,
   "metadata": {
    "slideshow": {
     "slide_type": "fragment"
    }
   },
   "outputs": [
    {
     "data": {
      "text/plain": [
       "0     5461\n",
       "1    25632\n",
       "2    11891\n",
       "3    10813\n",
       "4    20177\n",
       "Name: area, dtype: int64"
      ]
     },
     "execution_count": 25,
     "metadata": {},
     "output_type": "execute_result"
    }
   ],
   "source": [
    "cities.area"
   ]
  },
  {
   "cell_type": "code",
   "execution_count": 26,
   "metadata": {
    "slideshow": {
     "slide_type": "slide"
    }
   },
   "outputs": [
    {
     "data": {
      "text/plain": [
       "pandas.core.series.Series"
      ]
     },
     "execution_count": 26,
     "metadata": {},
     "output_type": "execute_result"
    }
   ],
   "source": [
    "type(cities.area)"
   ]
  },
  {
   "cell_type": "code",
   "execution_count": 27,
   "metadata": {
    "slideshow": {
     "slide_type": "fragment"
    }
   },
   "outputs": [
    {
     "data": {
      "text/plain": [
       "pandas.core.frame.DataFrame"
      ]
     },
     "execution_count": 27,
     "metadata": {},
     "output_type": "execute_result"
    }
   ],
   "source": [
    "type(cities[['area']])"
   ]
  },
  {
   "cell_type": "markdown",
   "metadata": {
    "slideshow": {
     "slide_type": "fragment"
    }
   },
   "source": [
    "* Notice this is different than with `Series`, where dictionary like indexing retrieved a particular element (row). If we want access to a row in a `DataFrame`, we index its `iloc` attribute.\n"
   ]
  },
  {
   "cell_type": "code",
   "execution_count": 28,
   "metadata": {
    "slideshow": {
     "slide_type": "fragment"
    }
   },
   "outputs": [
    {
     "data": {
      "text/plain": [
       "area            11891\n",
       "city            Izmir\n",
       "population    4279677\n",
       "Name: 2, dtype: object"
      ]
     },
     "execution_count": 28,
     "metadata": {},
     "output_type": "execute_result"
    }
   ],
   "source": [
    "cities.iloc[2]"
   ]
  },
  {
   "cell_type": "code",
   "execution_count": 29,
   "metadata": {
    "slideshow": {
     "slide_type": "fragment"
    }
   },
   "outputs": [
    {
     "data": {
      "text/plain": [
       "    area      city  population\n",
       "0   5461  Istanbul    15029231\n",
       "1  25632    Ankara     5445026"
      ]
     },
     "execution_count": 29,
     "metadata": {},
     "output_type": "execute_result"
    }
   ],
   "source": [
    "cities.iloc[0:2]"
   ]
  },
  {
   "cell_type": "markdown",
   "metadata": {
    "slideshow": {
     "slide_type": "slide"
    }
   },
   "source": [
    "Alternatively, we can create a `DataFrame` with a dict of dicts:"
   ]
  },
  {
   "cell_type": "code",
   "execution_count": 30,
   "metadata": {
    "slideshow": {
     "slide_type": "fragment"
    }
   },
   "outputs": [
    {
     "data": {
      "text/plain": [
       "                   0        1        2        3        4\n",
       "area            5461    25632    11891    10813    20177\n",
       "city        Istanbul   Ankara    Izmir    Bursa  Antalya\n",
       "population  15029231  5445026  4279677  2936803  2364396"
      ]
     },
     "execution_count": 30,
     "metadata": {},
     "output_type": "execute_result"
    }
   ],
   "source": [
    "cities = pd.DataFrame({\n",
    "    0: {'city': 'Istanbul', 'area': 5461, 'population': 15029231},\n",
    "    1: {'city': 'Ankara', 'area': 25632, 'population': 5445026},\n",
    "    2: {'city': 'Izmir', 'area': 11891, 'population': 4279677},\n",
    "    3: {'city': 'Bursa', 'area': 10813, 'population': 2936803},\n",
    "    4: {'city': 'Antalya', 'area': 20177, 'population': 2364396},\n",
    "   \n",
    "})\n",
    "cities"
   ]
  },
  {
   "cell_type": "markdown",
   "metadata": {
    "slideshow": {
     "slide_type": "fragment"
    }
   },
   "source": [
    "* We probably want this transposed:"
   ]
  },
  {
   "cell_type": "code",
   "execution_count": 31,
   "metadata": {
    "slideshow": {
     "slide_type": "fragment"
    }
   },
   "outputs": [
    {
     "data": {
      "text/plain": [
       "    area      city population\n",
       "0   5461  Istanbul   15029231\n",
       "1  25632    Ankara    5445026\n",
       "2  11891     Izmir    4279677\n",
       "3  10813     Bursa    2936803\n",
       "4  20177   Antalya    2364396"
      ]
     },
     "execution_count": 31,
     "metadata": {},
     "output_type": "execute_result"
    }
   ],
   "source": [
    "cities = cities.T\n",
    "cities"
   ]
  },
  {
   "cell_type": "markdown",
   "metadata": {
    "slideshow": {
     "slide_type": "slide"
    }
   },
   "source": [
    "* It's important to note that the Series returned when a DataFrame is indexted is merely a **view** on the DataFrame, and not a copy of the data itself. <br>\n",
    "<br>\n",
    "* So you must be cautious when manipulating this data just like in the Numpy.<br>"
   ]
  },
  {
   "cell_type": "code",
   "execution_count": 32,
   "metadata": {
    "slideshow": {
     "slide_type": "fragment"
    }
   },
   "outputs": [
    {
     "data": {
      "text/plain": [
       "0     5461\n",
       "1    25632\n",
       "2    11891\n",
       "3    10813\n",
       "4    20177\n",
       "Name: area, dtype: object"
      ]
     },
     "execution_count": 32,
     "metadata": {},
     "output_type": "execute_result"
    }
   ],
   "source": [
    "areas = cities.area\n",
    "areas"
   ]
  },
  {
   "cell_type": "code",
   "execution_count": 33,
   "metadata": {
    "slideshow": {
     "slide_type": "fragment"
    }
   },
   "outputs": [
    {
     "data": {
      "text/plain": [
       "0     5461\n",
       "1    25632\n",
       "2    11891\n",
       "3        0\n",
       "4    20177\n",
       "Name: area, dtype: object"
      ]
     },
     "execution_count": 33,
     "metadata": {},
     "output_type": "execute_result"
    }
   ],
   "source": [
    "areas[3] = 0\n",
    "areas"
   ]
  },
  {
   "cell_type": "code",
   "execution_count": 34,
   "metadata": {
    "slideshow": {
     "slide_type": "fragment"
    }
   },
   "outputs": [
    {
     "data": {
      "text/plain": [
       "    area      city population\n",
       "0   5461  Istanbul   15029231\n",
       "1  25632    Ankara    5445026\n",
       "2  11891     Izmir    4279677\n",
       "3      0     Bursa    2936803\n",
       "4  20177   Antalya    2364396"
      ]
     },
     "execution_count": 34,
     "metadata": {},
     "output_type": "execute_result"
    }
   ],
   "source": [
    "cities"
   ]
  },
  {
   "cell_type": "markdown",
   "metadata": {
    "slideshow": {
     "slide_type": "slide"
    }
   },
   "source": [
    "* It's a usefull behavior for large data sets but for preventing this you can use copy method.<br>"
   ]
  },
  {
   "cell_type": "code",
   "execution_count": 35,
   "metadata": {
    "slideshow": {
     "slide_type": "fragment"
    }
   },
   "outputs": [
    {
     "data": {
      "text/plain": [
       "0     5461\n",
       "1    25632\n",
       "2    11891\n",
       "3    10813\n",
       "4    20177\n",
       "Name: area, dtype: object"
      ]
     },
     "execution_count": 35,
     "metadata": {},
     "output_type": "execute_result"
    }
   ],
   "source": [
    "areas = cities.area.copy()\n",
    "areas[3] = 10813\n",
    "areas"
   ]
  },
  {
   "cell_type": "code",
   "execution_count": 36,
   "metadata": {
    "slideshow": {
     "slide_type": "fragment"
    }
   },
   "outputs": [
    {
     "data": {
      "text/plain": [
       "    area      city population\n",
       "0   5461  Istanbul   15029231\n",
       "1  25632    Ankara    5445026\n",
       "2  11891     Izmir    4279677\n",
       "3      0     Bursa    2936803\n",
       "4  20177   Antalya    2364396"
      ]
     },
     "execution_count": 36,
     "metadata": {},
     "output_type": "execute_result"
    }
   ],
   "source": [
    "cities"
   ]
  },
  {
   "cell_type": "markdown",
   "metadata": {
    "slideshow": {
     "slide_type": "slide"
    }
   },
   "source": [
    "* We can create or modify columns by assignment:<br>"
   ]
  },
  {
   "cell_type": "code",
   "execution_count": 37,
   "metadata": {
    "slideshow": {
     "slide_type": "fragment"
    }
   },
   "outputs": [
    {
     "data": {
      "text/plain": [
       "    area      city population\n",
       "0   5461  Istanbul   15029231\n",
       "1  25632    Ankara    5445026\n",
       "2  11891     Izmir    4279677\n",
       "3  10813     Bursa    2936803\n",
       "4  20177   Antalya    2364396"
      ]
     },
     "execution_count": 37,
     "metadata": {},
     "output_type": "execute_result"
    }
   ],
   "source": [
    "cities.area[3] = 10813\n",
    "cities"
   ]
  },
  {
   "cell_type": "code",
   "execution_count": 38,
   "metadata": {
    "slideshow": {
     "slide_type": "fragment"
    }
   },
   "outputs": [
    {
     "data": {
      "text/plain": [
       "    area      city population  year\n",
       "0   5461  Istanbul   15029231  2017\n",
       "1  25632    Ankara    5445026  2017\n",
       "2  11891     Izmir    4279677  2017\n",
       "3  10813     Bursa    2936803  2017\n",
       "4  20177   Antalya    2364396  2017"
      ]
     },
     "execution_count": 38,
     "metadata": {},
     "output_type": "execute_result"
    }
   ],
   "source": [
    "cities['year'] = 2017\n",
    "cities"
   ]
  },
  {
   "cell_type": "markdown",
   "metadata": {
    "slideshow": {
     "slide_type": "slide"
    }
   },
   "source": [
    "* But note that, we can not use the attribute indexing method to add a new column:<br>"
   ]
  },
  {
   "cell_type": "code",
   "execution_count": 39,
   "metadata": {
    "slideshow": {
     "slide_type": "fragment"
    }
   },
   "outputs": [
    {
     "data": {
      "text/plain": [
       "    area      city population  year\n",
       "0   5461  Istanbul   15029231  2017\n",
       "1  25632    Ankara    5445026  2017\n",
       "2  11891     Izmir    4279677  2017\n",
       "3  10813     Bursa    2936803  2017\n",
       "4  20177   Antalya    2364396  2017"
      ]
     },
     "execution_count": 39,
     "metadata": {},
     "output_type": "execute_result"
    }
   ],
   "source": [
    "cities.projection2020 = 20000000\n",
    "cities"
   ]
  },
  {
   "cell_type": "markdown",
   "metadata": {
    "slideshow": {
     "slide_type": "fragment"
    }
   },
   "source": [
    "* It creates another variable.<br>"
   ]
  },
  {
   "cell_type": "code",
   "execution_count": 40,
   "metadata": {
    "slideshow": {
     "slide_type": "fragment"
    }
   },
   "outputs": [
    {
     "data": {
      "text/plain": [
       "20000000"
      ]
     },
     "execution_count": 40,
     "metadata": {},
     "output_type": "execute_result"
    }
   ],
   "source": [
    "cities.projection2020 "
   ]
  },
  {
   "cell_type": "markdown",
   "metadata": {
    "slideshow": {
     "slide_type": "slide"
    }
   },
   "source": [
    "* Specifying a `Series` as a new columns cause its values to be added according to the `DataFrame`'s index:"
   ]
  },
  {
   "cell_type": "code",
   "execution_count": 41,
   "metadata": {
    "slideshow": {
     "slide_type": "fragment"
    }
   },
   "outputs": [
    {
     "data": {
      "text/plain": [
       "0    11076840\n",
       "1     3889199\n",
       "2     3431204\n",
       "3     2150571\n",
       "4     1430539\n",
       "dtype: int64"
      ]
     },
     "execution_count": 41,
     "metadata": {},
     "output_type": "execute_result"
    }
   ],
   "source": [
    "populationIn2000 = pd.Series([11076840, 3889199, 3431204, 2150571, 1430539])\n",
    "populationIn2000"
   ]
  },
  {
   "cell_type": "code",
   "execution_count": 42,
   "metadata": {
    "slideshow": {
     "slide_type": "fragment"
    }
   },
   "outputs": [
    {
     "data": {
      "text/plain": [
       "    area      city population  year  population_2000\n",
       "0   5461  Istanbul   15029231  2017         11076840\n",
       "1  25632    Ankara    5445026  2017          3889199\n",
       "2  11891     Izmir    4279677  2017          3431204\n",
       "3  10813     Bursa    2936803  2017          2150571\n",
       "4  20177   Antalya    2364396  2017          1430539"
      ]
     },
     "execution_count": 42,
     "metadata": {},
     "output_type": "execute_result"
    }
   ],
   "source": [
    "cities['population_2000'] = populationIn2000\n",
    "cities"
   ]
  },
  {
   "cell_type": "markdown",
   "metadata": {
    "slideshow": {
     "slide_type": "slide"
    }
   },
   "source": [
    "* Other Python data structures (ones without an index) need to be the same length as the `DataFrame`:"
   ]
  },
  {
   "cell_type": "code",
   "execution_count": 43,
   "metadata": {
    "slideshow": {
     "slide_type": "fragment"
    }
   },
   "outputs": [
    {
     "ename": "ValueError",
     "evalue": "Length of values does not match length of index",
     "output_type": "error",
     "traceback": [
      "\u001b[0;31m---------------------------------------------------------------------------\u001b[0m",
      "\u001b[0;31mValueError\u001b[0m                                Traceback (most recent call last)",
      "\u001b[0;32m<ipython-input-43-75d7d15244fc>\u001b[0m in \u001b[0;36m<module>\u001b[0;34m()\u001b[0m\n\u001b[1;32m      1\u001b[0m \u001b[0mpopulationIn2007\u001b[0m \u001b[0;34m=\u001b[0m \u001b[0;34m[\u001b[0m\u001b[0;36m12573836\u001b[0m\u001b[0;34m,\u001b[0m \u001b[0;36m4466756\u001b[0m\u001b[0;34m,\u001b[0m \u001b[0;36m3739353\u001b[0m\u001b[0;34m,\u001b[0m \u001b[0;36m2439876\u001b[0m\u001b[0;34m]\u001b[0m\u001b[0;34m\u001b[0m\u001b[0m\n\u001b[0;32m----> 2\u001b[0;31m \u001b[0mcities\u001b[0m\u001b[0;34m[\u001b[0m\u001b[0;34m'population_2007'\u001b[0m\u001b[0;34m]\u001b[0m \u001b[0;34m=\u001b[0m \u001b[0mpopulationIn2007\u001b[0m\u001b[0;34m\u001b[0m\u001b[0m\n\u001b[0m",
      "\u001b[0;32m/Users/alpyuzbasioglu/anaconda2/lib/python2.7/site-packages/pandas/core/frame.pyc\u001b[0m in \u001b[0;36m__setitem__\u001b[0;34m(self, key, value)\u001b[0m\n\u001b[1;32m   2517\u001b[0m         \u001b[0;32melse\u001b[0m\u001b[0;34m:\u001b[0m\u001b[0;34m\u001b[0m\u001b[0m\n\u001b[1;32m   2518\u001b[0m             \u001b[0;31m# set column\u001b[0m\u001b[0;34m\u001b[0m\u001b[0;34m\u001b[0m\u001b[0m\n\u001b[0;32m-> 2519\u001b[0;31m             \u001b[0mself\u001b[0m\u001b[0;34m.\u001b[0m\u001b[0m_set_item\u001b[0m\u001b[0;34m(\u001b[0m\u001b[0mkey\u001b[0m\u001b[0;34m,\u001b[0m \u001b[0mvalue\u001b[0m\u001b[0;34m)\u001b[0m\u001b[0;34m\u001b[0m\u001b[0m\n\u001b[0m\u001b[1;32m   2520\u001b[0m \u001b[0;34m\u001b[0m\u001b[0m\n\u001b[1;32m   2521\u001b[0m     \u001b[0;32mdef\u001b[0m \u001b[0m_setitem_slice\u001b[0m\u001b[0;34m(\u001b[0m\u001b[0mself\u001b[0m\u001b[0;34m,\u001b[0m \u001b[0mkey\u001b[0m\u001b[0;34m,\u001b[0m \u001b[0mvalue\u001b[0m\u001b[0;34m)\u001b[0m\u001b[0;34m:\u001b[0m\u001b[0;34m\u001b[0m\u001b[0m\n",
      "\u001b[0;32m/Users/alpyuzbasioglu/anaconda2/lib/python2.7/site-packages/pandas/core/frame.pyc\u001b[0m in \u001b[0;36m_set_item\u001b[0;34m(self, key, value)\u001b[0m\n\u001b[1;32m   2583\u001b[0m \u001b[0;34m\u001b[0m\u001b[0m\n\u001b[1;32m   2584\u001b[0m         \u001b[0mself\u001b[0m\u001b[0;34m.\u001b[0m\u001b[0m_ensure_valid_index\u001b[0m\u001b[0;34m(\u001b[0m\u001b[0mvalue\u001b[0m\u001b[0;34m)\u001b[0m\u001b[0;34m\u001b[0m\u001b[0m\n\u001b[0;32m-> 2585\u001b[0;31m         \u001b[0mvalue\u001b[0m \u001b[0;34m=\u001b[0m \u001b[0mself\u001b[0m\u001b[0;34m.\u001b[0m\u001b[0m_sanitize_column\u001b[0m\u001b[0;34m(\u001b[0m\u001b[0mkey\u001b[0m\u001b[0;34m,\u001b[0m \u001b[0mvalue\u001b[0m\u001b[0;34m)\u001b[0m\u001b[0;34m\u001b[0m\u001b[0m\n\u001b[0m\u001b[1;32m   2586\u001b[0m         \u001b[0mNDFrame\u001b[0m\u001b[0;34m.\u001b[0m\u001b[0m_set_item\u001b[0m\u001b[0;34m(\u001b[0m\u001b[0mself\u001b[0m\u001b[0;34m,\u001b[0m \u001b[0mkey\u001b[0m\u001b[0;34m,\u001b[0m \u001b[0mvalue\u001b[0m\u001b[0;34m)\u001b[0m\u001b[0;34m\u001b[0m\u001b[0m\n\u001b[1;32m   2587\u001b[0m \u001b[0;34m\u001b[0m\u001b[0m\n",
      "\u001b[0;32m/Users/alpyuzbasioglu/anaconda2/lib/python2.7/site-packages/pandas/core/frame.pyc\u001b[0m in \u001b[0;36m_sanitize_column\u001b[0;34m(self, key, value, broadcast)\u001b[0m\n\u001b[1;32m   2758\u001b[0m \u001b[0;34m\u001b[0m\u001b[0m\n\u001b[1;32m   2759\u001b[0m             \u001b[0;31m# turn me into an ndarray\u001b[0m\u001b[0;34m\u001b[0m\u001b[0;34m\u001b[0m\u001b[0m\n\u001b[0;32m-> 2760\u001b[0;31m             \u001b[0mvalue\u001b[0m \u001b[0;34m=\u001b[0m \u001b[0m_sanitize_index\u001b[0m\u001b[0;34m(\u001b[0m\u001b[0mvalue\u001b[0m\u001b[0;34m,\u001b[0m \u001b[0mself\u001b[0m\u001b[0;34m.\u001b[0m\u001b[0mindex\u001b[0m\u001b[0;34m,\u001b[0m \u001b[0mcopy\u001b[0m\u001b[0;34m=\u001b[0m\u001b[0mFalse\u001b[0m\u001b[0;34m)\u001b[0m\u001b[0;34m\u001b[0m\u001b[0m\n\u001b[0m\u001b[1;32m   2761\u001b[0m             \u001b[0;32mif\u001b[0m \u001b[0;32mnot\u001b[0m \u001b[0misinstance\u001b[0m\u001b[0;34m(\u001b[0m\u001b[0mvalue\u001b[0m\u001b[0;34m,\u001b[0m \u001b[0;34m(\u001b[0m\u001b[0mnp\u001b[0m\u001b[0;34m.\u001b[0m\u001b[0mndarray\u001b[0m\u001b[0;34m,\u001b[0m \u001b[0mIndex\u001b[0m\u001b[0;34m)\u001b[0m\u001b[0;34m)\u001b[0m\u001b[0;34m:\u001b[0m\u001b[0;34m\u001b[0m\u001b[0m\n\u001b[1;32m   2762\u001b[0m                 \u001b[0;32mif\u001b[0m \u001b[0misinstance\u001b[0m\u001b[0;34m(\u001b[0m\u001b[0mvalue\u001b[0m\u001b[0;34m,\u001b[0m \u001b[0mlist\u001b[0m\u001b[0;34m)\u001b[0m \u001b[0;32mand\u001b[0m \u001b[0mlen\u001b[0m\u001b[0;34m(\u001b[0m\u001b[0mvalue\u001b[0m\u001b[0;34m)\u001b[0m \u001b[0;34m>\u001b[0m \u001b[0;36m0\u001b[0m\u001b[0;34m:\u001b[0m\u001b[0;34m\u001b[0m\u001b[0m\n",
      "\u001b[0;32m/Users/alpyuzbasioglu/anaconda2/lib/python2.7/site-packages/pandas/core/series.pyc\u001b[0m in \u001b[0;36m_sanitize_index\u001b[0;34m(data, index, copy)\u001b[0m\n\u001b[1;32m   3119\u001b[0m \u001b[0;34m\u001b[0m\u001b[0m\n\u001b[1;32m   3120\u001b[0m     \u001b[0;32mif\u001b[0m \u001b[0mlen\u001b[0m\u001b[0;34m(\u001b[0m\u001b[0mdata\u001b[0m\u001b[0;34m)\u001b[0m \u001b[0;34m!=\u001b[0m \u001b[0mlen\u001b[0m\u001b[0;34m(\u001b[0m\u001b[0mindex\u001b[0m\u001b[0;34m)\u001b[0m\u001b[0;34m:\u001b[0m\u001b[0;34m\u001b[0m\u001b[0m\n\u001b[0;32m-> 3121\u001b[0;31m         \u001b[0;32mraise\u001b[0m \u001b[0mValueError\u001b[0m\u001b[0;34m(\u001b[0m\u001b[0;34m'Length of values does not match length of '\u001b[0m \u001b[0;34m'index'\u001b[0m\u001b[0;34m)\u001b[0m\u001b[0;34m\u001b[0m\u001b[0m\n\u001b[0m\u001b[1;32m   3122\u001b[0m \u001b[0;34m\u001b[0m\u001b[0m\n\u001b[1;32m   3123\u001b[0m     \u001b[0;32mif\u001b[0m \u001b[0misinstance\u001b[0m\u001b[0;34m(\u001b[0m\u001b[0mdata\u001b[0m\u001b[0;34m,\u001b[0m \u001b[0mPeriodIndex\u001b[0m\u001b[0;34m)\u001b[0m\u001b[0;34m:\u001b[0m\u001b[0;34m\u001b[0m\u001b[0m\n",
      "\u001b[0;31mValueError\u001b[0m: Length of values does not match length of index"
     ]
    }
   ],
   "source": [
    "populationIn2007 = [12573836, 4466756, 3739353, 2439876]\n",
    "cities['population_2007'] = populationIn2007"
   ]
  },
  {
   "cell_type": "markdown",
   "metadata": {
    "slideshow": {
     "slide_type": "slide"
    }
   },
   "source": [
    "* We can use `del` to remove columns, in the same way `dict` entries can be removed:"
   ]
  },
  {
   "cell_type": "code",
   "execution_count": 44,
   "metadata": {
    "slideshow": {
     "slide_type": "fragment"
    }
   },
   "outputs": [
    {
     "data": {
      "text/plain": [
       "    area      city population  year  population_2000\n",
       "0   5461  Istanbul   15029231  2017         11076840\n",
       "1  25632    Ankara    5445026  2017          3889199\n",
       "2  11891     Izmir    4279677  2017          3431204\n",
       "3  10813     Bursa    2936803  2017          2150571\n",
       "4  20177   Antalya    2364396  2017          1430539"
      ]
     },
     "execution_count": 44,
     "metadata": {},
     "output_type": "execute_result"
    }
   ],
   "source": [
    "cities"
   ]
  },
  {
   "cell_type": "code",
   "execution_count": 45,
   "metadata": {
    "slideshow": {
     "slide_type": "fragment"
    }
   },
   "outputs": [
    {
     "data": {
      "text/plain": [
       "    area      city population  year\n",
       "0   5461  Istanbul   15029231  2017\n",
       "1  25632    Ankara    5445026  2017\n",
       "2  11891     Izmir    4279677  2017\n",
       "3  10813     Bursa    2936803  2017\n",
       "4  20177   Antalya    2364396  2017"
      ]
     },
     "execution_count": 45,
     "metadata": {},
     "output_type": "execute_result"
    }
   ],
   "source": [
    "del cities['population_2000']\n",
    "cities"
   ]
  },
  {
   "cell_type": "markdown",
   "metadata": {
    "slideshow": {
     "slide_type": "slide"
    }
   },
   "source": [
    "* We can extract the underlying data as a simple `ndarray` by accessing the `values` attribute:<br>"
   ]
  },
  {
   "cell_type": "code",
   "execution_count": 46,
   "metadata": {
    "slideshow": {
     "slide_type": "fragment"
    }
   },
   "outputs": [
    {
     "data": {
      "text/plain": [
       "array([[5461, 'Istanbul', 15029231, 2017],\n",
       "       [25632, 'Ankara', 5445026, 2017],\n",
       "       [11891, 'Izmir', 4279677, 2017],\n",
       "       [10813, 'Bursa', 2936803, 2017],\n",
       "       [20177, 'Antalya', 2364396, 2017]], dtype=object)"
      ]
     },
     "execution_count": 46,
     "metadata": {},
     "output_type": "execute_result"
    }
   ],
   "source": [
    "cities.values"
   ]
  },
  {
   "cell_type": "markdown",
   "metadata": {
    "slideshow": {
     "slide_type": "fragment"
    }
   },
   "source": [
    "* Notice that because of the mix of string and integer (and could be`NaN`) values, the dtype of the array is `object`."
   ]
  },
  {
   "cell_type": "markdown",
   "metadata": {
    "slideshow": {
     "slide_type": "slide"
    }
   },
   "source": [
    "* The dtype will automatically be chosen to be as general as needed to accomodate all the columns."
   ]
  },
  {
   "cell_type": "code",
   "execution_count": 47,
   "metadata": {
    "slideshow": {
     "slide_type": "fragment"
    }
   },
   "outputs": [
    {
     "data": {
      "text/plain": [
       "   floatNumbers  integers\n",
       "0          0.50         1\n",
       "1         -1.25         2\n",
       "2          2.50         3"
      ]
     },
     "execution_count": 47,
     "metadata": {},
     "output_type": "execute_result"
    }
   ],
   "source": [
    "df = pd.DataFrame({'integers': [1,2,3], 'floatNumbers':[0.5, -1.25, 2.5]})\n",
    "df"
   ]
  },
  {
   "cell_type": "code",
   "execution_count": 48,
   "metadata": {
    "slideshow": {
     "slide_type": "fragment"
    }
   },
   "outputs": [
    {
     "name": "stdout",
     "output_type": "stream",
     "text": [
      "float64\n"
     ]
    },
    {
     "data": {
      "text/plain": [
       "array([[ 0.5 ,  1.  ],\n",
       "       [-1.25,  2.  ],\n",
       "       [ 2.5 ,  3.  ]])"
      ]
     },
     "execution_count": 48,
     "metadata": {},
     "output_type": "execute_result"
    }
   ],
   "source": [
    "print(df.values.dtype)\n",
    "df.values"
   ]
  },
  {
   "cell_type": "markdown",
   "metadata": {
    "slideshow": {
     "slide_type": "slide"
    }
   },
   "source": [
    "* Pandas uses a custom data structure to represent the indices of Series and DataFrames."
   ]
  },
  {
   "cell_type": "code",
   "execution_count": 49,
   "metadata": {
    "slideshow": {
     "slide_type": "fragment"
    }
   },
   "outputs": [
    {
     "data": {
      "text/plain": [
       "Int64Index([0, 1, 2, 3, 4], dtype='int64')"
      ]
     },
     "execution_count": 49,
     "metadata": {},
     "output_type": "execute_result"
    }
   ],
   "source": [
    "cities.index"
   ]
  },
  {
   "cell_type": "markdown",
   "metadata": {
    "slideshow": {
     "slide_type": "fragment"
    }
   },
   "source": [
    "* Index objects are immutable:"
   ]
  },
  {
   "cell_type": "code",
   "execution_count": 50,
   "metadata": {
    "slideshow": {
     "slide_type": "fragment"
    }
   },
   "outputs": [
    {
     "ename": "TypeError",
     "evalue": "Index does not support mutable operations",
     "output_type": "error",
     "traceback": [
      "\u001b[0;31m---------------------------------------------------------------------------\u001b[0m",
      "\u001b[0;31mTypeError\u001b[0m                                 Traceback (most recent call last)",
      "\u001b[0;32m<ipython-input-50-4789d4a46de5>\u001b[0m in \u001b[0;36m<module>\u001b[0;34m()\u001b[0m\n\u001b[0;32m----> 1\u001b[0;31m \u001b[0mcities\u001b[0m\u001b[0;34m.\u001b[0m\u001b[0mindex\u001b[0m\u001b[0;34m[\u001b[0m\u001b[0;36m0\u001b[0m\u001b[0;34m]\u001b[0m \u001b[0;34m=\u001b[0m \u001b[0;36m15\u001b[0m\u001b[0;34m\u001b[0m\u001b[0m\n\u001b[0m",
      "\u001b[0;32m/Users/alpyuzbasioglu/anaconda2/lib/python2.7/site-packages/pandas/core/indexes/base.pyc\u001b[0m in \u001b[0;36m__setitem__\u001b[0;34m(self, key, value)\u001b[0m\n\u001b[1;32m   1722\u001b[0m \u001b[0;34m\u001b[0m\u001b[0m\n\u001b[1;32m   1723\u001b[0m     \u001b[0;32mdef\u001b[0m \u001b[0m__setitem__\u001b[0m\u001b[0;34m(\u001b[0m\u001b[0mself\u001b[0m\u001b[0;34m,\u001b[0m \u001b[0mkey\u001b[0m\u001b[0;34m,\u001b[0m \u001b[0mvalue\u001b[0m\u001b[0;34m)\u001b[0m\u001b[0;34m:\u001b[0m\u001b[0;34m\u001b[0m\u001b[0m\n\u001b[0;32m-> 1724\u001b[0;31m         \u001b[0;32mraise\u001b[0m \u001b[0mTypeError\u001b[0m\u001b[0;34m(\u001b[0m\u001b[0;34m\"Index does not support mutable operations\"\u001b[0m\u001b[0;34m)\u001b[0m\u001b[0;34m\u001b[0m\u001b[0m\n\u001b[0m\u001b[1;32m   1725\u001b[0m \u001b[0;34m\u001b[0m\u001b[0m\n\u001b[1;32m   1726\u001b[0m     \u001b[0;32mdef\u001b[0m \u001b[0m__getitem__\u001b[0m\u001b[0;34m(\u001b[0m\u001b[0mself\u001b[0m\u001b[0;34m,\u001b[0m \u001b[0mkey\u001b[0m\u001b[0;34m)\u001b[0m\u001b[0;34m:\u001b[0m\u001b[0;34m\u001b[0m\u001b[0m\n",
      "\u001b[0;31mTypeError\u001b[0m: Index does not support mutable operations"
     ]
    }
   ],
   "source": [
    "cities.index[0] = 15"
   ]
  },
  {
   "cell_type": "markdown",
   "metadata": {
    "slideshow": {
     "slide_type": "slide"
    }
   },
   "source": [
    "* This is so that Index objects can be shared between data structures without fear that they will be changed.\n",
    "* That means you can move, copy your meaningful labels to other `DataFrames`"
   ]
  },
  {
   "cell_type": "code",
   "execution_count": 51,
   "metadata": {
    "slideshow": {
     "slide_type": "fragment"
    }
   },
   "outputs": [
    {
     "data": {
      "text/plain": [
       "    area      city population  year\n",
       "0   5461  Istanbul   15029231  2017\n",
       "1  25632    Ankara    5445026  2017\n",
       "2  11891     Izmir    4279677  2017\n",
       "3  10813     Bursa    2936803  2017\n",
       "4  20177   Antalya    2364396  2017"
      ]
     },
     "execution_count": 51,
     "metadata": {},
     "output_type": "execute_result"
    }
   ],
   "source": [
    "cities"
   ]
  },
  {
   "cell_type": "code",
   "execution_count": 52,
   "metadata": {
    "slideshow": {
     "slide_type": "fragment"
    }
   },
   "outputs": [
    {
     "data": {
      "text/plain": [
       "                 area      city population  year\n",
       "Istanbul Total   5461  Istanbul   15029231  2017\n",
       "Ankara Total    25632    Ankara    5445026  2017\n",
       "Izmir Total     11891     Izmir    4279677  2017\n",
       "Bursa Total     10813     Bursa    2936803  2017\n",
       "Antalya Total   20177   Antalya    2364396  2017"
      ]
     },
     "execution_count": 52,
     "metadata": {},
     "output_type": "execute_result"
    }
   ],
   "source": [
    "cities.index = population2.index\n",
    "cities"
   ]
  },
  {
   "cell_type": "markdown",
   "metadata": {
    "slideshow": {
     "slide_type": "slide"
    }
   },
   "source": [
    "## Importing data"
   ]
  },
  {
   "cell_type": "markdown",
   "metadata": {
    "slideshow": {
     "slide_type": "slide"
    }
   },
   "source": [
    "* A key, but often under appreciated, step in data analysis is importing the data that we wish to analyze.<br>\n",
    "<br>\n",
    "* Though it is easy to load basic data structures into Python using built-in tools or those provided by packages like NumPy, it is non-trivial to import structured data well, and to easily convert this input into a robust data structure.<br>\n",
    "<br>\n",
    "* Pandas provides a convenient set of functions for importing tabular data in a number of formats directly into a `DataFrame` object. "
   ]
  },
  {
   "cell_type": "markdown",
   "metadata": {
    "slideshow": {
     "slide_type": "fragment"
    }
   },
   "source": [
    "* Let's start with some more population data, stored in csv format."
   ]
  },
  {
   "cell_type": "code",
   "execution_count": 53,
   "metadata": {
    "slideshow": {
     "slide_type": "slide"
    }
   },
   "outputs": [
    {
     "name": "stdout",
     "output_type": "stream",
     "text": [
      "Provinces;2000;2001;2002;2003;2004;2005;2006;2007;2008;2009;2010;2011;2012;2013;2014;2015;2016;2017\r",
      "\r\n",
      "Total;64729501;65603160;66401851;67187251;68010215;68860539;69729967;70586256;71517100;72561312;73722988;74724269;75627384;76667864;77695904;78741053;79814871;80810525\r",
      "\r\n",
      "Adana;1879695;1899324;1916637;1933428;1951142;1969512;1988277;2006650;2026319;2062226;2085225;2108805;2125635;2149260;2165595;2183167;2201670;2216475\r",
      "\r\n",
      "Adıyaman;568432;571180;573149;574886;576808;578852;580926;582762;585067;588475;590935;593931;595261;597184;597835;602774;610484;615076\r",
      "\r\n",
      "Afyonkarahisar;696292;698029;698773;699193;699794;700502;701204;701572;697365;701326;697559;698626;703948;707123;706371;709015;714523;715693\r",
      "\r\n",
      "Ağrı;519190;521514;523123;524514;526070;527732;529417;530879;532180;537665;542022;555479;552404;551177;549435;547210;542255;536285\r",
      "\r\n",
      "Amasya;333927;333768;333110;332271;331491;330739;329956;328674;323675;324268;334786;323079;322283;321977;321913;322167;326351;329888\r",
      "\r\n",
      "Ankara;3889199;3971642;4050309;4128889;4210596;4294678;4380736;4466756;4548939;4650802;4771716;4890893;4965542;5045083;5150072;5270575;5346518;5445026\r",
      "\r\n",
      "Antalya;1430539;1480282;1529110;1578367;1629338;1681656;1735239;1789295;1859275;1919729;1978333;2043482;2092537;2158265;2222562;2288456;2328555;2364396\r",
      "\r\n",
      "Artvin;167909;168184;168215;168164;168153;168164;168170;168092;166584;165580;164759;166394;167082;169334;169674;168370;168068;166143\r",
      "\r\n",
      "Aydın;870460;881911;892345;902594;913340;924446;935800;946971;965500;979155;989862;999163;1006541;1020957;1041979;1053506;1068260;1080839\r",
      "\r\n",
      "Balıkesir;1069260;1077362;1084072;1090411;1097187;1104261;1111475;1118313;1130276;1140085;1152323;1154314;1160731;1162761;1189057;1186688;1196176;1204824\r",
      "\r\n",
      "Bilecik;197625;198736;199580;200346;201182;202063;202960;203777;193169;202061;225381;203849;204116;208888;209925;212361;218297;221693\r",
      "\r\n",
      "Bingöl;240337;242183;243717;245168;246718;248336;249986;251552;256091;255745;255170;262263;262507;265514;266019;267184;269560;273354\r",
      "\r\n",
      "Bitlis;318886;320555;321791;322898;324114;325401;326709;327886;326897;328489;328767;336624;337253;337156;338023;340449;341225;341474\r",
      "\r\n",
      "Bolu;255576;257926;259953;261902;263967;266114;268305;270417;268882;271545;271208;276506;281080;283496;284789;291095;299896;303184\r",
      "\r\n",
      "Burdur;246060;247106;247811;248412;249090;249816;250552;251181;247437;251550;258868;250527;254341;257267;256898;258339;261401;264779\r",
      "\r\n",
      "Bursa;2150571;2192169;2231582;2270852;2311735;2353834;2396916;2439876;2507963;2550645;2605495;2652126;2688171;2740970;2787539;2842547;2901396;2936803\r",
      "\r\n",
      "Çanakkale;449418;453632;457280;460792;464511;468375;472320;476128;474791;477735;490397;486445;493691;502328;511790;513341;519793;530417\r",
      "\r\n",
      "Çankırı;169044;169955;170637;171252;171924;172635;173358;174012;176093;185019;179067;177211;184406;190909;183550;180945;183880;186074\r",
      "\r\n",
      "Çorum;567609;566094;563698;560968;558300;555649;552911;549828;545444;540704;535405;534578;529975;532080;527220;525180;527863;528422\r",
      "\r\n",
      "Denizli;845493;854958;863396;871614;880267;889229;898387;907325;917836;926362;931823;942278;950557;963464;978700;993442;1005687;1018735\r",
      "\r\n",
      "Diyarbakır;1317750;1338378;1357550;1376518;1396333;1416775;1437684;1460714;1492828;1515011;1528958;1570943;1592167;1607437;1635048;1654196;1673119;1699901\r",
      "\r\n",
      "Edirne;392134;393292;393896;394320;394852;395449;396047;396462;394644;395463;390428;399316;399708;398582;400280;402537;401701;406855\r",
      "\r\n",
      "Elazığ;517551;521467;524710;527774;531048;534467;537954;541258;547562;550667;552646;558556;562703;568239;568753;574304;578789;583671\r",
      "\r\n",
      "Erzincan;206815;208015;208937;209779;210694;211658;212639;213538;210645;213288;224949;215277;217886;219996;223633;222918;226032;231511\r",
      "\r\n",
      "Erzurum;801287;800311;798119;795482;792968;790505;787952;784941;774967;774207;769085;780847;778195;766729;763320;762321;762021;760476\r",
      "\r\n",
      "Eskişehir;651672;662354;672328;682212;692529;703168;714051;724849;741739;755427;764584;781247;789750;799724;812320;826716;844842;860620\r",
      "\r\n",
      "Gaziantep;1292817;1330205;1366581;1403165;1441079;1480026;1519905;1560023;1612223;1653670;1700763;1753596;1799558;1844438;1889466;1931836;1974244;2005515\r",
      "\r\n",
      "Giresun;410946;412428;413335;414062;414909;415830;416760;417505;421766;421860;419256;419498;419555;425007;429984;426686;444467;437393\r",
      "\r\n",
      "Gümüşhane;116008;118147;120166;122175;124267;126423;128628;130825;131367;130976;129618;132374;135216;141412;146353;151449;172034;170173\r",
      "\r\n",
      "Hakkari;223264;226676;229839;232966;236234;239606;243055;246469;258590;256761;251302;272165;279982;273041;276287;278775;267813;275761\r",
      "\r\n",
      "Hatay;1280457;1296401;1310828;1324961;1339798;1355144;1370831;1386224;1413287;1448418;1480571;1474223;1483674;1503066;1519836;1533507;1555165;1575226\r",
      "\r\n",
      "Isparta;418507;419307;419505;419502;419601;419758;419905;419845;407463;420796;448298;411245;416663;417774;418780;421766;427324;433830\r",
      "\r\n",
      "Mersin;1488755;1505196;1519824;1534060;1549054;1564588;1580460;1595938;1602908;1640888;1647899;1667939;1682848;1705774;1727255;1745221;1773852;1793931\r",
      "\r\n",
      "İstanbul;11076840;11292009;11495948;11699172;11910733;12128577;12351506;12573836;12697164;12915158;13255685;13624240;13854740;14160467;14377018;14657434;14804116;15029231\r",
      "\r\n",
      "İzmir;3431204;3477209;3519233;3560544;3603838;3648575;3694316;3739353;3795978;3868308;3948848;3965232;4005459;4061074;4113072;4168415;4223545;4279677\r",
      "\r\n",
      "Kars;326292;324908;323005;320898;318812;316723;314570;312205;312128;306536;301766;305755;304821;300874;296466;292660;289786;287654\r",
      "\r\n",
      "Kastamonu;351582;353271;354479;355541;356719;357972;359243;360366;360424;359823;361222;359759;359808;368093;368907;372633;376945;372373\r",
      "\r\n",
      "Kayseri;1038671;1056995;1074221;1091336;1109179;1127566;1146378;1165088;1184386;1205872;1234651;1255349;1274968;1295355;1322376;1341056;1358980;1376722\r",
      "\r\n",
      "Kırklareli;323427;325213;326561;327782;329116;330523;331955;333256;336942;333179;332791;340199;341218;340559;343723;346973;351684;356050\r",
      "\r\n",
      "Kırşehir;221473;222028;222267;222403;222596;222824;223050;223170;222735;223102;221876;221015;221209;223498;222707;225562;229975;234529\r",
      "\r\n",
      "Kocaeli;1192053;1226460;1259932;1293594;1328481;1364317;1401013;1437926;1490358;1522408;1560138;1601720;1634691;1676202;1722795;1780055;1830772;1883270\r",
      "\r\n",
      "Konya;1835987;1855057;1871862;1888154;1905345;1923174;1941386;1959082;1969868;1992675;2013845;2038555;2052281;2079225;2108808;2130544;2161303;2180149\r",
      "\r\n",
      "Kütahya;592921;592607;591405;589883;588464;587092;585666;583910;565884;571804;590496;564264;573421;572059;571554;571463;573642;572256\r",
      "\r\n",
      "Malatya;685533;691399;696387;701155;706222;711496;716879;722065;733789;736884;740643;757930;762366;762538;769544;772904;781305;786676\r",
      "\r\n",
      "Manisa;1276590;1284241;1290180;1295630;1301542;1307760;1314090;1319920;1316750;1331957;1379484;1340074;1346162;1359463;1367905;1380366;1396945;1413041\r",
      "\r\n",
      "Kahramanmaraş;937074;947317;956417;965268;974592;984254;994126;1004414;1029298;1037491;1044816;1054210;1063174;1075706;1089038;1096610;1112634;1127623\r",
      "\r\n",
      "Mardin;709316;715211;720195;724946;730002;735267;740641;745778;750697;737852;744606;764033;773026;779738;788996;796591;796237;809719\r",
      "\r\n",
      "Muğla;663606;678204;692171;706136;720650;735582;750865;766156;791424;802381;817503;838324;851145;866665;894509;908877;923773;938751\r",
      "\r\n",
      "Muş;403236;404138;404462;404596;404832;405127;405416;405509;404309;404484;406886;414706;413260;412553;411216;408728;406501;404544\r",
      "\r\n",
      "Nevşehir;275262;276309;276971;277514;278138;278814;279498;280058;281699;284025;282337;283247;285190;285460;286250;286767;290895;292365\r",
      "\r\n",
      "Niğde;321330;323181;324600;325894;327302;328786;330295;331677;338447;339921;337931;337553;340270;343658;343898;346114;351468;352727\r",
      "\r\n",
      "Ordu;705746;708079;709420;710444;711670;713018;714375;715409;719278;723507;719183;714390;741371;731452;724268;728949;750588;742341\r",
      "\r\n",
      "Rize;307133;308800;310052;311181;312417;313722;315049;316252;319410;319569;319637;323012;324152;328205;329779;328979;331048;331041\r",
      "\r\n",
      "Sakarya;750485;762848;774397;785845;797793;810112;822715;835222;851292;861570;872872;888556;902267;917373;932706;953181;976948;990214\r",
      "\r\n",
      "Samsun;1191926;1198574;1203611;1208179;1213165;1218424;1223774;1228959;1233677;1250076;1252693;1251729;1251722;1261810;1269989;1279884;1295927;1312990\r",
      "\r\n",
      "Siirt;270832;273982;276806;279562;282461;285462;288529;291528;299819;303622;300695;310468;310879;314153;318366;320351;322664;324394\r",
      "\r\n",
      "Sinop;194318;195151;195715;196196;196739;197319;197908;198412;200791;201134;202740;203027;201311;204568;204526;204133;205478;207427\r",
      "\r\n",
      "Sivas;651825;650946;649078;646845;644709;642614;640442;638464;631112;633347;642224;627056;623535;623824;623116;618617;621224;621301\r",
      "\r\n",
      "Tekirdağ;577812;598658;619152;639837;661237;683199;705692;728396;770772;783310;798109;829873;852321;874475;906732;937910;972875;1005463\r",
      "\r\n",
      "Tokat;641033;639371;636715;633682;630722;627781;624744;620722;617158;624439;617802;608299;613990;598708;597920;593990;602662;602086\r",
      "\r\n",
      "Trabzon;720620;724340;727080;729529;732221;735072;737969;740569;748982;765127;763714;757353;757898;758237;766782;768417;779379;786326\r",
      "\r\n",
      "Tunceli;82554;82871;83074;83241;83433;83640;83849;84022;86449;83061;76699;85062;86276;85428;86527;86076;82193;82498\r",
      "\r\n",
      "Şanlıurfa;1257753;1294842;1330964;1367305;1404961;1443639;1483244;1523099;1574224;1613737;1663371;1716254;1762075;1801980;1845667;1892320;1940627;1985753\r",
      "\r\n",
      "Uşak;320535;322814;324673;326417;328287;330243;332237;334115;334111;335860;338019;339731;342269;346508;349459;353048;358736;364971\r",
      "\r\n",
      "Van;895836;908296;919727;930984;942771;954945;967394;979671;1004369;1022310;1035418;1022532;1051975;1070113;1085542;1096397;1100190;1106891\r",
      "\r\n",
      "Yozgat;544446;538313;531220;523696;516096;508398;500487;492127;484206;487365;476096;465696;453211;444211;432560;419440;421041;418650\r",
      "\r\n",
      "Zonguldak;630323;629346;627407;625114;622912;620744;618500;615890;619151;619812;619703;612406;606527;601567;598796;595907;597524;596892\r",
      "\r\n",
      "Aksaray;351474;353939;355942;357819;359834;361941;364089;366109;370598;376907;377505;378823;379915;382806;384252;386514;396673;402404\r",
      "\r\n",
      "Bayburt;75221;75517;75709;75868;76050;76246;76444;76609;75675;74710;74412;76724;75797;75620;80607;78550;90154;80417\r",
      "\r\n",
      "Karaman;214461;216318;217902;219417;221026;222700;224409;226049;230145;231872;232633;234005;235424;237939;240362;242196;245610;246672\r",
      "\r\n",
      "Kırıkkale;287427;286900;285933;284803;283711;282633;281518;280234;279325;280834;276647;274992;274727;274658;271092;270271;277984;278749\r",
      "\r\n",
      "Batman;408820;418186;427172;436165;445508;455118;464954;472487;485616;497998;510200;524499;534205;547581;557593;566633;576899;585252\r",
      "\r\n",
      "Şırnak;362700;370314;377574;384824;392364;400123;408065;416001;429287;430424;430109;457997;466982;475255;488966;490184;483788;503236\r",
      "\r\n",
      "Bartın;175982;177060;177903;178678;179519;180401;181300;182131;185368;188449;187758;187291;188436;189139;189405;190708;192389;193577\r",
      "\r\n",
      "Ardahan;122409;121305;119993;118590;117178;115750;114283;112721;112242;108169;105454;107455;106643;102782;100809;99265;98335;97096\r",
      "\r\n",
      "Iğdır;174285;175550;176588;177563;178609;179701;180815;181866;184025;183486;184418;188857;190409;190424;192056;192435;192785;194775\r",
      "\r\n",
      "Yalova;144923;150027;155041;160099;165333;170705;176207;181758;197412;202531;203741;206535;211799;220122;226514;233009;241665;251203\r",
      "\r\n",
      "Karabük;205172;207241;209056;210812;212667;214591;216557;218463;216248;218564;227610;219728;225145;230251;231333;236978;242347;244453\r",
      "\r\n",
      "Kilis;109698;111024;112219;113387;114615;115886;117185;118457;120991;122104;123135;124452;124320;128586;128781;130655;130825;136319\r",
      "\r\n",
      "Osmaniye;411163;417418;423214;428943;434930;441108;447428;452880;464704;471804;479221;485357;492135;498981;506807;512873;522175;527724\r",
      "\r\n",
      "Düzce;296712;300686;304316;307884;311623;315487;319438;323328;328611;335156;338188;342146;346493;351509;355549;360388;370371;377610"
     ]
    }
   ],
   "source": [
    "!cat data/population.csv"
   ]
  },
  {
   "cell_type": "markdown",
   "metadata": {
    "slideshow": {
     "slide_type": "slide"
    }
   },
   "source": [
    "* This table can be read into a DataFrame using `read_csv`:"
   ]
  },
  {
   "cell_type": "code",
   "execution_count": 54,
   "metadata": {
    "slideshow": {
     "slide_type": "fragment"
    }
   },
   "outputs": [
    {
     "data": {
      "text/plain": [
       "   Provinces;2000;2001;2002;2003;2004;2005;2006;2007;2008;2009;2010;2011;2012;2013;2014;2015;2016;2017\n",
       "0   Total;64729501;65603160;66401851;67187251;6801...                                                 \n",
       "1   Adana;1879695;1899324;1916637;1933428;1951142;...                                                 \n",
       "2   Adıyaman;568432;571180;573149;574886;576808;57...                                                 \n",
       "3   Afyonkarahisar;696292;698029;698773;699193;699...                                                 \n",
       "4   Ağrı;519190;521514;523123;524514;526070;527732...                                                 \n",
       "..                                                ...                                                 \n",
       "77  Yalova;144923;150027;155041;160099;165333;1707...                                                 \n",
       "78  Karabük;205172;207241;209056;210812;212667;214...                                                 \n",
       "79  Kilis;109698;111024;112219;113387;114615;11588...                                                 \n",
       "80  Osmaniye;411163;417418;423214;428943;434930;44...                                                 \n",
       "81  Düzce;296712;300686;304316;307884;311623;31548...                                                 \n",
       "\n",
       "[82 rows x 1 columns]"
      ]
     },
     "execution_count": 54,
     "metadata": {},
     "output_type": "execute_result"
    }
   ],
   "source": [
    "populationDF = pd.read_csv(\"data/population.csv\")\n",
    "populationDF"
   ]
  },
  {
   "cell_type": "markdown",
   "metadata": {
    "slideshow": {
     "slide_type": "fragment"
    }
   },
   "source": [
    "* Notice that `read_csv` automatically considered the first row in the file to be a header row.<br>\n",
    "<br>\n",
    "* We can override default behavior by customizing some the arguments, like `header`, `names` or `index_col`.<br>"
   ]
  },
  {
   "cell_type": "markdown",
   "metadata": {
    "slideshow": {
     "slide_type": "slide"
    }
   },
   "source": [
    "* `read_csv` is just a convenience function for `read_table`, since csv is such a common format:<br>"
   ]
  },
  {
   "cell_type": "code",
   "execution_count": 55,
   "metadata": {
    "slideshow": {
     "slide_type": "fragment"
    }
   },
   "outputs": [
    {
     "data": {
      "text/plain": [
       "   Provinces        2000     ...            2016        2017\n",
       "0        NaN         NaN     ...             NaN         NaN\n",
       "1        NaN         NaN     ...             NaN         NaN\n",
       "2      Total  64729501.0     ...      79814871.0  80810525.0\n",
       "3      Adana   1879695.0     ...       2201670.0   2216475.0\n",
       "4   Adıyaman    568432.0     ...        610484.0    615076.0\n",
       "..       ...         ...     ...             ...         ...\n",
       "79    Yalova    144923.0     ...        241665.0    251203.0\n",
       "80   Karabük    205172.0     ...        242347.0    244453.0\n",
       "81     Kilis    109698.0     ...        130825.0    136319.0\n",
       "82  Osmaniye    411163.0     ...        522175.0    527724.0\n",
       "83     Düzce    296712.0     ...        370371.0    377610.0\n",
       "\n",
       "[84 rows x 19 columns]"
      ]
     },
     "execution_count": 55,
     "metadata": {},
     "output_type": "execute_result"
    }
   ],
   "source": [
    "pd.set_option('max_columns', 5)\n",
    "populationDF = pd.read_table(\"data/population_missing.csv\", sep=';')\n",
    "populationDF"
   ]
  },
  {
   "cell_type": "markdown",
   "metadata": {
    "slideshow": {
     "slide_type": "fragment"
    }
   },
   "source": [
    "* The `sep` argument can be customized as needed to accomodate arbitrary separators.<br>"
   ]
  },
  {
   "cell_type": "markdown",
   "metadata": {
    "slideshow": {
     "slide_type": "slide"
    }
   },
   "source": [
    "* If we have sections of data that we do not wish to import (for example, in this example empty rows), we can populate the `skiprows` argument:"
   ]
  },
  {
   "cell_type": "code",
   "execution_count": 56,
   "metadata": {
    "scrolled": true,
    "slideshow": {
     "slide_type": "fragment"
    }
   },
   "outputs": [
    {
     "data": {
      "text/plain": [
       "         Provinces      2000    ...         2016      2017\n",
       "0            Total  64729501    ...     79814871  80810525\n",
       "1            Adana   1879695    ...      2201670   2216475\n",
       "2         Adıyaman    568432    ...       610484    615076\n",
       "3   Afyonkarahisar    696292    ...       714523    715693\n",
       "4             Ağrı    519190    ...       542255    536285\n",
       "..             ...       ...    ...          ...       ...\n",
       "77          Yalova    144923    ...       241665    251203\n",
       "78         Karabük    205172    ...       242347    244453\n",
       "79           Kilis    109698    ...       130825    136319\n",
       "80        Osmaniye    411163    ...       522175    527724\n",
       "81           Düzce    296712    ...       370371    377610\n",
       "\n",
       "[82 rows x 19 columns]"
      ]
     },
     "execution_count": 56,
     "metadata": {},
     "output_type": "execute_result"
    }
   ],
   "source": [
    "populationDF = pd.read_csv(\"data/population_missing.csv\", sep=';', skiprows=[1,2])\n",
    "populationDF"
   ]
  },
  {
   "cell_type": "markdown",
   "metadata": {
    "slideshow": {
     "slide_type": "slide"
    }
   },
   "source": [
    "* For a more useful index, we can specify the first column, which provide a unique index to the data."
   ]
  },
  {
   "cell_type": "code",
   "execution_count": 57,
   "metadata": {
    "slideshow": {
     "slide_type": "fragment"
    }
   },
   "outputs": [
    {
     "data": {
      "text/plain": [
       "Index([u'Total', u'Adana', u'Adıyaman', u'Afyonkarahisar', u'Ağrı', u'Amasya',\n",
       "       u'Ankara', u'Antalya', u'Artvin', u'Aydın', u'Balıkesir', u'Bilecik',\n",
       "       u'Bingöl', u'Bitlis', u'Bolu', u'Burdur', u'Bursa', u'Çanakkale',\n",
       "       u'Çankırı', u'Çorum', u'Denizli', u'Diyarbakır', u'Edirne', u'Elazığ',\n",
       "       u'Erzincan', u'Erzurum', u'Eskişehir', u'Gaziantep', u'Giresun',\n",
       "       u'Gümüşhane', u'Hakkari', u'Hatay', u'Isparta', u'Mersin', u'İstanbul',\n",
       "       u'İzmir', u'Kars', u'Kastamonu', u'Kayseri', u'Kırklareli', u'Kırşehir',\n",
       "       u'Kocaeli', u'Konya', u'Kütahya', u'Malatya', u'Manisa',\n",
       "       u'Kahramanmaraş', u'Mardin', u'Muğla', u'Muş', u'Nevşehir', u'Niğde',\n",
       "       u'Ordu', u'Rize', u'Sakarya', u'Samsun', u'Siirt', u'Sinop', u'Sivas',\n",
       "       u'Tekirdağ', u'Tokat', u'Trabzon', u'Tunceli', u'Şanlıurfa', u'Uşak',\n",
       "       u'Van', u'Yozgat', u'Zonguldak', u'Aksaray', u'Bayburt', u'Karaman',\n",
       "       u'Kırıkkale', u'Batman', u'Şırnak', u'Bartın', u'Ardahan', u'Iğdır',\n",
       "       u'Yalova', u'Karabük', u'Kilis', u'Osmaniye', u'Düzce'],\n",
       "      dtype='object', name=u'Provinces')"
      ]
     },
     "execution_count": 57,
     "metadata": {},
     "output_type": "execute_result"
    }
   ],
   "source": [
    "populationDF = pd.read_csv(\"data/population.csv\", sep=';', index_col='Provinces')\n",
    "populationDF.index"
   ]
  },
  {
   "cell_type": "markdown",
   "metadata": {
    "slideshow": {
     "slide_type": "slide"
    }
   },
   "source": [
    "Conversely, if we only want to import a small number of rows from, say, a very large data file we can use `nrows`:"
   ]
  },
  {
   "cell_type": "code",
   "execution_count": 58,
   "metadata": {
    "slideshow": {
     "slide_type": "fragment"
    }
   },
   "outputs": [
    {
     "data": {
      "text/plain": [
       "        Provinces      2000    ...         2016      2017\n",
       "0           Total  64729501    ...     79814871  80810525\n",
       "1           Adana   1879695    ...      2201670   2216475\n",
       "2        Adıyaman    568432    ...       610484    615076\n",
       "3  Afyonkarahisar    696292    ...       714523    715693\n",
       "\n",
       "[4 rows x 19 columns]"
      ]
     },
     "execution_count": 58,
     "metadata": {},
     "output_type": "execute_result"
    }
   ],
   "source": [
    "pd.read_csv(\"data/population.csv\", sep=';', nrows=4)"
   ]
  },
  {
   "cell_type": "markdown",
   "metadata": {
    "slideshow": {
     "slide_type": "slide"
    }
   },
   "source": [
    "* Most real-world data is incomplete, with values missing due to incomplete observation, data entry or transcription error, or other reasons. Pandas will automatically recognize and parse common missing data indicators, including `NA`, `NaN`, `NULL`."
   ]
  },
  {
   "cell_type": "code",
   "execution_count": 59,
   "metadata": {
    "slideshow": {
     "slide_type": "fragment"
    }
   },
   "outputs": [
    {
     "data": {
      "text/plain": [
       "        Provinces        2000     ...            2016        2017\n",
       "0             NaN         NaN     ...             NaN         NaN\n",
       "1             NaN         NaN     ...             NaN         NaN\n",
       "2           Total  64729501.0     ...      79814871.0  80810525.0\n",
       "3           Adana   1879695.0     ...       2201670.0   2216475.0\n",
       "4        Adıyaman    568432.0     ...        610484.0    615076.0\n",
       "5  Afyonkarahisar    696292.0     ...        714523.0    715693.0\n",
       "6            Ağrı    519190.0     ...        542255.0    536285.0\n",
       "7          Amasya    333927.0     ...        326351.0    329888.0\n",
       "8          Ankara   3889199.0     ...       5346518.0   5445026.0\n",
       "9         Antalya   1430539.0     ...       2328555.0   2364396.0\n",
       "\n",
       "[10 rows x 19 columns]"
      ]
     },
     "execution_count": 59,
     "metadata": {},
     "output_type": "execute_result"
    }
   ],
   "source": [
    "pd.read_csv(\"data/population_missing.csv\", sep=';').head(10)"
   ]
  },
  {
   "cell_type": "markdown",
   "metadata": {
    "slideshow": {
     "slide_type": "fragment"
    }
   },
   "source": [
    "Above, Pandas recognized `NaN` and an empty field as missing data."
   ]
  },
  {
   "cell_type": "code",
   "execution_count": 60,
   "metadata": {
    "slideshow": {
     "slide_type": "slide"
    }
   },
   "outputs": [
    {
     "data": {
      "text/plain": [
       "   Provinces   2000  ...     2016   2017\n",
       "0       True   True  ...     True   True\n",
       "1       True   True  ...     True   True\n",
       "2      False  False  ...    False  False\n",
       "3      False  False  ...    False  False\n",
       "4      False  False  ...    False  False\n",
       "5      False  False  ...    False  False\n",
       "6      False  False  ...    False  False\n",
       "7      False  False  ...    False  False\n",
       "8      False  False  ...    False  False\n",
       "9      False  False  ...    False  False\n",
       "\n",
       "[10 rows x 19 columns]"
      ]
     },
     "execution_count": 60,
     "metadata": {},
     "output_type": "execute_result"
    }
   ],
   "source": [
    "pd.isnull(pd.read_csv(\"data/population_missing.csv\", sep=';')).head(10)"
   ]
  },
  {
   "cell_type": "markdown",
   "metadata": {
    "slideshow": {
     "slide_type": "slide"
    }
   },
   "source": [
    "### Microsoft Excel"
   ]
  },
  {
   "cell_type": "markdown",
   "metadata": {
    "slideshow": {
     "slide_type": "fragment"
    }
   },
   "source": [
    "* Since so much financial and scientific data ends up in Excel spreadsheets, Pandas' ability to directly import Excel spreadsheets is valuable. <br>\n",
    "<br>\n",
    "* This support is contingent on having one or two dependencies (depending on what version of Excel file is being imported) installed: `xlrd` and `openpyxl`.<br>\n",
    "<br>\n",
    "* Importing Excel data to Pandas is a two-step process. First, we create an `ExcelFile` object using the path of the file:                                             "
   ]
  },
  {
   "cell_type": "code",
   "execution_count": 61,
   "metadata": {
    "slideshow": {
     "slide_type": "slide"
    }
   },
   "outputs": [
    {
     "data": {
      "text/plain": [
       "<pandas.io.excel.ExcelFile at 0x10cfa1a50>"
      ]
     },
     "execution_count": 61,
     "metadata": {},
     "output_type": "execute_result"
    }
   ],
   "source": [
    "excel_file = pd.ExcelFile('data/population.xlsx')\n",
    "excel_file"
   ]
  },
  {
   "cell_type": "markdown",
   "metadata": {
    "slideshow": {
     "slide_type": "fragment"
    }
   },
   "source": [
    "* Then, since modern spreadsheets consist of one or more \"sheets\", we parse the sheet with the data of interest:"
   ]
  },
  {
   "cell_type": "code",
   "execution_count": 62,
   "metadata": {
    "slideshow": {
     "slide_type": "fragment"
    }
   },
   "outputs": [
    {
     "data": {
      "text/plain": [
       "         Provinces      2000    ...         2016      2017\n",
       "0            Total  64729501    ...     79814871  80810525\n",
       "1            Adana   1879695    ...      2201670   2216475\n",
       "2         Adıyaman    568432    ...       610484    615076\n",
       "3   Afyonkarahisar    696292    ...       714523    715693\n",
       "4             Ağrı    519190    ...       542255    536285\n",
       "..             ...       ...    ...          ...       ...\n",
       "77          Yalova    144923    ...       241665    251203\n",
       "78         Karabük    205172    ...       242347    244453\n",
       "79           Kilis    109698    ...       130825    136319\n",
       "80        Osmaniye    411163    ...       522175    527724\n",
       "81           Düzce    296712    ...       370371    377610\n",
       "\n",
       "[82 rows x 19 columns]"
      ]
     },
     "execution_count": 62,
     "metadata": {},
     "output_type": "execute_result"
    }
   ],
   "source": [
    "excelDf = excel_file.parse(\"Sheet 1 \")\n",
    "excelDf"
   ]
  },
  {
   "cell_type": "markdown",
   "metadata": {
    "slideshow": {
     "slide_type": "slide"
    }
   },
   "source": [
    "* Also, there is a `read_excel` conveneince function in Pandas that combines these steps into a single call:"
   ]
  },
  {
   "cell_type": "code",
   "execution_count": 63,
   "metadata": {
    "slideshow": {
     "slide_type": "fragment"
    }
   },
   "outputs": [
    {
     "data": {
      "text/plain": [
       "        Provinces      2000    ...         2016      2017\n",
       "0           Total  64729501    ...     79814871  80810525\n",
       "1           Adana   1879695    ...      2201670   2216475\n",
       "2        Adıyaman    568432    ...       610484    615076\n",
       "3  Afyonkarahisar    696292    ...       714523    715693\n",
       "4            Ağrı    519190    ...       542255    536285\n",
       "5          Amasya    333927    ...       326351    329888\n",
       "6          Ankara   3889199    ...      5346518   5445026\n",
       "7         Antalya   1430539    ...      2328555   2364396\n",
       "8          Artvin    167909    ...       168068    166143\n",
       "9           Aydın    870460    ...      1068260   1080839\n",
       "\n",
       "[10 rows x 19 columns]"
      ]
     },
     "execution_count": 63,
     "metadata": {},
     "output_type": "execute_result"
    }
   ],
   "source": [
    "excelDf2 = pd.read_excel('data/population.xlsx', sheet_name='Sheet 1 ')\n",
    "excelDf2.head(10)"
   ]
  },
  {
   "cell_type": "markdown",
   "metadata": {
    "slideshow": {
     "slide_type": "fragment"
    }
   },
   "source": [
    "* In, the first day we learned how to read and write `JSON` Files, with that way you can also import JSON files to `DataFrames`. \n",
    "\n",
    "* Also, you can connect to databases and import your data into `DataFrames` by help of 3rd party libraries."
   ]
  },
  {
   "cell_type": "markdown",
   "metadata": {
    "slideshow": {
     "slide_type": "slide"
    }
   },
   "source": [
    "## Pandas Fundamentals"
   ]
  },
  {
   "cell_type": "markdown",
   "metadata": {
    "slideshow": {
     "slide_type": "slide"
    }
   },
   "source": [
    "* This section introduces the new user to the key functionality of Pandas that is required to use the software effectively.<br>\n",
    "<br>\n",
    "* For some variety, we will leave our population data behind and employ some `Superhero` data.<br>"
   ]
  },
  {
   "cell_type": "markdown",
   "metadata": {
    "slideshow": {
     "slide_type": "slide"
    }
   },
   "source": [
    "* The data comes from Marvel Wikia.<br>\n",
    "<br>\n",
    "* The file has the following variables:<br>"
   ]
  },
  {
   "cell_type": "markdown",
   "metadata": {
    "slideshow": {
     "slide_type": "fragment"
    }
   },
   "source": [
    "<table>\n",
    "<table>\n",
    "<thead>\n",
    "<tr>\n",
    "<th style=\"text-align:left;\">Variable</th>\n",
    "<th style=\"text-align:left;\">Definition</th>\n",
    "</tr>\n",
    "</thead>\n",
    "<tbody>\n",
    "<tr>\n",
    "<td style=\"text-align:left;\">page_id</td>\n",
    "<td style=\"text-align:left;\">The unique identifier for that characters page within the wikia</td>\n",
    "</tr>\n",
    "<tr>\n",
    "<td style=\"text-align:left;\">name</td>\n",
    "<td style=\"text-align:left;\">The name of the character</td>\n",
    "</tr>\n",
    "<tr>\n",
    "<td style=\"text-align:left;\">urlslug</td>\n",
    "<td style=\"text-align:left;\">The unique url within the wikia that takes you to the character</td>\n",
    "</tr>\n",
    "<tr>\n",
    "<td style=\"text-align:left;\">ID</td>\n",
    "<td style=\"text-align:left;\">The identity status of the character (Secret Identity, Public identity No Dual Identity)</td>\n",
    "</tr>\n",
    "<tr>\n",
    "<td style=\"text-align:left;\">ALIGN</td>\n",
    "<td style=\"text-align:left;\">If the character is Good, Bad or Neutral</td>\n",
    "</tr>\n",
    "<tr>\n",
    "<td style=\"text-align:left;\">EYE</td>\n",
    "<td style=\"text-align:left;\">Eye color of the character</td>\n",
    "</tr>\n",
    "<tr>\n",
    "<td style=\"text-align:left;\">HAIR</td>\n",
    "<td style=\"text-align:left;\">Hair color of the character</td>\n",
    "</tr>\n",
    "<tr>\n",
    "<td style=\"text-align:left;\">SEX</td>\n",
    "<td style=\"text-align:left;\">Sex of the character (e.g. Male, Female, etc.)</td>\n",
    "</tr>\n",
    "<tr>\n",
    "<td style=\"text-align:left;\">GSM</td>\n",
    "<td style=\"text-align:left;\">If the character is a gender or sexual minority (e.g. Homosexual characters, bisexual characters)</td>\n",
    "</tr>\n",
    "<tr>\n",
    "<td style=\"text-align:left;\">ALIVE</td>\n",
    "<td style=\"text-align:left;\">If the character is alive or deceased</td>\n",
    "</tr>\n",
    "<tr>\n",
    "<td style=\"text-align:left;\">APPEARANCES</td>\n",
    "<td style=\"text-align:left;\">The number of appareances of the character in comic books (as of Sep. 2, 2014. Number will become increasingly out of date as time goes on.)</td>\n",
    "</tr>\n",
    "<tr>\n",
    "<td style=\"text-align:left;\">FIRST APPEARANCE</td>\n",
    "<td style=\"text-align:left;\">The month and year of the character's first appearance in a comic book, if available</td>\n",
    "</tr>\n",
    "<tr>\n",
    "<td style=\"text-align:left;\">YEAR</td>\n",
    "<td style=\"text-align:left;\">The year of the character's first appearance in a comic book, if available</td>\n",
    "</tr>\n",
    "</tbody>\n",
    "</table>"
   ]
  },
  {
   "cell_type": "code",
   "execution_count": 64,
   "metadata": {
    "slideshow": {
     "slide_type": "slide"
    }
   },
   "outputs": [
    {
     "data": {
      "text/html": [
       "<div>\n",
       "<style scoped>\n",
       "    .dataframe tbody tr th:only-of-type {\n",
       "        vertical-align: middle;\n",
       "    }\n",
       "\n",
       "    .dataframe tbody tr th {\n",
       "        vertical-align: top;\n",
       "    }\n",
       "\n",
       "    .dataframe thead th {\n",
       "        text-align: right;\n",
       "    }\n",
       "</style>\n",
       "<table border=\"1\" class=\"dataframe\">\n",
       "  <thead>\n",
       "    <tr style=\"text-align: right;\">\n",
       "      <th></th>\n",
       "      <th>name</th>\n",
       "      <th>urlslug</th>\n",
       "      <th>ID</th>\n",
       "      <th>ALIGN</th>\n",
       "      <th>EYE</th>\n",
       "      <th>HAIR</th>\n",
       "      <th>SEX</th>\n",
       "      <th>GSM</th>\n",
       "      <th>ALIVE</th>\n",
       "      <th>APPEARANCES</th>\n",
       "      <th>FIRST APPEARANCE</th>\n",
       "      <th>Year</th>\n",
       "    </tr>\n",
       "    <tr>\n",
       "      <th>page_id</th>\n",
       "      <th></th>\n",
       "      <th></th>\n",
       "      <th></th>\n",
       "      <th></th>\n",
       "      <th></th>\n",
       "      <th></th>\n",
       "      <th></th>\n",
       "      <th></th>\n",
       "      <th></th>\n",
       "      <th></th>\n",
       "      <th></th>\n",
       "      <th></th>\n",
       "    </tr>\n",
       "  </thead>\n",
       "  <tbody>\n",
       "    <tr>\n",
       "      <th>1678</th>\n",
       "      <td>Spider-Man (Peter Parker)</td>\n",
       "      <td>\\/Spider-Man_(Peter_Parker)</td>\n",
       "      <td>Secret Identity</td>\n",
       "      <td>Good Characters</td>\n",
       "      <td>Hazel Eyes</td>\n",
       "      <td>Brown Hair</td>\n",
       "      <td>Male Characters</td>\n",
       "      <td>NaN</td>\n",
       "      <td>Living Characters</td>\n",
       "      <td>4043.0</td>\n",
       "      <td>Aug-62</td>\n",
       "      <td>1962.0</td>\n",
       "    </tr>\n",
       "    <tr>\n",
       "      <th>7139</th>\n",
       "      <td>Captain America (Steven Rogers)</td>\n",
       "      <td>\\/Captain_America_(Steven_Rogers)</td>\n",
       "      <td>Public Identity</td>\n",
       "      <td>Good Characters</td>\n",
       "      <td>Blue Eyes</td>\n",
       "      <td>White Hair</td>\n",
       "      <td>Male Characters</td>\n",
       "      <td>NaN</td>\n",
       "      <td>Living Characters</td>\n",
       "      <td>3360.0</td>\n",
       "      <td>Mar-41</td>\n",
       "      <td>1941.0</td>\n",
       "    </tr>\n",
       "    <tr>\n",
       "      <th>64786</th>\n",
       "      <td>Wolverine (James \\\"Logan\\\" Howlett)</td>\n",
       "      <td>\\/Wolverine_(James_%22Logan%22_Howlett)</td>\n",
       "      <td>Public Identity</td>\n",
       "      <td>Neutral Characters</td>\n",
       "      <td>Blue Eyes</td>\n",
       "      <td>Black Hair</td>\n",
       "      <td>Male Characters</td>\n",
       "      <td>NaN</td>\n",
       "      <td>Living Characters</td>\n",
       "      <td>3061.0</td>\n",
       "      <td>Oct-74</td>\n",
       "      <td>1974.0</td>\n",
       "    </tr>\n",
       "    <tr>\n",
       "      <th>1868</th>\n",
       "      <td>Iron Man (Anthony \\\"Tony\\\" Stark)</td>\n",
       "      <td>\\/Iron_Man_(Anthony_%22Tony%22_Stark)</td>\n",
       "      <td>Public Identity</td>\n",
       "      <td>Good Characters</td>\n",
       "      <td>Blue Eyes</td>\n",
       "      <td>Black Hair</td>\n",
       "      <td>Male Characters</td>\n",
       "      <td>NaN</td>\n",
       "      <td>Living Characters</td>\n",
       "      <td>2961.0</td>\n",
       "      <td>Mar-63</td>\n",
       "      <td>1963.0</td>\n",
       "    </tr>\n",
       "    <tr>\n",
       "      <th>2460</th>\n",
       "      <td>Thor (Thor Odinson)</td>\n",
       "      <td>\\/Thor_(Thor_Odinson)</td>\n",
       "      <td>No Dual Identity</td>\n",
       "      <td>Good Characters</td>\n",
       "      <td>Blue Eyes</td>\n",
       "      <td>Blond Hair</td>\n",
       "      <td>Male Characters</td>\n",
       "      <td>NaN</td>\n",
       "      <td>Living Characters</td>\n",
       "      <td>2258.0</td>\n",
       "      <td>Nov-50</td>\n",
       "      <td>1950.0</td>\n",
       "    </tr>\n",
       "  </tbody>\n",
       "</table>\n",
       "</div>"
      ],
      "text/plain": [
       "                                        name  \\\n",
       "page_id                                        \n",
       "1678               Spider-Man (Peter Parker)   \n",
       "7139         Captain America (Steven Rogers)   \n",
       "64786    Wolverine (James \\\"Logan\\\" Howlett)   \n",
       "1868       Iron Man (Anthony \\\"Tony\\\" Stark)   \n",
       "2460                     Thor (Thor Odinson)   \n",
       "\n",
       "                                         urlslug                ID  \\\n",
       "page_id                                                              \n",
       "1678                 \\/Spider-Man_(Peter_Parker)   Secret Identity   \n",
       "7139           \\/Captain_America_(Steven_Rogers)   Public Identity   \n",
       "64786    \\/Wolverine_(James_%22Logan%22_Howlett)   Public Identity   \n",
       "1868       \\/Iron_Man_(Anthony_%22Tony%22_Stark)   Public Identity   \n",
       "2460                       \\/Thor_(Thor_Odinson)  No Dual Identity   \n",
       "\n",
       "                      ALIGN         EYE        HAIR              SEX  GSM  \\\n",
       "page_id                                                                     \n",
       "1678        Good Characters  Hazel Eyes  Brown Hair  Male Characters  NaN   \n",
       "7139        Good Characters   Blue Eyes  White Hair  Male Characters  NaN   \n",
       "64786    Neutral Characters   Blue Eyes  Black Hair  Male Characters  NaN   \n",
       "1868        Good Characters   Blue Eyes  Black Hair  Male Characters  NaN   \n",
       "2460        Good Characters   Blue Eyes  Blond Hair  Male Characters  NaN   \n",
       "\n",
       "                     ALIVE  APPEARANCES FIRST APPEARANCE    Year  \n",
       "page_id                                                           \n",
       "1678     Living Characters       4043.0           Aug-62  1962.0  \n",
       "7139     Living Characters       3360.0           Mar-41  1941.0  \n",
       "64786    Living Characters       3061.0           Oct-74  1974.0  \n",
       "1868     Living Characters       2961.0           Mar-63  1963.0  \n",
       "2460     Living Characters       2258.0           Nov-50  1950.0  "
      ]
     },
     "execution_count": 64,
     "metadata": {},
     "output_type": "execute_result"
    }
   ],
   "source": [
    "pd.set_option('max_columns', 12)\n",
    "pd.set_option('display.notebook_repr_html', True)\n",
    "marvelDF = pd.read_csv(\"data/marvel-wikia-data.csv\", index_col='page_id')\n",
    "marvelDF.head(5)"
   ]
  },
  {
   "cell_type": "markdown",
   "metadata": {
    "slideshow": {
     "slide_type": "slide"
    }
   },
   "source": [
    "* Notice that we specified the `page_id` column as the index, since it appears to be a unique identifier. We could try to create a unique index ourselves by trimming `name`:"
   ]
  },
  {
   "cell_type": "markdown",
   "metadata": {
    "slideshow": {
     "slide_type": "fragment"
    }
   },
   "source": [
    "* First, import the regex module of python.<br>\n",
    "<br>\n",
    "* Then, trim the name column with regex.<br> "
   ]
  },
  {
   "cell_type": "code",
   "execution_count": 65,
   "metadata": {
    "slideshow": {
     "slide_type": "fragment"
    }
   },
   "outputs": [
    {
     "data": {
      "text/plain": [
       "['Spider-Man',\n",
       " 'Captain America',\n",
       " 'Wolverine',\n",
       " 'Iron Man',\n",
       " 'Thor',\n",
       " 'Benjamin Grimm',\n",
       " 'Reed Richards',\n",
       " 'Hulk',\n",
       " 'Scott Summers',\n",
       " 'Jonathan Storm',\n",
       " 'Henry McCoy',\n",
       " 'Susan Storm',\n",
       " 'Namor McKenzie',\n",
       " 'Ororo Munroe',\n",
       " 'Clinton Barton',\n",
       " 'Matthew Murdock',\n",
       " 'Stephen Strange',\n",
       " 'Mary Jane Watson',\n",
       " 'John Jonah Jameson',\n",
       " 'Robert Drake',\n",
       " 'Henry Pym',\n",
       " 'Charles Xavier',\n",
       " 'Warren Worthington III',\n",
       " 'Piotr Rasputin',\n",
       " 'Wanda Maximoff',\n",
       " 'Nicholas Fury',\n",
       " 'Janet van Dyne',\n",
       " 'Jean Grey',\n",
       " 'Natalia Romanova',\n",
       " 'Kurt Wagner',\n",
       " 'Vision',\n",
       " 'May Reilly',\n",
       " 'Katherine Pryde',\n",
       " 'Carol Danvers',\n",
       " 'Jennifer Walters',\n",
       " 'Emma Frost',\n",
       " 'Frank Castle',\n",
       " 'Luke Cage',\n",
       " 'Rogue',\n",
       " 'Conan',\n",
       " 'Joseph Robertson',\n",
       " 'Pietro Maximoff',\n",
       " 'Hercules',\n",
       " 'Victor von Doom',\n",
       " 'Max Eisenhardt',\n",
       " 'Elizabeth Braddock',\n",
       " 'Norrin Radd',\n",
       " 'Norman Osborn',\n",
       " 'Eugene Thompson',\n",
       " 'Simon Williams',\n",
       " 'Samuel Guthrie',\n",
       " 'James Buchanan Barnes',\n",
       " 'Remy LeBeau',\n",
       " 'Daniel Rand',\n",
       " 'Nathan Summers',\n",
       " 'Elizabeth Brant',\n",
       " 'Richard Jones',\n",
       " 'Edwin Jarvis',\n",
       " 'Alexander Summers',\n",
       " 'Patricia Walker',\n",
       " 'Human Torch',\n",
       " 'Loki Laufeyson',\n",
       " 'Franklin Nelson',\n",
       " 'Brian Braddock',\n",
       " 'Otto Octavius',\n",
       " 'James Rhodes',\n",
       " 'Timothy Dugan',\n",
       " 'Crystalia Amaquelin',\n",
       " 'Samuel Wilson',\n",
       " 'Wilson Fisk',\n",
       " 'Odin Borson',\n",
       " 'Deadpool',\n",
       " 'Dane Whitman',\n",
       " 'Harold Osborn',\n",
       " 'Franklin Richards',\n",
       " 'Jessica Drew',\n",
       " 'Roberto da Costa',\n",
       " 'Rahne Sinclair',\n",
       " 'Elizabeth Ross',\n",
       " 'Lorna Dane',\n",
       " 'Blaine Colt',\n",
       " 'Johnathon Blaze',\n",
       " 'Sif',\n",
       " 'Red Hulk',\n",
       " 'Jubilation Lee',\n",
       " 'Volstagg',\n",
       " 'Balder Odinson',\n",
       " 'Galactus',\n",
       " 'Danielle Moonstar',\n",
       " 'Marc Spector',\n",
       " 'Gwendolyne Stacy',\n",
       " 'Medusalith Amaquelin',\n",
       " 'Sabretooth',\n",
       " 'Illyana Rasputina',\n",
       " 'Johann Shmidt',\n",
       " 'Fandral',\n",
       " 'Sean Cassidy',\n",
       " 'Thomas Raymond',\n",
       " 'Uatu',\n",
       " 'Richard Rider',\n",
       " 'Hogun',\n",
       " 'Raven Darkholme',\n",
       " 'Barbara Morse',\n",
       " 'Blackagar Boltagon',\n",
       " 'Brunnhilde',\n",
       " 'Alison Blaire',\n",
       " 'Venom',\n",
       " 'John Walker',\n",
       " 'Greer Grant',\n",
       " 'Karla Sofen',\n",
       " 'William Baker',\n",
       " 'Sharon Carter',\n",
       " 'Felicia Hardy',\n",
       " 'Cain Marko',\n",
       " 'Monica Rambeau',\n",
       " 'Maria Hill',\n",
       " 'Ben Urich',\n",
       " 'Heather Douglas',\n",
       " 'Millicent Collins',\n",
       " 'James Proudstar',\n",
       " 'Angelica Jones',\n",
       " 'Edward Brock',\n",
       " 'MacDonald Gargan',\n",
       " 'Mephisto',\n",
       " 'Tabitha Smith',\n",
       " 'Jean-Paul Beaubier',\n",
       " 'Daniel Ketch',\n",
       " 'Neena Thurman',\n",
       " 'Wong',\n",
       " 'Thanos',\n",
       " 'Shang-Chi',\n",
       " 'Alicia Masters',\n",
       " 'Robert Baldwin',\n",
       " 'Vance Astrovik',\n",
       " 'Wendell Vaughn',\n",
       " 'Chili Storm',\n",
       " 'Abner Jenkins',\n",
       " 'Elektra Natchios',\n",
       " 'Bullseye',\n",
       " 'Forge',\n",
       " 'Virginia Potts',\n",
       " 'Walter Langkowski',\n",
       " 'Gorgon',\n",
       " 'James Madrox',\n",
       " 'Heimdall',\n",
       " 'Theresa Cassidy',\n",
       " 'Laura Kinney',\n",
       " 'Arthur Douglas',\n",
       " 'Peter Parker',\n",
       " 'Warlock',\n",
       " 'Kevin Plunder',\n",
       " 'Leonard Samson',\n",
       " 'Melissa Gold',\n",
       " 'Lockheed',\n",
       " 'Mercedes Knight',\n",
       " 'Moira Kinross',\n",
       " 'Karnak',\n",
       " 'Namorita Prentiss',\n",
       " 'Lockjaw',\n",
       " 'Adam Warlock',\n",
       " 'Heather McNeil',\n",
       " 'Curtis Connors',\n",
       " 'Theodore Sallis',\n",
       " 'Adrian Toomes',\n",
       " 'Amora',\n",
       " 'Clea',\n",
       " 'Mar-Vell',\n",
       " 'Eugene Judd',\n",
       " 'Daimon Hellstrom',\n",
       " 'John Jonah Jameson III',\n",
       " 'Triton',\n",
       " 'Meggan Puceanu',\n",
       " 'Robert Reynolds',\n",
       " 'Aleksei Sytsevich',\n",
       " 'Santo Vaccarro',\n",
       " 'Jonathan Clay',\n",
       " 'Ares',\n",
       " 'Sersi',\n",
       " 'Guido Carosella',\n",
       " 'Zabu',\n",
       " 'Michael Morbius',\n",
       " 'Julio Richter',\n",
       " 'Phoenix Force',\n",
       " 'Megan Gwynn',\n",
       " 'Kyle Richmond',\n",
       " 'Karen Page',\n",
       " 'Tyrone Johnson',\n",
       " 'Maxwell Dillon',\n",
       " 'Valerie Cooper',\n",
       " 'Anna May',\n",
       " 'Vlad Dracula',\n",
       " 'Tandy Bowen',\n",
       " 'Monet St. Croix',\n",
       " 'Gamora',\n",
       " 'Amara Aquilla',\n",
       " 'Julia Carpenter',\n",
       " 'Jane Foster',\n",
       " 'Mortimer Toynbee',\n",
       " 'Scott Lang',\n",
       " 'Paige Guthrie',\n",
       " 'Benjamin Parker',\n",
       " 'Erik Josten',\n",
       " 'Jeanne-Marie Beaubier',\n",
       " 'Carl Creel',\n",
       " 'Gloria Grant',\n",
       " 'Michael Twoyoungmen',\n",
       " 'Hope Summers',\n",
       " 'Eric Masterson',\n",
       " 'Alexander Power',\n",
       " 'Matthew Hawk',\n",
       " 'Jessica Jones',\n",
       " 'Frederick Dukes',\n",
       " 'Eric Brooks',\n",
       " 'Eros',\n",
       " 'Madison Jeffries',\n",
       " 'Mandarin',\n",
       " 'The Wizard',\n",
       " 'Akihiro',\n",
       " 'Sergei Kravinoff',\n",
       " 'Jonothon Starsmore',\n",
       " 'Helmut Zemo',\n",
       " 'Victor Borkowski',\n",
       " 'Edward Leeds',\n",
       " 'Ultron',\n",
       " 'Douglas Ramsey',\n",
       " 'Quentin Beck',\n",
       " 'Herbert Wyndham',\n",
       " 'Julian Keller',\n",
       " 'Jack Russell',\n",
       " 'Celeste Cuckoo',\n",
       " 'Valentina Allegra de Fontaine',\n",
       " 'Ophelia Sarkissian',\n",
       " 'Colleen Wing',\n",
       " 'Irma Cuckoo',\n",
       " 'Sebastian Shaw',\n",
       " 'Phoebe Cuckoo',\n",
       " 'Sage',\n",
       " 'Valeria Richards',\n",
       " 'Donald Blake',\n",
       " 'Hela',\n",
       " 'Lilandra Neramani',\n",
       " 'Henry Gyrich',\n",
       " 'Dwayne Taylor',\n",
       " 'Harold Hogan',\n",
       " 'Redwing',\n",
       " 'Christopher Powell',\n",
       " 'Harvey Elder',\n",
       " 'Wolfgang von Strucker',\n",
       " 'Dirk Garthwaite',\n",
       " 'Pip Gofern',\n",
       " 'Tony Masters',\n",
       " 'David Lieberman',\n",
       " 'James Hudson',\n",
       " 'Miles Warren',\n",
       " 'Kallark',\n",
       " 'En Sabah Nur',\n",
       " 'Shiro Yoshida',\n",
       " 'Silver Sablinova',\n",
       " 'Elvin Haliday',\n",
       " 'James Bradley',\n",
       " 'Calvin Zabo',\n",
       " 'Frederick Myers',\n",
       " 'Mantis',\n",
       " 'Marlene Alraune',\n",
       " 'Rachel Leighton',\n",
       " 'Veranke',\n",
       " 'Nathaniel Essex',\n",
       " 'Anthony Druid',\n",
       " 'Cassandra Lang',\n",
       " 'Beta Ray Bill',\n",
       " 'Samuel Sterns',\n",
       " 'Leech',\n",
       " 'Glenn Talbot',\n",
       " 'Bug',\n",
       " 'Peter Petruski',\n",
       " 'Julie Power',\n",
       " 'Giuletta Nefaria',\n",
       " 'Robert Ralston',\n",
       " 'Maximus',\n",
       " 'Genis-Vell',\n",
       " 'Hisako Ichiki',\n",
       " 'Dmitri Smerdyakov',\n",
       " 'Eliot Franklin',\n",
       " 'X',\n",
       " 'Madelyne Pryor',\n",
       " 'Adolf Hitler',\n",
       " 'Herman Schultz',\n",
       " 'Noriko Ashida',\n",
       " 'Chen Lu',\n",
       " 'Ulysses Klaw',\n",
       " 'Cessily Kincaid',\n",
       " 'Kyle Gibney',\n",
       " 'Jack Monroe',\n",
       " 'Madeline Joyce',\n",
       " 'George Tarleton',\n",
       " 'Jocasta',\n",
       " 'Peter Wisdom',\n",
       " 'Jeffrey Mace',\n",
       " 'Aquaria Neptunia',\n",
       " 'Dragon Man',\n",
       " 'Narya',\n",
       " 'Burglar',\n",
       " 'Dino Manelli',\n",
       " 'Peter Parker',\n",
       " 'Nightmare',\n",
       " 'Ronan',\n",
       " 'Thomas Halloway',\n",
       " 'Jasper Sitwell',\n",
       " 'Frank Payne',\n",
       " 'Paladin',\n",
       " 'Steel',\n",
       " 'Mad Thinker',\n",
       " 'Brian Calusky',\n",
       " 'Arthur Maddicks',\n",
       " 'Hedy Wolfe',\n",
       " 'Isadore Cohen',\n",
       " 'Dormammu',\n",
       " 'Makkari',\n",
       " 'Marlo Chandler',\n",
       " 'Percival Pinkerton',\n",
       " 'Quintavius Quire',\n",
       " 'Marla Madison',\n",
       " 'Cletus Kasady',\n",
       " 'Supreme Intelligence',\n",
       " 'Aragorn',\n",
       " 'Betty Dean',\n",
       " 'Karnilla',\n",
       " 'Jacqueline Falsworth',\n",
       " 'Caliban',\n",
       " 'Isaac Christians',\n",
       " 'Brock Rumlow',\n",
       " 'Paul Norbert Ebersol',\n",
       " 'Annihilus',\n",
       " 'Red Sonja',\n",
       " 'Jonathan Hart',\n",
       " 'Bambina Arbogast',\n",
       " 'Sooraya Qadir',\n",
       " 'Zeus Panhellenios',\n",
       " 'Randolph Robertson',\n",
       " 'Yao',\n",
       " 'Agatha Harkness',\n",
       " 'Jack Tarr',\n",
       " 'Katherine Bishop',\n",
       " 'Jason Wyngarde',\n",
       " 'Walter Newell',\n",
       " 'Joanna Cargill',\n",
       " 'Parker Robbins',\n",
       " 'Rocket Raccoon',\n",
       " 'Lyja',\n",
       " 'Georges Batroc',\n",
       " 'Wyatt Wingfoot',\n",
       " 'Henry Camp',\n",
       " 'Peter Quill',\n",
       " 'Marrow',\n",
       " 'Vision',\n",
       " 'William Kaplan',\n",
       " 'George Stacy',\n",
       " 'Mari',\n",
       " 'Todd Arliss',\n",
       " 'Hammerhead',\n",
       " 'Heinrich Zemo',\n",
       " 'Emil Blonsky',\n",
       " 'Arcturus Rann',\n",
       " 'James Woo',\n",
       " 'Frank Drake',\n",
       " 'Callisto',\n",
       " 'Dorma',\n",
       " 'Lonnie Lincoln',\n",
       " 'Doop',\n",
       " 'David Alleyne',\n",
       " 'Hepzibah',\n",
       " 'Charlie Cluster',\n",
       " 'Samuel Sawyer',\n",
       " 'Jacques Duquesne',\n",
       " 'Arcade',\n",
       " 'Mary Walker',\n",
       " 'Miguel Santos',\n",
       " 'Christopher Summers',\n",
       " 'Morris Bench',\n",
       " 'David Cannon',\n",
       " 'Prosh',\n",
       " 'Roderick Kingsley',\n",
       " 'Dominikos Petrakis',\n",
       " 'St. John Allerdyce',\n",
       " 'Mary MacPherran',\n",
       " 'Rita Wayword',\n",
       " 'Angelo Espinosa',\n",
       " 'Layla Miller',\n",
       " 'Leland Owlsley',\n",
       " 'Karl Lykos',\n",
       " 'Jason Macendale Jr',\n",
       " 'Clay Harder',\n",
       " 'Frigga',\n",
       " 'Ikaris',\n",
       " 'Jack Power',\n",
       " 'Katherine Power',\n",
       " 'Sharon Ventura',\n",
       " 'Nico Minoru',\n",
       " 'Clive Reston',\n",
       " 'Idie Okonkwo',\n",
       " 'Robert Frank',\n",
       " 'Elizabeth Twoyoungmen',\n",
       " 'Everett Thomas',\n",
       " 'Danger',\n",
       " 'Dorrek VIII',\n",
       " 'Amadeus Cho',\n",
       " 'Phillip Masters',\n",
       " 'Joshua Foley',\n",
       " 'Karl Mordo',\n",
       " 'Eternity',\n",
       " 'William Foster',\n",
       " 'Leiko Wu',\n",
       " 'Chase Stein',\n",
       " 'Howard Hanover',\n",
       " 'Louise Grant',\n",
       " 'Grand Vizier',\n",
       " 'Pyreus Kril',\n",
       " 'Acroyear',\n",
       " 'Yuriko Oyama',\n",
       " 'Elijah Bradley',\n",
       " 'Frankie Raye',\n",
       " 'Jimaine Szardos',\n",
       " 'Bethany Cabe',\n",
       " 'Phillip Urich',\n",
       " 'Delroy Garrett Jr',\n",
       " 'Anya Corazon',\n",
       " 'Victoria Hand',\n",
       " 'Margaret Carter',\n",
       " 'Clay Quartermain',\n",
       " 'Ghost',\n",
       " 'Jill Stacy',\n",
       " 'Abigail Brand',\n",
       " 'Carlie Cooper',\n",
       " 'Paul Duval',\n",
       " 'Blastaar',\n",
       " 'Jericho Drumm',\n",
       " 'Ruth Aldine',\n",
       " 'Azura',\n",
       " 'Cyclone',\n",
       " 'Matthew Masters',\n",
       " 'Luna Maximoff',\n",
       " 'Silhouette Chord',\n",
       " 'Attuma',\n",
       " 'Sally Blevins',\n",
       " 'James Sanders',\n",
       " 'Denis Nayland Smith',\n",
       " 'Andreas von Strucker',\n",
       " 'Patricia Tilby',\n",
       " 'Michael Collins',\n",
       " 'Groot',\n",
       " 'Vashti Cleito-Son',\n",
       " 'Eric Williams',\n",
       " 'Gaea',\n",
       " 'Raza Longknife',\n",
       " 'Rom',\n",
       " 'Selene Gallio',\n",
       " 'Norman Harold Osborn',\n",
       " 'Michiko Musashi',\n",
       " 'Skaar',\n",
       " 'Ulik',\n",
       " 'Roxanne Simpson',\n",
       " 'Sinthea Shmidt',\n",
       " 'George Washington Bridge',\n",
       " 'Molly Hayes',\n",
       " 'Klaus Voorhees',\n",
       " 'Vanisher',\n",
       " 'Skurge',\n",
       " 'Arthur Parks',\n",
       " 'Bernadette Rosenthal',\n",
       " 'Nathan Lubensky',\n",
       " 'David Haller',\n",
       " 'Lemar Hoskins',\n",
       " 'Donald Pierce',\n",
       " 'Joseph Chapman',\n",
       " 'Karolina Dean',\n",
       " 'Bastion',\n",
       " 'Kull',\n",
       " 'Satana Hellstrom',\n",
       " 'Laynia Petrovna',\n",
       " 'Night Raven',\n",
       " 'Kavita Rao',\n",
       " 'Danielle Cage',\n",
       " 'Frederick Foswell',\n",
       " 'John Greycrow',\n",
       " 'Michael Duffy',\n",
       " 'Eric Koenig',\n",
       " 'Zheng Zu',\n",
       " 'Keniuchio Harada',\n",
       " 'Irene Adler',\n",
       " 'Marrina Smallwood',\n",
       " 'Fred Davis Jr',\n",
       " 'Zelda DuBois',\n",
       " 'Beyonder',\n",
       " 'Roxanne Washington',\n",
       " 'Bonita Juarez',\n",
       " 'Surtur',\n",
       " 'Stranger',\n",
       " 'Brandy Clark',\n",
       " 'Lillian Crawley',\n",
       " 'Ichabod',\n",
       " 'Russell Collins',\n",
       " 'Michael Badilino',\n",
       " 'Helen Takahama',\n",
       " 'En Sabah Nur',\n",
       " 'Dai Thomas',\n",
       " 'Maria Callasantos',\n",
       " 'Sally Avril',\n",
       " 'Ebenezer Laughton',\n",
       " 'Pluto',\n",
       " 'Arnim Zola',\n",
       " 'Mariko Yashida',\n",
       " 'Dallas Riordan',\n",
       " 'Hannibal King',\n",
       " 'Thomas Cassidy',\n",
       " 'Kara Killgrave',\n",
       " 'Jess',\n",
       " 'Daisy Johnson',\n",
       " 'John Horton',\n",
       " 'Cecilia Reyes',\n",
       " 'Barnell Bohusk',\n",
       " 'Victor Mancha',\n",
       " 'Awesome Android',\n",
       " 'Samuel Smithers',\n",
       " 'Wilbur Day',\n",
       " 'Silvio Manfredi',\n",
       " 'Richard Fisk',\n",
       " 'Edward Whelan',\n",
       " 'Donald Gill',\n",
       " 'Alani Ryan',\n",
       " 'Aarkus',\n",
       " 'Aloysius Kare',\n",
       " 'Ringo Kid',\n",
       " 'Maynard Tiboldt',\n",
       " 'Esteban Coraz',\n",
       " 'Marvin Flumm',\n",
       " 'Nathaniel Richards',\n",
       " 'Kathryn Cushing',\n",
       " 'Cameron Hodge',\n",
       " 'Alistaire Stuart',\n",
       " 'Stacy Dolan',\n",
       " 'Sleepwalker',\n",
       " 'Ben Hamill',\n",
       " 'Ivan Kragoff',\n",
       " 'Marco Scarlotti',\n",
       " 'Jennifer Takeda',\n",
       " 'Broo',\n",
       " 'Robert Grayson',\n",
       " 'Boris Bullski',\n",
       " 'Maximillian Coleridge',\n",
       " 'Oracle',\n",
       " 'Hope Abbott',\n",
       " 'Nicholas Fury',\n",
       " 'Fin Fang Foom',\n",
       " 'Shalla-Bal',\n",
       " 'Samuel Saxon',\n",
       " 'Jean DeWolff',\n",
       " 'Blanche Sitznski',\n",
       " 'Tanya Sealy',\n",
       " 'Joy Mercado',\n",
       " 'Bennet du Paris',\n",
       " 'Martha Franklin',\n",
       " 'Bentley Wittman',\n",
       " 'Rachel van Helsing',\n",
       " 'Jerome Beechman',\n",
       " 'Tyros',\n",
       " 'Yukio',\n",
       " 'Lila Cheney',\n",
       " 'Thomas Fireheart',\n",
       " 'Everett Ross',\n",
       " 'Criti Noll',\n",
       " 'Kenneth Hale',\n",
       " 'Korg',\n",
       " 'Mark Raxton',\n",
       " 'Calvin Rankin',\n",
       " 'Basil Sandhurst',\n",
       " 'Hobie Brown',\n",
       " 'Topaz',\n",
       " 'Shadow King',\n",
       " 'William Cross',\n",
       " 'Lance Bannon',\n",
       " 'Rita DeMara',\n",
       " 'Tong',\n",
       " 'Romulus Augustulus',\n",
       " 'Super-Adaptoid',\n",
       " 'John Proudstar',\n",
       " 'Christoph Nord',\n",
       " 'Maya Lopez',\n",
       " 'Old Lace',\n",
       " 'Humberto Lopez',\n",
       " 'Morgan le Fay',\n",
       " 'Luchino Nefaria',\n",
       " 'Jennifer Kale',\n",
       " 'Douglas Scott',\n",
       " 'Ashley Kafka',\n",
       " 'Robert Herman',\n",
       " 'Shuri',\n",
       " 'Justin Hammer',\n",
       " 'Michael Steel',\n",
       " 'Kristoff Vernard',\n",
       " 'Gateway',\n",
       " 'Lily Hollister',\n",
       " 'Tyr Odinson',\n",
       " 'Krang',\n",
       " 'Zebediah Killgrave',\n",
       " 'En Dwi Gast',\n",
       " 'Arthur Stacy',\n",
       " 'David Griffith',\n",
       " 'Franklin Hall',\n",
       " 'Microtron',\n",
       " 'Sara Wolfe',\n",
       " 'Simon Utrecht',\n",
       " 'Vertigo',\n",
       " 'Armando Mu',\n",
       " 'Jeanne Foucault',\n",
       " 'Bruno Horgan',\n",
       " 'Owen Reece',\n",
       " 'Phineas Mason',\n",
       " 'Man-Beast',\n",
       " 'Candace Southern',\n",
       " 'Heather Glenn',\n",
       " 'Rintrah',\n",
       " 'Kevin Masterson',\n",
       " 'Arkady Rossovich',\n",
       " 'Karima Shapandar',\n",
       " 'Norah Winters',\n",
       " 'Brandon Sharpe',\n",
       " 'Plan Chu',\n",
       " 'William Connors',\n",
       " 'Modred',\n",
       " 'James Darnell',\n",
       " 'Carnage',\n",
       " 'Venus',\n",
       " 'Lance Temple',\n",
       " 'Impossible Man',\n",
       " 'Robert Hunter',\n",
       " 'Onslaught',\n",
       " 'Irene Merryweather',\n",
       " 'E.V.A',\n",
       " 'Mik',\n",
       " 'Kro',\n",
       " 'Toni Turner',\n",
       " 'Melvin Potter',\n",
       " 'Billy Russo',\n",
       " 'Anath-Na Mut',\n",
       " 'Gilgamesh',\n",
       " 'Rebecca Blake',\n",
       " 'Biotron',\n",
       " 'Ruth Bat-Seraph',\n",
       " 'Sofia Mantega',\n",
       " 'Nezhno Abidemi',\n",
       " 'Thomas Shepherd',\n",
       " 'Ken Mack',\n",
       " 'Turg',\n",
       " 'Ivan Petrovitch',\n",
       " 'Robert Diamond',\n",
       " 'Debra Whitman',\n",
       " 'Cassandra Webb',\n",
       " 'Claudette and Nicole St. Croix',\n",
       " 'Greg Willis',\n",
       " 'Korr',\n",
       " 'Daniel Brito',\n",
       " 'Jackson Brice',\n",
       " 'Quincy Harker',\n",
       " 'Duvid Fortunov',\n",
       " 'Philippa Sontag',\n",
       " 'Laurie Tromette',\n",
       " 'Max Modell',\n",
       " 'Arthur Pendragon',\n",
       " 'Hera Argeia',\n",
       " 'Johann Fennhoff',\n",
       " 'Mesmero',\n",
       " 'Martha Robertson',\n",
       " 'James Braddock Jr',\n",
       " 'Ayesha',\n",
       " 'Nebula',\n",
       " 'Blackout',\n",
       " 'Garrison Kane',\n",
       " 'Phyla-Vell',\n",
       " 'Vil',\n",
       " 'Eliot Franklin',\n",
       " 'Psycho-Man',\n",
       " 'Humanoid Experimental Robot B-Type Integrated Electronics',\n",
       " 'Cleo Nefertiti',\n",
       " 'Fen',\n",
       " 'Martha Connors',\n",
       " 'Stan Lee',\n",
       " 'Athena Parthenos',\n",
       " 'Hector Ayala',\n",
       " 'Blake Tower',\n",
       " 'Dimitri Bukharin',\n",
       " 'Captain Universe',\n",
       " 'Mister Negative',\n",
       " 'William Lumpkin',\n",
       " 'Ego',\n",
       " 'Bova Ayrshire',\n",
       " 'Seth',\n",
       " 'Brian Falsworth',\n",
       " 'Nikolai Krylenko',\n",
       " 'Valinor',\n",
       " 'Ann Darnell',\n",
       " 'Alexander Pierce',\n",
       " 'Kayla Ballantine',\n",
       " 'Vanessa Carlysle',\n",
       " 'Donyell Taylor',\n",
       " 'Ken Ellis',\n",
       " 'Teon Macik',\n",
       " 'Wu',\n",
       " 'Eva Bell',\n",
       " 'Zuras',\n",
       " 'Kevin Marlow',\n",
       " 'Steven Rogers',\n",
       " 'Space Phantom',\n",
       " 'Tana Nile',\n",
       " 'Turk Barrett',\n",
       " 'Xandarian Worldmind',\n",
       " 'Argon',\n",
       " 'Fabian Stankowicz',\n",
       " 'Masque',\n",
       " 'Manuel de la Rocha',\n",
       " 'Kodiak Noatak',\n",
       " 'Graydon Creed',\n",
       " 'Max Eisenhardt',\n",
       " 'Seward Trainer',\n",
       " 'Tex Dawson',\n",
       " 'Gunther Bain',\n",
       " 'Jeryn Hogarth',\n",
       " 'Robert Farrell',\n",
       " 'Maximillian Zaran',\n",
       " 'Chons',\n",
       " 'Mikhail Ursus',\n",
       " 'Joshua Guthrie',\n",
       " 'Antonio Rodriguez',\n",
       " 'Jack Hammer',\n",
       " 'Neal Shaara',\n",
       " 'John Jonah Jameson',\n",
       " 'Terry Vance',\n",
       " 'Aphrodite Ourania',\n",
       " 'M',\n",
       " 'Sir Percy of Scandia',\n",
       " 'Deborah Harris',\n",
       " 'Llyra Morris',\n",
       " 'Robert Kelly',\n",
       " 'Susan Austin',\n",
       " 'Amelia Voght',\n",
       " 'Marshall Stone III',\n",
       " 'Alexei Kravinoff',\n",
       " 'Guy Smith',\n",
       " 'Tike Alicar',\n",
       " 'Eden Fesi',\n",
       " 'Raymond Dawson',\n",
       " 'Henry Tinkelbaum',\n",
       " 'Cookie Novak',\n",
       " 'Hank Kelly',\n",
       " 'Robert Rider',\n",
       " 'Tania Belinskaya',\n",
       " 'William Nasland',\n",
       " 'Roger Bochs',\n",
       " 'Marcus Stone',\n",
       " 'Deidre Wentworth',\n",
       " 'Fabian Cortez',\n",
       " 'Sharra Neramani',\n",
       " 'Rumiko Fujikawa',\n",
       " 'Gabriel Cohuelo',\n",
       " 'Phillip Coulson',\n",
       " 'Christopher Muse',\n",
       " 'Doctor Watson',\n",
       " 'Abraham Erskine',\n",
       " 'Umar',\n",
       " 'Satannish',\n",
       " 'Sha Shan',\n",
       " 'Blood Brothers',\n",
       " 'Nekra Sinclair',\n",
       " 'Abraham Brown',\n",
       " 'Mamie Muggins',\n",
       " 'In-Betweener',\n",
       " 'Eric Payne',\n",
       " 'Mentor',\n",
       " 'Starbolt',\n",
       " 'Manta',\n",
       " 'Lorelei',\n",
       " 'Grace Powell',\n",
       " 'Rick Sheridan',\n",
       " 'Frances Barrison',\n",
       " 'Shirley Washington',\n",
       " 'Tsu-Zana',\n",
       " 'Richard Gilmore',\n",
       " 'Tarene',\n",
       " 'Melati Kusuma',\n",
       " 'Jonas Graymalkin',\n",
       " 'Thakorr',\n",
       " 'Ulysses Bloodstone',\n",
       " 'Jack Pulver',\n",
       " 'Maxwell Markham',\n",
       " 'Baron Karza',\n",
       " 'Lindsay McCabe',\n",
       " 'Colin Hume',\n",
       " 'Jason Powell',\n",
       " 'Martha Johansson',\n",
       " 'Regan Wyngarde',\n",
       " 'Michael Pointer',\n",
       " 'Jerry Sledge',\n",
       " 'John Grey',\n",
       " 'Jonathan Murdock',\n",
       " 'Nicholas Bromwell',\n",
       " 'Edgar Plunder',\n",
       " 'Vanessa Fisk',\n",
       " 'Lissa Russell',\n",
       " 'Wundarr',\n",
       " 'Bertrand Crawley',\n",
       " 'Beverly Switzler',\n",
       " 'Stephanie Hunter',\n",
       " 'Rachel Carpenter',\n",
       " 'Francis Ketch',\n",
       " 'Jonathan Powell',\n",
       " 'Cerise',\n",
       " 'Jake Olson',\n",
       " 'Myles Alfred',\n",
       " 'Gertrude Yorkes',\n",
       " 'Alexander Aaron',\n",
       " 'Kubark',\n",
       " 'Elihas Starr',\n",
       " 'James Wilson',\n",
       " 'Claire Temple',\n",
       " 'Eon',\n",
       " 'Stuart Clarke',\n",
       " 'Malekith',\n",
       " 'Oswald Silkworth',\n",
       " 'Jesse Aaronson',\n",
       " 'Miranda Leevald',\n",
       " 'Angela del Toro',\n",
       " 'Laurie Collins',\n",
       " 'Gabriel Summers',\n",
       " 'Miek',\n",
       " 'Joseph Green',\n",
       " 'Maki Matsumoto',\n",
       " 'Mark Todd',\n",
       " 'Robert Baxter',\n",
       " 'Mordred',\n",
       " 'Alexander Gentry',\n",
       " 'Idunn',\n",
       " 'Ahmet Abdol',\n",
       " 'Jackson Norriss',\n",
       " 'Rafael Scarfe',\n",
       " 'Arishem',\n",
       " 'John Falsworth',\n",
       " 'Eshu',\n",
       " 'Erg',\n",
       " 'James Bourne',\n",
       " 'Abraham Zimmer',\n",
       " 'Laura Dean',\n",
       " 'Whitman Knapp',\n",
       " 'Christopher Bradley',\n",
       " 'Blind Al',\n",
       " 'Void',\n",
       " 'Brightwind',\n",
       " 'Red Raven',\n",
       " 'Roger Aubrey',\n",
       " 'Elaine Grey',\n",
       " 'Milos Masaryk',\n",
       " 'Vera Cantor',\n",
       " 'Noah Black',\n",
       " 'Charles Barton',\n",
       " 'Howard Stark',\n",
       " 'Martine Bancroft',\n",
       " 'Hildegarde',\n",
       " 'Lincoln Slade',\n",
       " 'Richard Rory',\n",
       " 'Wilhelm Lohmer',\n",
       " 'Jackson Day',\n",
       " 'Thursday Rubinstein',\n",
       " 'Slug',\n",
       " 'Belasco',\n",
       " 'Edward Lavell',\n",
       " 'Frank Simpson',\n",
       " 'Silas Burr',\n",
       " 'Carolyn Trainer',\n",
       " 'Carlos LaMuerto',\n",
       " 'Milla Donovan',\n",
       " 'Tomi Shishido',\n",
       " 'Samuel Alexander',\n",
       " 'Leila Taylor',\n",
       " 'Buck Cowan',\n",
       " 'Katerina van Horn',\n",
       " 'Lei-Kung',\n",
       " 'Lilith Drake',\n",
       " 'Gwendolyne Stacy',\n",
       " 'Grannz',\n",
       " 'Lord Chaos',\n",
       " 'Andromeda Attumasen',\n",
       " 'Blackheart',\n",
       " 'Pantu Hurageb',\n",
       " 'Walter Charles',\n",
       " 'Doreen Green',\n",
       " 'Peter Hunter',\n",
       " 'Algernon Crowe',\n",
       " 'Justine Hammer',\n",
       " 'Johnathon Gallo',\n",
       " 'Maria de Guadalupe Santiago',\n",
       " 'Elsa Bloodstone',\n",
       " 'Thor Odinson',\n",
       " 'Roger Brokeridge',\n",
       " 'Phineas Horton',\n",
       " 'Marie Lathrop',\n",
       " 'Byrrah',\n",
       " 'Orka',\n",
       " 'Grom',\n",
       " 'Noah Burstein',\n",
       " 'Lin Sun',\n",
       " 'Daniel Berkhart',\n",
       " 'Ransak',\n",
       " 'Simon Maddicks',\n",
       " 'Iann',\n",
       " 'Obadiah Stane',\n",
       " 'Martin Preston',\n",
       " 'Nick Katzenberg',\n",
       " 'Richard Parker',\n",
       " 'Century',\n",
       " 'Charles Burlingame',\n",
       " 'Kuan-Yin Xorn',\n",
       " 'Juston Seyfert',\n",
       " 'Sally Floyd',\n",
       " 'Gunna Sijurvald',\n",
       " 'Geoffrey Vandergill',\n",
       " 'Washington Jones',\n",
       " 'Phoebus Apollo',\n",
       " 'Leopold Stryke',\n",
       " 'Raymond Bloch',\n",
       " 'Mendel Stromm',\n",
       " 'Recorder',\n",
       " 'Yon-Rogg',\n",
       " 'Barbarus',\n",
       " 'Zarathos',\n",
       " 'Ajak',\n",
       " 'Araki',\n",
       " 'Munin',\n",
       " 'Sybil Dvorak',\n",
       " 'Daniel Leighton',\n",
       " 'Johnathon Ohnn',\n",
       " 'Andrew Chord',\n",
       " 'Demogoblin',\n",
       " 'Julius Mullarkey',\n",
       " 'Kiskillilla',\n",
       " 'Sarah Ryall',\n",
       " 'Shevaun Haldane',\n",
       " 'Steven Harmon',\n",
       " 'Scrier',\n",
       " 'James Santini',\n",
       " 'Janice Yanizeski',\n",
       " 'Paul Stacy',\n",
       " 'Dead Girl',\n",
       " 'Abigail Boylen',\n",
       " 'Sajani Jaffrey',\n",
       " 'Benjamin Deeds',\n",
       " 'Richard Parker',\n",
       " 'Steel Serpent',\n",
       " 'Jacob Conover',\n",
       " 'Miss Locke',\n",
       " 'Kaina',\n",
       " 'Aaron Nicholson',\n",
       " 'Amiko Kobayashi',\n",
       " 'Ghaur',\n",
       " 'Quincy McIver',\n",
       " 'Ulysses Lugman',\n",
       " 'Ananym',\n",
       " 'Silverfox',\n",
       " 'Mary Parker',\n",
       " 'Carlton LaFroyge',\n",
       " 'Cammille Benally',\n",
       " 'Brood',\n",
       " 'Rebecca Barnes',\n",
       " 'Cosmo',\n",
       " 'Fabio Medina',\n",
       " 'Henry Casey',\n",
       " 'Harrington Byrd',\n",
       " 'Marianne Rodgers',\n",
       " 'Victoria Bentley',\n",
       " 'Diane Arliss',\n",
       " 'Jonathan Powers',\n",
       " 'Amphibius',\n",
       " 'Susan Scarbo',\n",
       " 'Jarella',\n",
       " 'William Taurens',\n",
       " 'Daniel Drumm',\n",
       " 'Paul Cartier',\n",
       " 'Marduk Kurios',\n",
       " 'Electron',\n",
       " 'Karkas',\n",
       " 'William Stryker',\n",
       " 'Marie-Ange Colbert',\n",
       " 'Jackie Lukus',\n",
       " 'Niels',\n",
       " 'Melody Jacobs',\n",
       " 'Anne Ghazikhanian',\n",
       " 'Ernst',\n",
       " 'Geoffrey Wilder',\n",
       " 'Kevin Ford',\n",
       " 'Elloe Kaifi',\n",
       " 'Ahura Boltagon',\n",
       " 'Franklin Roosevelt',\n",
       " 'Penny Pennington',\n",
       " ...]"
      ]
     },
     "execution_count": 65,
     "metadata": {},
     "output_type": "execute_result"
    }
   ],
   "source": [
    "import re\n",
    "pattern = re.compile('([a-zA-Z]|-|\\s|\\.|\\')*([a-zA-Z])')\n",
    "heroName = []\n",
    "for name in marvelDF.name:\n",
    "    match = re.search(pattern, name)\n",
    "    if match:                      \n",
    "        heroName.append(match.group())\n",
    "    else:\n",
    "        heroName.append(name)\n",
    "heroName"
   ]
  },
  {
   "cell_type": "markdown",
   "metadata": {
    "slideshow": {
     "slide_type": "slide"
    }
   },
   "source": [
    "* This looks okay, let's copy '__marvelDF__' to '__marvelDF_newID__' and assign new indexes.<br>"
   ]
  },
  {
   "cell_type": "code",
   "execution_count": 66,
   "metadata": {
    "slideshow": {
     "slide_type": "fragment"
    }
   },
   "outputs": [
    {
     "data": {
      "text/html": [
       "<div>\n",
       "<style scoped>\n",
       "    .dataframe tbody tr th:only-of-type {\n",
       "        vertical-align: middle;\n",
       "    }\n",
       "\n",
       "    .dataframe tbody tr th {\n",
       "        vertical-align: top;\n",
       "    }\n",
       "\n",
       "    .dataframe thead th {\n",
       "        text-align: right;\n",
       "    }\n",
       "</style>\n",
       "<table border=\"1\" class=\"dataframe\">\n",
       "  <thead>\n",
       "    <tr style=\"text-align: right;\">\n",
       "      <th></th>\n",
       "      <th>name</th>\n",
       "      <th>urlslug</th>\n",
       "      <th>ID</th>\n",
       "      <th>ALIGN</th>\n",
       "      <th>EYE</th>\n",
       "      <th>HAIR</th>\n",
       "      <th>SEX</th>\n",
       "      <th>GSM</th>\n",
       "      <th>ALIVE</th>\n",
       "      <th>APPEARANCES</th>\n",
       "      <th>FIRST APPEARANCE</th>\n",
       "      <th>Year</th>\n",
       "    </tr>\n",
       "  </thead>\n",
       "  <tbody>\n",
       "    <tr>\n",
       "      <th>Spider-Man</th>\n",
       "      <td>Spider-Man (Peter Parker)</td>\n",
       "      <td>\\/Spider-Man_(Peter_Parker)</td>\n",
       "      <td>Secret Identity</td>\n",
       "      <td>Good Characters</td>\n",
       "      <td>Hazel Eyes</td>\n",
       "      <td>Brown Hair</td>\n",
       "      <td>Male Characters</td>\n",
       "      <td>NaN</td>\n",
       "      <td>Living Characters</td>\n",
       "      <td>4043.0</td>\n",
       "      <td>Aug-62</td>\n",
       "      <td>1962.0</td>\n",
       "    </tr>\n",
       "    <tr>\n",
       "      <th>Captain America</th>\n",
       "      <td>Captain America (Steven Rogers)</td>\n",
       "      <td>\\/Captain_America_(Steven_Rogers)</td>\n",
       "      <td>Public Identity</td>\n",
       "      <td>Good Characters</td>\n",
       "      <td>Blue Eyes</td>\n",
       "      <td>White Hair</td>\n",
       "      <td>Male Characters</td>\n",
       "      <td>NaN</td>\n",
       "      <td>Living Characters</td>\n",
       "      <td>3360.0</td>\n",
       "      <td>Mar-41</td>\n",
       "      <td>1941.0</td>\n",
       "    </tr>\n",
       "    <tr>\n",
       "      <th>Wolverine</th>\n",
       "      <td>Wolverine (James \\\"Logan\\\" Howlett)</td>\n",
       "      <td>\\/Wolverine_(James_%22Logan%22_Howlett)</td>\n",
       "      <td>Public Identity</td>\n",
       "      <td>Neutral Characters</td>\n",
       "      <td>Blue Eyes</td>\n",
       "      <td>Black Hair</td>\n",
       "      <td>Male Characters</td>\n",
       "      <td>NaN</td>\n",
       "      <td>Living Characters</td>\n",
       "      <td>3061.0</td>\n",
       "      <td>Oct-74</td>\n",
       "      <td>1974.0</td>\n",
       "    </tr>\n",
       "    <tr>\n",
       "      <th>Iron Man</th>\n",
       "      <td>Iron Man (Anthony \\\"Tony\\\" Stark)</td>\n",
       "      <td>\\/Iron_Man_(Anthony_%22Tony%22_Stark)</td>\n",
       "      <td>Public Identity</td>\n",
       "      <td>Good Characters</td>\n",
       "      <td>Blue Eyes</td>\n",
       "      <td>Black Hair</td>\n",
       "      <td>Male Characters</td>\n",
       "      <td>NaN</td>\n",
       "      <td>Living Characters</td>\n",
       "      <td>2961.0</td>\n",
       "      <td>Mar-63</td>\n",
       "      <td>1963.0</td>\n",
       "    </tr>\n",
       "    <tr>\n",
       "      <th>Thor</th>\n",
       "      <td>Thor (Thor Odinson)</td>\n",
       "      <td>\\/Thor_(Thor_Odinson)</td>\n",
       "      <td>No Dual Identity</td>\n",
       "      <td>Good Characters</td>\n",
       "      <td>Blue Eyes</td>\n",
       "      <td>Blond Hair</td>\n",
       "      <td>Male Characters</td>\n",
       "      <td>NaN</td>\n",
       "      <td>Living Characters</td>\n",
       "      <td>2258.0</td>\n",
       "      <td>Nov-50</td>\n",
       "      <td>1950.0</td>\n",
       "    </tr>\n",
       "  </tbody>\n",
       "</table>\n",
       "</div>"
      ],
      "text/plain": [
       "                                                name  \\\n",
       "Spider-Man                 Spider-Man (Peter Parker)   \n",
       "Captain America      Captain America (Steven Rogers)   \n",
       "Wolverine        Wolverine (James \\\"Logan\\\" Howlett)   \n",
       "Iron Man           Iron Man (Anthony \\\"Tony\\\" Stark)   \n",
       "Thor                             Thor (Thor Odinson)   \n",
       "\n",
       "                                                 urlslug                ID  \\\n",
       "Spider-Man                   \\/Spider-Man_(Peter_Parker)   Secret Identity   \n",
       "Captain America        \\/Captain_America_(Steven_Rogers)   Public Identity   \n",
       "Wolverine        \\/Wolverine_(James_%22Logan%22_Howlett)   Public Identity   \n",
       "Iron Man           \\/Iron_Man_(Anthony_%22Tony%22_Stark)   Public Identity   \n",
       "Thor                               \\/Thor_(Thor_Odinson)  No Dual Identity   \n",
       "\n",
       "                              ALIGN         EYE        HAIR              SEX  \\\n",
       "Spider-Man          Good Characters  Hazel Eyes  Brown Hair  Male Characters   \n",
       "Captain America     Good Characters   Blue Eyes  White Hair  Male Characters   \n",
       "Wolverine        Neutral Characters   Blue Eyes  Black Hair  Male Characters   \n",
       "Iron Man            Good Characters   Blue Eyes  Black Hair  Male Characters   \n",
       "Thor                Good Characters   Blue Eyes  Blond Hair  Male Characters   \n",
       "\n",
       "                 GSM              ALIVE  APPEARANCES FIRST APPEARANCE    Year  \n",
       "Spider-Man       NaN  Living Characters       4043.0           Aug-62  1962.0  \n",
       "Captain America  NaN  Living Characters       3360.0           Mar-41  1941.0  \n",
       "Wolverine        NaN  Living Characters       3061.0           Oct-74  1974.0  \n",
       "Iron Man         NaN  Living Characters       2961.0           Mar-63  1963.0  \n",
       "Thor             NaN  Living Characters       2258.0           Nov-50  1950.0  "
      ]
     },
     "execution_count": 66,
     "metadata": {},
     "output_type": "execute_result"
    }
   ],
   "source": [
    "marvelDF_newID = marvelDF.copy()\n",
    "marvelDF_newID.index = heroName\n",
    "marvelDF_newID.head(5)"
   ]
  },
  {
   "cell_type": "markdown",
   "metadata": {
    "slideshow": {
     "slide_type": "slide"
    }
   },
   "source": [
    "* Let's check the uniqueness of ID's:"
   ]
  },
  {
   "cell_type": "code",
   "execution_count": 67,
   "metadata": {
    "slideshow": {
     "slide_type": "fragment"
    }
   },
   "outputs": [
    {
     "data": {
      "text/plain": [
       "False"
      ]
     },
     "execution_count": 67,
     "metadata": {},
     "output_type": "execute_result"
    }
   ],
   "source": [
    "marvelDF_newID.index.is_unique"
   ]
  },
  {
   "cell_type": "markdown",
   "metadata": {
    "slideshow": {
     "slide_type": "fragment"
    }
   },
   "source": [
    "* So, indices need not be unique. Our choice is not unique because some of superheros have some differenet variations."
   ]
  },
  {
   "cell_type": "code",
   "execution_count": 68,
   "metadata": {
    "slideshow": {
     "slide_type": "fragment"
    }
   },
   "outputs": [
    {
     "data": {
      "text/plain": [
       "Sentinel         16\n",
       "Charlie          10\n",
       "Peter Parker     10\n",
       "M                 8\n",
       "X                 8\n",
       "                 ..\n",
       "Wrogg             1\n",
       "Lynch             1\n",
       "Llan              1\n",
       "Gudrun Tyburn     1\n",
       "Iron Brain        1\n",
       "Length: 15271, dtype: int64"
      ]
     },
     "execution_count": 68,
     "metadata": {},
     "output_type": "execute_result"
    }
   ],
   "source": [
    "pd.Series(marvelDF_newID.index).value_counts()"
   ]
  },
  {
   "cell_type": "markdown",
   "metadata": {
    "slideshow": {
     "slide_type": "slide"
    }
   },
   "source": [
    "* The most important consequence of a non-unique index is that indexing by label will return multiple values for some labels:"
   ]
  },
  {
   "cell_type": "code",
   "execution_count": 69,
   "metadata": {
    "slideshow": {
     "slide_type": "fragment"
    }
   },
   "outputs": [
    {
     "data": {
      "text/html": [
       "<div>\n",
       "<style scoped>\n",
       "    .dataframe tbody tr th:only-of-type {\n",
       "        vertical-align: middle;\n",
       "    }\n",
       "\n",
       "    .dataframe tbody tr th {\n",
       "        vertical-align: top;\n",
       "    }\n",
       "\n",
       "    .dataframe thead th {\n",
       "        text-align: right;\n",
       "    }\n",
       "</style>\n",
       "<table border=\"1\" class=\"dataframe\">\n",
       "  <thead>\n",
       "    <tr style=\"text-align: right;\">\n",
       "      <th></th>\n",
       "      <th>name</th>\n",
       "      <th>urlslug</th>\n",
       "      <th>ID</th>\n",
       "      <th>ALIGN</th>\n",
       "      <th>EYE</th>\n",
       "      <th>HAIR</th>\n",
       "      <th>SEX</th>\n",
       "      <th>GSM</th>\n",
       "      <th>ALIVE</th>\n",
       "      <th>APPEARANCES</th>\n",
       "      <th>FIRST APPEARANCE</th>\n",
       "      <th>Year</th>\n",
       "    </tr>\n",
       "  </thead>\n",
       "  <tbody>\n",
       "    <tr>\n",
       "      <th>Peter Parker</th>\n",
       "      <td>Peter Parker (Ben Reilly) (Earth-616)</td>\n",
       "      <td>\\/Peter_Parker_(Ben_Reilly)_(Earth-616)</td>\n",
       "      <td>Secret Identity</td>\n",
       "      <td>Good Characters</td>\n",
       "      <td>Hazel Eyes</td>\n",
       "      <td>Blond Hair</td>\n",
       "      <td>Male Characters</td>\n",
       "      <td>NaN</td>\n",
       "      <td>Deceased Characters</td>\n",
       "      <td>263.0</td>\n",
       "      <td>Oct-75</td>\n",
       "      <td>1975.0</td>\n",
       "    </tr>\n",
       "    <tr>\n",
       "      <th>Peter Parker</th>\n",
       "      <td>Peter Parker (Kaine) (Earth-616)</td>\n",
       "      <td>\\/Peter_Parker_(Kaine)_(Earth-616)</td>\n",
       "      <td>Secret Identity</td>\n",
       "      <td>Good Characters</td>\n",
       "      <td>Hazel Eyes</td>\n",
       "      <td>Brown Hair</td>\n",
       "      <td>Male Characters</td>\n",
       "      <td>NaN</td>\n",
       "      <td>Living Characters</td>\n",
       "      <td>137.0</td>\n",
       "      <td>Dec-94</td>\n",
       "      <td>1994.0</td>\n",
       "    </tr>\n",
       "    <tr>\n",
       "      <th>Peter Parker</th>\n",
       "      <td>Peter Parker (Doppelganger) (Earth-616)</td>\n",
       "      <td>\\/Peter_Parker_(Doppelganger)_(Earth-616)</td>\n",
       "      <td>Secret Identity</td>\n",
       "      <td>Bad Characters</td>\n",
       "      <td>White Eyes</td>\n",
       "      <td>No Hair</td>\n",
       "      <td>Male Characters</td>\n",
       "      <td>NaN</td>\n",
       "      <td>Living Characters</td>\n",
       "      <td>35.0</td>\n",
       "      <td>Jun-92</td>\n",
       "      <td>1992.0</td>\n",
       "    </tr>\n",
       "    <tr>\n",
       "      <th>Peter Parker</th>\n",
       "      <td>Peter Parker (Spidercide) (Earth-616)</td>\n",
       "      <td>\\/Peter_Parker_(Spidercide)_(Earth-616)</td>\n",
       "      <td>Secret Identity</td>\n",
       "      <td>Bad Characters</td>\n",
       "      <td>Hazel Eyes</td>\n",
       "      <td>Brown Hair</td>\n",
       "      <td>Male Characters</td>\n",
       "      <td>NaN</td>\n",
       "      <td>Deceased Characters</td>\n",
       "      <td>35.0</td>\n",
       "      <td>Mar-95</td>\n",
       "      <td>1995.0</td>\n",
       "    </tr>\n",
       "    <tr>\n",
       "      <th>Peter Parker</th>\n",
       "      <td>Peter Parker (Spider-Skeleton) (Earth-616)</td>\n",
       "      <td>\\/Peter_Parker_(Spider-Skeleton)_(Earth-616)</td>\n",
       "      <td>Secret Identity</td>\n",
       "      <td>Neutral Characters</td>\n",
       "      <td>NaN</td>\n",
       "      <td>NaN</td>\n",
       "      <td>Male Characters</td>\n",
       "      <td>NaN</td>\n",
       "      <td>Deceased Characters</td>\n",
       "      <td>12.0</td>\n",
       "      <td>Feb-96</td>\n",
       "      <td>1996.0</td>\n",
       "    </tr>\n",
       "    <tr>\n",
       "      <th>Peter Parker</th>\n",
       "      <td>Peter Parker (Jack) (Earth-616)</td>\n",
       "      <td>\\/Peter_Parker_(Jack)_(Earth-616)</td>\n",
       "      <td>Secret Identity</td>\n",
       "      <td>Neutral Characters</td>\n",
       "      <td>Hazel Eyes</td>\n",
       "      <td>Bald</td>\n",
       "      <td>Male Characters</td>\n",
       "      <td>NaN</td>\n",
       "      <td>Deceased Characters</td>\n",
       "      <td>8.0</td>\n",
       "      <td>Mar-95</td>\n",
       "      <td>1995.0</td>\n",
       "    </tr>\n",
       "    <tr>\n",
       "      <th>Peter Parker</th>\n",
       "      <td>Peter Parker (Skrull) (Earth-616)</td>\n",
       "      <td>\\/Peter_Parker_(Skrull)_(Earth-616)</td>\n",
       "      <td>Secret Identity</td>\n",
       "      <td>Bad Characters</td>\n",
       "      <td>Green Eyes</td>\n",
       "      <td>No Hair</td>\n",
       "      <td>Male Characters</td>\n",
       "      <td>NaN</td>\n",
       "      <td>Living Characters</td>\n",
       "      <td>6.0</td>\n",
       "      <td>Jun-08</td>\n",
       "      <td>2008.0</td>\n",
       "    </tr>\n",
       "    <tr>\n",
       "      <th>Peter Parker</th>\n",
       "      <td>Peter Parker (Guardian) (Earth-616)</td>\n",
       "      <td>\\/Peter_Parker_(Guardian)_(Earth-616)</td>\n",
       "      <td>Secret Identity</td>\n",
       "      <td>Bad Characters</td>\n",
       "      <td>Hazel Eyes</td>\n",
       "      <td>Brown Hair</td>\n",
       "      <td>Male Characters</td>\n",
       "      <td>NaN</td>\n",
       "      <td>Deceased Characters</td>\n",
       "      <td>3.0</td>\n",
       "      <td>Mar-95</td>\n",
       "      <td>1995.0</td>\n",
       "    </tr>\n",
       "    <tr>\n",
       "      <th>Peter Parker</th>\n",
       "      <td>Peter Parker (Counter-Earth) (Earth-616)</td>\n",
       "      <td>\\/Peter_Parker_(Counter-Earth)_(Earth-616)</td>\n",
       "      <td>No Dual Identity</td>\n",
       "      <td>NaN</td>\n",
       "      <td>NaN</td>\n",
       "      <td>NaN</td>\n",
       "      <td>Male Characters</td>\n",
       "      <td>NaN</td>\n",
       "      <td>Deceased Characters</td>\n",
       "      <td>1.0</td>\n",
       "      <td>Oct-72</td>\n",
       "      <td>1972.0</td>\n",
       "    </tr>\n",
       "    <tr>\n",
       "      <th>Peter Parker</th>\n",
       "      <td>Peter Parker (Robot) (Earth-616)</td>\n",
       "      <td>\\/Peter_Parker_(Robot)_(Earth-616)</td>\n",
       "      <td>No Dual Identity</td>\n",
       "      <td>NaN</td>\n",
       "      <td>NaN</td>\n",
       "      <td>NaN</td>\n",
       "      <td>Male Characters</td>\n",
       "      <td>NaN</td>\n",
       "      <td>Deceased Characters</td>\n",
       "      <td>1.0</td>\n",
       "      <td>NaN</td>\n",
       "      <td>NaN</td>\n",
       "    </tr>\n",
       "  </tbody>\n",
       "</table>\n",
       "</div>"
      ],
      "text/plain": [
       "                                                    name  \\\n",
       "Peter Parker       Peter Parker (Ben Reilly) (Earth-616)   \n",
       "Peter Parker            Peter Parker (Kaine) (Earth-616)   \n",
       "Peter Parker     Peter Parker (Doppelganger) (Earth-616)   \n",
       "Peter Parker       Peter Parker (Spidercide) (Earth-616)   \n",
       "Peter Parker  Peter Parker (Spider-Skeleton) (Earth-616)   \n",
       "Peter Parker             Peter Parker (Jack) (Earth-616)   \n",
       "Peter Parker           Peter Parker (Skrull) (Earth-616)   \n",
       "Peter Parker         Peter Parker (Guardian) (Earth-616)   \n",
       "Peter Parker    Peter Parker (Counter-Earth) (Earth-616)   \n",
       "Peter Parker            Peter Parker (Robot) (Earth-616)   \n",
       "\n",
       "                                                   urlslug                ID  \\\n",
       "Peter Parker       \\/Peter_Parker_(Ben_Reilly)_(Earth-616)   Secret Identity   \n",
       "Peter Parker            \\/Peter_Parker_(Kaine)_(Earth-616)   Secret Identity   \n",
       "Peter Parker     \\/Peter_Parker_(Doppelganger)_(Earth-616)   Secret Identity   \n",
       "Peter Parker       \\/Peter_Parker_(Spidercide)_(Earth-616)   Secret Identity   \n",
       "Peter Parker  \\/Peter_Parker_(Spider-Skeleton)_(Earth-616)   Secret Identity   \n",
       "Peter Parker             \\/Peter_Parker_(Jack)_(Earth-616)   Secret Identity   \n",
       "Peter Parker           \\/Peter_Parker_(Skrull)_(Earth-616)   Secret Identity   \n",
       "Peter Parker         \\/Peter_Parker_(Guardian)_(Earth-616)   Secret Identity   \n",
       "Peter Parker    \\/Peter_Parker_(Counter-Earth)_(Earth-616)  No Dual Identity   \n",
       "Peter Parker            \\/Peter_Parker_(Robot)_(Earth-616)  No Dual Identity   \n",
       "\n",
       "                           ALIGN         EYE        HAIR              SEX  \\\n",
       "Peter Parker     Good Characters  Hazel Eyes  Blond Hair  Male Characters   \n",
       "Peter Parker     Good Characters  Hazel Eyes  Brown Hair  Male Characters   \n",
       "Peter Parker      Bad Characters  White Eyes     No Hair  Male Characters   \n",
       "Peter Parker      Bad Characters  Hazel Eyes  Brown Hair  Male Characters   \n",
       "Peter Parker  Neutral Characters         NaN         NaN  Male Characters   \n",
       "Peter Parker  Neutral Characters  Hazel Eyes        Bald  Male Characters   \n",
       "Peter Parker      Bad Characters  Green Eyes     No Hair  Male Characters   \n",
       "Peter Parker      Bad Characters  Hazel Eyes  Brown Hair  Male Characters   \n",
       "Peter Parker                 NaN         NaN         NaN  Male Characters   \n",
       "Peter Parker                 NaN         NaN         NaN  Male Characters   \n",
       "\n",
       "              GSM                ALIVE  APPEARANCES FIRST APPEARANCE    Year  \n",
       "Peter Parker  NaN  Deceased Characters        263.0           Oct-75  1975.0  \n",
       "Peter Parker  NaN    Living Characters        137.0           Dec-94  1994.0  \n",
       "Peter Parker  NaN    Living Characters         35.0           Jun-92  1992.0  \n",
       "Peter Parker  NaN  Deceased Characters         35.0           Mar-95  1995.0  \n",
       "Peter Parker  NaN  Deceased Characters         12.0           Feb-96  1996.0  \n",
       "Peter Parker  NaN  Deceased Characters          8.0           Mar-95  1995.0  \n",
       "Peter Parker  NaN    Living Characters          6.0           Jun-08  2008.0  \n",
       "Peter Parker  NaN  Deceased Characters          3.0           Mar-95  1995.0  \n",
       "Peter Parker  NaN  Deceased Characters          1.0           Oct-72  1972.0  \n",
       "Peter Parker  NaN  Deceased Characters          1.0              NaN     NaN  "
      ]
     },
     "execution_count": 69,
     "metadata": {},
     "output_type": "execute_result"
    }
   ],
   "source": [
    "marvelDF_newID.loc['Peter Parker']"
   ]
  },
  {
   "cell_type": "markdown",
   "metadata": {
    "slideshow": {
     "slide_type": "slide"
    }
   },
   "source": [
    "* Let's give a truly unique index by not triming `name` column:"
   ]
  },
  {
   "cell_type": "code",
   "execution_count": 70,
   "metadata": {
    "slideshow": {
     "slide_type": "fragment"
    }
   },
   "outputs": [
    {
     "data": {
      "text/html": [
       "<div>\n",
       "<style scoped>\n",
       "    .dataframe tbody tr th:only-of-type {\n",
       "        vertical-align: middle;\n",
       "    }\n",
       "\n",
       "    .dataframe tbody tr th {\n",
       "        vertical-align: top;\n",
       "    }\n",
       "\n",
       "    .dataframe thead th {\n",
       "        text-align: right;\n",
       "    }\n",
       "</style>\n",
       "<table border=\"1\" class=\"dataframe\">\n",
       "  <thead>\n",
       "    <tr style=\"text-align: right;\">\n",
       "      <th></th>\n",
       "      <th>name</th>\n",
       "      <th>urlslug</th>\n",
       "      <th>ID</th>\n",
       "      <th>ALIGN</th>\n",
       "      <th>EYE</th>\n",
       "      <th>HAIR</th>\n",
       "      <th>SEX</th>\n",
       "      <th>GSM</th>\n",
       "      <th>ALIVE</th>\n",
       "      <th>APPEARANCES</th>\n",
       "      <th>FIRST APPEARANCE</th>\n",
       "      <th>Year</th>\n",
       "    </tr>\n",
       "    <tr>\n",
       "      <th>name</th>\n",
       "      <th></th>\n",
       "      <th></th>\n",
       "      <th></th>\n",
       "      <th></th>\n",
       "      <th></th>\n",
       "      <th></th>\n",
       "      <th></th>\n",
       "      <th></th>\n",
       "      <th></th>\n",
       "      <th></th>\n",
       "      <th></th>\n",
       "      <th></th>\n",
       "    </tr>\n",
       "  </thead>\n",
       "  <tbody>\n",
       "    <tr>\n",
       "      <th>Spider-Man (Peter Parker)</th>\n",
       "      <td>Spider-Man (Peter Parker)</td>\n",
       "      <td>\\/Spider-Man_(Peter_Parker)</td>\n",
       "      <td>Secret Identity</td>\n",
       "      <td>Good Characters</td>\n",
       "      <td>Hazel Eyes</td>\n",
       "      <td>Brown Hair</td>\n",
       "      <td>Male Characters</td>\n",
       "      <td>NaN</td>\n",
       "      <td>Living Characters</td>\n",
       "      <td>4043.0</td>\n",
       "      <td>Aug-62</td>\n",
       "      <td>1962.0</td>\n",
       "    </tr>\n",
       "    <tr>\n",
       "      <th>Captain America (Steven Rogers)</th>\n",
       "      <td>Captain America (Steven Rogers)</td>\n",
       "      <td>\\/Captain_America_(Steven_Rogers)</td>\n",
       "      <td>Public Identity</td>\n",
       "      <td>Good Characters</td>\n",
       "      <td>Blue Eyes</td>\n",
       "      <td>White Hair</td>\n",
       "      <td>Male Characters</td>\n",
       "      <td>NaN</td>\n",
       "      <td>Living Characters</td>\n",
       "      <td>3360.0</td>\n",
       "      <td>Mar-41</td>\n",
       "      <td>1941.0</td>\n",
       "    </tr>\n",
       "    <tr>\n",
       "      <th>Wolverine (James \\\"Logan\\\" Howlett)</th>\n",
       "      <td>Wolverine (James \\\"Logan\\\" Howlett)</td>\n",
       "      <td>\\/Wolverine_(James_%22Logan%22_Howlett)</td>\n",
       "      <td>Public Identity</td>\n",
       "      <td>Neutral Characters</td>\n",
       "      <td>Blue Eyes</td>\n",
       "      <td>Black Hair</td>\n",
       "      <td>Male Characters</td>\n",
       "      <td>NaN</td>\n",
       "      <td>Living Characters</td>\n",
       "      <td>3061.0</td>\n",
       "      <td>Oct-74</td>\n",
       "      <td>1974.0</td>\n",
       "    </tr>\n",
       "    <tr>\n",
       "      <th>Iron Man (Anthony \\\"Tony\\\" Stark)</th>\n",
       "      <td>Iron Man (Anthony \\\"Tony\\\" Stark)</td>\n",
       "      <td>\\/Iron_Man_(Anthony_%22Tony%22_Stark)</td>\n",
       "      <td>Public Identity</td>\n",
       "      <td>Good Characters</td>\n",
       "      <td>Blue Eyes</td>\n",
       "      <td>Black Hair</td>\n",
       "      <td>Male Characters</td>\n",
       "      <td>NaN</td>\n",
       "      <td>Living Characters</td>\n",
       "      <td>2961.0</td>\n",
       "      <td>Mar-63</td>\n",
       "      <td>1963.0</td>\n",
       "    </tr>\n",
       "    <tr>\n",
       "      <th>Thor (Thor Odinson)</th>\n",
       "      <td>Thor (Thor Odinson)</td>\n",
       "      <td>\\/Thor_(Thor_Odinson)</td>\n",
       "      <td>No Dual Identity</td>\n",
       "      <td>Good Characters</td>\n",
       "      <td>Blue Eyes</td>\n",
       "      <td>Blond Hair</td>\n",
       "      <td>Male Characters</td>\n",
       "      <td>NaN</td>\n",
       "      <td>Living Characters</td>\n",
       "      <td>2258.0</td>\n",
       "      <td>Nov-50</td>\n",
       "      <td>1950.0</td>\n",
       "    </tr>\n",
       "  </tbody>\n",
       "</table>\n",
       "</div>"
      ],
      "text/plain": [
       "                                                                    name  \\\n",
       "name                                                                       \n",
       "Spider-Man (Peter Parker)                      Spider-Man (Peter Parker)   \n",
       "Captain America (Steven Rogers)          Captain America (Steven Rogers)   \n",
       "Wolverine (James \\\"Logan\\\" Howlett)  Wolverine (James \\\"Logan\\\" Howlett)   \n",
       "Iron Man (Anthony \\\"Tony\\\" Stark)      Iron Man (Anthony \\\"Tony\\\" Stark)   \n",
       "Thor (Thor Odinson)                                  Thor (Thor Odinson)   \n",
       "\n",
       "                                                                     urlslug  \\\n",
       "name                                                                           \n",
       "Spider-Man (Peter Parker)                        \\/Spider-Man_(Peter_Parker)   \n",
       "Captain America (Steven Rogers)            \\/Captain_America_(Steven_Rogers)   \n",
       "Wolverine (James \\\"Logan\\\" Howlett)  \\/Wolverine_(James_%22Logan%22_Howlett)   \n",
       "Iron Man (Anthony \\\"Tony\\\" Stark)      \\/Iron_Man_(Anthony_%22Tony%22_Stark)   \n",
       "Thor (Thor Odinson)                                    \\/Thor_(Thor_Odinson)   \n",
       "\n",
       "                                                   ID               ALIGN  \\\n",
       "name                                                                        \n",
       "Spider-Man (Peter Parker)             Secret Identity     Good Characters   \n",
       "Captain America (Steven Rogers)       Public Identity     Good Characters   \n",
       "Wolverine (James \\\"Logan\\\" Howlett)   Public Identity  Neutral Characters   \n",
       "Iron Man (Anthony \\\"Tony\\\" Stark)     Public Identity     Good Characters   \n",
       "Thor (Thor Odinson)                  No Dual Identity     Good Characters   \n",
       "\n",
       "                                            EYE        HAIR              SEX  \\\n",
       "name                                                                           \n",
       "Spider-Man (Peter Parker)            Hazel Eyes  Brown Hair  Male Characters   \n",
       "Captain America (Steven Rogers)       Blue Eyes  White Hair  Male Characters   \n",
       "Wolverine (James \\\"Logan\\\" Howlett)   Blue Eyes  Black Hair  Male Characters   \n",
       "Iron Man (Anthony \\\"Tony\\\" Stark)     Blue Eyes  Black Hair  Male Characters   \n",
       "Thor (Thor Odinson)                   Blue Eyes  Blond Hair  Male Characters   \n",
       "\n",
       "                                     GSM              ALIVE  APPEARANCES  \\\n",
       "name                                                                       \n",
       "Spider-Man (Peter Parker)            NaN  Living Characters       4043.0   \n",
       "Captain America (Steven Rogers)      NaN  Living Characters       3360.0   \n",
       "Wolverine (James \\\"Logan\\\" Howlett)  NaN  Living Characters       3061.0   \n",
       "Iron Man (Anthony \\\"Tony\\\" Stark)    NaN  Living Characters       2961.0   \n",
       "Thor (Thor Odinson)                  NaN  Living Characters       2258.0   \n",
       "\n",
       "                                    FIRST APPEARANCE    Year  \n",
       "name                                                          \n",
       "Spider-Man (Peter Parker)                     Aug-62  1962.0  \n",
       "Captain America (Steven Rogers)               Mar-41  1941.0  \n",
       "Wolverine (James \\\"Logan\\\" Howlett)           Oct-74  1974.0  \n",
       "Iron Man (Anthony \\\"Tony\\\" Stark)             Mar-63  1963.0  \n",
       "Thor (Thor Odinson)                           Nov-50  1950.0  "
      ]
     },
     "execution_count": 70,
     "metadata": {},
     "output_type": "execute_result"
    }
   ],
   "source": [
    "hero_id = marvelDF.name\n",
    "marvelDF_newID = marvelDF.copy()\n",
    "marvelDF_newID.index = hero_id\n",
    "marvelDF_newID.head()"
   ]
  },
  {
   "cell_type": "code",
   "execution_count": 71,
   "metadata": {
    "slideshow": {
     "slide_type": "fragment"
    }
   },
   "outputs": [
    {
     "data": {
      "text/plain": [
       "True"
      ]
     },
     "execution_count": 71,
     "metadata": {},
     "output_type": "execute_result"
    }
   ],
   "source": [
    "marvelDF_newID.index.is_unique"
   ]
  },
  {
   "cell_type": "markdown",
   "metadata": {
    "slideshow": {
     "slide_type": "slide"
    }
   },
   "source": [
    "* We can create meaningful indices more easily using a hierarchical index.<br>\n",
    "<br>\n",
    "* For now, we will stick with the numeric IDs as our index for '__NewID__' DataFrame.<br>"
   ]
  },
  {
   "cell_type": "code",
   "execution_count": 72,
   "metadata": {
    "slideshow": {
     "slide_type": "fragment"
    }
   },
   "outputs": [
    {
     "data": {
      "text/html": [
       "<div>\n",
       "<style scoped>\n",
       "    .dataframe tbody tr th:only-of-type {\n",
       "        vertical-align: middle;\n",
       "    }\n",
       "\n",
       "    .dataframe tbody tr th {\n",
       "        vertical-align: top;\n",
       "    }\n",
       "\n",
       "    .dataframe thead th {\n",
       "        text-align: right;\n",
       "    }\n",
       "</style>\n",
       "<table border=\"1\" class=\"dataframe\">\n",
       "  <thead>\n",
       "    <tr style=\"text-align: right;\">\n",
       "      <th></th>\n",
       "      <th>name</th>\n",
       "      <th>urlslug</th>\n",
       "      <th>ID</th>\n",
       "      <th>ALIGN</th>\n",
       "      <th>EYE</th>\n",
       "      <th>HAIR</th>\n",
       "      <th>SEX</th>\n",
       "      <th>GSM</th>\n",
       "      <th>ALIVE</th>\n",
       "      <th>APPEARANCES</th>\n",
       "      <th>FIRST APPEARANCE</th>\n",
       "      <th>Year</th>\n",
       "    </tr>\n",
       "  </thead>\n",
       "  <tbody>\n",
       "    <tr>\n",
       "      <th>0</th>\n",
       "      <td>Spider-Man (Peter Parker)</td>\n",
       "      <td>\\/Spider-Man_(Peter_Parker)</td>\n",
       "      <td>Secret Identity</td>\n",
       "      <td>Good Characters</td>\n",
       "      <td>Hazel Eyes</td>\n",
       "      <td>Brown Hair</td>\n",
       "      <td>Male Characters</td>\n",
       "      <td>NaN</td>\n",
       "      <td>Living Characters</td>\n",
       "      <td>4043.0</td>\n",
       "      <td>Aug-62</td>\n",
       "      <td>1962.0</td>\n",
       "    </tr>\n",
       "    <tr>\n",
       "      <th>1</th>\n",
       "      <td>Captain America (Steven Rogers)</td>\n",
       "      <td>\\/Captain_America_(Steven_Rogers)</td>\n",
       "      <td>Public Identity</td>\n",
       "      <td>Good Characters</td>\n",
       "      <td>Blue Eyes</td>\n",
       "      <td>White Hair</td>\n",
       "      <td>Male Characters</td>\n",
       "      <td>NaN</td>\n",
       "      <td>Living Characters</td>\n",
       "      <td>3360.0</td>\n",
       "      <td>Mar-41</td>\n",
       "      <td>1941.0</td>\n",
       "    </tr>\n",
       "    <tr>\n",
       "      <th>2</th>\n",
       "      <td>Wolverine (James \\\"Logan\\\" Howlett)</td>\n",
       "      <td>\\/Wolverine_(James_%22Logan%22_Howlett)</td>\n",
       "      <td>Public Identity</td>\n",
       "      <td>Neutral Characters</td>\n",
       "      <td>Blue Eyes</td>\n",
       "      <td>Black Hair</td>\n",
       "      <td>Male Characters</td>\n",
       "      <td>NaN</td>\n",
       "      <td>Living Characters</td>\n",
       "      <td>3061.0</td>\n",
       "      <td>Oct-74</td>\n",
       "      <td>1974.0</td>\n",
       "    </tr>\n",
       "    <tr>\n",
       "      <th>3</th>\n",
       "      <td>Iron Man (Anthony \\\"Tony\\\" Stark)</td>\n",
       "      <td>\\/Iron_Man_(Anthony_%22Tony%22_Stark)</td>\n",
       "      <td>Public Identity</td>\n",
       "      <td>Good Characters</td>\n",
       "      <td>Blue Eyes</td>\n",
       "      <td>Black Hair</td>\n",
       "      <td>Male Characters</td>\n",
       "      <td>NaN</td>\n",
       "      <td>Living Characters</td>\n",
       "      <td>2961.0</td>\n",
       "      <td>Mar-63</td>\n",
       "      <td>1963.0</td>\n",
       "    </tr>\n",
       "    <tr>\n",
       "      <th>4</th>\n",
       "      <td>Thor (Thor Odinson)</td>\n",
       "      <td>\\/Thor_(Thor_Odinson)</td>\n",
       "      <td>No Dual Identity</td>\n",
       "      <td>Good Characters</td>\n",
       "      <td>Blue Eyes</td>\n",
       "      <td>Blond Hair</td>\n",
       "      <td>Male Characters</td>\n",
       "      <td>NaN</td>\n",
       "      <td>Living Characters</td>\n",
       "      <td>2258.0</td>\n",
       "      <td>Nov-50</td>\n",
       "      <td>1950.0</td>\n",
       "    </tr>\n",
       "  </tbody>\n",
       "</table>\n",
       "</div>"
      ],
      "text/plain": [
       "                                  name  \\\n",
       "0            Spider-Man (Peter Parker)   \n",
       "1      Captain America (Steven Rogers)   \n",
       "2  Wolverine (James \\\"Logan\\\" Howlett)   \n",
       "3    Iron Man (Anthony \\\"Tony\\\" Stark)   \n",
       "4                  Thor (Thor Odinson)   \n",
       "\n",
       "                                   urlslug                ID  \\\n",
       "0              \\/Spider-Man_(Peter_Parker)   Secret Identity   \n",
       "1        \\/Captain_America_(Steven_Rogers)   Public Identity   \n",
       "2  \\/Wolverine_(James_%22Logan%22_Howlett)   Public Identity   \n",
       "3    \\/Iron_Man_(Anthony_%22Tony%22_Stark)   Public Identity   \n",
       "4                    \\/Thor_(Thor_Odinson)  No Dual Identity   \n",
       "\n",
       "                ALIGN         EYE        HAIR              SEX  GSM  \\\n",
       "0     Good Characters  Hazel Eyes  Brown Hair  Male Characters  NaN   \n",
       "1     Good Characters   Blue Eyes  White Hair  Male Characters  NaN   \n",
       "2  Neutral Characters   Blue Eyes  Black Hair  Male Characters  NaN   \n",
       "3     Good Characters   Blue Eyes  Black Hair  Male Characters  NaN   \n",
       "4     Good Characters   Blue Eyes  Blond Hair  Male Characters  NaN   \n",
       "\n",
       "               ALIVE  APPEARANCES FIRST APPEARANCE    Year  \n",
       "0  Living Characters       4043.0           Aug-62  1962.0  \n",
       "1  Living Characters       3360.0           Mar-41  1941.0  \n",
       "2  Living Characters       3061.0           Oct-74  1974.0  \n",
       "3  Living Characters       2961.0           Mar-63  1963.0  \n",
       "4  Living Characters       2258.0           Nov-50  1950.0  "
      ]
     },
     "execution_count": 72,
     "metadata": {},
     "output_type": "execute_result"
    }
   ],
   "source": [
    "marvelDF_newID.index = range(16376)\n",
    "marvelDF.index = marvelDF['name']\n",
    "marvelDF_newID.head(5)"
   ]
  },
  {
   "cell_type": "markdown",
   "metadata": {
    "slideshow": {
     "slide_type": "slide"
    }
   },
   "source": [
    "### Manipulating indices"
   ]
  },
  {
   "cell_type": "markdown",
   "metadata": {
    "slideshow": {
     "slide_type": "fragment"
    }
   },
   "source": [
    "* __Reindexing__ allows users to manipulate the data labels in a DataFrame. <br>\n",
    "<br>\n",
    "* It forces a DataFrame to conform to the new index, and optionally, fill in missing data if requested.<br>\n",
    "<br>\n",
    "* A simple use of `reindex` is reverse the order of the rows:"
   ]
  },
  {
   "cell_type": "code",
   "execution_count": 73,
   "metadata": {
    "slideshow": {
     "slide_type": "fragment"
    }
   },
   "outputs": [
    {
     "data": {
      "text/html": [
       "<div>\n",
       "<style scoped>\n",
       "    .dataframe tbody tr th:only-of-type {\n",
       "        vertical-align: middle;\n",
       "    }\n",
       "\n",
       "    .dataframe tbody tr th {\n",
       "        vertical-align: top;\n",
       "    }\n",
       "\n",
       "    .dataframe thead th {\n",
       "        text-align: right;\n",
       "    }\n",
       "</style>\n",
       "<table border=\"1\" class=\"dataframe\">\n",
       "  <thead>\n",
       "    <tr style=\"text-align: right;\">\n",
       "      <th></th>\n",
       "      <th>name</th>\n",
       "      <th>urlslug</th>\n",
       "      <th>ID</th>\n",
       "      <th>ALIGN</th>\n",
       "      <th>EYE</th>\n",
       "      <th>HAIR</th>\n",
       "      <th>SEX</th>\n",
       "      <th>GSM</th>\n",
       "      <th>ALIVE</th>\n",
       "      <th>APPEARANCES</th>\n",
       "      <th>FIRST APPEARANCE</th>\n",
       "      <th>Year</th>\n",
       "    </tr>\n",
       "  </thead>\n",
       "  <tbody>\n",
       "    <tr>\n",
       "      <th>16375</th>\n",
       "      <td>Yologarch (Earth-616)</td>\n",
       "      <td>\\/Yologarch_(Earth-616)</td>\n",
       "      <td>NaN</td>\n",
       "      <td>Bad Characters</td>\n",
       "      <td>NaN</td>\n",
       "      <td>NaN</td>\n",
       "      <td>NaN</td>\n",
       "      <td>NaN</td>\n",
       "      <td>Living Characters</td>\n",
       "      <td>NaN</td>\n",
       "      <td>NaN</td>\n",
       "      <td>NaN</td>\n",
       "    </tr>\n",
       "    <tr>\n",
       "      <th>16374</th>\n",
       "      <td>TK421 (Spiderling) (Earth-616)</td>\n",
       "      <td>\\/TK421_(Spiderling)_(Earth-616)</td>\n",
       "      <td>Secret Identity</td>\n",
       "      <td>Neutral Characters</td>\n",
       "      <td>NaN</td>\n",
       "      <td>NaN</td>\n",
       "      <td>Male Characters</td>\n",
       "      <td>NaN</td>\n",
       "      <td>Living Characters</td>\n",
       "      <td>NaN</td>\n",
       "      <td>NaN</td>\n",
       "      <td>NaN</td>\n",
       "    </tr>\n",
       "    <tr>\n",
       "      <th>16373</th>\n",
       "      <td>Tinkerer (Skrull) (Earth-616)</td>\n",
       "      <td>\\/Tinkerer_(Skrull)_(Earth-616)</td>\n",
       "      <td>Secret Identity</td>\n",
       "      <td>Bad Characters</td>\n",
       "      <td>Black Eyes</td>\n",
       "      <td>Bald</td>\n",
       "      <td>Male Characters</td>\n",
       "      <td>NaN</td>\n",
       "      <td>Living Characters</td>\n",
       "      <td>NaN</td>\n",
       "      <td>NaN</td>\n",
       "      <td>NaN</td>\n",
       "    </tr>\n",
       "    <tr>\n",
       "      <th>16372</th>\n",
       "      <td>Thane (Thanos' son) (Earth-616)</td>\n",
       "      <td>\\/Thane_(Thanos%27_son)_(Earth-616)</td>\n",
       "      <td>No Dual Identity</td>\n",
       "      <td>Good Characters</td>\n",
       "      <td>Blue Eyes</td>\n",
       "      <td>Bald</td>\n",
       "      <td>Male Characters</td>\n",
       "      <td>NaN</td>\n",
       "      <td>Living Characters</td>\n",
       "      <td>NaN</td>\n",
       "      <td>NaN</td>\n",
       "      <td>NaN</td>\n",
       "    </tr>\n",
       "    <tr>\n",
       "      <th>16371</th>\n",
       "      <td>Ru'ach (Earth-616)</td>\n",
       "      <td>\\/Ru%27ach_(Earth-616)</td>\n",
       "      <td>No Dual Identity</td>\n",
       "      <td>Bad Characters</td>\n",
       "      <td>Green Eyes</td>\n",
       "      <td>No Hair</td>\n",
       "      <td>Male Characters</td>\n",
       "      <td>NaN</td>\n",
       "      <td>Living Characters</td>\n",
       "      <td>NaN</td>\n",
       "      <td>NaN</td>\n",
       "      <td>NaN</td>\n",
       "    </tr>\n",
       "  </tbody>\n",
       "</table>\n",
       "</div>"
      ],
      "text/plain": [
       "                                  name                              urlslug  \\\n",
       "16375            Yologarch (Earth-616)              \\/Yologarch_(Earth-616)   \n",
       "16374   TK421 (Spiderling) (Earth-616)     \\/TK421_(Spiderling)_(Earth-616)   \n",
       "16373    Tinkerer (Skrull) (Earth-616)      \\/Tinkerer_(Skrull)_(Earth-616)   \n",
       "16372  Thane (Thanos' son) (Earth-616)  \\/Thane_(Thanos%27_son)_(Earth-616)   \n",
       "16371               Ru'ach (Earth-616)               \\/Ru%27ach_(Earth-616)   \n",
       "\n",
       "                     ID               ALIGN         EYE     HAIR  \\\n",
       "16375               NaN      Bad Characters         NaN      NaN   \n",
       "16374   Secret Identity  Neutral Characters         NaN      NaN   \n",
       "16373   Secret Identity      Bad Characters  Black Eyes     Bald   \n",
       "16372  No Dual Identity     Good Characters   Blue Eyes     Bald   \n",
       "16371  No Dual Identity      Bad Characters  Green Eyes  No Hair   \n",
       "\n",
       "                   SEX  GSM              ALIVE  APPEARANCES FIRST APPEARANCE  \\\n",
       "16375              NaN  NaN  Living Characters          NaN              NaN   \n",
       "16374  Male Characters  NaN  Living Characters          NaN              NaN   \n",
       "16373  Male Characters  NaN  Living Characters          NaN              NaN   \n",
       "16372  Male Characters  NaN  Living Characters          NaN              NaN   \n",
       "16371  Male Characters  NaN  Living Characters          NaN              NaN   \n",
       "\n",
       "       Year  \n",
       "16375   NaN  \n",
       "16374   NaN  \n",
       "16373   NaN  \n",
       "16372   NaN  \n",
       "16371   NaN  "
      ]
     },
     "execution_count": 73,
     "metadata": {},
     "output_type": "execute_result"
    }
   ],
   "source": [
    "marvelDF_newID.reindex(marvelDF_newID.index[::-1]).head()"
   ]
  },
  {
   "cell_type": "markdown",
   "metadata": {
    "slideshow": {
     "slide_type": "fragment"
    }
   },
   "source": [
    "* Keep in mind that `reindex` does not work if we pass a non-unique index series."
   ]
  },
  {
   "cell_type": "markdown",
   "metadata": {
    "slideshow": {
     "slide_type": "slide"
    }
   },
   "source": [
    "* We can remove rows or columns via the `drop` method:"
   ]
  },
  {
   "cell_type": "code",
   "execution_count": 74,
   "metadata": {
    "slideshow": {
     "slide_type": "fragment"
    }
   },
   "outputs": [
    {
     "data": {
      "text/plain": [
       "(16376, 12)"
      ]
     },
     "execution_count": 74,
     "metadata": {},
     "output_type": "execute_result"
    }
   ],
   "source": [
    "marvelDF_newID.shape"
   ]
  },
  {
   "cell_type": "code",
   "execution_count": 75,
   "metadata": {
    "slideshow": {
     "slide_type": "fragment"
    }
   },
   "outputs": [],
   "source": [
    "marvelDF_dropped = marvelDF_newID.drop([16375, 16374])"
   ]
  },
  {
   "cell_type": "code",
   "execution_count": 76,
   "metadata": {
    "slideshow": {
     "slide_type": "fragment"
    }
   },
   "outputs": [
    {
     "name": "stdout",
     "output_type": "stream",
     "text": [
      "(16376, 12)\n",
      "(16374, 12)\n"
     ]
    }
   ],
   "source": [
    "print(marvelDF_newID.shape)\n",
    "print(marvelDF_dropped.shape)"
   ]
  },
  {
   "cell_type": "code",
   "execution_count": 77,
   "metadata": {
    "slideshow": {
     "slide_type": "fragment"
    }
   },
   "outputs": [],
   "source": [
    "marvelDF_dropped = marvelDF_newID.drop(['EYE','HAIR'], axis=1)"
   ]
  },
  {
   "cell_type": "code",
   "execution_count": 78,
   "metadata": {
    "slideshow": {
     "slide_type": "fragment"
    }
   },
   "outputs": [
    {
     "name": "stdout",
     "output_type": "stream",
     "text": [
      "(16376, 12)\n",
      "(16376, 10)\n"
     ]
    }
   ],
   "source": [
    "print(marvelDF_newID.shape)\n",
    "print(marvelDF_dropped.shape)"
   ]
  },
  {
   "cell_type": "markdown",
   "metadata": {
    "slideshow": {
     "slide_type": "slide"
    }
   },
   "source": [
    "## Indexing and Selection"
   ]
  },
  {
   "cell_type": "markdown",
   "metadata": {
    "slideshow": {
     "slide_type": "fragment"
    }
   },
   "source": [
    "* Indexing works like indexing in NumPy arrays, except we can use the labels in the `Index` object to extract values in addition to arrays of integers.<br>"
   ]
  },
  {
   "cell_type": "code",
   "execution_count": 79,
   "metadata": {
    "slideshow": {
     "slide_type": "fragment"
    }
   },
   "outputs": [
    {
     "data": {
      "text/plain": [
       "name\n",
       "Spider-Man (Peter Parker)              4043.0\n",
       "Captain America (Steven Rogers)        3360.0\n",
       "Wolverine (James \\\"Logan\\\" Howlett)    3061.0\n",
       "Iron Man (Anthony \\\"Tony\\\" Stark)      2961.0\n",
       "Thor (Thor Odinson)                    2258.0\n",
       "                                        ...  \n",
       "Ru'ach (Earth-616)                        NaN\n",
       "Thane (Thanos' son) (Earth-616)           NaN\n",
       "Tinkerer (Skrull) (Earth-616)             NaN\n",
       "TK421 (Spiderling) (Earth-616)            NaN\n",
       "Yologarch (Earth-616)                     NaN\n",
       "Name: APPEARANCES, Length: 16376, dtype: float64"
      ]
     },
     "execution_count": 79,
     "metadata": {},
     "output_type": "execute_result"
    }
   ],
   "source": [
    "heroAppearances = marvelDF.APPEARANCES\n",
    "heroAppearances"
   ]
  },
  {
   "cell_type": "markdown",
   "metadata": {
    "slideshow": {
     "slide_type": "slide"
    }
   },
   "source": [
    "* Let's start with Numpy style indexing:"
   ]
  },
  {
   "cell_type": "code",
   "execution_count": 80,
   "metadata": {
    "slideshow": {
     "slide_type": "fragment"
    }
   },
   "outputs": [
    {
     "data": {
      "text/plain": [
       "name\n",
       "Spider-Man (Peter Parker)              4043.0\n",
       "Captain America (Steven Rogers)        3360.0\n",
       "Wolverine (James \\\"Logan\\\" Howlett)    3061.0\n",
       "Name: APPEARANCES, dtype: float64"
      ]
     },
     "execution_count": 80,
     "metadata": {},
     "output_type": "execute_result"
    }
   ],
   "source": [
    "heroAppearances[:3]"
   ]
  },
  {
   "cell_type": "markdown",
   "metadata": {
    "slideshow": {
     "slide_type": "fragment"
    }
   },
   "source": [
    "* Indexing by Label:"
   ]
  },
  {
   "cell_type": "code",
   "execution_count": 81,
   "metadata": {
    "slideshow": {
     "slide_type": "fragment"
    }
   },
   "outputs": [
    {
     "data": {
      "text/plain": [
       "name\n",
       "Spider-Man (Peter Parker)     4043.0\n",
       "Hulk (Robert Bruce Banner)    2017.0\n",
       "Name: APPEARANCES, dtype: float64"
      ]
     },
     "execution_count": 81,
     "metadata": {},
     "output_type": "execute_result"
    }
   ],
   "source": [
    "heroAppearances[['Spider-Man (Peter Parker)','Hulk (Robert Bruce Banner)']]"
   ]
  },
  {
   "cell_type": "markdown",
   "metadata": {
    "slideshow": {
     "slide_type": "slide"
    }
   },
   "source": [
    "* We can also slice with data labels, since they have an intrinsic order within the Index:"
   ]
  },
  {
   "cell_type": "code",
   "execution_count": 82,
   "metadata": {
    "slideshow": {
     "slide_type": "fragment"
    }
   },
   "outputs": [
    {
     "data": {
      "text/plain": [
       "name\n",
       "Spider-Man (Peter Parker)              4043.0\n",
       "Captain America (Steven Rogers)        3360.0\n",
       "Wolverine (James \\\"Logan\\\" Howlett)    3061.0\n",
       "Iron Man (Anthony \\\"Tony\\\" Stark)      2961.0\n",
       "Thor (Thor Odinson)                    2258.0\n",
       "                                        ...  \n",
       "Susan Storm (Earth-616)                1713.0\n",
       "Namor McKenzie (Earth-616)             1528.0\n",
       "Ororo Munroe (Earth-616)               1512.0\n",
       "Clinton Barton (Earth-616)             1394.0\n",
       "Matthew Murdock (Earth-616)            1338.0\n",
       "Name: APPEARANCES, Length: 16, dtype: float64"
      ]
     },
     "execution_count": 82,
     "metadata": {},
     "output_type": "execute_result"
    }
   ],
   "source": [
    "heroAppearances['Spider-Man (Peter Parker)':'Matthew Murdock (Earth-616)']"
   ]
  },
  {
   "cell_type": "markdown",
   "metadata": {
    "slideshow": {
     "slide_type": "slide"
    }
   },
   "source": [
    "* You can change sliced array, and if you get warning it's ok.<br>"
   ]
  },
  {
   "cell_type": "code",
   "execution_count": 83,
   "metadata": {
    "slideshow": {
     "slide_type": "fragment"
    }
   },
   "outputs": [
    {
     "name": "stderr",
     "output_type": "stream",
     "text": [
      "/Users/alpyuzbasioglu/anaconda2/lib/python2.7/site-packages/ipykernel_launcher.py:1: SettingWithCopyWarning: \n",
      "A value is trying to be set on a copy of a slice from a DataFrame\n",
      "\n",
      "See the caveats in the documentation: http://pandas.pydata.org/pandas-docs/stable/indexing.html#indexing-view-versus-copy\n",
      "  \"\"\"Entry point for launching an IPython kernel.\n"
     ]
    },
    {
     "data": {
      "text/plain": [
       "name\n",
       "Spider-Man (Peter Parker)              4043.0\n",
       "Captain America (Steven Rogers)        3360.0\n",
       "Wolverine (James \\\"Logan\\\" Howlett)    3061.0\n",
       "Iron Man (Anthony \\\"Tony\\\" Stark)      2961.0\n",
       "Thor (Thor Odinson)                    2258.0\n",
       "                                        ...  \n",
       "Ru'ach (Earth-616)                        0.0\n",
       "Thane (Thanos' son) (Earth-616)           0.0\n",
       "Tinkerer (Skrull) (Earth-616)             0.0\n",
       "TK421 (Spiderling) (Earth-616)            0.0\n",
       "Yologarch (Earth-616)                     0.0\n",
       "Name: APPEARANCES, Length: 16376, dtype: float64"
      ]
     },
     "execution_count": 83,
     "metadata": {},
     "output_type": "execute_result"
    }
   ],
   "source": [
    "heroAppearances['Minister of Castile D\\'or (Earth-616)':'Yologarch (Earth-616)'] = 0\n",
    "heroAppearances"
   ]
  },
  {
   "cell_type": "markdown",
   "metadata": {
    "slideshow": {
     "slide_type": "slide"
    }
   },
   "source": [
    "* In a `DataFrame` we can slice along either or both axes:"
   ]
  },
  {
   "cell_type": "code",
   "execution_count": 84,
   "metadata": {
    "slideshow": {
     "slide_type": "fragment"
    }
   },
   "outputs": [
    {
     "data": {
      "text/html": [
       "<div>\n",
       "<style scoped>\n",
       "    .dataframe tbody tr th:only-of-type {\n",
       "        vertical-align: middle;\n",
       "    }\n",
       "\n",
       "    .dataframe tbody tr th {\n",
       "        vertical-align: top;\n",
       "    }\n",
       "\n",
       "    .dataframe thead th {\n",
       "        text-align: right;\n",
       "    }\n",
       "</style>\n",
       "<table border=\"1\" class=\"dataframe\">\n",
       "  <thead>\n",
       "    <tr style=\"text-align: right;\">\n",
       "      <th></th>\n",
       "      <th>SEX</th>\n",
       "      <th>ALIGN</th>\n",
       "    </tr>\n",
       "    <tr>\n",
       "      <th>name</th>\n",
       "      <th></th>\n",
       "      <th></th>\n",
       "    </tr>\n",
       "  </thead>\n",
       "  <tbody>\n",
       "    <tr>\n",
       "      <th>Spider-Man (Peter Parker)</th>\n",
       "      <td>Male Characters</td>\n",
       "      <td>Good Characters</td>\n",
       "    </tr>\n",
       "    <tr>\n",
       "      <th>Captain America (Steven Rogers)</th>\n",
       "      <td>Male Characters</td>\n",
       "      <td>Good Characters</td>\n",
       "    </tr>\n",
       "    <tr>\n",
       "      <th>Wolverine (James \\\"Logan\\\" Howlett)</th>\n",
       "      <td>Male Characters</td>\n",
       "      <td>Neutral Characters</td>\n",
       "    </tr>\n",
       "    <tr>\n",
       "      <th>Iron Man (Anthony \\\"Tony\\\" Stark)</th>\n",
       "      <td>Male Characters</td>\n",
       "      <td>Good Characters</td>\n",
       "    </tr>\n",
       "    <tr>\n",
       "      <th>Thor (Thor Odinson)</th>\n",
       "      <td>Male Characters</td>\n",
       "      <td>Good Characters</td>\n",
       "    </tr>\n",
       "    <tr>\n",
       "      <th>...</th>\n",
       "      <td>...</td>\n",
       "      <td>...</td>\n",
       "    </tr>\n",
       "    <tr>\n",
       "      <th>Ru'ach (Earth-616)</th>\n",
       "      <td>Male Characters</td>\n",
       "      <td>Bad Characters</td>\n",
       "    </tr>\n",
       "    <tr>\n",
       "      <th>Thane (Thanos' son) (Earth-616)</th>\n",
       "      <td>Male Characters</td>\n",
       "      <td>Good Characters</td>\n",
       "    </tr>\n",
       "    <tr>\n",
       "      <th>Tinkerer (Skrull) (Earth-616)</th>\n",
       "      <td>Male Characters</td>\n",
       "      <td>Bad Characters</td>\n",
       "    </tr>\n",
       "    <tr>\n",
       "      <th>TK421 (Spiderling) (Earth-616)</th>\n",
       "      <td>Male Characters</td>\n",
       "      <td>Neutral Characters</td>\n",
       "    </tr>\n",
       "    <tr>\n",
       "      <th>Yologarch (Earth-616)</th>\n",
       "      <td>NaN</td>\n",
       "      <td>Bad Characters</td>\n",
       "    </tr>\n",
       "  </tbody>\n",
       "</table>\n",
       "<p>16376 rows × 2 columns</p>\n",
       "</div>"
      ],
      "text/plain": [
       "                                                 SEX               ALIGN\n",
       "name                                                                    \n",
       "Spider-Man (Peter Parker)            Male Characters     Good Characters\n",
       "Captain America (Steven Rogers)      Male Characters     Good Characters\n",
       "Wolverine (James \\\"Logan\\\" Howlett)  Male Characters  Neutral Characters\n",
       "Iron Man (Anthony \\\"Tony\\\" Stark)    Male Characters     Good Characters\n",
       "Thor (Thor Odinson)                  Male Characters     Good Characters\n",
       "...                                              ...                 ...\n",
       "Ru'ach (Earth-616)                   Male Characters      Bad Characters\n",
       "Thane (Thanos' son) (Earth-616)      Male Characters     Good Characters\n",
       "Tinkerer (Skrull) (Earth-616)        Male Characters      Bad Characters\n",
       "TK421 (Spiderling) (Earth-616)       Male Characters  Neutral Characters\n",
       "Yologarch (Earth-616)                            NaN      Bad Characters\n",
       "\n",
       "[16376 rows x 2 columns]"
      ]
     },
     "execution_count": 84,
     "metadata": {},
     "output_type": "execute_result"
    }
   ],
   "source": [
    "marvelDF[['SEX','ALIGN']]"
   ]
  },
  {
   "cell_type": "code",
   "execution_count": 85,
   "metadata": {
    "slideshow": {
     "slide_type": "slide"
    }
   },
   "outputs": [
    {
     "data": {
      "text/html": [
       "<div>\n",
       "<style scoped>\n",
       "    .dataframe tbody tr th:only-of-type {\n",
       "        vertical-align: middle;\n",
       "    }\n",
       "\n",
       "    .dataframe tbody tr th {\n",
       "        vertical-align: top;\n",
       "    }\n",
       "\n",
       "    .dataframe thead th {\n",
       "        text-align: right;\n",
       "    }\n",
       "</style>\n",
       "<table border=\"1\" class=\"dataframe\">\n",
       "  <thead>\n",
       "    <tr style=\"text-align: right;\">\n",
       "      <th></th>\n",
       "      <th>name</th>\n",
       "      <th>urlslug</th>\n",
       "      <th>ID</th>\n",
       "      <th>ALIGN</th>\n",
       "      <th>EYE</th>\n",
       "      <th>HAIR</th>\n",
       "      <th>SEX</th>\n",
       "      <th>GSM</th>\n",
       "      <th>ALIVE</th>\n",
       "      <th>APPEARANCES</th>\n",
       "      <th>FIRST APPEARANCE</th>\n",
       "      <th>Year</th>\n",
       "    </tr>\n",
       "    <tr>\n",
       "      <th>name</th>\n",
       "      <th></th>\n",
       "      <th></th>\n",
       "      <th></th>\n",
       "      <th></th>\n",
       "      <th></th>\n",
       "      <th></th>\n",
       "      <th></th>\n",
       "      <th></th>\n",
       "      <th></th>\n",
       "      <th></th>\n",
       "      <th></th>\n",
       "      <th></th>\n",
       "    </tr>\n",
       "  </thead>\n",
       "  <tbody>\n",
       "    <tr>\n",
       "      <th>Spider-Man (Peter Parker)</th>\n",
       "      <td>Spider-Man (Peter Parker)</td>\n",
       "      <td>\\/Spider-Man_(Peter_Parker)</td>\n",
       "      <td>Secret Identity</td>\n",
       "      <td>Good Characters</td>\n",
       "      <td>Hazel Eyes</td>\n",
       "      <td>Brown Hair</td>\n",
       "      <td>Male Characters</td>\n",
       "      <td>NaN</td>\n",
       "      <td>Living Characters</td>\n",
       "      <td>4043.0</td>\n",
       "      <td>Aug-62</td>\n",
       "      <td>1962.0</td>\n",
       "    </tr>\n",
       "    <tr>\n",
       "      <th>Captain America (Steven Rogers)</th>\n",
       "      <td>Captain America (Steven Rogers)</td>\n",
       "      <td>\\/Captain_America_(Steven_Rogers)</td>\n",
       "      <td>Public Identity</td>\n",
       "      <td>Good Characters</td>\n",
       "      <td>Blue Eyes</td>\n",
       "      <td>White Hair</td>\n",
       "      <td>Male Characters</td>\n",
       "      <td>NaN</td>\n",
       "      <td>Living Characters</td>\n",
       "      <td>3360.0</td>\n",
       "      <td>Mar-41</td>\n",
       "      <td>1941.0</td>\n",
       "    </tr>\n",
       "    <tr>\n",
       "      <th>Wolverine (James \\\"Logan\\\" Howlett)</th>\n",
       "      <td>Wolverine (James \\\"Logan\\\" Howlett)</td>\n",
       "      <td>\\/Wolverine_(James_%22Logan%22_Howlett)</td>\n",
       "      <td>Public Identity</td>\n",
       "      <td>Neutral Characters</td>\n",
       "      <td>Blue Eyes</td>\n",
       "      <td>Black Hair</td>\n",
       "      <td>Male Characters</td>\n",
       "      <td>NaN</td>\n",
       "      <td>Living Characters</td>\n",
       "      <td>3061.0</td>\n",
       "      <td>Oct-74</td>\n",
       "      <td>1974.0</td>\n",
       "    </tr>\n",
       "    <tr>\n",
       "      <th>Iron Man (Anthony \\\"Tony\\\" Stark)</th>\n",
       "      <td>Iron Man (Anthony \\\"Tony\\\" Stark)</td>\n",
       "      <td>\\/Iron_Man_(Anthony_%22Tony%22_Stark)</td>\n",
       "      <td>Public Identity</td>\n",
       "      <td>Good Characters</td>\n",
       "      <td>Blue Eyes</td>\n",
       "      <td>Black Hair</td>\n",
       "      <td>Male Characters</td>\n",
       "      <td>NaN</td>\n",
       "      <td>Living Characters</td>\n",
       "      <td>2961.0</td>\n",
       "      <td>Mar-63</td>\n",
       "      <td>1963.0</td>\n",
       "    </tr>\n",
       "    <tr>\n",
       "      <th>Thor (Thor Odinson)</th>\n",
       "      <td>Thor (Thor Odinson)</td>\n",
       "      <td>\\/Thor_(Thor_Odinson)</td>\n",
       "      <td>No Dual Identity</td>\n",
       "      <td>Good Characters</td>\n",
       "      <td>Blue Eyes</td>\n",
       "      <td>Blond Hair</td>\n",
       "      <td>Male Characters</td>\n",
       "      <td>NaN</td>\n",
       "      <td>Living Characters</td>\n",
       "      <td>2258.0</td>\n",
       "      <td>Nov-50</td>\n",
       "      <td>1950.0</td>\n",
       "    </tr>\n",
       "    <tr>\n",
       "      <th>...</th>\n",
       "      <td>...</td>\n",
       "      <td>...</td>\n",
       "      <td>...</td>\n",
       "      <td>...</td>\n",
       "      <td>...</td>\n",
       "      <td>...</td>\n",
       "      <td>...</td>\n",
       "      <td>...</td>\n",
       "      <td>...</td>\n",
       "      <td>...</td>\n",
       "      <td>...</td>\n",
       "      <td>...</td>\n",
       "    </tr>\n",
       "    <tr>\n",
       "      <th>Joshua Guthrie (Earth-616)</th>\n",
       "      <td>Joshua Guthrie (Earth-616)</td>\n",
       "      <td>\\/Joshua_Guthrie_(Earth-616)</td>\n",
       "      <td>Secret Identity</td>\n",
       "      <td>Good Characters</td>\n",
       "      <td>Green Eyes</td>\n",
       "      <td>Red Hair</td>\n",
       "      <td>Male Characters</td>\n",
       "      <td>NaN</td>\n",
       "      <td>Deceased Characters</td>\n",
       "      <td>51.0</td>\n",
       "      <td>Nov-84</td>\n",
       "      <td>1984.0</td>\n",
       "    </tr>\n",
       "    <tr>\n",
       "      <th>Antonio Rodriguez (Earth-616)</th>\n",
       "      <td>Antonio Rodriguez (Earth-616)</td>\n",
       "      <td>\\/Antonio_Rodriguez_(Earth-616)</td>\n",
       "      <td>Secret Identity</td>\n",
       "      <td>Neutral Characters</td>\n",
       "      <td>Brown Eyes</td>\n",
       "      <td>No Hair</td>\n",
       "      <td>Male Characters</td>\n",
       "      <td>NaN</td>\n",
       "      <td>Living Characters</td>\n",
       "      <td>51.0</td>\n",
       "      <td>Aug-85</td>\n",
       "      <td>1985.0</td>\n",
       "    </tr>\n",
       "    <tr>\n",
       "      <th>Jack Hammer (Earth-616)</th>\n",
       "      <td>Jack Hammer (Earth-616)</td>\n",
       "      <td>\\/Jack_Hammer_(Earth-616)</td>\n",
       "      <td>Secret Identity</td>\n",
       "      <td>Neutral Characters</td>\n",
       "      <td>Brown Eyes</td>\n",
       "      <td>Black Hair</td>\n",
       "      <td>Male Characters</td>\n",
       "      <td>NaN</td>\n",
       "      <td>Living Characters</td>\n",
       "      <td>51.0</td>\n",
       "      <td>Aug-93</td>\n",
       "      <td>1993.0</td>\n",
       "    </tr>\n",
       "    <tr>\n",
       "      <th>Neal Shaara (Earth-616)</th>\n",
       "      <td>Neal Shaara (Earth-616)</td>\n",
       "      <td>\\/Neal_Shaara_(Earth-616)</td>\n",
       "      <td>Secret Identity</td>\n",
       "      <td>Good Characters</td>\n",
       "      <td>Brown Eyes</td>\n",
       "      <td>Black Hair</td>\n",
       "      <td>Male Characters</td>\n",
       "      <td>NaN</td>\n",
       "      <td>Living Characters</td>\n",
       "      <td>51.0</td>\n",
       "      <td>May-00</td>\n",
       "      <td>2000.0</td>\n",
       "    </tr>\n",
       "    <tr>\n",
       "      <th>John Jonah Jameson, Sr. (Earth-616)</th>\n",
       "      <td>John Jonah Jameson, Sr. (Earth-616)</td>\n",
       "      <td>\\/John_Jonah_Jameson,_Sr._(Earth-616)</td>\n",
       "      <td>No Dual Identity</td>\n",
       "      <td>Good Characters</td>\n",
       "      <td>Brown Eyes</td>\n",
       "      <td>White Hair</td>\n",
       "      <td>Male Characters</td>\n",
       "      <td>NaN</td>\n",
       "      <td>Living Characters</td>\n",
       "      <td>51.0</td>\n",
       "      <td>Jan-09</td>\n",
       "      <td>2009.0</td>\n",
       "    </tr>\n",
       "  </tbody>\n",
       "</table>\n",
       "<p>735 rows × 12 columns</p>\n",
       "</div>"
      ],
      "text/plain": [
       "                                                                    name  \\\n",
       "name                                                                       \n",
       "Spider-Man (Peter Parker)                      Spider-Man (Peter Parker)   \n",
       "Captain America (Steven Rogers)          Captain America (Steven Rogers)   \n",
       "Wolverine (James \\\"Logan\\\" Howlett)  Wolverine (James \\\"Logan\\\" Howlett)   \n",
       "Iron Man (Anthony \\\"Tony\\\" Stark)      Iron Man (Anthony \\\"Tony\\\" Stark)   \n",
       "Thor (Thor Odinson)                                  Thor (Thor Odinson)   \n",
       "...                                                                  ...   \n",
       "Joshua Guthrie (Earth-616)                    Joshua Guthrie (Earth-616)   \n",
       "Antonio Rodriguez (Earth-616)              Antonio Rodriguez (Earth-616)   \n",
       "Jack Hammer (Earth-616)                          Jack Hammer (Earth-616)   \n",
       "Neal Shaara (Earth-616)                          Neal Shaara (Earth-616)   \n",
       "John Jonah Jameson, Sr. (Earth-616)  John Jonah Jameson, Sr. (Earth-616)   \n",
       "\n",
       "                                                                     urlslug  \\\n",
       "name                                                                           \n",
       "Spider-Man (Peter Parker)                        \\/Spider-Man_(Peter_Parker)   \n",
       "Captain America (Steven Rogers)            \\/Captain_America_(Steven_Rogers)   \n",
       "Wolverine (James \\\"Logan\\\" Howlett)  \\/Wolverine_(James_%22Logan%22_Howlett)   \n",
       "Iron Man (Anthony \\\"Tony\\\" Stark)      \\/Iron_Man_(Anthony_%22Tony%22_Stark)   \n",
       "Thor (Thor Odinson)                                    \\/Thor_(Thor_Odinson)   \n",
       "...                                                                      ...   \n",
       "Joshua Guthrie (Earth-616)                      \\/Joshua_Guthrie_(Earth-616)   \n",
       "Antonio Rodriguez (Earth-616)                \\/Antonio_Rodriguez_(Earth-616)   \n",
       "Jack Hammer (Earth-616)                            \\/Jack_Hammer_(Earth-616)   \n",
       "Neal Shaara (Earth-616)                            \\/Neal_Shaara_(Earth-616)   \n",
       "John Jonah Jameson, Sr. (Earth-616)    \\/John_Jonah_Jameson,_Sr._(Earth-616)   \n",
       "\n",
       "                                                   ID               ALIGN  \\\n",
       "name                                                                        \n",
       "Spider-Man (Peter Parker)             Secret Identity     Good Characters   \n",
       "Captain America (Steven Rogers)       Public Identity     Good Characters   \n",
       "Wolverine (James \\\"Logan\\\" Howlett)   Public Identity  Neutral Characters   \n",
       "Iron Man (Anthony \\\"Tony\\\" Stark)     Public Identity     Good Characters   \n",
       "Thor (Thor Odinson)                  No Dual Identity     Good Characters   \n",
       "...                                               ...                 ...   \n",
       "Joshua Guthrie (Earth-616)            Secret Identity     Good Characters   \n",
       "Antonio Rodriguez (Earth-616)         Secret Identity  Neutral Characters   \n",
       "Jack Hammer (Earth-616)               Secret Identity  Neutral Characters   \n",
       "Neal Shaara (Earth-616)               Secret Identity     Good Characters   \n",
       "John Jonah Jameson, Sr. (Earth-616)  No Dual Identity     Good Characters   \n",
       "\n",
       "                                            EYE        HAIR              SEX  \\\n",
       "name                                                                           \n",
       "Spider-Man (Peter Parker)            Hazel Eyes  Brown Hair  Male Characters   \n",
       "Captain America (Steven Rogers)       Blue Eyes  White Hair  Male Characters   \n",
       "Wolverine (James \\\"Logan\\\" Howlett)   Blue Eyes  Black Hair  Male Characters   \n",
       "Iron Man (Anthony \\\"Tony\\\" Stark)     Blue Eyes  Black Hair  Male Characters   \n",
       "Thor (Thor Odinson)                   Blue Eyes  Blond Hair  Male Characters   \n",
       "...                                         ...         ...              ...   \n",
       "Joshua Guthrie (Earth-616)           Green Eyes    Red Hair  Male Characters   \n",
       "Antonio Rodriguez (Earth-616)        Brown Eyes     No Hair  Male Characters   \n",
       "Jack Hammer (Earth-616)              Brown Eyes  Black Hair  Male Characters   \n",
       "Neal Shaara (Earth-616)              Brown Eyes  Black Hair  Male Characters   \n",
       "John Jonah Jameson, Sr. (Earth-616)  Brown Eyes  White Hair  Male Characters   \n",
       "\n",
       "                                     GSM                ALIVE  APPEARANCES  \\\n",
       "name                                                                         \n",
       "Spider-Man (Peter Parker)            NaN    Living Characters       4043.0   \n",
       "Captain America (Steven Rogers)      NaN    Living Characters       3360.0   \n",
       "Wolverine (James \\\"Logan\\\" Howlett)  NaN    Living Characters       3061.0   \n",
       "Iron Man (Anthony \\\"Tony\\\" Stark)    NaN    Living Characters       2961.0   \n",
       "Thor (Thor Odinson)                  NaN    Living Characters       2258.0   \n",
       "...                                  ...                  ...          ...   \n",
       "Joshua Guthrie (Earth-616)           NaN  Deceased Characters         51.0   \n",
       "Antonio Rodriguez (Earth-616)        NaN    Living Characters         51.0   \n",
       "Jack Hammer (Earth-616)              NaN    Living Characters         51.0   \n",
       "Neal Shaara (Earth-616)              NaN    Living Characters         51.0   \n",
       "John Jonah Jameson, Sr. (Earth-616)  NaN    Living Characters         51.0   \n",
       "\n",
       "                                    FIRST APPEARANCE    Year  \n",
       "name                                                          \n",
       "Spider-Man (Peter Parker)                     Aug-62  1962.0  \n",
       "Captain America (Steven Rogers)               Mar-41  1941.0  \n",
       "Wolverine (James \\\"Logan\\\" Howlett)           Oct-74  1974.0  \n",
       "Iron Man (Anthony \\\"Tony\\\" Stark)             Mar-63  1963.0  \n",
       "Thor (Thor Odinson)                           Nov-50  1950.0  \n",
       "...                                              ...     ...  \n",
       "Joshua Guthrie (Earth-616)                    Nov-84  1984.0  \n",
       "Antonio Rodriguez (Earth-616)                 Aug-85  1985.0  \n",
       "Jack Hammer (Earth-616)                       Aug-93  1993.0  \n",
       "Neal Shaara (Earth-616)                       May-00  2000.0  \n",
       "John Jonah Jameson, Sr. (Earth-616)           Jan-09  2009.0  \n",
       "\n",
       "[735 rows x 12 columns]"
      ]
     },
     "execution_count": 85,
     "metadata": {},
     "output_type": "execute_result"
    }
   ],
   "source": [
    "mask = marvelDF.APPEARANCES>50\n",
    "marvelDF[mask]"
   ]
  },
  {
   "cell_type": "markdown",
   "metadata": {
    "slideshow": {
     "slide_type": "slide"
    }
   },
   "source": [
    "* The indexing field `loc` allows us to select subsets of rows and columns in an intuitive way:"
   ]
  },
  {
   "cell_type": "code",
   "execution_count": 86,
   "metadata": {
    "slideshow": {
     "slide_type": "fragment"
    }
   },
   "outputs": [
    {
     "data": {
      "text/plain": [
       "ID      Secret Identity\n",
       "EYE          Hazel Eyes\n",
       "HAIR         Brown Hair\n",
       "Name: Spider-Man (Peter Parker), dtype: object"
      ]
     },
     "execution_count": 86,
     "metadata": {},
     "output_type": "execute_result"
    }
   ],
   "source": [
    "marvelDF.loc['Spider-Man (Peter Parker)', ['ID', 'EYE', 'HAIR']]"
   ]
  },
  {
   "cell_type": "code",
   "execution_count": 87,
   "metadata": {
    "slideshow": {
     "slide_type": "fragment"
    }
   },
   "outputs": [
    {
     "data": {
      "text/html": [
       "<div>\n",
       "<style scoped>\n",
       "    .dataframe tbody tr th:only-of-type {\n",
       "        vertical-align: middle;\n",
       "    }\n",
       "\n",
       "    .dataframe tbody tr th {\n",
       "        vertical-align: top;\n",
       "    }\n",
       "\n",
       "    .dataframe thead th {\n",
       "        text-align: right;\n",
       "    }\n",
       "</style>\n",
       "<table border=\"1\" class=\"dataframe\">\n",
       "  <thead>\n",
       "    <tr style=\"text-align: right;\">\n",
       "      <th></th>\n",
       "      <th>ID</th>\n",
       "      <th>EYE</th>\n",
       "      <th>HAIR</th>\n",
       "    </tr>\n",
       "    <tr>\n",
       "      <th>name</th>\n",
       "      <th></th>\n",
       "      <th></th>\n",
       "      <th></th>\n",
       "    </tr>\n",
       "  </thead>\n",
       "  <tbody>\n",
       "    <tr>\n",
       "      <th>Spider-Man (Peter Parker)</th>\n",
       "      <td>Secret Identity</td>\n",
       "      <td>Hazel Eyes</td>\n",
       "      <td>Brown Hair</td>\n",
       "    </tr>\n",
       "    <tr>\n",
       "      <th>Thor (Thor Odinson)</th>\n",
       "      <td>No Dual Identity</td>\n",
       "      <td>Blue Eyes</td>\n",
       "      <td>Blond Hair</td>\n",
       "    </tr>\n",
       "  </tbody>\n",
       "</table>\n",
       "</div>"
      ],
      "text/plain": [
       "                                         ID         EYE        HAIR\n",
       "name                                                               \n",
       "Spider-Man (Peter Parker)   Secret Identity  Hazel Eyes  Brown Hair\n",
       "Thor (Thor Odinson)        No Dual Identity   Blue Eyes  Blond Hair"
      ]
     },
     "execution_count": 87,
     "metadata": {},
     "output_type": "execute_result"
    }
   ],
   "source": [
    "marvelDF.loc[['Spider-Man (Peter Parker)','Thor (Thor Odinson)'],['ID', 'EYE', 'HAIR']]"
   ]
  },
  {
   "cell_type": "markdown",
   "metadata": {
    "slideshow": {
     "slide_type": "slide"
    }
   },
   "source": [
    "## Operations"
   ]
  },
  {
   "cell_type": "markdown",
   "metadata": {
    "slideshow": {
     "slide_type": "slide"
    }
   },
   "source": [
    "* `DataFrame` and `Series` objects allow for several operations to take place either on a single object, or between two or more objects.<br>\n",
    "<br>\n",
    "* For example, we can perform arithmetic on the elements of two objects, such as change in population across years:"
   ]
  },
  {
   "cell_type": "code",
   "execution_count": 88,
   "metadata": {
    "slideshow": {
     "slide_type": "fragment"
    }
   },
   "outputs": [
    {
     "data": {
      "text/html": [
       "<div>\n",
       "<style scoped>\n",
       "    .dataframe tbody tr th:only-of-type {\n",
       "        vertical-align: middle;\n",
       "    }\n",
       "\n",
       "    .dataframe tbody tr th {\n",
       "        vertical-align: top;\n",
       "    }\n",
       "\n",
       "    .dataframe thead th {\n",
       "        text-align: right;\n",
       "    }\n",
       "</style>\n",
       "<table border=\"1\" class=\"dataframe\">\n",
       "  <thead>\n",
       "    <tr style=\"text-align: right;\">\n",
       "      <th></th>\n",
       "      <th>2000</th>\n",
       "      <th>2001</th>\n",
       "      <th>2002</th>\n",
       "      <th>2003</th>\n",
       "      <th>2004</th>\n",
       "      <th>2005</th>\n",
       "      <th>...</th>\n",
       "      <th>2012</th>\n",
       "      <th>2013</th>\n",
       "      <th>2014</th>\n",
       "      <th>2015</th>\n",
       "      <th>2016</th>\n",
       "      <th>2017</th>\n",
       "    </tr>\n",
       "    <tr>\n",
       "      <th>Provinces</th>\n",
       "      <th></th>\n",
       "      <th></th>\n",
       "      <th></th>\n",
       "      <th></th>\n",
       "      <th></th>\n",
       "      <th></th>\n",
       "      <th></th>\n",
       "      <th></th>\n",
       "      <th></th>\n",
       "      <th></th>\n",
       "      <th></th>\n",
       "      <th></th>\n",
       "      <th></th>\n",
       "    </tr>\n",
       "  </thead>\n",
       "  <tbody>\n",
       "    <tr>\n",
       "      <th>Total</th>\n",
       "      <td>64729501</td>\n",
       "      <td>65603160</td>\n",
       "      <td>66401851</td>\n",
       "      <td>67187251</td>\n",
       "      <td>68010215</td>\n",
       "      <td>68860539</td>\n",
       "      <td>...</td>\n",
       "      <td>75627384</td>\n",
       "      <td>76667864</td>\n",
       "      <td>77695904</td>\n",
       "      <td>78741053</td>\n",
       "      <td>79814871</td>\n",
       "      <td>80810525</td>\n",
       "    </tr>\n",
       "    <tr>\n",
       "      <th>Adana</th>\n",
       "      <td>1879695</td>\n",
       "      <td>1899324</td>\n",
       "      <td>1916637</td>\n",
       "      <td>1933428</td>\n",
       "      <td>1951142</td>\n",
       "      <td>1969512</td>\n",
       "      <td>...</td>\n",
       "      <td>2125635</td>\n",
       "      <td>2149260</td>\n",
       "      <td>2165595</td>\n",
       "      <td>2183167</td>\n",
       "      <td>2201670</td>\n",
       "      <td>2216475</td>\n",
       "    </tr>\n",
       "    <tr>\n",
       "      <th>Adıyaman</th>\n",
       "      <td>568432</td>\n",
       "      <td>571180</td>\n",
       "      <td>573149</td>\n",
       "      <td>574886</td>\n",
       "      <td>576808</td>\n",
       "      <td>578852</td>\n",
       "      <td>...</td>\n",
       "      <td>595261</td>\n",
       "      <td>597184</td>\n",
       "      <td>597835</td>\n",
       "      <td>602774</td>\n",
       "      <td>610484</td>\n",
       "      <td>615076</td>\n",
       "    </tr>\n",
       "    <tr>\n",
       "      <th>Afyonkarahisar</th>\n",
       "      <td>696292</td>\n",
       "      <td>698029</td>\n",
       "      <td>698773</td>\n",
       "      <td>699193</td>\n",
       "      <td>699794</td>\n",
       "      <td>700502</td>\n",
       "      <td>...</td>\n",
       "      <td>703948</td>\n",
       "      <td>707123</td>\n",
       "      <td>706371</td>\n",
       "      <td>709015</td>\n",
       "      <td>714523</td>\n",
       "      <td>715693</td>\n",
       "    </tr>\n",
       "    <tr>\n",
       "      <th>Ağrı</th>\n",
       "      <td>519190</td>\n",
       "      <td>521514</td>\n",
       "      <td>523123</td>\n",
       "      <td>524514</td>\n",
       "      <td>526070</td>\n",
       "      <td>527732</td>\n",
       "      <td>...</td>\n",
       "      <td>552404</td>\n",
       "      <td>551177</td>\n",
       "      <td>549435</td>\n",
       "      <td>547210</td>\n",
       "      <td>542255</td>\n",
       "      <td>536285</td>\n",
       "    </tr>\n",
       "    <tr>\n",
       "      <th>...</th>\n",
       "      <td>...</td>\n",
       "      <td>...</td>\n",
       "      <td>...</td>\n",
       "      <td>...</td>\n",
       "      <td>...</td>\n",
       "      <td>...</td>\n",
       "      <td>...</td>\n",
       "      <td>...</td>\n",
       "      <td>...</td>\n",
       "      <td>...</td>\n",
       "      <td>...</td>\n",
       "      <td>...</td>\n",
       "      <td>...</td>\n",
       "    </tr>\n",
       "    <tr>\n",
       "      <th>Yalova</th>\n",
       "      <td>144923</td>\n",
       "      <td>150027</td>\n",
       "      <td>155041</td>\n",
       "      <td>160099</td>\n",
       "      <td>165333</td>\n",
       "      <td>170705</td>\n",
       "      <td>...</td>\n",
       "      <td>211799</td>\n",
       "      <td>220122</td>\n",
       "      <td>226514</td>\n",
       "      <td>233009</td>\n",
       "      <td>241665</td>\n",
       "      <td>251203</td>\n",
       "    </tr>\n",
       "    <tr>\n",
       "      <th>Karabük</th>\n",
       "      <td>205172</td>\n",
       "      <td>207241</td>\n",
       "      <td>209056</td>\n",
       "      <td>210812</td>\n",
       "      <td>212667</td>\n",
       "      <td>214591</td>\n",
       "      <td>...</td>\n",
       "      <td>225145</td>\n",
       "      <td>230251</td>\n",
       "      <td>231333</td>\n",
       "      <td>236978</td>\n",
       "      <td>242347</td>\n",
       "      <td>244453</td>\n",
       "    </tr>\n",
       "    <tr>\n",
       "      <th>Kilis</th>\n",
       "      <td>109698</td>\n",
       "      <td>111024</td>\n",
       "      <td>112219</td>\n",
       "      <td>113387</td>\n",
       "      <td>114615</td>\n",
       "      <td>115886</td>\n",
       "      <td>...</td>\n",
       "      <td>124320</td>\n",
       "      <td>128586</td>\n",
       "      <td>128781</td>\n",
       "      <td>130655</td>\n",
       "      <td>130825</td>\n",
       "      <td>136319</td>\n",
       "    </tr>\n",
       "    <tr>\n",
       "      <th>Osmaniye</th>\n",
       "      <td>411163</td>\n",
       "      <td>417418</td>\n",
       "      <td>423214</td>\n",
       "      <td>428943</td>\n",
       "      <td>434930</td>\n",
       "      <td>441108</td>\n",
       "      <td>...</td>\n",
       "      <td>492135</td>\n",
       "      <td>498981</td>\n",
       "      <td>506807</td>\n",
       "      <td>512873</td>\n",
       "      <td>522175</td>\n",
       "      <td>527724</td>\n",
       "    </tr>\n",
       "    <tr>\n",
       "      <th>Düzce</th>\n",
       "      <td>296712</td>\n",
       "      <td>300686</td>\n",
       "      <td>304316</td>\n",
       "      <td>307884</td>\n",
       "      <td>311623</td>\n",
       "      <td>315487</td>\n",
       "      <td>...</td>\n",
       "      <td>346493</td>\n",
       "      <td>351509</td>\n",
       "      <td>355549</td>\n",
       "      <td>360388</td>\n",
       "      <td>370371</td>\n",
       "      <td>377610</td>\n",
       "    </tr>\n",
       "  </tbody>\n",
       "</table>\n",
       "<p>82 rows × 18 columns</p>\n",
       "</div>"
      ],
      "text/plain": [
       "                    2000      2001      2002      2003      2004      2005  \\\n",
       "Provinces                                                                    \n",
       "Total           64729501  65603160  66401851  67187251  68010215  68860539   \n",
       "Adana            1879695   1899324   1916637   1933428   1951142   1969512   \n",
       "Adıyaman          568432    571180    573149    574886    576808    578852   \n",
       "Afyonkarahisar    696292    698029    698773    699193    699794    700502   \n",
       "Ağrı              519190    521514    523123    524514    526070    527732   \n",
       "...                  ...       ...       ...       ...       ...       ...   \n",
       "Yalova            144923    150027    155041    160099    165333    170705   \n",
       "Karabük           205172    207241    209056    210812    212667    214591   \n",
       "Kilis             109698    111024    112219    113387    114615    115886   \n",
       "Osmaniye          411163    417418    423214    428943    434930    441108   \n",
       "Düzce             296712    300686    304316    307884    311623    315487   \n",
       "\n",
       "                  ...         2012      2013      2014      2015      2016  \\\n",
       "Provinces         ...                                                        \n",
       "Total             ...     75627384  76667864  77695904  78741053  79814871   \n",
       "Adana             ...      2125635   2149260   2165595   2183167   2201670   \n",
       "Adıyaman          ...       595261    597184    597835    602774    610484   \n",
       "Afyonkarahisar    ...       703948    707123    706371    709015    714523   \n",
       "Ağrı              ...       552404    551177    549435    547210    542255   \n",
       "...               ...          ...       ...       ...       ...       ...   \n",
       "Yalova            ...       211799    220122    226514    233009    241665   \n",
       "Karabük           ...       225145    230251    231333    236978    242347   \n",
       "Kilis             ...       124320    128586    128781    130655    130825   \n",
       "Osmaniye          ...       492135    498981    506807    512873    522175   \n",
       "Düzce             ...       346493    351509    355549    360388    370371   \n",
       "\n",
       "                    2017  \n",
       "Provinces                 \n",
       "Total           80810525  \n",
       "Adana            2216475  \n",
       "Adıyaman          615076  \n",
       "Afyonkarahisar    715693  \n",
       "Ağrı              536285  \n",
       "...                  ...  \n",
       "Yalova            251203  \n",
       "Karabük           244453  \n",
       "Kilis             136319  \n",
       "Osmaniye          527724  \n",
       "Düzce             377610  \n",
       "\n",
       "[82 rows x 18 columns]"
      ]
     },
     "execution_count": 88,
     "metadata": {},
     "output_type": "execute_result"
    }
   ],
   "source": [
    "populationDF"
   ]
  },
  {
   "cell_type": "code",
   "execution_count": 89,
   "metadata": {
    "slideshow": {
     "slide_type": "slide"
    }
   },
   "outputs": [],
   "source": [
    "pop2000 = populationDF['2000']\n",
    "pop2017 = populationDF['2017']"
   ]
  },
  {
   "cell_type": "code",
   "execution_count": 90,
   "metadata": {
    "slideshow": {
     "slide_type": "fragment"
    }
   },
   "outputs": [],
   "source": [
    "pop2000DF = pd.Series(pop2000.values, index=populationDF.index)\n",
    "pop2017DF = pd.Series(pop2017.values, index=populationDF.index)"
   ]
  },
  {
   "cell_type": "code",
   "execution_count": 91,
   "metadata": {
    "scrolled": true,
    "slideshow": {
     "slide_type": "fragment"
    }
   },
   "outputs": [
    {
     "data": {
      "text/plain": [
       "Provinces\n",
       "Total             16081024\n",
       "Adana               336780\n",
       "Adıyaman             46644\n",
       "Afyonkarahisar       19401\n",
       "Ağrı                 17095\n",
       "                    ...   \n",
       "Yalova              106280\n",
       "Karabük              39281\n",
       "Kilis                26621\n",
       "Osmaniye            116561\n",
       "Düzce                80898\n",
       "Length: 82, dtype: int64"
      ]
     },
     "execution_count": 91,
     "metadata": {},
     "output_type": "execute_result"
    }
   ],
   "source": [
    "popDiff = pop2017DF - pop2000DF\n",
    "popDiff"
   ]
  },
  {
   "cell_type": "markdown",
   "metadata": {
    "slideshow": {
     "slide_type": "slide"
    }
   },
   "source": [
    "* Let's assume our '__pop2000DF__' DataFrame has not row which index is \"Yalova\""
   ]
  },
  {
   "cell_type": "code",
   "execution_count": 92,
   "metadata": {
    "slideshow": {
     "slide_type": "fragment"
    }
   },
   "outputs": [
    {
     "data": {
      "text/plain": [
       "Provinces\n",
       "Total             64729501.0\n",
       "Adana              1879695.0\n",
       "Adıyaman            568432.0\n",
       "Afyonkarahisar      696292.0\n",
       "Ağrı                519190.0\n",
       "                     ...    \n",
       "Yalova                   NaN\n",
       "Karabük             205172.0\n",
       "Kilis               109698.0\n",
       "Osmaniye            411163.0\n",
       "Düzce               296712.0\n",
       "Length: 82, dtype: float64"
      ]
     },
     "execution_count": 92,
     "metadata": {},
     "output_type": "execute_result"
    }
   ],
   "source": [
    "pop2000DF[\"Yalova\"] = np.nan\n",
    "pop2000DF"
   ]
  },
  {
   "cell_type": "code",
   "execution_count": 93,
   "metadata": {
    "scrolled": true,
    "slideshow": {
     "slide_type": "fragment"
    }
   },
   "outputs": [
    {
     "data": {
      "text/plain": [
       "Provinces\n",
       "Total             16081024.0\n",
       "Adana               336780.0\n",
       "Adıyaman             46644.0\n",
       "Afyonkarahisar       19401.0\n",
       "Ağrı                 17095.0\n",
       "                     ...    \n",
       "Yalova                   NaN\n",
       "Karabük              39281.0\n",
       "Kilis                26621.0\n",
       "Osmaniye            116561.0\n",
       "Düzce                80898.0\n",
       "Length: 82, dtype: float64"
      ]
     },
     "execution_count": 93,
     "metadata": {},
     "output_type": "execute_result"
    }
   ],
   "source": [
    "popDiff = pop2017DF - pop2000DF\n",
    "popDiff"
   ]
  },
  {
   "cell_type": "markdown",
   "metadata": {
    "slideshow": {
     "slide_type": "slide"
    }
   },
   "source": [
    "* For accessing not null elements, we can use Pandas'notnull function."
   ]
  },
  {
   "cell_type": "code",
   "execution_count": 94,
   "metadata": {
    "slideshow": {
     "slide_type": "fragment"
    }
   },
   "outputs": [
    {
     "data": {
      "text/plain": [
       "Provinces\n",
       "Total             16081024.0\n",
       "Adana               336780.0\n",
       "Adıyaman             46644.0\n",
       "Afyonkarahisar       19401.0\n",
       "Ağrı                 17095.0\n",
       "                     ...    \n",
       "Iğdır                20490.0\n",
       "Karabük              39281.0\n",
       "Kilis                26621.0\n",
       "Osmaniye            116561.0\n",
       "Düzce                80898.0\n",
       "Length: 81, dtype: float64"
      ]
     },
     "execution_count": 94,
     "metadata": {},
     "output_type": "execute_result"
    }
   ],
   "source": [
    "popDiff[popDiff.notnull()]"
   ]
  },
  {
   "cell_type": "markdown",
   "metadata": {
    "slideshow": {
     "slide_type": "slide"
    }
   },
   "source": [
    "* We can add `fill_value` argument to insert a zero for home `NaN` values."
   ]
  },
  {
   "cell_type": "code",
   "execution_count": 95,
   "metadata": {
    "slideshow": {
     "slide_type": "fragment"
    }
   },
   "outputs": [
    {
     "data": {
      "text/plain": [
       "Provinces\n",
       "Total             16081024.0\n",
       "Adana               336780.0\n",
       "Adıyaman             46644.0\n",
       "Afyonkarahisar       19401.0\n",
       "Ağrı                 17095.0\n",
       "                     ...    \n",
       "Yalova              251203.0\n",
       "Karabük              39281.0\n",
       "Kilis                26621.0\n",
       "Osmaniye            116561.0\n",
       "Düzce                80898.0\n",
       "Length: 82, dtype: float64"
      ]
     },
     "execution_count": 95,
     "metadata": {},
     "output_type": "execute_result"
    }
   ],
   "source": [
    "pop2017DF.subtract(pop2000DF, fill_value=0)"
   ]
  },
  {
   "cell_type": "markdown",
   "metadata": {
    "slideshow": {
     "slide_type": "slide"
    }
   },
   "source": [
    "* We can also use functions to each column or row of a `DataFrame`"
   ]
  },
  {
   "cell_type": "code",
   "execution_count": 96,
   "metadata": {
    "slideshow": {
     "slide_type": "fragment"
    }
   },
   "outputs": [
    {
     "name": "stdout",
     "output_type": "stream",
     "text": [
      "Bayburt -> 80417\n"
     ]
    }
   ],
   "source": [
    "minPop = pop2017DF.values.min()\n",
    "indexOfMinPop = pop2017DF.index[pop2017DF.values.argmin()]\n",
    "print(indexOfMinPop + \" -> \" + str(minPop))"
   ]
  },
  {
   "cell_type": "code",
   "execution_count": 97,
   "metadata": {
    "slideshow": {
     "slide_type": "fragment"
    }
   },
   "outputs": [
    {
     "data": {
      "text/html": [
       "<div>\n",
       "<style scoped>\n",
       "    .dataframe tbody tr th:only-of-type {\n",
       "        vertical-align: middle;\n",
       "    }\n",
       "\n",
       "    .dataframe tbody tr th {\n",
       "        vertical-align: top;\n",
       "    }\n",
       "\n",
       "    .dataframe thead th {\n",
       "        text-align: right;\n",
       "    }\n",
       "</style>\n",
       "<table border=\"1\" class=\"dataframe\">\n",
       "  <thead>\n",
       "    <tr style=\"text-align: right;\">\n",
       "      <th></th>\n",
       "      <th>2000</th>\n",
       "      <th>2001</th>\n",
       "      <th>2002</th>\n",
       "      <th>2003</th>\n",
       "      <th>2004</th>\n",
       "      <th>2005</th>\n",
       "      <th>...</th>\n",
       "      <th>2012</th>\n",
       "      <th>2013</th>\n",
       "      <th>2014</th>\n",
       "      <th>2015</th>\n",
       "      <th>2016</th>\n",
       "      <th>2017</th>\n",
       "    </tr>\n",
       "    <tr>\n",
       "      <th>Provinces</th>\n",
       "      <th></th>\n",
       "      <th></th>\n",
       "      <th></th>\n",
       "      <th></th>\n",
       "      <th></th>\n",
       "      <th></th>\n",
       "      <th></th>\n",
       "      <th></th>\n",
       "      <th></th>\n",
       "      <th></th>\n",
       "      <th></th>\n",
       "      <th></th>\n",
       "      <th></th>\n",
       "    </tr>\n",
       "  </thead>\n",
       "  <tbody>\n",
       "    <tr>\n",
       "      <th>Total</th>\n",
       "      <td>64730000.0</td>\n",
       "      <td>65603160</td>\n",
       "      <td>66401851</td>\n",
       "      <td>67187251</td>\n",
       "      <td>68010215</td>\n",
       "      <td>68860539</td>\n",
       "      <td>...</td>\n",
       "      <td>75627384</td>\n",
       "      <td>76667864</td>\n",
       "      <td>77695904</td>\n",
       "      <td>78741053</td>\n",
       "      <td>79814871</td>\n",
       "      <td>80810525</td>\n",
       "    </tr>\n",
       "    <tr>\n",
       "      <th>Adana</th>\n",
       "      <td>1880000.0</td>\n",
       "      <td>1899324</td>\n",
       "      <td>1916637</td>\n",
       "      <td>1933428</td>\n",
       "      <td>1951142</td>\n",
       "      <td>1969512</td>\n",
       "      <td>...</td>\n",
       "      <td>2125635</td>\n",
       "      <td>2149260</td>\n",
       "      <td>2165595</td>\n",
       "      <td>2183167</td>\n",
       "      <td>2201670</td>\n",
       "      <td>2216475</td>\n",
       "    </tr>\n",
       "    <tr>\n",
       "      <th>Adıyaman</th>\n",
       "      <td>570000.0</td>\n",
       "      <td>571180</td>\n",
       "      <td>573149</td>\n",
       "      <td>574886</td>\n",
       "      <td>576808</td>\n",
       "      <td>578852</td>\n",
       "      <td>...</td>\n",
       "      <td>595261</td>\n",
       "      <td>597184</td>\n",
       "      <td>597835</td>\n",
       "      <td>602774</td>\n",
       "      <td>610484</td>\n",
       "      <td>615076</td>\n",
       "    </tr>\n",
       "    <tr>\n",
       "      <th>Afyonkarahisar</th>\n",
       "      <td>700000.0</td>\n",
       "      <td>698029</td>\n",
       "      <td>698773</td>\n",
       "      <td>699193</td>\n",
       "      <td>699794</td>\n",
       "      <td>700502</td>\n",
       "      <td>...</td>\n",
       "      <td>703948</td>\n",
       "      <td>707123</td>\n",
       "      <td>706371</td>\n",
       "      <td>709015</td>\n",
       "      <td>714523</td>\n",
       "      <td>715693</td>\n",
       "    </tr>\n",
       "    <tr>\n",
       "      <th>Ağrı</th>\n",
       "      <td>520000.0</td>\n",
       "      <td>521514</td>\n",
       "      <td>523123</td>\n",
       "      <td>524514</td>\n",
       "      <td>526070</td>\n",
       "      <td>527732</td>\n",
       "      <td>...</td>\n",
       "      <td>552404</td>\n",
       "      <td>551177</td>\n",
       "      <td>549435</td>\n",
       "      <td>547210</td>\n",
       "      <td>542255</td>\n",
       "      <td>536285</td>\n",
       "    </tr>\n",
       "    <tr>\n",
       "      <th>...</th>\n",
       "      <td>...</td>\n",
       "      <td>...</td>\n",
       "      <td>...</td>\n",
       "      <td>...</td>\n",
       "      <td>...</td>\n",
       "      <td>...</td>\n",
       "      <td>...</td>\n",
       "      <td>...</td>\n",
       "      <td>...</td>\n",
       "      <td>...</td>\n",
       "      <td>...</td>\n",
       "      <td>...</td>\n",
       "      <td>...</td>\n",
       "    </tr>\n",
       "    <tr>\n",
       "      <th>Yalova</th>\n",
       "      <td>150000.0</td>\n",
       "      <td>150027</td>\n",
       "      <td>155041</td>\n",
       "      <td>160099</td>\n",
       "      <td>165333</td>\n",
       "      <td>170705</td>\n",
       "      <td>...</td>\n",
       "      <td>211799</td>\n",
       "      <td>220122</td>\n",
       "      <td>226514</td>\n",
       "      <td>233009</td>\n",
       "      <td>241665</td>\n",
       "      <td>251203</td>\n",
       "    </tr>\n",
       "    <tr>\n",
       "      <th>Karabük</th>\n",
       "      <td>210000.0</td>\n",
       "      <td>207241</td>\n",
       "      <td>209056</td>\n",
       "      <td>210812</td>\n",
       "      <td>212667</td>\n",
       "      <td>214591</td>\n",
       "      <td>...</td>\n",
       "      <td>225145</td>\n",
       "      <td>230251</td>\n",
       "      <td>231333</td>\n",
       "      <td>236978</td>\n",
       "      <td>242347</td>\n",
       "      <td>244453</td>\n",
       "    </tr>\n",
       "    <tr>\n",
       "      <th>Kilis</th>\n",
       "      <td>110000.0</td>\n",
       "      <td>111024</td>\n",
       "      <td>112219</td>\n",
       "      <td>113387</td>\n",
       "      <td>114615</td>\n",
       "      <td>115886</td>\n",
       "      <td>...</td>\n",
       "      <td>124320</td>\n",
       "      <td>128586</td>\n",
       "      <td>128781</td>\n",
       "      <td>130655</td>\n",
       "      <td>130825</td>\n",
       "      <td>136319</td>\n",
       "    </tr>\n",
       "    <tr>\n",
       "      <th>Osmaniye</th>\n",
       "      <td>420000.0</td>\n",
       "      <td>417418</td>\n",
       "      <td>423214</td>\n",
       "      <td>428943</td>\n",
       "      <td>434930</td>\n",
       "      <td>441108</td>\n",
       "      <td>...</td>\n",
       "      <td>492135</td>\n",
       "      <td>498981</td>\n",
       "      <td>506807</td>\n",
       "      <td>512873</td>\n",
       "      <td>522175</td>\n",
       "      <td>527724</td>\n",
       "    </tr>\n",
       "    <tr>\n",
       "      <th>Düzce</th>\n",
       "      <td>300000.0</td>\n",
       "      <td>300686</td>\n",
       "      <td>304316</td>\n",
       "      <td>307884</td>\n",
       "      <td>311623</td>\n",
       "      <td>315487</td>\n",
       "      <td>...</td>\n",
       "      <td>346493</td>\n",
       "      <td>351509</td>\n",
       "      <td>355549</td>\n",
       "      <td>360388</td>\n",
       "      <td>370371</td>\n",
       "      <td>377610</td>\n",
       "    </tr>\n",
       "  </tbody>\n",
       "</table>\n",
       "<p>82 rows × 18 columns</p>\n",
       "</div>"
      ],
      "text/plain": [
       "                      2000      2001      2002      2003      2004      2005  \\\n",
       "Provinces                                                                      \n",
       "Total           64730000.0  65603160  66401851  67187251  68010215  68860539   \n",
       "Adana            1880000.0   1899324   1916637   1933428   1951142   1969512   \n",
       "Adıyaman          570000.0    571180    573149    574886    576808    578852   \n",
       "Afyonkarahisar    700000.0    698029    698773    699193    699794    700502   \n",
       "Ağrı              520000.0    521514    523123    524514    526070    527732   \n",
       "...                    ...       ...       ...       ...       ...       ...   \n",
       "Yalova            150000.0    150027    155041    160099    165333    170705   \n",
       "Karabük           210000.0    207241    209056    210812    212667    214591   \n",
       "Kilis             110000.0    111024    112219    113387    114615    115886   \n",
       "Osmaniye          420000.0    417418    423214    428943    434930    441108   \n",
       "Düzce             300000.0    300686    304316    307884    311623    315487   \n",
       "\n",
       "                  ...         2012      2013      2014      2015      2016  \\\n",
       "Provinces         ...                                                        \n",
       "Total             ...     75627384  76667864  77695904  78741053  79814871   \n",
       "Adana             ...      2125635   2149260   2165595   2183167   2201670   \n",
       "Adıyaman          ...       595261    597184    597835    602774    610484   \n",
       "Afyonkarahisar    ...       703948    707123    706371    709015    714523   \n",
       "Ağrı              ...       552404    551177    549435    547210    542255   \n",
       "...               ...          ...       ...       ...       ...       ...   \n",
       "Yalova            ...       211799    220122    226514    233009    241665   \n",
       "Karabük           ...       225145    230251    231333    236978    242347   \n",
       "Kilis             ...       124320    128586    128781    130655    130825   \n",
       "Osmaniye          ...       492135    498981    506807    512873    522175   \n",
       "Düzce             ...       346493    351509    355549    360388    370371   \n",
       "\n",
       "                    2017  \n",
       "Provinces                 \n",
       "Total           80810525  \n",
       "Adana            2216475  \n",
       "Adıyaman          615076  \n",
       "Afyonkarahisar    715693  \n",
       "Ağrı              536285  \n",
       "...                  ...  \n",
       "Yalova            251203  \n",
       "Karabük           244453  \n",
       "Kilis             136319  \n",
       "Osmaniye          527724  \n",
       "Düzce             377610  \n",
       "\n",
       "[82 rows x 18 columns]"
      ]
     },
     "execution_count": 97,
     "metadata": {},
     "output_type": "execute_result"
    }
   ],
   "source": [
    "populationDF['2000'] = np.ceil(populationDF['2000'] / 10000) * 10000\n",
    "populationDF"
   ]
  },
  {
   "cell_type": "markdown",
   "metadata": {
    "slideshow": {
     "slide_type": "slide"
    }
   },
   "source": [
    "## Sorting and Ranking"
   ]
  },
  {
   "cell_type": "markdown",
   "metadata": {
    "slideshow": {
     "slide_type": "fragment"
    }
   },
   "source": [
    "* Pandas objects include methods for re-ordering data."
   ]
  },
  {
   "cell_type": "code",
   "execution_count": 98,
   "metadata": {
    "slideshow": {
     "slide_type": "fragment"
    }
   },
   "outputs": [
    {
     "data": {
      "text/html": [
       "<div>\n",
       "<style scoped>\n",
       "    .dataframe tbody tr th:only-of-type {\n",
       "        vertical-align: middle;\n",
       "    }\n",
       "\n",
       "    .dataframe tbody tr th {\n",
       "        vertical-align: top;\n",
       "    }\n",
       "\n",
       "    .dataframe thead th {\n",
       "        text-align: right;\n",
       "    }\n",
       "</style>\n",
       "<table border=\"1\" class=\"dataframe\">\n",
       "  <thead>\n",
       "    <tr style=\"text-align: right;\">\n",
       "      <th></th>\n",
       "      <th>2000</th>\n",
       "      <th>2001</th>\n",
       "      <th>2002</th>\n",
       "      <th>2003</th>\n",
       "      <th>2004</th>\n",
       "      <th>2005</th>\n",
       "      <th>...</th>\n",
       "      <th>2012</th>\n",
       "      <th>2013</th>\n",
       "      <th>2014</th>\n",
       "      <th>2015</th>\n",
       "      <th>2016</th>\n",
       "      <th>2017</th>\n",
       "    </tr>\n",
       "    <tr>\n",
       "      <th>Provinces</th>\n",
       "      <th></th>\n",
       "      <th></th>\n",
       "      <th></th>\n",
       "      <th></th>\n",
       "      <th></th>\n",
       "      <th></th>\n",
       "      <th></th>\n",
       "      <th></th>\n",
       "      <th></th>\n",
       "      <th></th>\n",
       "      <th></th>\n",
       "      <th></th>\n",
       "      <th></th>\n",
       "    </tr>\n",
       "  </thead>\n",
       "  <tbody>\n",
       "    <tr>\n",
       "      <th>Adana</th>\n",
       "      <td>1880000.0</td>\n",
       "      <td>1899324</td>\n",
       "      <td>1916637</td>\n",
       "      <td>1933428</td>\n",
       "      <td>1951142</td>\n",
       "      <td>1969512</td>\n",
       "      <td>...</td>\n",
       "      <td>2125635</td>\n",
       "      <td>2149260</td>\n",
       "      <td>2165595</td>\n",
       "      <td>2183167</td>\n",
       "      <td>2201670</td>\n",
       "      <td>2216475</td>\n",
       "    </tr>\n",
       "    <tr>\n",
       "      <th>Adıyaman</th>\n",
       "      <td>570000.0</td>\n",
       "      <td>571180</td>\n",
       "      <td>573149</td>\n",
       "      <td>574886</td>\n",
       "      <td>576808</td>\n",
       "      <td>578852</td>\n",
       "      <td>...</td>\n",
       "      <td>595261</td>\n",
       "      <td>597184</td>\n",
       "      <td>597835</td>\n",
       "      <td>602774</td>\n",
       "      <td>610484</td>\n",
       "      <td>615076</td>\n",
       "    </tr>\n",
       "    <tr>\n",
       "      <th>Afyonkarahisar</th>\n",
       "      <td>700000.0</td>\n",
       "      <td>698029</td>\n",
       "      <td>698773</td>\n",
       "      <td>699193</td>\n",
       "      <td>699794</td>\n",
       "      <td>700502</td>\n",
       "      <td>...</td>\n",
       "      <td>703948</td>\n",
       "      <td>707123</td>\n",
       "      <td>706371</td>\n",
       "      <td>709015</td>\n",
       "      <td>714523</td>\n",
       "      <td>715693</td>\n",
       "    </tr>\n",
       "    <tr>\n",
       "      <th>Aksaray</th>\n",
       "      <td>360000.0</td>\n",
       "      <td>353939</td>\n",
       "      <td>355942</td>\n",
       "      <td>357819</td>\n",
       "      <td>359834</td>\n",
       "      <td>361941</td>\n",
       "      <td>...</td>\n",
       "      <td>379915</td>\n",
       "      <td>382806</td>\n",
       "      <td>384252</td>\n",
       "      <td>386514</td>\n",
       "      <td>396673</td>\n",
       "      <td>402404</td>\n",
       "    </tr>\n",
       "    <tr>\n",
       "      <th>Amasya</th>\n",
       "      <td>340000.0</td>\n",
       "      <td>333768</td>\n",
       "      <td>333110</td>\n",
       "      <td>332271</td>\n",
       "      <td>331491</td>\n",
       "      <td>330739</td>\n",
       "      <td>...</td>\n",
       "      <td>322283</td>\n",
       "      <td>321977</td>\n",
       "      <td>321913</td>\n",
       "      <td>322167</td>\n",
       "      <td>326351</td>\n",
       "      <td>329888</td>\n",
       "    </tr>\n",
       "  </tbody>\n",
       "</table>\n",
       "<p>5 rows × 18 columns</p>\n",
       "</div>"
      ],
      "text/plain": [
       "                     2000     2001     2002     2003     2004     2005  \\\n",
       "Provinces                                                                \n",
       "Adana           1880000.0  1899324  1916637  1933428  1951142  1969512   \n",
       "Adıyaman         570000.0   571180   573149   574886   576808   578852   \n",
       "Afyonkarahisar   700000.0   698029   698773   699193   699794   700502   \n",
       "Aksaray          360000.0   353939   355942   357819   359834   361941   \n",
       "Amasya           340000.0   333768   333110   332271   331491   330739   \n",
       "\n",
       "                 ...        2012     2013     2014     2015     2016     2017  \n",
       "Provinces        ...                                                           \n",
       "Adana            ...     2125635  2149260  2165595  2183167  2201670  2216475  \n",
       "Adıyaman         ...      595261   597184   597835   602774   610484   615076  \n",
       "Afyonkarahisar   ...      703948   707123   706371   709015   714523   715693  \n",
       "Aksaray          ...      379915   382806   384252   386514   396673   402404  \n",
       "Amasya           ...      322283   321977   321913   322167   326351   329888  \n",
       "\n",
       "[5 rows x 18 columns]"
      ]
     },
     "execution_count": 98,
     "metadata": {},
     "output_type": "execute_result"
    }
   ],
   "source": [
    "populationDF.sort_index(ascending=True).head()"
   ]
  },
  {
   "cell_type": "code",
   "execution_count": 99,
   "metadata": {
    "slideshow": {
     "slide_type": "skip"
    }
   },
   "outputs": [
    {
     "data": {
      "text/html": [
       "<div>\n",
       "<style scoped>\n",
       "    .dataframe tbody tr th:only-of-type {\n",
       "        vertical-align: middle;\n",
       "    }\n",
       "\n",
       "    .dataframe tbody tr th {\n",
       "        vertical-align: top;\n",
       "    }\n",
       "\n",
       "    .dataframe thead th {\n",
       "        text-align: right;\n",
       "    }\n",
       "</style>\n",
       "<table border=\"1\" class=\"dataframe\">\n",
       "  <thead>\n",
       "    <tr style=\"text-align: right;\">\n",
       "      <th></th>\n",
       "      <th>2000</th>\n",
       "      <th>2001</th>\n",
       "      <th>2002</th>\n",
       "      <th>2003</th>\n",
       "      <th>2004</th>\n",
       "      <th>2005</th>\n",
       "      <th>...</th>\n",
       "      <th>2012</th>\n",
       "      <th>2013</th>\n",
       "      <th>2014</th>\n",
       "      <th>2015</th>\n",
       "      <th>2016</th>\n",
       "      <th>2017</th>\n",
       "    </tr>\n",
       "    <tr>\n",
       "      <th>Provinces</th>\n",
       "      <th></th>\n",
       "      <th></th>\n",
       "      <th></th>\n",
       "      <th></th>\n",
       "      <th></th>\n",
       "      <th></th>\n",
       "      <th></th>\n",
       "      <th></th>\n",
       "      <th></th>\n",
       "      <th></th>\n",
       "      <th></th>\n",
       "      <th></th>\n",
       "      <th></th>\n",
       "    </tr>\n",
       "  </thead>\n",
       "  <tbody>\n",
       "    <tr>\n",
       "      <th>Adana</th>\n",
       "      <td>1880000.0</td>\n",
       "      <td>1899324</td>\n",
       "      <td>1916637</td>\n",
       "      <td>1933428</td>\n",
       "      <td>1951142</td>\n",
       "      <td>1969512</td>\n",
       "      <td>...</td>\n",
       "      <td>2125635</td>\n",
       "      <td>2149260</td>\n",
       "      <td>2165595</td>\n",
       "      <td>2183167</td>\n",
       "      <td>2201670</td>\n",
       "      <td>2216475</td>\n",
       "    </tr>\n",
       "    <tr>\n",
       "      <th>Adıyaman</th>\n",
       "      <td>570000.0</td>\n",
       "      <td>571180</td>\n",
       "      <td>573149</td>\n",
       "      <td>574886</td>\n",
       "      <td>576808</td>\n",
       "      <td>578852</td>\n",
       "      <td>...</td>\n",
       "      <td>595261</td>\n",
       "      <td>597184</td>\n",
       "      <td>597835</td>\n",
       "      <td>602774</td>\n",
       "      <td>610484</td>\n",
       "      <td>615076</td>\n",
       "    </tr>\n",
       "    <tr>\n",
       "      <th>Afyonkarahisar</th>\n",
       "      <td>700000.0</td>\n",
       "      <td>698029</td>\n",
       "      <td>698773</td>\n",
       "      <td>699193</td>\n",
       "      <td>699794</td>\n",
       "      <td>700502</td>\n",
       "      <td>...</td>\n",
       "      <td>703948</td>\n",
       "      <td>707123</td>\n",
       "      <td>706371</td>\n",
       "      <td>709015</td>\n",
       "      <td>714523</td>\n",
       "      <td>715693</td>\n",
       "    </tr>\n",
       "    <tr>\n",
       "      <th>Aksaray</th>\n",
       "      <td>360000.0</td>\n",
       "      <td>353939</td>\n",
       "      <td>355942</td>\n",
       "      <td>357819</td>\n",
       "      <td>359834</td>\n",
       "      <td>361941</td>\n",
       "      <td>...</td>\n",
       "      <td>379915</td>\n",
       "      <td>382806</td>\n",
       "      <td>384252</td>\n",
       "      <td>386514</td>\n",
       "      <td>396673</td>\n",
       "      <td>402404</td>\n",
       "    </tr>\n",
       "    <tr>\n",
       "      <th>Amasya</th>\n",
       "      <td>340000.0</td>\n",
       "      <td>333768</td>\n",
       "      <td>333110</td>\n",
       "      <td>332271</td>\n",
       "      <td>331491</td>\n",
       "      <td>330739</td>\n",
       "      <td>...</td>\n",
       "      <td>322283</td>\n",
       "      <td>321977</td>\n",
       "      <td>321913</td>\n",
       "      <td>322167</td>\n",
       "      <td>326351</td>\n",
       "      <td>329888</td>\n",
       "    </tr>\n",
       "  </tbody>\n",
       "</table>\n",
       "<p>5 rows × 18 columns</p>\n",
       "</div>"
      ],
      "text/plain": [
       "                     2000     2001     2002     2003     2004     2005  \\\n",
       "Provinces                                                                \n",
       "Adana           1880000.0  1899324  1916637  1933428  1951142  1969512   \n",
       "Adıyaman         570000.0   571180   573149   574886   576808   578852   \n",
       "Afyonkarahisar   700000.0   698029   698773   699193   699794   700502   \n",
       "Aksaray          360000.0   353939   355942   357819   359834   361941   \n",
       "Amasya           340000.0   333768   333110   332271   331491   330739   \n",
       "\n",
       "                 ...        2012     2013     2014     2015     2016     2017  \n",
       "Provinces        ...                                                           \n",
       "Adana            ...     2125635  2149260  2165595  2183167  2201670  2216475  \n",
       "Adıyaman         ...      595261   597184   597835   602774   610484   615076  \n",
       "Afyonkarahisar   ...      703948   707123   706371   709015   714523   715693  \n",
       "Aksaray          ...      379915   382806   384252   386514   396673   402404  \n",
       "Amasya           ...      322283   321977   321913   322167   326351   329888  \n",
       "\n",
       "[5 rows x 18 columns]"
      ]
     },
     "execution_count": 99,
     "metadata": {},
     "output_type": "execute_result"
    }
   ],
   "source": [
    "populationDF.sort_index().head()"
   ]
  },
  {
   "cell_type": "code",
   "execution_count": 100,
   "metadata": {
    "slideshow": {
     "slide_type": "slide"
    }
   },
   "outputs": [
    {
     "data": {
      "text/html": [
       "<div>\n",
       "<style scoped>\n",
       "    .dataframe tbody tr th:only-of-type {\n",
       "        vertical-align: middle;\n",
       "    }\n",
       "\n",
       "    .dataframe tbody tr th {\n",
       "        vertical-align: top;\n",
       "    }\n",
       "\n",
       "    .dataframe thead th {\n",
       "        text-align: right;\n",
       "    }\n",
       "</style>\n",
       "<table border=\"1\" class=\"dataframe\">\n",
       "  <thead>\n",
       "    <tr style=\"text-align: right;\">\n",
       "      <th></th>\n",
       "      <th>2017</th>\n",
       "      <th>2016</th>\n",
       "      <th>2015</th>\n",
       "      <th>2014</th>\n",
       "      <th>2013</th>\n",
       "      <th>2012</th>\n",
       "      <th>...</th>\n",
       "      <th>2005</th>\n",
       "      <th>2004</th>\n",
       "      <th>2003</th>\n",
       "      <th>2002</th>\n",
       "      <th>2001</th>\n",
       "      <th>2000</th>\n",
       "    </tr>\n",
       "    <tr>\n",
       "      <th>Provinces</th>\n",
       "      <th></th>\n",
       "      <th></th>\n",
       "      <th></th>\n",
       "      <th></th>\n",
       "      <th></th>\n",
       "      <th></th>\n",
       "      <th></th>\n",
       "      <th></th>\n",
       "      <th></th>\n",
       "      <th></th>\n",
       "      <th></th>\n",
       "      <th></th>\n",
       "      <th></th>\n",
       "    </tr>\n",
       "  </thead>\n",
       "  <tbody>\n",
       "    <tr>\n",
       "      <th>Total</th>\n",
       "      <td>80810525</td>\n",
       "      <td>79814871</td>\n",
       "      <td>78741053</td>\n",
       "      <td>77695904</td>\n",
       "      <td>76667864</td>\n",
       "      <td>75627384</td>\n",
       "      <td>...</td>\n",
       "      <td>68860539</td>\n",
       "      <td>68010215</td>\n",
       "      <td>67187251</td>\n",
       "      <td>66401851</td>\n",
       "      <td>65603160</td>\n",
       "      <td>64730000.0</td>\n",
       "    </tr>\n",
       "    <tr>\n",
       "      <th>Adana</th>\n",
       "      <td>2216475</td>\n",
       "      <td>2201670</td>\n",
       "      <td>2183167</td>\n",
       "      <td>2165595</td>\n",
       "      <td>2149260</td>\n",
       "      <td>2125635</td>\n",
       "      <td>...</td>\n",
       "      <td>1969512</td>\n",
       "      <td>1951142</td>\n",
       "      <td>1933428</td>\n",
       "      <td>1916637</td>\n",
       "      <td>1899324</td>\n",
       "      <td>1880000.0</td>\n",
       "    </tr>\n",
       "    <tr>\n",
       "      <th>Adıyaman</th>\n",
       "      <td>615076</td>\n",
       "      <td>610484</td>\n",
       "      <td>602774</td>\n",
       "      <td>597835</td>\n",
       "      <td>597184</td>\n",
       "      <td>595261</td>\n",
       "      <td>...</td>\n",
       "      <td>578852</td>\n",
       "      <td>576808</td>\n",
       "      <td>574886</td>\n",
       "      <td>573149</td>\n",
       "      <td>571180</td>\n",
       "      <td>570000.0</td>\n",
       "    </tr>\n",
       "    <tr>\n",
       "      <th>Afyonkarahisar</th>\n",
       "      <td>715693</td>\n",
       "      <td>714523</td>\n",
       "      <td>709015</td>\n",
       "      <td>706371</td>\n",
       "      <td>707123</td>\n",
       "      <td>703948</td>\n",
       "      <td>...</td>\n",
       "      <td>700502</td>\n",
       "      <td>699794</td>\n",
       "      <td>699193</td>\n",
       "      <td>698773</td>\n",
       "      <td>698029</td>\n",
       "      <td>700000.0</td>\n",
       "    </tr>\n",
       "    <tr>\n",
       "      <th>Ağrı</th>\n",
       "      <td>536285</td>\n",
       "      <td>542255</td>\n",
       "      <td>547210</td>\n",
       "      <td>549435</td>\n",
       "      <td>551177</td>\n",
       "      <td>552404</td>\n",
       "      <td>...</td>\n",
       "      <td>527732</td>\n",
       "      <td>526070</td>\n",
       "      <td>524514</td>\n",
       "      <td>523123</td>\n",
       "      <td>521514</td>\n",
       "      <td>520000.0</td>\n",
       "    </tr>\n",
       "  </tbody>\n",
       "</table>\n",
       "<p>5 rows × 18 columns</p>\n",
       "</div>"
      ],
      "text/plain": [
       "                    2017      2016      2015      2014      2013      2012  \\\n",
       "Provinces                                                                    \n",
       "Total           80810525  79814871  78741053  77695904  76667864  75627384   \n",
       "Adana            2216475   2201670   2183167   2165595   2149260   2125635   \n",
       "Adıyaman          615076    610484    602774    597835    597184    595261   \n",
       "Afyonkarahisar    715693    714523    709015    706371    707123    703948   \n",
       "Ağrı              536285    542255    547210    549435    551177    552404   \n",
       "\n",
       "                   ...          2005      2004      2003      2002      2001  \\\n",
       "Provinces          ...                                                         \n",
       "Total              ...      68860539  68010215  67187251  66401851  65603160   \n",
       "Adana              ...       1969512   1951142   1933428   1916637   1899324   \n",
       "Adıyaman           ...        578852    576808    574886    573149    571180   \n",
       "Afyonkarahisar     ...        700502    699794    699193    698773    698029   \n",
       "Ağrı               ...        527732    526070    524514    523123    521514   \n",
       "\n",
       "                      2000  \n",
       "Provinces                   \n",
       "Total           64730000.0  \n",
       "Adana            1880000.0  \n",
       "Adıyaman          570000.0  \n",
       "Afyonkarahisar    700000.0  \n",
       "Ağrı              520000.0  \n",
       "\n",
       "[5 rows x 18 columns]"
      ]
     },
     "execution_count": 100,
     "metadata": {},
     "output_type": "execute_result"
    }
   ],
   "source": [
    "populationDF.sort_index(axis=1, ascending=False).head()"
   ]
  },
  {
   "cell_type": "markdown",
   "metadata": {
    "slideshow": {
     "slide_type": "slide"
    }
   },
   "source": [
    "* We can also use `order` to sort a `Series` by value, rather than by label."
   ]
  },
  {
   "cell_type": "markdown",
   "metadata": {
    "slideshow": {
     "slide_type": "fragment"
    }
   },
   "source": [
    "* For a `DataFrame`, we can sort according to the values of one or more columns using the `by` argument of `sort_values`:"
   ]
  },
  {
   "cell_type": "code",
   "execution_count": 101,
   "metadata": {
    "slideshow": {
     "slide_type": "fragment"
    }
   },
   "outputs": [
    {
     "data": {
      "text/html": [
       "<div>\n",
       "<style scoped>\n",
       "    .dataframe tbody tr th:only-of-type {\n",
       "        vertical-align: middle;\n",
       "    }\n",
       "\n",
       "    .dataframe tbody tr th {\n",
       "        vertical-align: top;\n",
       "    }\n",
       "\n",
       "    .dataframe thead th {\n",
       "        text-align: right;\n",
       "    }\n",
       "</style>\n",
       "<table border=\"1\" class=\"dataframe\">\n",
       "  <thead>\n",
       "    <tr style=\"text-align: right;\">\n",
       "      <th></th>\n",
       "      <th>2017</th>\n",
       "      <th>2001</th>\n",
       "    </tr>\n",
       "    <tr>\n",
       "      <th>Provinces</th>\n",
       "      <th></th>\n",
       "      <th></th>\n",
       "    </tr>\n",
       "  </thead>\n",
       "  <tbody>\n",
       "    <tr>\n",
       "      <th>Total</th>\n",
       "      <td>80810525</td>\n",
       "      <td>65603160</td>\n",
       "    </tr>\n",
       "    <tr>\n",
       "      <th>İstanbul</th>\n",
       "      <td>15029231</td>\n",
       "      <td>11292009</td>\n",
       "    </tr>\n",
       "    <tr>\n",
       "      <th>Ankara</th>\n",
       "      <td>5445026</td>\n",
       "      <td>3971642</td>\n",
       "    </tr>\n",
       "    <tr>\n",
       "      <th>İzmir</th>\n",
       "      <td>4279677</td>\n",
       "      <td>3477209</td>\n",
       "    </tr>\n",
       "    <tr>\n",
       "      <th>Bursa</th>\n",
       "      <td>2936803</td>\n",
       "      <td>2192169</td>\n",
       "    </tr>\n",
       "    <tr>\n",
       "      <th>Antalya</th>\n",
       "      <td>2364396</td>\n",
       "      <td>1480282</td>\n",
       "    </tr>\n",
       "    <tr>\n",
       "      <th>Adana</th>\n",
       "      <td>2216475</td>\n",
       "      <td>1899324</td>\n",
       "    </tr>\n",
       "    <tr>\n",
       "      <th>Konya</th>\n",
       "      <td>2180149</td>\n",
       "      <td>1855057</td>\n",
       "    </tr>\n",
       "    <tr>\n",
       "      <th>Gaziantep</th>\n",
       "      <td>2005515</td>\n",
       "      <td>1330205</td>\n",
       "    </tr>\n",
       "    <tr>\n",
       "      <th>Şanlıurfa</th>\n",
       "      <td>1985753</td>\n",
       "      <td>1294842</td>\n",
       "    </tr>\n",
       "  </tbody>\n",
       "</table>\n",
       "</div>"
      ],
      "text/plain": [
       "               2017      2001\n",
       "Provinces                    \n",
       "Total      80810525  65603160\n",
       "İstanbul   15029231  11292009\n",
       "Ankara      5445026   3971642\n",
       "İzmir       4279677   3477209\n",
       "Bursa       2936803   2192169\n",
       "Antalya     2364396   1480282\n",
       "Adana       2216475   1899324\n",
       "Konya       2180149   1855057\n",
       "Gaziantep   2005515   1330205\n",
       "Şanlıurfa   1985753   1294842"
      ]
     },
     "execution_count": 101,
     "metadata": {},
     "output_type": "execute_result"
    }
   ],
   "source": [
    "populationDF[['2017','2001']].sort_values(by=['2017', '2001'],ascending=[False,True]).head(10)"
   ]
  },
  {
   "cell_type": "markdown",
   "metadata": {
    "slideshow": {
     "slide_type": "slide"
    }
   },
   "source": [
    "* __Ranking__ does not re-arrange data, but instead returns an index that ranks each value relative to others in the Series."
   ]
  },
  {
   "cell_type": "code",
   "execution_count": 102,
   "metadata": {
    "slideshow": {
     "slide_type": "fragment"
    }
   },
   "outputs": [
    {
     "data": {
      "text/plain": [
       "Provinces\n",
       "Total              1.0\n",
       "Adana              6.0\n",
       "Adıyaman          36.0\n",
       "Afyonkarahisar    32.0\n",
       "Ağrı              39.0\n",
       "                  ... \n",
       "Yalova            72.0\n",
       "Karabük           68.0\n",
       "Kilis             79.0\n",
       "Osmaniye          43.0\n",
       "Düzce             52.0\n",
       "Name: 2010, Length: 82, dtype: float64"
      ]
     },
     "execution_count": 102,
     "metadata": {},
     "output_type": "execute_result"
    }
   ],
   "source": [
    "populationDF['2010'].rank(ascending=False)"
   ]
  },
  {
   "cell_type": "code",
   "execution_count": 103,
   "metadata": {
    "slideshow": {
     "slide_type": "slide"
    }
   },
   "outputs": [
    {
     "data": {
      "text/html": [
       "<div>\n",
       "<style scoped>\n",
       "    .dataframe tbody tr th:only-of-type {\n",
       "        vertical-align: middle;\n",
       "    }\n",
       "\n",
       "    .dataframe tbody tr th {\n",
       "        vertical-align: top;\n",
       "    }\n",
       "\n",
       "    .dataframe thead th {\n",
       "        text-align: right;\n",
       "    }\n",
       "</style>\n",
       "<table border=\"1\" class=\"dataframe\">\n",
       "  <thead>\n",
       "    <tr style=\"text-align: right;\">\n",
       "      <th></th>\n",
       "      <th>2017</th>\n",
       "      <th>2001</th>\n",
       "    </tr>\n",
       "    <tr>\n",
       "      <th>Provinces</th>\n",
       "      <th></th>\n",
       "      <th></th>\n",
       "    </tr>\n",
       "  </thead>\n",
       "  <tbody>\n",
       "    <tr>\n",
       "      <th>Total</th>\n",
       "      <td>1.0</td>\n",
       "      <td>1.0</td>\n",
       "    </tr>\n",
       "    <tr>\n",
       "      <th>İstanbul</th>\n",
       "      <td>2.0</td>\n",
       "      <td>2.0</td>\n",
       "    </tr>\n",
       "    <tr>\n",
       "      <th>Ankara</th>\n",
       "      <td>3.0</td>\n",
       "      <td>3.0</td>\n",
       "    </tr>\n",
       "    <tr>\n",
       "      <th>İzmir</th>\n",
       "      <td>4.0</td>\n",
       "      <td>4.0</td>\n",
       "    </tr>\n",
       "    <tr>\n",
       "      <th>Bursa</th>\n",
       "      <td>5.0</td>\n",
       "      <td>5.0</td>\n",
       "    </tr>\n",
       "    <tr>\n",
       "      <th>...</th>\n",
       "      <td>...</td>\n",
       "      <td>...</td>\n",
       "    </tr>\n",
       "    <tr>\n",
       "      <th>Artvin</th>\n",
       "      <td>78.0</td>\n",
       "      <td>76.0</td>\n",
       "    </tr>\n",
       "    <tr>\n",
       "      <th>Kilis</th>\n",
       "      <td>79.0</td>\n",
       "      <td>80.0</td>\n",
       "    </tr>\n",
       "    <tr>\n",
       "      <th>Ardahan</th>\n",
       "      <td>80.0</td>\n",
       "      <td>78.0</td>\n",
       "    </tr>\n",
       "    <tr>\n",
       "      <th>Tunceli</th>\n",
       "      <td>81.0</td>\n",
       "      <td>81.0</td>\n",
       "    </tr>\n",
       "    <tr>\n",
       "      <th>Bayburt</th>\n",
       "      <td>82.0</td>\n",
       "      <td>82.0</td>\n",
       "    </tr>\n",
       "  </tbody>\n",
       "</table>\n",
       "<p>82 rows × 2 columns</p>\n",
       "</div>"
      ],
      "text/plain": [
       "           2017  2001\n",
       "Provinces            \n",
       "Total       1.0   1.0\n",
       "İstanbul    2.0   2.0\n",
       "Ankara      3.0   3.0\n",
       "İzmir       4.0   4.0\n",
       "Bursa       5.0   5.0\n",
       "...         ...   ...\n",
       "Artvin     78.0  76.0\n",
       "Kilis      79.0  80.0\n",
       "Ardahan    80.0  78.0\n",
       "Tunceli    81.0  81.0\n",
       "Bayburt    82.0  82.0\n",
       "\n",
       "[82 rows x 2 columns]"
      ]
     },
     "execution_count": 103,
     "metadata": {},
     "output_type": "execute_result"
    }
   ],
   "source": [
    "populationDF[['2017','2001']].sort_values(by=['2017', '2001'],ascending=[False,True]).rank(ascending=False)"
   ]
  },
  {
   "cell_type": "markdown",
   "metadata": {
    "slideshow": {
     "slide_type": "slide"
    }
   },
   "source": [
    "* Ties are assigned the mean value of the tied ranks, which may result in decimal values."
   ]
  },
  {
   "cell_type": "code",
   "execution_count": 104,
   "metadata": {
    "slideshow": {
     "slide_type": "fragment"
    }
   },
   "outputs": [
    {
     "data": {
      "text/plain": [
       "0    1.5\n",
       "1    3.0\n",
       "2    1.5\n",
       "dtype: float64"
      ]
     },
     "execution_count": 104,
     "metadata": {},
     "output_type": "execute_result"
    }
   ],
   "source": [
    "pd.Series([50,60,50]).rank()"
   ]
  },
  {
   "cell_type": "markdown",
   "metadata": {
    "slideshow": {
     "slide_type": "fragment"
    }
   },
   "source": [
    "* Alternatively, you can break ties via one of several methods, such as by the order in which they occur in the dataset:"
   ]
  },
  {
   "cell_type": "code",
   "execution_count": 105,
   "metadata": {
    "slideshow": {
     "slide_type": "fragment"
    }
   },
   "outputs": [
    {
     "data": {
      "text/plain": [
       "0    2.0\n",
       "1    1.0\n",
       "2    3.0\n",
       "dtype: float64"
      ]
     },
     "execution_count": 105,
     "metadata": {},
     "output_type": "execute_result"
    }
   ],
   "source": [
    "pd.Series([100,50,100]).rank(method='first')"
   ]
  },
  {
   "cell_type": "markdown",
   "metadata": {
    "slideshow": {
     "slide_type": "slide"
    }
   },
   "source": [
    "* Calling the `DataFrame`'s `rank` method results in the ranks of all columns:"
   ]
  },
  {
   "cell_type": "code",
   "execution_count": 106,
   "metadata": {
    "slideshow": {
     "slide_type": "fragment"
    }
   },
   "outputs": [
    {
     "data": {
      "text/html": [
       "<div>\n",
       "<style scoped>\n",
       "    .dataframe tbody tr th:only-of-type {\n",
       "        vertical-align: middle;\n",
       "    }\n",
       "\n",
       "    .dataframe tbody tr th {\n",
       "        vertical-align: top;\n",
       "    }\n",
       "\n",
       "    .dataframe thead th {\n",
       "        text-align: right;\n",
       "    }\n",
       "</style>\n",
       "<table border=\"1\" class=\"dataframe\">\n",
       "  <thead>\n",
       "    <tr style=\"text-align: right;\">\n",
       "      <th></th>\n",
       "      <th>2000</th>\n",
       "      <th>2001</th>\n",
       "      <th>2002</th>\n",
       "      <th>2003</th>\n",
       "      <th>2004</th>\n",
       "      <th>2005</th>\n",
       "      <th>...</th>\n",
       "      <th>2012</th>\n",
       "      <th>2013</th>\n",
       "      <th>2014</th>\n",
       "      <th>2015</th>\n",
       "      <th>2016</th>\n",
       "      <th>2017</th>\n",
       "    </tr>\n",
       "    <tr>\n",
       "      <th>Provinces</th>\n",
       "      <th></th>\n",
       "      <th></th>\n",
       "      <th></th>\n",
       "      <th></th>\n",
       "      <th></th>\n",
       "      <th></th>\n",
       "      <th></th>\n",
       "      <th></th>\n",
       "      <th></th>\n",
       "      <th></th>\n",
       "      <th></th>\n",
       "      <th></th>\n",
       "      <th></th>\n",
       "    </tr>\n",
       "  </thead>\n",
       "  <tbody>\n",
       "    <tr>\n",
       "      <th>Total</th>\n",
       "      <td>1.0</td>\n",
       "      <td>1.0</td>\n",
       "      <td>1.0</td>\n",
       "      <td>1.0</td>\n",
       "      <td>1.0</td>\n",
       "      <td>1.0</td>\n",
       "      <td>...</td>\n",
       "      <td>1.0</td>\n",
       "      <td>1.0</td>\n",
       "      <td>1.0</td>\n",
       "      <td>1.0</td>\n",
       "      <td>1.0</td>\n",
       "      <td>1.0</td>\n",
       "    </tr>\n",
       "    <tr>\n",
       "      <th>Adana</th>\n",
       "      <td>6.0</td>\n",
       "      <td>6.0</td>\n",
       "      <td>6.0</td>\n",
       "      <td>6.0</td>\n",
       "      <td>6.0</td>\n",
       "      <td>6.0</td>\n",
       "      <td>...</td>\n",
       "      <td>6.0</td>\n",
       "      <td>7.0</td>\n",
       "      <td>7.0</td>\n",
       "      <td>7.0</td>\n",
       "      <td>7.0</td>\n",
       "      <td>7.0</td>\n",
       "    </tr>\n",
       "    <tr>\n",
       "      <th>Adıyaman</th>\n",
       "      <td>37.5</td>\n",
       "      <td>37.0</td>\n",
       "      <td>37.0</td>\n",
       "      <td>37.0</td>\n",
       "      <td>37.0</td>\n",
       "      <td>37.0</td>\n",
       "      <td>...</td>\n",
       "      <td>36.0</td>\n",
       "      <td>36.0</td>\n",
       "      <td>36.0</td>\n",
       "      <td>34.0</td>\n",
       "      <td>34.0</td>\n",
       "      <td>34.0</td>\n",
       "    </tr>\n",
       "    <tr>\n",
       "      <th>Afyonkarahisar</th>\n",
       "      <td>28.0</td>\n",
       "      <td>28.0</td>\n",
       "      <td>28.0</td>\n",
       "      <td>30.0</td>\n",
       "      <td>30.0</td>\n",
       "      <td>31.0</td>\n",
       "      <td>...</td>\n",
       "      <td>32.0</td>\n",
       "      <td>32.0</td>\n",
       "      <td>32.0</td>\n",
       "      <td>32.0</td>\n",
       "      <td>32.0</td>\n",
       "      <td>32.0</td>\n",
       "    </tr>\n",
       "    <tr>\n",
       "      <th>Ağrı</th>\n",
       "      <td>40.5</td>\n",
       "      <td>40.0</td>\n",
       "      <td>41.0</td>\n",
       "      <td>40.0</td>\n",
       "      <td>40.0</td>\n",
       "      <td>40.0</td>\n",
       "      <td>...</td>\n",
       "      <td>39.0</td>\n",
       "      <td>39.0</td>\n",
       "      <td>40.0</td>\n",
       "      <td>40.0</td>\n",
       "      <td>40.0</td>\n",
       "      <td>40.0</td>\n",
       "    </tr>\n",
       "    <tr>\n",
       "      <th>...</th>\n",
       "      <td>...</td>\n",
       "      <td>...</td>\n",
       "      <td>...</td>\n",
       "      <td>...</td>\n",
       "      <td>...</td>\n",
       "      <td>...</td>\n",
       "      <td>...</td>\n",
       "      <td>...</td>\n",
       "      <td>...</td>\n",
       "      <td>...</td>\n",
       "      <td>...</td>\n",
       "      <td>...</td>\n",
       "      <td>...</td>\n",
       "    </tr>\n",
       "    <tr>\n",
       "      <th>Yalova</th>\n",
       "      <td>77.0</td>\n",
       "      <td>77.0</td>\n",
       "      <td>77.0</td>\n",
       "      <td>77.0</td>\n",
       "      <td>77.0</td>\n",
       "      <td>76.0</td>\n",
       "      <td>...</td>\n",
       "      <td>71.0</td>\n",
       "      <td>70.0</td>\n",
       "      <td>69.0</td>\n",
       "      <td>69.0</td>\n",
       "      <td>69.0</td>\n",
       "      <td>67.0</td>\n",
       "    </tr>\n",
       "    <tr>\n",
       "      <th>Karabük</th>\n",
       "      <td>69.5</td>\n",
       "      <td>70.0</td>\n",
       "      <td>69.0</td>\n",
       "      <td>69.0</td>\n",
       "      <td>69.0</td>\n",
       "      <td>69.0</td>\n",
       "      <td>...</td>\n",
       "      <td>68.0</td>\n",
       "      <td>68.0</td>\n",
       "      <td>68.0</td>\n",
       "      <td>68.0</td>\n",
       "      <td>68.0</td>\n",
       "      <td>69.0</td>\n",
       "    </tr>\n",
       "    <tr>\n",
       "      <th>Kilis</th>\n",
       "      <td>80.0</td>\n",
       "      <td>80.0</td>\n",
       "      <td>80.0</td>\n",
       "      <td>80.0</td>\n",
       "      <td>80.0</td>\n",
       "      <td>79.0</td>\n",
       "      <td>...</td>\n",
       "      <td>79.0</td>\n",
       "      <td>79.0</td>\n",
       "      <td>79.0</td>\n",
       "      <td>79.0</td>\n",
       "      <td>79.0</td>\n",
       "      <td>79.0</td>\n",
       "    </tr>\n",
       "    <tr>\n",
       "      <th>Osmaniye</th>\n",
       "      <td>44.0</td>\n",
       "      <td>45.0</td>\n",
       "      <td>44.0</td>\n",
       "      <td>44.0</td>\n",
       "      <td>44.0</td>\n",
       "      <td>44.0</td>\n",
       "      <td>...</td>\n",
       "      <td>43.0</td>\n",
       "      <td>43.0</td>\n",
       "      <td>43.0</td>\n",
       "      <td>43.0</td>\n",
       "      <td>42.0</td>\n",
       "      <td>43.0</td>\n",
       "    </tr>\n",
       "    <tr>\n",
       "      <th>Düzce</th>\n",
       "      <td>59.0</td>\n",
       "      <td>59.0</td>\n",
       "      <td>59.0</td>\n",
       "      <td>59.0</td>\n",
       "      <td>59.0</td>\n",
       "      <td>58.0</td>\n",
       "      <td>...</td>\n",
       "      <td>52.0</td>\n",
       "      <td>52.0</td>\n",
       "      <td>52.0</td>\n",
       "      <td>52.0</td>\n",
       "      <td>52.0</td>\n",
       "      <td>51.0</td>\n",
       "    </tr>\n",
       "  </tbody>\n",
       "</table>\n",
       "<p>82 rows × 18 columns</p>\n",
       "</div>"
      ],
      "text/plain": [
       "                2000  2001  2002  2003  2004  2005  ...   2012  2013  2014  \\\n",
       "Provinces                                           ...                      \n",
       "Total            1.0   1.0   1.0   1.0   1.0   1.0  ...    1.0   1.0   1.0   \n",
       "Adana            6.0   6.0   6.0   6.0   6.0   6.0  ...    6.0   7.0   7.0   \n",
       "Adıyaman        37.5  37.0  37.0  37.0  37.0  37.0  ...   36.0  36.0  36.0   \n",
       "Afyonkarahisar  28.0  28.0  28.0  30.0  30.0  31.0  ...   32.0  32.0  32.0   \n",
       "Ağrı            40.5  40.0  41.0  40.0  40.0  40.0  ...   39.0  39.0  40.0   \n",
       "...              ...   ...   ...   ...   ...   ...  ...    ...   ...   ...   \n",
       "Yalova          77.0  77.0  77.0  77.0  77.0  76.0  ...   71.0  70.0  69.0   \n",
       "Karabük         69.5  70.0  69.0  69.0  69.0  69.0  ...   68.0  68.0  68.0   \n",
       "Kilis           80.0  80.0  80.0  80.0  80.0  79.0  ...   79.0  79.0  79.0   \n",
       "Osmaniye        44.0  45.0  44.0  44.0  44.0  44.0  ...   43.0  43.0  43.0   \n",
       "Düzce           59.0  59.0  59.0  59.0  59.0  58.0  ...   52.0  52.0  52.0   \n",
       "\n",
       "                2015  2016  2017  \n",
       "Provinces                         \n",
       "Total            1.0   1.0   1.0  \n",
       "Adana            7.0   7.0   7.0  \n",
       "Adıyaman        34.0  34.0  34.0  \n",
       "Afyonkarahisar  32.0  32.0  32.0  \n",
       "Ağrı            40.0  40.0  40.0  \n",
       "...              ...   ...   ...  \n",
       "Yalova          69.0  69.0  67.0  \n",
       "Karabük         68.0  68.0  69.0  \n",
       "Kilis           79.0  79.0  79.0  \n",
       "Osmaniye        43.0  42.0  43.0  \n",
       "Düzce           52.0  52.0  51.0  \n",
       "\n",
       "[82 rows x 18 columns]"
      ]
     },
     "execution_count": 106,
     "metadata": {},
     "output_type": "execute_result"
    }
   ],
   "source": [
    "populationDF.rank(ascending=False)"
   ]
  },
  {
   "cell_type": "markdown",
   "metadata": {
    "slideshow": {
     "slide_type": "slide"
    }
   },
   "source": [
    "## Hierarchical indexing"
   ]
  },
  {
   "cell_type": "markdown",
   "metadata": {
    "slideshow": {
     "slide_type": "fragment"
    }
   },
   "source": [
    "* Hierarchical indexing is an important feature of pandas enabling you to have multiple (two or more) index levels on an axis.<br>\n",
    "<br>\n",
    "* Somewhat abstractly, it provides a way for you to work with higher dimensional data in a lower dimensional form.<br>"
   ]
  },
  {
   "cell_type": "markdown",
   "metadata": {
    "slideshow": {
     "slide_type": "fragment"
    }
   },
   "source": [
    "* Let’s create a Series with a list of lists or arrays as the index:"
   ]
  },
  {
   "cell_type": "code",
   "execution_count": 107,
   "metadata": {
    "slideshow": {
     "slide_type": "fragment"
    }
   },
   "outputs": [
    {
     "data": {
      "text/plain": [
       "a  1    1.315558\n",
       "   2   -0.080769\n",
       "   3   -0.835756\n",
       "b  1    0.883245\n",
       "   2    0.949988\n",
       "   3    1.329186\n",
       "c  1   -0.407536\n",
       "   2   -0.247410\n",
       "d  2   -1.293176\n",
       "   3    0.708250\n",
       "dtype: float64"
      ]
     },
     "execution_count": 107,
     "metadata": {},
     "output_type": "execute_result"
    }
   ],
   "source": [
    "data = pd.Series(np.random.randn(10),\n",
    "               index=[['a', 'a', 'a', 'b', 'b', 'b', 'c', 'c', 'd', 'd'],\n",
    "                      [1, 2, 3, 1, 2, 3, 1, 2, 2, 3]])\n",
    "data"
   ]
  },
  {
   "cell_type": "code",
   "execution_count": 108,
   "metadata": {
    "slideshow": {
     "slide_type": "slide"
    }
   },
   "outputs": [
    {
     "data": {
      "text/plain": [
       "MultiIndex(levels=[[u'a', u'b', u'c', u'd'], [1, 2, 3]],\n",
       "           labels=[[0, 0, 0, 1, 1, 1, 2, 2, 3, 3], [0, 1, 2, 0, 1, 2, 0, 1, 1, 2]])"
      ]
     },
     "execution_count": 108,
     "metadata": {},
     "output_type": "execute_result"
    }
   ],
   "source": [
    "data.index"
   ]
  },
  {
   "cell_type": "markdown",
   "metadata": {
    "slideshow": {
     "slide_type": "fragment"
    }
   },
   "source": [
    "* With a hierarchically-indexed object, so-called partial indexing is possible, enabling you to concisely select subsets of the data:"
   ]
  },
  {
   "cell_type": "code",
   "execution_count": 109,
   "metadata": {
    "slideshow": {
     "slide_type": "fragment"
    }
   },
   "outputs": [
    {
     "data": {
      "text/plain": [
       "1    0.883245\n",
       "2    0.949988\n",
       "3    1.329186\n",
       "dtype: float64"
      ]
     },
     "execution_count": 109,
     "metadata": {},
     "output_type": "execute_result"
    }
   ],
   "source": [
    "data['b']"
   ]
  },
  {
   "cell_type": "code",
   "execution_count": 110,
   "metadata": {
    "slideshow": {
     "slide_type": "fragment"
    }
   },
   "outputs": [
    {
     "data": {
      "text/plain": [
       "a  1    1.315558\n",
       "   2   -0.080769\n",
       "   3   -0.835756\n",
       "b  1    0.883245\n",
       "   2    0.949988\n",
       "   3    1.329186\n",
       "c  1   -0.407536\n",
       "   2   -0.247410\n",
       "dtype: float64"
      ]
     },
     "execution_count": 110,
     "metadata": {},
     "output_type": "execute_result"
    }
   ],
   "source": [
    "data['a':'c']"
   ]
  },
  {
   "cell_type": "markdown",
   "metadata": {
    "slideshow": {
     "slide_type": "slide"
    }
   },
   "source": [
    "* Selection is even possible in some cases from an “inner” level:"
   ]
  },
  {
   "cell_type": "code",
   "execution_count": 111,
   "metadata": {
    "slideshow": {
     "slide_type": "fragment"
    }
   },
   "outputs": [
    {
     "data": {
      "text/plain": [
       "a    1.315558\n",
       "b    0.883245\n",
       "c   -0.407536\n",
       "dtype: float64"
      ]
     },
     "execution_count": 111,
     "metadata": {},
     "output_type": "execute_result"
    }
   ],
   "source": [
    "data[:, 1]"
   ]
  },
  {
   "cell_type": "markdown",
   "metadata": {
    "slideshow": {
     "slide_type": "slide"
    }
   },
   "source": [
    "* Hierarchical indexing plays a critical role in reshaping data and group-based operations like forming a pivot table. For example, this data could be rearranged into a DataFrame using its unstack method:"
   ]
  },
  {
   "cell_type": "code",
   "execution_count": 112,
   "metadata": {
    "slideshow": {
     "slide_type": "fragment"
    }
   },
   "outputs": [
    {
     "data": {
      "text/html": [
       "<div>\n",
       "<style scoped>\n",
       "    .dataframe tbody tr th:only-of-type {\n",
       "        vertical-align: middle;\n",
       "    }\n",
       "\n",
       "    .dataframe tbody tr th {\n",
       "        vertical-align: top;\n",
       "    }\n",
       "\n",
       "    .dataframe thead th {\n",
       "        text-align: right;\n",
       "    }\n",
       "</style>\n",
       "<table border=\"1\" class=\"dataframe\">\n",
       "  <thead>\n",
       "    <tr style=\"text-align: right;\">\n",
       "      <th></th>\n",
       "      <th>1</th>\n",
       "      <th>2</th>\n",
       "      <th>3</th>\n",
       "    </tr>\n",
       "  </thead>\n",
       "  <tbody>\n",
       "    <tr>\n",
       "      <th>a</th>\n",
       "      <td>1.315558</td>\n",
       "      <td>-0.080769</td>\n",
       "      <td>-0.835756</td>\n",
       "    </tr>\n",
       "    <tr>\n",
       "      <th>b</th>\n",
       "      <td>0.883245</td>\n",
       "      <td>0.949988</td>\n",
       "      <td>1.329186</td>\n",
       "    </tr>\n",
       "    <tr>\n",
       "      <th>c</th>\n",
       "      <td>-0.407536</td>\n",
       "      <td>-0.247410</td>\n",
       "      <td>NaN</td>\n",
       "    </tr>\n",
       "    <tr>\n",
       "      <th>d</th>\n",
       "      <td>NaN</td>\n",
       "      <td>-1.293176</td>\n",
       "      <td>0.708250</td>\n",
       "    </tr>\n",
       "  </tbody>\n",
       "</table>\n",
       "</div>"
      ],
      "text/plain": [
       "          1         2         3\n",
       "a  1.315558 -0.080769 -0.835756\n",
       "b  0.883245  0.949988  1.329186\n",
       "c -0.407536 -0.247410       NaN\n",
       "d       NaN -1.293176  0.708250"
      ]
     },
     "execution_count": 112,
     "metadata": {},
     "output_type": "execute_result"
    }
   ],
   "source": [
    "dataDF = data.unstack()\n",
    "dataDF"
   ]
  },
  {
   "cell_type": "markdown",
   "metadata": {
    "slideshow": {
     "slide_type": "fragment"
    }
   },
   "source": [
    "* The inverse operation of unstack is stack:"
   ]
  },
  {
   "cell_type": "code",
   "execution_count": 113,
   "metadata": {
    "slideshow": {
     "slide_type": "fragment"
    }
   },
   "outputs": [
    {
     "data": {
      "text/plain": [
       "a  1    1.315558\n",
       "   2   -0.080769\n",
       "   3   -0.835756\n",
       "b  1    0.883245\n",
       "   2    0.949988\n",
       "   3    1.329186\n",
       "c  1   -0.407536\n",
       "   2   -0.247410\n",
       "d  2   -1.293176\n",
       "   3    0.708250\n",
       "dtype: float64"
      ]
     },
     "execution_count": 113,
     "metadata": {},
     "output_type": "execute_result"
    }
   ],
   "source": [
    "dataDF.stack()"
   ]
  },
  {
   "cell_type": "markdown",
   "metadata": {
    "slideshow": {
     "slide_type": "slide"
    }
   },
   "source": [
    "## Missing data"
   ]
  },
  {
   "cell_type": "markdown",
   "metadata": {
    "slideshow": {
     "slide_type": "fragment"
    }
   },
   "source": [
    "* The occurence of missing data is so prevalent that it pays to use tools like Pandas, which seamlessly integrates missing data handling so that it can be dealt with easily, and in the manner required by the analysis at hand.\n",
    "\n",
    "* Missing data are represented in `Series` and `DataFrame` objects by the `NaN` floating point value. However, `None` is also treated as missing, since it is commonly used as such in other contexts (NumPy)."
   ]
  },
  {
   "cell_type": "code",
   "execution_count": 114,
   "metadata": {
    "slideshow": {
     "slide_type": "fragment"
    }
   },
   "outputs": [
    {
     "data": {
      "text/plain": [
       "0       NaN\n",
       "1      None\n",
       "2    string\n",
       "3         1\n",
       "dtype: object"
      ]
     },
     "execution_count": 114,
     "metadata": {},
     "output_type": "execute_result"
    }
   ],
   "source": [
    "weirdSeries = pd.Series([np.nan, None, 'string', 1])\n",
    "weirdSeries"
   ]
  },
  {
   "cell_type": "code",
   "execution_count": 115,
   "metadata": {
    "slideshow": {
     "slide_type": "fragment"
    }
   },
   "outputs": [
    {
     "data": {
      "text/plain": [
       "0     True\n",
       "1     True\n",
       "2    False\n",
       "3    False\n",
       "dtype: bool"
      ]
     },
     "execution_count": 115,
     "metadata": {},
     "output_type": "execute_result"
    }
   ],
   "source": [
    "weirdSeries.isnull()"
   ]
  },
  {
   "cell_type": "markdown",
   "metadata": {
    "slideshow": {
     "slide_type": "slide"
    }
   },
   "source": [
    "* Missing values may be dropped or indexed out:"
   ]
  },
  {
   "cell_type": "code",
   "execution_count": 116,
   "metadata": {
    "slideshow": {
     "slide_type": "fragment"
    }
   },
   "outputs": [
    {
     "data": {
      "text/plain": [
       "Istanbul Total    15029231.0\n",
       "Ankara Total       5445026.0\n",
       "Izmir Total        4279677.0\n",
       "Bursa Total              NaN\n",
       "Antalya Total            NaN\n",
       "dtype: float64"
      ]
     },
     "execution_count": 116,
     "metadata": {},
     "output_type": "execute_result"
    }
   ],
   "source": [
    "population2"
   ]
  },
  {
   "cell_type": "code",
   "execution_count": 117,
   "metadata": {
    "slideshow": {
     "slide_type": "fragment"
    }
   },
   "outputs": [
    {
     "data": {
      "text/plain": [
       "Istanbul Total    15029231.0\n",
       "Ankara Total       5445026.0\n",
       "Izmir Total        4279677.0\n",
       "dtype: float64"
      ]
     },
     "execution_count": 117,
     "metadata": {},
     "output_type": "execute_result"
    }
   ],
   "source": [
    "population2.dropna()"
   ]
  },
  {
   "cell_type": "code",
   "execution_count": 118,
   "metadata": {
    "slideshow": {
     "slide_type": "fragment"
    }
   },
   "outputs": [
    {
     "data": {
      "text/plain": [
       "Istanbul Total    15029231.0\n",
       "Ankara Total       5445026.0\n",
       "Izmir Total        4279677.0\n",
       "dtype: float64"
      ]
     },
     "execution_count": 118,
     "metadata": {},
     "output_type": "execute_result"
    }
   ],
   "source": [
    "population2[population2.notnull()]"
   ]
  },
  {
   "cell_type": "code",
   "execution_count": 119,
   "metadata": {
    "slideshow": {
     "slide_type": "slide"
    }
   },
   "outputs": [
    {
     "data": {
      "text/html": [
       "<div>\n",
       "<style scoped>\n",
       "    .dataframe tbody tr th:only-of-type {\n",
       "        vertical-align: middle;\n",
       "    }\n",
       "\n",
       "    .dataframe tbody tr th {\n",
       "        vertical-align: top;\n",
       "    }\n",
       "\n",
       "    .dataframe thead th {\n",
       "        text-align: right;\n",
       "    }\n",
       "</style>\n",
       "<table border=\"1\" class=\"dataframe\">\n",
       "  <thead>\n",
       "    <tr style=\"text-align: right;\">\n",
       "      <th></th>\n",
       "      <th>1</th>\n",
       "      <th>2</th>\n",
       "      <th>3</th>\n",
       "    </tr>\n",
       "  </thead>\n",
       "  <tbody>\n",
       "    <tr>\n",
       "      <th>a</th>\n",
       "      <td>1.315558</td>\n",
       "      <td>-0.080769</td>\n",
       "      <td>-0.835756</td>\n",
       "    </tr>\n",
       "    <tr>\n",
       "      <th>b</th>\n",
       "      <td>0.883245</td>\n",
       "      <td>0.949988</td>\n",
       "      <td>1.329186</td>\n",
       "    </tr>\n",
       "    <tr>\n",
       "      <th>c</th>\n",
       "      <td>-0.407536</td>\n",
       "      <td>-0.247410</td>\n",
       "      <td>NaN</td>\n",
       "    </tr>\n",
       "    <tr>\n",
       "      <th>d</th>\n",
       "      <td>NaN</td>\n",
       "      <td>-1.293176</td>\n",
       "      <td>0.708250</td>\n",
       "    </tr>\n",
       "  </tbody>\n",
       "</table>\n",
       "</div>"
      ],
      "text/plain": [
       "          1         2         3\n",
       "a  1.315558 -0.080769 -0.835756\n",
       "b  0.883245  0.949988  1.329186\n",
       "c -0.407536 -0.247410       NaN\n",
       "d       NaN -1.293176  0.708250"
      ]
     },
     "execution_count": 119,
     "metadata": {},
     "output_type": "execute_result"
    }
   ],
   "source": [
    "dataDF"
   ]
  },
  {
   "cell_type": "markdown",
   "metadata": {
    "slideshow": {
     "slide_type": "fragment"
    }
   },
   "source": [
    "* By default, `dropna` drops entire rows in which one or more values are missing."
   ]
  },
  {
   "cell_type": "code",
   "execution_count": 120,
   "metadata": {
    "slideshow": {
     "slide_type": "fragment"
    }
   },
   "outputs": [
    {
     "data": {
      "text/html": [
       "<div>\n",
       "<style scoped>\n",
       "    .dataframe tbody tr th:only-of-type {\n",
       "        vertical-align: middle;\n",
       "    }\n",
       "\n",
       "    .dataframe tbody tr th {\n",
       "        vertical-align: top;\n",
       "    }\n",
       "\n",
       "    .dataframe thead th {\n",
       "        text-align: right;\n",
       "    }\n",
       "</style>\n",
       "<table border=\"1\" class=\"dataframe\">\n",
       "  <thead>\n",
       "    <tr style=\"text-align: right;\">\n",
       "      <th></th>\n",
       "      <th>1</th>\n",
       "      <th>2</th>\n",
       "      <th>3</th>\n",
       "    </tr>\n",
       "  </thead>\n",
       "  <tbody>\n",
       "    <tr>\n",
       "      <th>a</th>\n",
       "      <td>1.315558</td>\n",
       "      <td>-0.080769</td>\n",
       "      <td>-0.835756</td>\n",
       "    </tr>\n",
       "    <tr>\n",
       "      <th>b</th>\n",
       "      <td>0.883245</td>\n",
       "      <td>0.949988</td>\n",
       "      <td>1.329186</td>\n",
       "    </tr>\n",
       "  </tbody>\n",
       "</table>\n",
       "</div>"
      ],
      "text/plain": [
       "          1         2         3\n",
       "a  1.315558 -0.080769 -0.835756\n",
       "b  0.883245  0.949988  1.329186"
      ]
     },
     "execution_count": 120,
     "metadata": {},
     "output_type": "execute_result"
    }
   ],
   "source": [
    "dataDF.dropna()"
   ]
  },
  {
   "cell_type": "markdown",
   "metadata": {
    "slideshow": {
     "slide_type": "slide"
    }
   },
   "source": [
    "* This can be overridden by passing the `how='all'` argument, which only drops a row when every field is a missing value."
   ]
  },
  {
   "cell_type": "code",
   "execution_count": 121,
   "metadata": {
    "slideshow": {
     "slide_type": "fragment"
    }
   },
   "outputs": [
    {
     "data": {
      "text/html": [
       "<div>\n",
       "<style scoped>\n",
       "    .dataframe tbody tr th:only-of-type {\n",
       "        vertical-align: middle;\n",
       "    }\n",
       "\n",
       "    .dataframe tbody tr th {\n",
       "        vertical-align: top;\n",
       "    }\n",
       "\n",
       "    .dataframe thead th {\n",
       "        text-align: right;\n",
       "    }\n",
       "</style>\n",
       "<table border=\"1\" class=\"dataframe\">\n",
       "  <thead>\n",
       "    <tr style=\"text-align: right;\">\n",
       "      <th></th>\n",
       "      <th>1</th>\n",
       "      <th>2</th>\n",
       "      <th>3</th>\n",
       "    </tr>\n",
       "  </thead>\n",
       "  <tbody>\n",
       "    <tr>\n",
       "      <th>a</th>\n",
       "      <td>1.315558</td>\n",
       "      <td>-0.080769</td>\n",
       "      <td>-0.835756</td>\n",
       "    </tr>\n",
       "    <tr>\n",
       "      <th>b</th>\n",
       "      <td>0.883245</td>\n",
       "      <td>0.949988</td>\n",
       "      <td>1.329186</td>\n",
       "    </tr>\n",
       "    <tr>\n",
       "      <th>c</th>\n",
       "      <td>-0.407536</td>\n",
       "      <td>-0.247410</td>\n",
       "      <td>NaN</td>\n",
       "    </tr>\n",
       "    <tr>\n",
       "      <th>d</th>\n",
       "      <td>NaN</td>\n",
       "      <td>-1.293176</td>\n",
       "      <td>0.708250</td>\n",
       "    </tr>\n",
       "  </tbody>\n",
       "</table>\n",
       "</div>"
      ],
      "text/plain": [
       "          1         2         3\n",
       "a  1.315558 -0.080769 -0.835756\n",
       "b  0.883245  0.949988  1.329186\n",
       "c -0.407536 -0.247410       NaN\n",
       "d       NaN -1.293176  0.708250"
      ]
     },
     "execution_count": 121,
     "metadata": {},
     "output_type": "execute_result"
    }
   ],
   "source": [
    "dataDF.dropna(how='all')"
   ]
  },
  {
   "cell_type": "markdown",
   "metadata": {
    "slideshow": {
     "slide_type": "slide"
    }
   },
   "source": [
    "* This can be customized further by specifying how many values need to be present before a row is dropped via the `thresh` argument."
   ]
  },
  {
   "cell_type": "code",
   "execution_count": 122,
   "metadata": {
    "slideshow": {
     "slide_type": "fragment"
    }
   },
   "outputs": [
    {
     "data": {
      "text/html": [
       "<div>\n",
       "<style scoped>\n",
       "    .dataframe tbody tr th:only-of-type {\n",
       "        vertical-align: middle;\n",
       "    }\n",
       "\n",
       "    .dataframe tbody tr th {\n",
       "        vertical-align: top;\n",
       "    }\n",
       "\n",
       "    .dataframe thead th {\n",
       "        text-align: right;\n",
       "    }\n",
       "</style>\n",
       "<table border=\"1\" class=\"dataframe\">\n",
       "  <thead>\n",
       "    <tr style=\"text-align: right;\">\n",
       "      <th></th>\n",
       "      <th>1</th>\n",
       "      <th>2</th>\n",
       "      <th>3</th>\n",
       "    </tr>\n",
       "  </thead>\n",
       "  <tbody>\n",
       "    <tr>\n",
       "      <th>a</th>\n",
       "      <td>1.315558</td>\n",
       "      <td>-0.080769</td>\n",
       "      <td>-0.835756</td>\n",
       "    </tr>\n",
       "    <tr>\n",
       "      <th>b</th>\n",
       "      <td>0.883245</td>\n",
       "      <td>0.949988</td>\n",
       "      <td>1.329186</td>\n",
       "    </tr>\n",
       "    <tr>\n",
       "      <th>c</th>\n",
       "      <td>-0.407536</td>\n",
       "      <td>NaN</td>\n",
       "      <td>NaN</td>\n",
       "    </tr>\n",
       "    <tr>\n",
       "      <th>d</th>\n",
       "      <td>NaN</td>\n",
       "      <td>-1.293176</td>\n",
       "      <td>0.708250</td>\n",
       "    </tr>\n",
       "  </tbody>\n",
       "</table>\n",
       "</div>"
      ],
      "text/plain": [
       "          1         2         3\n",
       "a  1.315558 -0.080769 -0.835756\n",
       "b  0.883245  0.949988  1.329186\n",
       "c -0.407536       NaN       NaN\n",
       "d       NaN -1.293176  0.708250"
      ]
     },
     "execution_count": 122,
     "metadata": {},
     "output_type": "execute_result"
    }
   ],
   "source": [
    "dataDF[2]['c'] = np.nan\n",
    "dataDF"
   ]
  },
  {
   "cell_type": "code",
   "execution_count": 123,
   "metadata": {
    "slideshow": {
     "slide_type": "fragment"
    }
   },
   "outputs": [
    {
     "data": {
      "text/html": [
       "<div>\n",
       "<style scoped>\n",
       "    .dataframe tbody tr th:only-of-type {\n",
       "        vertical-align: middle;\n",
       "    }\n",
       "\n",
       "    .dataframe tbody tr th {\n",
       "        vertical-align: top;\n",
       "    }\n",
       "\n",
       "    .dataframe thead th {\n",
       "        text-align: right;\n",
       "    }\n",
       "</style>\n",
       "<table border=\"1\" class=\"dataframe\">\n",
       "  <thead>\n",
       "    <tr style=\"text-align: right;\">\n",
       "      <th></th>\n",
       "      <th>1</th>\n",
       "      <th>2</th>\n",
       "      <th>3</th>\n",
       "    </tr>\n",
       "  </thead>\n",
       "  <tbody>\n",
       "    <tr>\n",
       "      <th>a</th>\n",
       "      <td>1.315558</td>\n",
       "      <td>-0.080769</td>\n",
       "      <td>-0.835756</td>\n",
       "    </tr>\n",
       "    <tr>\n",
       "      <th>b</th>\n",
       "      <td>0.883245</td>\n",
       "      <td>0.949988</td>\n",
       "      <td>1.329186</td>\n",
       "    </tr>\n",
       "    <tr>\n",
       "      <th>d</th>\n",
       "      <td>NaN</td>\n",
       "      <td>-1.293176</td>\n",
       "      <td>0.708250</td>\n",
       "    </tr>\n",
       "  </tbody>\n",
       "</table>\n",
       "</div>"
      ],
      "text/plain": [
       "          1         2         3\n",
       "a  1.315558 -0.080769 -0.835756\n",
       "b  0.883245  0.949988  1.329186\n",
       "d       NaN -1.293176  0.708250"
      ]
     },
     "execution_count": 123,
     "metadata": {},
     "output_type": "execute_result"
    }
   ],
   "source": [
    "dataDF.dropna(thresh=2)"
   ]
  },
  {
   "cell_type": "markdown",
   "metadata": {
    "slideshow": {
     "slide_type": "slide"
    }
   },
   "source": [
    "* If we want to drop missing values column-wise instead of row-wise, we use `axis=1`."
   ]
  },
  {
   "cell_type": "code",
   "execution_count": 124,
   "metadata": {
    "slideshow": {
     "slide_type": "fragment"
    }
   },
   "outputs": [
    {
     "data": {
      "text/html": [
       "<div>\n",
       "<style scoped>\n",
       "    .dataframe tbody tr th:only-of-type {\n",
       "        vertical-align: middle;\n",
       "    }\n",
       "\n",
       "    .dataframe tbody tr th {\n",
       "        vertical-align: top;\n",
       "    }\n",
       "\n",
       "    .dataframe thead th {\n",
       "        text-align: right;\n",
       "    }\n",
       "</style>\n",
       "<table border=\"1\" class=\"dataframe\">\n",
       "  <thead>\n",
       "    <tr style=\"text-align: right;\">\n",
       "      <th></th>\n",
       "      <th>1</th>\n",
       "      <th>2</th>\n",
       "      <th>3</th>\n",
       "    </tr>\n",
       "  </thead>\n",
       "  <tbody>\n",
       "    <tr>\n",
       "      <th>a</th>\n",
       "      <td>1.315558</td>\n",
       "      <td>-0.080769</td>\n",
       "      <td>-0.835756</td>\n",
       "    </tr>\n",
       "    <tr>\n",
       "      <th>b</th>\n",
       "      <td>0.883245</td>\n",
       "      <td>0.949988</td>\n",
       "      <td>1.329186</td>\n",
       "    </tr>\n",
       "    <tr>\n",
       "      <th>c</th>\n",
       "      <td>-0.407536</td>\n",
       "      <td>NaN</td>\n",
       "      <td>NaN</td>\n",
       "    </tr>\n",
       "    <tr>\n",
       "      <th>d</th>\n",
       "      <td>0.227902</td>\n",
       "      <td>-1.293176</td>\n",
       "      <td>0.708250</td>\n",
       "    </tr>\n",
       "  </tbody>\n",
       "</table>\n",
       "</div>"
      ],
      "text/plain": [
       "          1         2         3\n",
       "a  1.315558 -0.080769 -0.835756\n",
       "b  0.883245  0.949988  1.329186\n",
       "c -0.407536       NaN       NaN\n",
       "d  0.227902 -1.293176  0.708250"
      ]
     },
     "execution_count": 124,
     "metadata": {},
     "output_type": "execute_result"
    }
   ],
   "source": [
    "dataDF[1]['d'] = np.random.randn(1)\n",
    "dataDF"
   ]
  },
  {
   "cell_type": "code",
   "execution_count": 125,
   "metadata": {
    "slideshow": {
     "slide_type": "fragment"
    }
   },
   "outputs": [
    {
     "data": {
      "text/html": [
       "<div>\n",
       "<style scoped>\n",
       "    .dataframe tbody tr th:only-of-type {\n",
       "        vertical-align: middle;\n",
       "    }\n",
       "\n",
       "    .dataframe tbody tr th {\n",
       "        vertical-align: top;\n",
       "    }\n",
       "\n",
       "    .dataframe thead th {\n",
       "        text-align: right;\n",
       "    }\n",
       "</style>\n",
       "<table border=\"1\" class=\"dataframe\">\n",
       "  <thead>\n",
       "    <tr style=\"text-align: right;\">\n",
       "      <th></th>\n",
       "      <th>1</th>\n",
       "    </tr>\n",
       "  </thead>\n",
       "  <tbody>\n",
       "    <tr>\n",
       "      <th>a</th>\n",
       "      <td>1.315558</td>\n",
       "    </tr>\n",
       "    <tr>\n",
       "      <th>b</th>\n",
       "      <td>0.883245</td>\n",
       "    </tr>\n",
       "    <tr>\n",
       "      <th>c</th>\n",
       "      <td>-0.407536</td>\n",
       "    </tr>\n",
       "    <tr>\n",
       "      <th>d</th>\n",
       "      <td>0.227902</td>\n",
       "    </tr>\n",
       "  </tbody>\n",
       "</table>\n",
       "</div>"
      ],
      "text/plain": [
       "          1\n",
       "a  1.315558\n",
       "b  0.883245\n",
       "c -0.407536\n",
       "d  0.227902"
      ]
     },
     "execution_count": 125,
     "metadata": {},
     "output_type": "execute_result"
    }
   ],
   "source": [
    "dataDF.dropna(axis=1)"
   ]
  },
  {
   "cell_type": "markdown",
   "metadata": {
    "slideshow": {
     "slide_type": "slide"
    }
   },
   "source": [
    "* Rather than omitting missing data from an analysis, in some cases it may be suitable to fill the missing value in, either with a default value (such as zero) or a value that is either imputed or carried forward/backward from similar data points. <br>\n",
    "<br>\n",
    "* We can do this programmatically in Pandas with the `fillna` argument.<br>"
   ]
  },
  {
   "cell_type": "code",
   "execution_count": 126,
   "metadata": {
    "slideshow": {
     "slide_type": "fragment"
    }
   },
   "outputs": [
    {
     "data": {
      "text/html": [
       "<div>\n",
       "<style scoped>\n",
       "    .dataframe tbody tr th:only-of-type {\n",
       "        vertical-align: middle;\n",
       "    }\n",
       "\n",
       "    .dataframe tbody tr th {\n",
       "        vertical-align: top;\n",
       "    }\n",
       "\n",
       "    .dataframe thead th {\n",
       "        text-align: right;\n",
       "    }\n",
       "</style>\n",
       "<table border=\"1\" class=\"dataframe\">\n",
       "  <thead>\n",
       "    <tr style=\"text-align: right;\">\n",
       "      <th></th>\n",
       "      <th>1</th>\n",
       "      <th>2</th>\n",
       "      <th>3</th>\n",
       "    </tr>\n",
       "  </thead>\n",
       "  <tbody>\n",
       "    <tr>\n",
       "      <th>a</th>\n",
       "      <td>1.315558</td>\n",
       "      <td>-0.080769</td>\n",
       "      <td>-0.835756</td>\n",
       "    </tr>\n",
       "    <tr>\n",
       "      <th>b</th>\n",
       "      <td>0.883245</td>\n",
       "      <td>0.949988</td>\n",
       "      <td>1.329186</td>\n",
       "    </tr>\n",
       "    <tr>\n",
       "      <th>c</th>\n",
       "      <td>-0.407536</td>\n",
       "      <td>NaN</td>\n",
       "      <td>NaN</td>\n",
       "    </tr>\n",
       "    <tr>\n",
       "      <th>d</th>\n",
       "      <td>0.227902</td>\n",
       "      <td>-1.293176</td>\n",
       "      <td>0.708250</td>\n",
       "    </tr>\n",
       "  </tbody>\n",
       "</table>\n",
       "</div>"
      ],
      "text/plain": [
       "          1         2         3\n",
       "a  1.315558 -0.080769 -0.835756\n",
       "b  0.883245  0.949988  1.329186\n",
       "c -0.407536       NaN       NaN\n",
       "d  0.227902 -1.293176  0.708250"
      ]
     },
     "execution_count": 126,
     "metadata": {},
     "output_type": "execute_result"
    }
   ],
   "source": [
    "dataDF"
   ]
  },
  {
   "cell_type": "code",
   "execution_count": 127,
   "metadata": {
    "slideshow": {
     "slide_type": "fragment"
    }
   },
   "outputs": [
    {
     "data": {
      "text/html": [
       "<div>\n",
       "<style scoped>\n",
       "    .dataframe tbody tr th:only-of-type {\n",
       "        vertical-align: middle;\n",
       "    }\n",
       "\n",
       "    .dataframe tbody tr th {\n",
       "        vertical-align: top;\n",
       "    }\n",
       "\n",
       "    .dataframe thead th {\n",
       "        text-align: right;\n",
       "    }\n",
       "</style>\n",
       "<table border=\"1\" class=\"dataframe\">\n",
       "  <thead>\n",
       "    <tr style=\"text-align: right;\">\n",
       "      <th></th>\n",
       "      <th>1</th>\n",
       "      <th>2</th>\n",
       "      <th>3</th>\n",
       "    </tr>\n",
       "  </thead>\n",
       "  <tbody>\n",
       "    <tr>\n",
       "      <th>a</th>\n",
       "      <td>1.315558</td>\n",
       "      <td>-0.080769</td>\n",
       "      <td>-0.835756</td>\n",
       "    </tr>\n",
       "    <tr>\n",
       "      <th>b</th>\n",
       "      <td>0.883245</td>\n",
       "      <td>0.949988</td>\n",
       "      <td>1.329186</td>\n",
       "    </tr>\n",
       "    <tr>\n",
       "      <th>c</th>\n",
       "      <td>-0.407536</td>\n",
       "      <td>0.000000</td>\n",
       "      <td>0.000000</td>\n",
       "    </tr>\n",
       "    <tr>\n",
       "      <th>d</th>\n",
       "      <td>0.227902</td>\n",
       "      <td>-1.293176</td>\n",
       "      <td>0.708250</td>\n",
       "    </tr>\n",
       "  </tbody>\n",
       "</table>\n",
       "</div>"
      ],
      "text/plain": [
       "          1         2         3\n",
       "a  1.315558 -0.080769 -0.835756\n",
       "b  0.883245  0.949988  1.329186\n",
       "c -0.407536  0.000000  0.000000\n",
       "d  0.227902 -1.293176  0.708250"
      ]
     },
     "execution_count": 127,
     "metadata": {},
     "output_type": "execute_result"
    }
   ],
   "source": [
    "dataDF.fillna(0)"
   ]
  },
  {
   "cell_type": "code",
   "execution_count": 128,
   "metadata": {
    "slideshow": {
     "slide_type": "slide"
    }
   },
   "outputs": [
    {
     "data": {
      "text/html": [
       "<div>\n",
       "<style scoped>\n",
       "    .dataframe tbody tr th:only-of-type {\n",
       "        vertical-align: middle;\n",
       "    }\n",
       "\n",
       "    .dataframe tbody tr th {\n",
       "        vertical-align: top;\n",
       "    }\n",
       "\n",
       "    .dataframe thead th {\n",
       "        text-align: right;\n",
       "    }\n",
       "</style>\n",
       "<table border=\"1\" class=\"dataframe\">\n",
       "  <thead>\n",
       "    <tr style=\"text-align: right;\">\n",
       "      <th></th>\n",
       "      <th>1</th>\n",
       "      <th>2</th>\n",
       "      <th>3</th>\n",
       "    </tr>\n",
       "  </thead>\n",
       "  <tbody>\n",
       "    <tr>\n",
       "      <th>a</th>\n",
       "      <td>1.315558</td>\n",
       "      <td>-0.080769</td>\n",
       "      <td>-0.835756</td>\n",
       "    </tr>\n",
       "    <tr>\n",
       "      <th>b</th>\n",
       "      <td>0.883245</td>\n",
       "      <td>0.949988</td>\n",
       "      <td>1.329186</td>\n",
       "    </tr>\n",
       "    <tr>\n",
       "      <th>c</th>\n",
       "      <td>-0.407536</td>\n",
       "      <td>1.500000</td>\n",
       "      <td>0.500000</td>\n",
       "    </tr>\n",
       "    <tr>\n",
       "      <th>d</th>\n",
       "      <td>0.227902</td>\n",
       "      <td>-1.293176</td>\n",
       "      <td>0.708250</td>\n",
       "    </tr>\n",
       "  </tbody>\n",
       "</table>\n",
       "</div>"
      ],
      "text/plain": [
       "          1         2         3\n",
       "a  1.315558 -0.080769 -0.835756\n",
       "b  0.883245  0.949988  1.329186\n",
       "c -0.407536  1.500000  0.500000\n",
       "d  0.227902 -1.293176  0.708250"
      ]
     },
     "execution_count": 128,
     "metadata": {},
     "output_type": "execute_result"
    }
   ],
   "source": [
    "dataDF.fillna({2: 1.5, 3:0.50})"
   ]
  },
  {
   "cell_type": "markdown",
   "metadata": {
    "slideshow": {
     "slide_type": "fragment"
    }
   },
   "source": [
    "* Notice that `fillna` by default returns a new object with the desired filling behavior, rather than changing the `Series` or  `DataFrame` in place."
   ]
  },
  {
   "cell_type": "code",
   "execution_count": 129,
   "metadata": {
    "slideshow": {
     "slide_type": "fragment"
    }
   },
   "outputs": [
    {
     "data": {
      "text/html": [
       "<div>\n",
       "<style scoped>\n",
       "    .dataframe tbody tr th:only-of-type {\n",
       "        vertical-align: middle;\n",
       "    }\n",
       "\n",
       "    .dataframe tbody tr th {\n",
       "        vertical-align: top;\n",
       "    }\n",
       "\n",
       "    .dataframe thead th {\n",
       "        text-align: right;\n",
       "    }\n",
       "</style>\n",
       "<table border=\"1\" class=\"dataframe\">\n",
       "  <thead>\n",
       "    <tr style=\"text-align: right;\">\n",
       "      <th></th>\n",
       "      <th>1</th>\n",
       "      <th>2</th>\n",
       "      <th>3</th>\n",
       "    </tr>\n",
       "  </thead>\n",
       "  <tbody>\n",
       "    <tr>\n",
       "      <th>a</th>\n",
       "      <td>1.315558</td>\n",
       "      <td>-0.080769</td>\n",
       "      <td>-0.835756</td>\n",
       "    </tr>\n",
       "    <tr>\n",
       "      <th>b</th>\n",
       "      <td>0.883245</td>\n",
       "      <td>0.949988</td>\n",
       "      <td>1.329186</td>\n",
       "    </tr>\n",
       "    <tr>\n",
       "      <th>c</th>\n",
       "      <td>-0.407536</td>\n",
       "      <td>NaN</td>\n",
       "      <td>NaN</td>\n",
       "    </tr>\n",
       "    <tr>\n",
       "      <th>d</th>\n",
       "      <td>0.227902</td>\n",
       "      <td>-1.293176</td>\n",
       "      <td>0.708250</td>\n",
       "    </tr>\n",
       "  </tbody>\n",
       "</table>\n",
       "</div>"
      ],
      "text/plain": [
       "          1         2         3\n",
       "a  1.315558 -0.080769 -0.835756\n",
       "b  0.883245  0.949988  1.329186\n",
       "c -0.407536       NaN       NaN\n",
       "d  0.227902 -1.293176  0.708250"
      ]
     },
     "execution_count": 129,
     "metadata": {},
     "output_type": "execute_result"
    }
   ],
   "source": [
    "dataDF"
   ]
  },
  {
   "cell_type": "markdown",
   "metadata": {
    "slideshow": {
     "slide_type": "slide"
    }
   },
   "source": [
    "* If you don't like this behaviour you can alter values in-place using `inplace=True`."
   ]
  },
  {
   "cell_type": "code",
   "execution_count": 130,
   "metadata": {
    "slideshow": {
     "slide_type": "fragment"
    }
   },
   "outputs": [
    {
     "data": {
      "text/html": [
       "<div>\n",
       "<style scoped>\n",
       "    .dataframe tbody tr th:only-of-type {\n",
       "        vertical-align: middle;\n",
       "    }\n",
       "\n",
       "    .dataframe tbody tr th {\n",
       "        vertical-align: top;\n",
       "    }\n",
       "\n",
       "    .dataframe thead th {\n",
       "        text-align: right;\n",
       "    }\n",
       "</style>\n",
       "<table border=\"1\" class=\"dataframe\">\n",
       "  <thead>\n",
       "    <tr style=\"text-align: right;\">\n",
       "      <th></th>\n",
       "      <th>1</th>\n",
       "      <th>2</th>\n",
       "      <th>3</th>\n",
       "    </tr>\n",
       "  </thead>\n",
       "  <tbody>\n",
       "    <tr>\n",
       "      <th>a</th>\n",
       "      <td>1.315558</td>\n",
       "      <td>-0.080769</td>\n",
       "      <td>-0.835756</td>\n",
       "    </tr>\n",
       "    <tr>\n",
       "      <th>b</th>\n",
       "      <td>0.883245</td>\n",
       "      <td>0.949988</td>\n",
       "      <td>1.329186</td>\n",
       "    </tr>\n",
       "    <tr>\n",
       "      <th>c</th>\n",
       "      <td>-0.407536</td>\n",
       "      <td>1.500000</td>\n",
       "      <td>0.500000</td>\n",
       "    </tr>\n",
       "    <tr>\n",
       "      <th>d</th>\n",
       "      <td>0.227902</td>\n",
       "      <td>-1.293176</td>\n",
       "      <td>0.708250</td>\n",
       "    </tr>\n",
       "  </tbody>\n",
       "</table>\n",
       "</div>"
      ],
      "text/plain": [
       "          1         2         3\n",
       "a  1.315558 -0.080769 -0.835756\n",
       "b  0.883245  0.949988  1.329186\n",
       "c -0.407536  1.500000  0.500000\n",
       "d  0.227902 -1.293176  0.708250"
      ]
     },
     "execution_count": 130,
     "metadata": {},
     "output_type": "execute_result"
    }
   ],
   "source": [
    "dataDF.fillna({2: 1.5, 3:0.50}, inplace=True)\n",
    "dataDF"
   ]
  },
  {
   "cell_type": "markdown",
   "metadata": {
    "slideshow": {
     "slide_type": "slide"
    }
   },
   "source": [
    "* Missing values can also be interpolated, using any one of a variety of methods:"
   ]
  },
  {
   "cell_type": "code",
   "execution_count": 131,
   "metadata": {
    "slideshow": {
     "slide_type": "fragment"
    }
   },
   "outputs": [
    {
     "data": {
      "text/html": [
       "<div>\n",
       "<style scoped>\n",
       "    .dataframe tbody tr th:only-of-type {\n",
       "        vertical-align: middle;\n",
       "    }\n",
       "\n",
       "    .dataframe tbody tr th {\n",
       "        vertical-align: top;\n",
       "    }\n",
       "\n",
       "    .dataframe thead th {\n",
       "        text-align: right;\n",
       "    }\n",
       "</style>\n",
       "<table border=\"1\" class=\"dataframe\">\n",
       "  <thead>\n",
       "    <tr style=\"text-align: right;\">\n",
       "      <th></th>\n",
       "      <th>1</th>\n",
       "      <th>2</th>\n",
       "      <th>3</th>\n",
       "    </tr>\n",
       "  </thead>\n",
       "  <tbody>\n",
       "    <tr>\n",
       "      <th>a</th>\n",
       "      <td>1.315558</td>\n",
       "      <td>-0.080769</td>\n",
       "      <td>-0.835756</td>\n",
       "    </tr>\n",
       "    <tr>\n",
       "      <th>b</th>\n",
       "      <td>0.883245</td>\n",
       "      <td>0.949988</td>\n",
       "      <td>1.329186</td>\n",
       "    </tr>\n",
       "    <tr>\n",
       "      <th>c</th>\n",
       "      <td>-0.407536</td>\n",
       "      <td>NaN</td>\n",
       "      <td>0.500000</td>\n",
       "    </tr>\n",
       "    <tr>\n",
       "      <th>d</th>\n",
       "      <td>0.227902</td>\n",
       "      <td>-1.293176</td>\n",
       "      <td>NaN</td>\n",
       "    </tr>\n",
       "  </tbody>\n",
       "</table>\n",
       "</div>"
      ],
      "text/plain": [
       "          1         2         3\n",
       "a  1.315558 -0.080769 -0.835756\n",
       "b  0.883245  0.949988  1.329186\n",
       "c -0.407536       NaN  0.500000\n",
       "d  0.227902 -1.293176       NaN"
      ]
     },
     "execution_count": 131,
     "metadata": {},
     "output_type": "execute_result"
    }
   ],
   "source": [
    "dataDF[2]['c'] = np.nan\n",
    "dataDF[3]['d'] = np.nan\n",
    "dataDF"
   ]
  },
  {
   "cell_type": "markdown",
   "metadata": {
    "slideshow": {
     "slide_type": "fragment"
    }
   },
   "source": [
    "* We can also propagate non-null values forward or backward."
   ]
  },
  {
   "cell_type": "code",
   "execution_count": 132,
   "metadata": {
    "slideshow": {
     "slide_type": "fragment"
    }
   },
   "outputs": [
    {
     "data": {
      "text/html": [
       "<div>\n",
       "<style scoped>\n",
       "    .dataframe tbody tr th:only-of-type {\n",
       "        vertical-align: middle;\n",
       "    }\n",
       "\n",
       "    .dataframe tbody tr th {\n",
       "        vertical-align: top;\n",
       "    }\n",
       "\n",
       "    .dataframe thead th {\n",
       "        text-align: right;\n",
       "    }\n",
       "</style>\n",
       "<table border=\"1\" class=\"dataframe\">\n",
       "  <thead>\n",
       "    <tr style=\"text-align: right;\">\n",
       "      <th></th>\n",
       "      <th>1</th>\n",
       "      <th>2</th>\n",
       "      <th>3</th>\n",
       "    </tr>\n",
       "  </thead>\n",
       "  <tbody>\n",
       "    <tr>\n",
       "      <th>a</th>\n",
       "      <td>1.315558</td>\n",
       "      <td>-0.080769</td>\n",
       "      <td>-0.835756</td>\n",
       "    </tr>\n",
       "    <tr>\n",
       "      <th>b</th>\n",
       "      <td>0.883245</td>\n",
       "      <td>0.949988</td>\n",
       "      <td>1.329186</td>\n",
       "    </tr>\n",
       "    <tr>\n",
       "      <th>c</th>\n",
       "      <td>-0.407536</td>\n",
       "      <td>0.949988</td>\n",
       "      <td>0.500000</td>\n",
       "    </tr>\n",
       "    <tr>\n",
       "      <th>d</th>\n",
       "      <td>0.227902</td>\n",
       "      <td>-1.293176</td>\n",
       "      <td>0.500000</td>\n",
       "    </tr>\n",
       "  </tbody>\n",
       "</table>\n",
       "</div>"
      ],
      "text/plain": [
       "          1         2         3\n",
       "a  1.315558 -0.080769 -0.835756\n",
       "b  0.883245  0.949988  1.329186\n",
       "c -0.407536  0.949988  0.500000\n",
       "d  0.227902 -1.293176  0.500000"
      ]
     },
     "execution_count": 132,
     "metadata": {},
     "output_type": "execute_result"
    }
   ],
   "source": [
    "dataDF.fillna(method='ffill')"
   ]
  },
  {
   "cell_type": "code",
   "execution_count": 133,
   "metadata": {
    "slideshow": {
     "slide_type": "fragment"
    }
   },
   "outputs": [
    {
     "data": {
      "text/html": [
       "<div>\n",
       "<style scoped>\n",
       "    .dataframe tbody tr th:only-of-type {\n",
       "        vertical-align: middle;\n",
       "    }\n",
       "\n",
       "    .dataframe tbody tr th {\n",
       "        vertical-align: top;\n",
       "    }\n",
       "\n",
       "    .dataframe thead th {\n",
       "        text-align: right;\n",
       "    }\n",
       "</style>\n",
       "<table border=\"1\" class=\"dataframe\">\n",
       "  <thead>\n",
       "    <tr style=\"text-align: right;\">\n",
       "      <th></th>\n",
       "      <th>1</th>\n",
       "      <th>2</th>\n",
       "      <th>3</th>\n",
       "    </tr>\n",
       "  </thead>\n",
       "  <tbody>\n",
       "    <tr>\n",
       "      <th>a</th>\n",
       "      <td>1.315558</td>\n",
       "      <td>-0.080769</td>\n",
       "      <td>-0.835756</td>\n",
       "    </tr>\n",
       "    <tr>\n",
       "      <th>b</th>\n",
       "      <td>0.883245</td>\n",
       "      <td>0.949988</td>\n",
       "      <td>1.329186</td>\n",
       "    </tr>\n",
       "    <tr>\n",
       "      <th>c</th>\n",
       "      <td>-0.407536</td>\n",
       "      <td>-0.141319</td>\n",
       "      <td>0.500000</td>\n",
       "    </tr>\n",
       "    <tr>\n",
       "      <th>d</th>\n",
       "      <td>0.227902</td>\n",
       "      <td>-1.293176</td>\n",
       "      <td>0.331143</td>\n",
       "    </tr>\n",
       "  </tbody>\n",
       "</table>\n",
       "</div>"
      ],
      "text/plain": [
       "          1         2         3\n",
       "a  1.315558 -0.080769 -0.835756\n",
       "b  0.883245  0.949988  1.329186\n",
       "c -0.407536 -0.141319  0.500000\n",
       "d  0.227902 -1.293176  0.331143"
      ]
     },
     "execution_count": 133,
     "metadata": {},
     "output_type": "execute_result"
    }
   ],
   "source": [
    "dataDF.fillna(dataDF.mean())"
   ]
  },
  {
   "cell_type": "markdown",
   "metadata": {
    "slideshow": {
     "slide_type": "slide"
    }
   },
   "source": [
    "## Data summarization"
   ]
  },
  {
   "cell_type": "markdown",
   "metadata": {
    "slideshow": {
     "slide_type": "fragment"
    }
   },
   "source": [
    "* We often wish to summarize data in `Series` or `DataFrame` objects, so that they can more easily be understood or compared with similar data.<br>\n",
    "<br>\n",
    "* The NumPy package contains several functions that are useful here, but several summarization or reduction methods are built into Pandas data structures.<br>"
   ]
  },
  {
   "cell_type": "code",
   "execution_count": 134,
   "metadata": {
    "slideshow": {
     "slide_type": "fragment"
    }
   },
   "outputs": [
    {
     "data": {
      "text/plain": [
       "name           Spider-Man (Peter Parker)Captain America (Stev...\n",
       "urlslug        \\/Spider-Man_(Peter_Parker)\\/Captain_America_(...\n",
       "APPEARANCES                                               260270\n",
       "Year                                                 3.08878e+07\n",
       "dtype: object"
      ]
     },
     "execution_count": 134,
     "metadata": {},
     "output_type": "execute_result"
    }
   ],
   "source": [
    "marvelDF.sum()"
   ]
  },
  {
   "cell_type": "markdown",
   "metadata": {
    "slideshow": {
     "slide_type": "fragment"
    }
   },
   "source": [
    "* Clearly, `sum` is more meaningful for some columns than others.(Total Appearances)<br> "
   ]
  },
  {
   "cell_type": "markdown",
   "metadata": {
    "slideshow": {
     "slide_type": "slide"
    }
   },
   "source": [
    "* For methods like `mean` for which application to string variables is not just meaningless, but impossible, these columns are automatically exculded:"
   ]
  },
  {
   "cell_type": "code",
   "execution_count": 135,
   "metadata": {
    "slideshow": {
     "slide_type": "fragment"
    }
   },
   "outputs": [
    {
     "data": {
      "text/plain": [
       "APPEARANCES      15.893381\n",
       "Year           1984.951803\n",
       "dtype: float64"
      ]
     },
     "execution_count": 135,
     "metadata": {},
     "output_type": "execute_result"
    }
   ],
   "source": [
    "marvelDF.mean()"
   ]
  },
  {
   "cell_type": "markdown",
   "metadata": {
    "slideshow": {
     "slide_type": "slide"
    }
   },
   "source": [
    "* The important difference between NumPy's functions and Pandas' methods is that Numpy have different functions for handling missing data like 'nansum' but Pandas use same functions."
   ]
  },
  {
   "cell_type": "code",
   "execution_count": 136,
   "metadata": {
    "slideshow": {
     "slide_type": "fragment"
    }
   },
   "outputs": [
    {
     "data": {
      "text/html": [
       "<div>\n",
       "<style scoped>\n",
       "    .dataframe tbody tr th:only-of-type {\n",
       "        vertical-align: middle;\n",
       "    }\n",
       "\n",
       "    .dataframe tbody tr th {\n",
       "        vertical-align: top;\n",
       "    }\n",
       "\n",
       "    .dataframe thead th {\n",
       "        text-align: right;\n",
       "    }\n",
       "</style>\n",
       "<table border=\"1\" class=\"dataframe\">\n",
       "  <thead>\n",
       "    <tr style=\"text-align: right;\">\n",
       "      <th></th>\n",
       "      <th>1</th>\n",
       "      <th>2</th>\n",
       "      <th>3</th>\n",
       "    </tr>\n",
       "  </thead>\n",
       "  <tbody>\n",
       "    <tr>\n",
       "      <th>a</th>\n",
       "      <td>1.315558</td>\n",
       "      <td>-0.080769</td>\n",
       "      <td>-0.835756</td>\n",
       "    </tr>\n",
       "    <tr>\n",
       "      <th>b</th>\n",
       "      <td>0.883245</td>\n",
       "      <td>0.949988</td>\n",
       "      <td>1.329186</td>\n",
       "    </tr>\n",
       "    <tr>\n",
       "      <th>c</th>\n",
       "      <td>-0.407536</td>\n",
       "      <td>NaN</td>\n",
       "      <td>0.500000</td>\n",
       "    </tr>\n",
       "    <tr>\n",
       "      <th>d</th>\n",
       "      <td>0.227902</td>\n",
       "      <td>-1.293176</td>\n",
       "      <td>NaN</td>\n",
       "    </tr>\n",
       "  </tbody>\n",
       "</table>\n",
       "</div>"
      ],
      "text/plain": [
       "          1         2         3\n",
       "a  1.315558 -0.080769 -0.835756\n",
       "b  0.883245  0.949988  1.329186\n",
       "c -0.407536       NaN  0.500000\n",
       "d  0.227902 -1.293176       NaN"
      ]
     },
     "execution_count": 136,
     "metadata": {},
     "output_type": "execute_result"
    }
   ],
   "source": [
    "dataDF"
   ]
  },
  {
   "cell_type": "code",
   "execution_count": 137,
   "metadata": {
    "slideshow": {
     "slide_type": "fragment"
    }
   },
   "outputs": [
    {
     "data": {
      "text/plain": [
       "1    0.504793\n",
       "2   -0.141319\n",
       "3    0.331143\n",
       "dtype: float64"
      ]
     },
     "execution_count": 137,
     "metadata": {},
     "output_type": "execute_result"
    }
   ],
   "source": [
    "dataDF.mean()"
   ]
  },
  {
   "cell_type": "markdown",
   "metadata": {
    "slideshow": {
     "slide_type": "fragment"
    }
   },
   "source": [
    "* Sometimes we may not want to ignore missing values, and allow the `nan` to propagate."
   ]
  },
  {
   "cell_type": "code",
   "execution_count": 138,
   "metadata": {
    "slideshow": {
     "slide_type": "fragment"
    }
   },
   "outputs": [
    {
     "data": {
      "text/plain": [
       "1    0.504793\n",
       "2         NaN\n",
       "3         NaN\n",
       "dtype: float64"
      ]
     },
     "execution_count": 138,
     "metadata": {},
     "output_type": "execute_result"
    }
   ],
   "source": [
    "dataDF.mean(skipna=False)"
   ]
  },
  {
   "cell_type": "markdown",
   "metadata": {
    "slideshow": {
     "slide_type": "slide"
    }
   },
   "source": [
    "* A useful summarization that gives a quick snapshot of multiple statistics for a `Series` or `DataFrame` is `describe`:"
   ]
  },
  {
   "cell_type": "code",
   "execution_count": 139,
   "metadata": {
    "slideshow": {
     "slide_type": "fragment"
    }
   },
   "outputs": [
    {
     "data": {
      "text/html": [
       "<div>\n",
       "<style scoped>\n",
       "    .dataframe tbody tr th:only-of-type {\n",
       "        vertical-align: middle;\n",
       "    }\n",
       "\n",
       "    .dataframe tbody tr th {\n",
       "        vertical-align: top;\n",
       "    }\n",
       "\n",
       "    .dataframe thead th {\n",
       "        text-align: right;\n",
       "    }\n",
       "</style>\n",
       "<table border=\"1\" class=\"dataframe\">\n",
       "  <thead>\n",
       "    <tr style=\"text-align: right;\">\n",
       "      <th></th>\n",
       "      <th>1</th>\n",
       "      <th>2</th>\n",
       "      <th>3</th>\n",
       "    </tr>\n",
       "  </thead>\n",
       "  <tbody>\n",
       "    <tr>\n",
       "      <th>count</th>\n",
       "      <td>4.000000</td>\n",
       "      <td>3.000000</td>\n",
       "      <td>3.000000</td>\n",
       "    </tr>\n",
       "    <tr>\n",
       "      <th>mean</th>\n",
       "      <td>0.504793</td>\n",
       "      <td>-0.141319</td>\n",
       "      <td>0.331143</td>\n",
       "    </tr>\n",
       "    <tr>\n",
       "      <th>std</th>\n",
       "      <td>0.754891</td>\n",
       "      <td>1.122807</td>\n",
       "      <td>1.092304</td>\n",
       "    </tr>\n",
       "    <tr>\n",
       "      <th>min</th>\n",
       "      <td>-0.407536</td>\n",
       "      <td>-1.293176</td>\n",
       "      <td>-0.835756</td>\n",
       "    </tr>\n",
       "    <tr>\n",
       "      <th>25%</th>\n",
       "      <td>0.069043</td>\n",
       "      <td>-0.686972</td>\n",
       "      <td>-0.167878</td>\n",
       "    </tr>\n",
       "    <tr>\n",
       "      <th>50%</th>\n",
       "      <td>0.555574</td>\n",
       "      <td>-0.080769</td>\n",
       "      <td>0.500000</td>\n",
       "    </tr>\n",
       "    <tr>\n",
       "      <th>75%</th>\n",
       "      <td>0.991324</td>\n",
       "      <td>0.434610</td>\n",
       "      <td>0.914593</td>\n",
       "    </tr>\n",
       "    <tr>\n",
       "      <th>max</th>\n",
       "      <td>1.315558</td>\n",
       "      <td>0.949988</td>\n",
       "      <td>1.329186</td>\n",
       "    </tr>\n",
       "  </tbody>\n",
       "</table>\n",
       "</div>"
      ],
      "text/plain": [
       "              1         2         3\n",
       "count  4.000000  3.000000  3.000000\n",
       "mean   0.504793 -0.141319  0.331143\n",
       "std    0.754891  1.122807  1.092304\n",
       "min   -0.407536 -1.293176 -0.835756\n",
       "25%    0.069043 -0.686972 -0.167878\n",
       "50%    0.555574 -0.080769  0.500000\n",
       "75%    0.991324  0.434610  0.914593\n",
       "max    1.315558  0.949988  1.329186"
      ]
     },
     "execution_count": 139,
     "metadata": {},
     "output_type": "execute_result"
    }
   ],
   "source": [
    "dataDF.describe()"
   ]
  },
  {
   "cell_type": "markdown",
   "metadata": {
    "slideshow": {
     "slide_type": "fragment"
    }
   },
   "source": [
    "* `describe` can detect non-numeric data and sometimes yield useful information about it."
   ]
  },
  {
   "cell_type": "markdown",
   "metadata": {
    "slideshow": {
     "slide_type": "slide"
    }
   },
   "source": [
    "## Writing Data to Files"
   ]
  },
  {
   "cell_type": "markdown",
   "metadata": {
    "slideshow": {
     "slide_type": "fragment"
    }
   },
   "source": [
    "* Pandas can also export data to a variety of storage formats.<br>\n",
    "<br>\n",
    "* We will bring your attention to just a couple of these."
   ]
  },
  {
   "cell_type": "code",
   "execution_count": 140,
   "metadata": {
    "slideshow": {
     "slide_type": "fragment"
    }
   },
   "outputs": [],
   "source": [
    "myDF = populationDF['2000']\n",
    "myDF.to_csv(\"data/roundedPopulation2000.csv\")"
   ]
  },
  {
   "cell_type": "markdown",
   "metadata": {
    "slideshow": {
     "slide_type": "fragment"
    }
   },
   "source": [
    "* The `to_csv` method writes a `DataFrame` to a comma-separated values (csv) file.<br>\n",
    "<br>\n",
    "* You can specify custom delimiters (via `sep` argument), how missing values are written (via `na_rep` argument), whether the index is writen (via `index` argument), whether the header is included (via `header` argument), among other options."
   ]
  }
 ],
 "metadata": {
  "celltoolbar": "Slideshow",
  "kernelspec": {
   "display_name": "Python 2",
   "language": "python",
   "name": "python2"
  },
  "language_info": {
   "codemirror_mode": {
    "name": "ipython",
    "version": 2
   },
   "file_extension": ".py",
   "mimetype": "text/x-python",
   "name": "python",
   "nbconvert_exporter": "python",
   "pygments_lexer": "ipython2",
   "version": "2.7.14"
  }
 },
 "nbformat": 4,
 "nbformat_minor": 1
}
