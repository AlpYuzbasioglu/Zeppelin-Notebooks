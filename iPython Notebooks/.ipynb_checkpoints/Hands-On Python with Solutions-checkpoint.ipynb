{
 "cells": [
  {
   "cell_type": "markdown",
   "metadata": {},
   "source": [
    "# Day 1 Hands-On"
   ]
  },
  {
   "cell_type": "markdown",
   "metadata": {},
   "source": [
    "#### <font color=blue>Question 1</font>"
   ]
  },
  {
   "cell_type": "markdown",
   "metadata": {},
   "source": [
    "Write a python code which will ask the user to enter their name. Print out a welcome message."
   ]
  },
  {
   "cell_type": "markdown",
   "metadata": {},
   "source": [
    " <div class=\"alert alert-block alert-info\">__Hint:__<br>\n",
    " - Consider use raw_input(#hint) method for getting input from user.</div>"
   ]
  },
  {
   "cell_type": "markdown",
   "metadata": {},
   "source": [
    "#### <font color=green>Solution 1</font>"
   ]
  },
  {
   "cell_type": "code",
   "execution_count": 1,
   "metadata": {},
   "outputs": [
    {
     "name": "stdout",
     "output_type": "stream",
     "text": [
      "What is your name: Alp\n",
      "Welcome Alp\n"
     ]
    }
   ],
   "source": [
    "name = raw_input(\"What is your name: \")\n",
    "print(\"Welcome \" + name)"
   ]
  },
  {
   "cell_type": "markdown",
   "metadata": {},
   "source": [
    "***"
   ]
  },
  {
   "cell_type": "markdown",
   "metadata": {},
   "source": [
    "#### <font color=blue>Question 2</font>"
   ]
  },
  {
   "cell_type": "markdown",
   "metadata": {},
   "source": [
    "Write a python code which will ask the user to enter its age. Print out a message that tells them the year that they will turn 100 years old."
   ]
  },
  {
   "cell_type": "markdown",
   "metadata": {},
   "source": [
    " <div class=\"alert alert-block alert-info\">__Hint:__<br>\n",
    " - Consider use int() and str() methods for type conversion.</div>"
   ]
  },
  {
   "cell_type": "markdown",
   "metadata": {},
   "source": [
    "#### <font color=green>Solution 2</font>"
   ]
  },
  {
   "cell_type": "code",
   "execution_count": 2,
   "metadata": {},
   "outputs": [
    {
     "name": "stdout",
     "output_type": "stream",
     "text": [
      "How old are you: 24\n",
      "You will be 100 years old in the year 2094\n"
     ]
    }
   ],
   "source": [
    "age = int(raw_input(\"How old are you: \"))\n",
    "year = (2018 - age)+100\n",
    "print(\"You will be 100 years old in the year \" + str(year))"
   ]
  },
  {
   "cell_type": "markdown",
   "metadata": {},
   "source": [
    "***"
   ]
  },
  {
   "cell_type": "markdown",
   "metadata": {},
   "source": [
    "#### <font color=blue>Question 3</font>"
   ]
  },
  {
   "cell_type": "markdown",
   "metadata": {},
   "source": [
    "Write a python code which will ask the user to enter two numbers. Do arithmetics operations __add__, __multiply__, __divide__, __power__ and __modulo__. Print out the results."
   ]
  },
  {
   "cell_type": "markdown",
   "metadata": {},
   "source": [
    " <div class=\"alert alert-block alert-info\">__Hint:__<br>\n",
    " - Normal division x/y works just as expected, with one caveat: remember that if you divide two **integer** values, you will get an **integer** division operation yielding an **integer** result.<br>\n",
    " <br>\n",
    " - So if you make sure at least one operand is a **float** number you'll get a **float** result.<br>\n",
    " <br>\n",
    " - In the future, Python will switch to always yielding a real result, and to force an integer division operation you use the special \"//\" integer division operator.  If you want that behavior now, just import division from future like that:\n",
    " <br>\n",
    " **from \\__future__ import division**\n",
    " </div>"
   ]
  },
  {
   "cell_type": "markdown",
   "metadata": {},
   "source": [
    " <div class=\"alert alert-block alert-warning\">\n",
    "__Suppose the following input is supplied to the program:__<br>\n",
    "First Number: 5<br>\n",
    "Second Number: 4<br>\n",
    "<br>\n",
    "__Then, the output should be:__<br>\n",
    "5+4=9<br>\n",
    "5*4=20<br>\n",
    "5/4=1.25<br>\n",
    "5^4=625<br>\n",
    "5%4=1<br>\n",
    "</div>"
   ]
  },
  {
   "cell_type": "markdown",
   "metadata": {},
   "source": [
    "#### <font color=green>Solution 3</font>"
   ]
  },
  {
   "cell_type": "code",
   "execution_count": 3,
   "metadata": {},
   "outputs": [
    {
     "name": "stdout",
     "output_type": "stream",
     "text": [
      "First Number: 5\n",
      "Second Number: 4\n",
      "5+4=9\n",
      "5*4=20\n",
      "5/4=1\n",
      "5^4=625\n",
      "5%4=1\n",
      "5//4=1\n"
     ]
    }
   ],
   "source": [
    "firstNum = int(raw_input(\"First Number: \"))\n",
    "secondNum = int(raw_input(\"Second Number: \"))\n",
    "print(str(firstNum) + \"+\" + str(secondNum) + \"=\" + str(firstNum+secondNum))\n",
    "print(str(firstNum) + \"*\" + str(secondNum) + \"=\" + str(firstNum*secondNum))\n",
    "print(str(firstNum) + \"/\" + str(secondNum) + \"=\" + str(firstNum/secondNum))\n",
    "print(str(firstNum) + \"^\" + str(secondNum) + \"=\" + str(firstNum**secondNum))\n",
    "print(str(firstNum) + \"%\" + str(secondNum) + \"=\" + str(firstNum%secondNum))\n",
    "print(str(firstNum) + \"//\" + str(secondNum) + \"=\" + str(firstNum//secondNum))"
   ]
  },
  {
   "cell_type": "markdown",
   "metadata": {},
   "source": [
    "***"
   ]
  },
  {
   "cell_type": "markdown",
   "metadata": {},
   "source": [
    "#### <font color=blue>Question 4</font>"
   ]
  },
  {
   "cell_type": "markdown",
   "metadata": {},
   "source": [
    "Write a python code which will ask the user to enter 3 sides of a triangle. Print out area of the triangle with format print."
   ]
  },
  {
   "cell_type": "markdown",
   "metadata": {},
   "source": [
    " <div class=\"alert alert-block alert-info\">__Hint:__<br>\n",
    "- Area of the triangle can be calculated with using Heron's formula.<br>\n",
    "&nbsp; s = (a+b+c)/2<br>\n",
    "&nbsp; area = √(s(s-a)*(s-b)*(s-c))<br>\n",
    "- print(\"The area of the triangle is %.2f\" % area)<br>\n",
    "- You can use math.sqrt() function from math module.<br>\n",
    "</div>"
   ]
  },
  {
   "cell_type": "markdown",
   "metadata": {},
   "source": [
    "#### <font color=green>Solution 4</font>"
   ]
  },
  {
   "cell_type": "code",
   "execution_count": 4,
   "metadata": {},
   "outputs": [
    {
     "name": "stdout",
     "output_type": "stream",
     "text": [
      "First Side: 3\n",
      "Second Side: 4\n",
      "Third Side: 5\n",
      "The area of the triangle is 6.00\n"
     ]
    }
   ],
   "source": [
    "a = int(raw_input(\"First Side: \"))\n",
    "b = int(raw_input(\"Second Side: \"))\n",
    "c = int(raw_input(\"Third Side: \"))\n",
    "s = (a+b+c)/2.0\n",
    "area = (s*(s-a)*(s-b)*(s-c)) ** 0.5\n",
    "print(\"The area of the triangle is %.2f\" % area)"
   ]
  },
  {
   "cell_type": "markdown",
   "metadata": {},
   "source": [
    "***"
   ]
  },
  {
   "cell_type": "markdown",
   "metadata": {},
   "source": [
    "#### <font color=blue>Question 5</font>"
   ]
  },
  {
   "cell_type": "markdown",
   "metadata": {},
   "source": [
    "Write a python code which will ask the user to enter a number. Print out a message that tells them the number is odd or even."
   ]
  },
  {
   "cell_type": "markdown",
   "metadata": {},
   "source": [
    " <div class=\"alert alert-block alert-info\">__Hint:__<br>\n",
    " - Consider use if, else statements and modulo operator.\n",
    "</div>"
   ]
  },
  {
   "cell_type": "markdown",
   "metadata": {},
   "source": [
    "#### <font color=green>Solution 5</font>"
   ]
  },
  {
   "cell_type": "code",
   "execution_count": 5,
   "metadata": {},
   "outputs": [
    {
     "name": "stdout",
     "output_type": "stream",
     "text": [
      "Number: 23\n",
      "23 is a odd number\n"
     ]
    }
   ],
   "source": [
    "num = int(raw_input(\"Number: \"))\n",
    "mod = num%2\n",
    "if mod > 0:\n",
    "    print(str(num) + \" is a odd number\")\n",
    "else:\n",
    "    print(str(num) + \" is a even number\")"
   ]
  },
  {
   "cell_type": "markdown",
   "metadata": {},
   "source": [
    "***"
   ]
  },
  {
   "cell_type": "markdown",
   "metadata": {},
   "source": [
    "#### <font color=blue>Question 5 Extra</font>"
   ]
  },
  {
   "cell_type": "markdown",
   "metadata": {},
   "source": [
    "Modify your previous solution code. New code print out different message if user input number multiple of 5."
   ]
  },
  {
   "cell_type": "markdown",
   "metadata": {},
   "source": [
    " <div class=\"alert alert-block alert-info\">__Hint:__<br>\n",
    " - Consider use “nested” if, else statements.\n",
    "</div>"
   ]
  },
  {
   "cell_type": "markdown",
   "metadata": {},
   "source": [
    " <div class=\"alert alert-block alert-warning\">\n",
    "__Suppose the following input is supplied to the program:<br>__\n",
    "200<br>\n",
    "<br>\n",
    "__Then, the output should be:__<br>\n",
    "200 is multiple of 5 and even<br>\n",
    "</div>"
   ]
  },
  {
   "cell_type": "markdown",
   "metadata": {},
   "source": [
    "#### <font color=green>Solution 5 Extra</font>"
   ]
  },
  {
   "cell_type": "code",
   "execution_count": 6,
   "metadata": {},
   "outputs": [
    {
     "name": "stdout",
     "output_type": "stream",
     "text": [
      "Number: 200\n",
      "200 is multiple of 5 and even number\n"
     ]
    }
   ],
   "source": [
    "num = int(raw_input(\"Number: \"))\n",
    "mod = num%5\n",
    "if mod == 0:\n",
    "    if num%2 ==0:\n",
    "        print(str(num) + \" is multiple of 5 and even number\")\n",
    "    else: \n",
    "        print(str(num) + \" is multiple of 5 and odd number\")\n",
    "else:\n",
    "    if num%2 ==0:\n",
    "        print(str(num) + \" is not multiple of 5 and even number\")\n",
    "    else: \n",
    "        print(str(num) + \" is not multiple of 5 and odd number\")"
   ]
  },
  {
   "cell_type": "markdown",
   "metadata": {},
   "source": [
    "***"
   ]
  },
  {
   "cell_type": "markdown",
   "metadata": {},
   "source": [
    "#### <font color=blue>Question 6</font>"
   ]
  },
  {
   "cell_type": "markdown",
   "metadata": {},
   "source": [
    "Leap years occur according to the following formula: a leap year is divisible by four, but not by one hundred, unless it is divisible by four hundred. <br>For example, 1992, 1996, and 2000 are leap years, but 1993 and 1900 are not.\n",
    "<br>Write a python code which will ask the user to enter a year. Print out a message that tells them the year is leap or not."
   ]
  },
  {
   "cell_type": "markdown",
   "metadata": {},
   "source": [
    " <div class=\"alert alert-block alert-info\">__Hint:__<br>\n",
    " - Consider use “nested” if, else statements.\n",
    "</div>"
   ]
  },
  {
   "cell_type": "markdown",
   "metadata": {},
   "source": [
    "#### <font color=green>Solution 6</font>"
   ]
  },
  {
   "cell_type": "code",
   "execution_count": 7,
   "metadata": {},
   "outputs": [
    {
     "name": "stdout",
     "output_type": "stream",
     "text": [
      "Year: 1900\n",
      "1900 is  not leap year\n"
     ]
    }
   ],
   "source": [
    "year = int(raw_input(\"Year: \"))\n",
    "if (year % 4) == 0:\n",
    "    if (year % 100) == 0:\n",
    "        if (year % 400) == 0:\n",
    "            print(str(year) + \" is leap year\")\n",
    "        else:\n",
    "            print(str(year) + \" is  not leap year\")\n",
    "    else:\n",
    "        print(str(year) + \" is leap year\")\n",
    "else:\n",
    "    print(str(year) + \" is not leap year\")"
   ]
  },
  {
   "cell_type": "markdown",
   "metadata": {},
   "source": [
    "***"
   ]
  },
  {
   "cell_type": "markdown",
   "metadata": {},
   "source": [
    "#### <font color=blue>Question 6 Extra</font>"
   ]
  },
  {
   "cell_type": "markdown",
   "metadata": {},
   "source": [
    "Modify your previous solution code. New code print out exactly same message. But this time use “Python Logical Operators\""
   ]
  },
  {
   "cell_type": "markdown",
   "metadata": {},
   "source": [
    " <div class=\"alert alert-block alert-info\">__Hint:__ <br>\n",
    "- Consider use if, else statements with “Python Logical Operators\".\n",
    "</div>"
   ]
  },
  {
   "cell_type": "markdown",
   "metadata": {},
   "source": [
    "#### <font color=green>Solution 6 Extra</font>"
   ]
  },
  {
   "cell_type": "code",
   "execution_count": 8,
   "metadata": {},
   "outputs": [
    {
     "name": "stdout",
     "output_type": "stream",
     "text": [
      "Year: 2000\n",
      "2000 is leap year\n"
     ]
    }
   ],
   "source": [
    "year = int(raw_input(\"Year: \"))\n",
    "if (year%4 == 0 and year % 100 != 0) or year%400 ==0:\n",
    "    print(str(year) + \" is leap year\")\n",
    "else:\n",
    "    print(str(year) + \" is not leap year\")"
   ]
  },
  {
   "cell_type": "markdown",
   "metadata": {},
   "source": [
    "***"
   ]
  },
  {
   "cell_type": "markdown",
   "metadata": {},
   "source": [
    "#### <font color=blue>Question 7</font>"
   ]
  },
  {
   "cell_type": "markdown",
   "metadata": {},
   "source": [
    "Write a python code which will convert temperatures back and forth from the Celsius and Fahrenheit temperature. Ask the user to enter a enter a temperature and type."
   ]
  },
  {
   "cell_type": "markdown",
   "metadata": {},
   "source": [
    "<div class=\"alert alert-block alert-info\">__Hint:__ \n",
    "<br>\n",
    "Tc=(5/9)*(Tf-32)<br>\n",
    "Tf=(9/5)*Tc+32<br>\n",
    "- Consider use two different function for conversion Celsius to Fahrenheit and Fahrenheit to Celsius.<br>\n",
    "- Consider use string.upper() method for providing case insensitivity.\n",
    "</div>"
   ]
  },
  {
   "cell_type": "markdown",
   "metadata": {},
   "source": [
    " <div class=\"alert alert-block alert-warning\">\n",
    "__Suppose the following input is supplied to the program:__<br>\n",
    "Enter a Temperature: 32<br>\n",
    "Enter F for Fahrenheit or C for Celsius: c<br>\n",
    "<br>\n",
    "__Then, the output should be:__<br>\n",
    "Temperature is 32 Celsius or 89.6 Fahrenheit<br>\n",
    "</div>"
   ]
  },
  {
   "cell_type": "markdown",
   "metadata": {},
   "source": [
    "#### <font color=green>Solution 7</font>"
   ]
  },
  {
   "cell_type": "code",
   "execution_count": 9,
   "metadata": {},
   "outputs": [
    {
     "name": "stdout",
     "output_type": "stream",
     "text": [
      "Temperature: 32\n",
      "Enter F for Fahrenheit or C for Celsius: c\n",
      "Temperature is 32.0 Celsius or 89.6 Fahrenheit\n"
     ]
    }
   ],
   "source": [
    "def FahrenheittoCelsius(temp):\n",
    "  return((5.0/9)*(temp-32))\n",
    "  \n",
    "def CelsiustoFahrenheit(temp):\n",
    "  return((9.0/5)*temp+32)\n",
    "\n",
    "temperature = float(raw_input(\"Temperature: \"))\n",
    "tempType = str(raw_input(\"Enter F for Fahrenheit or C for Celsius: \"))\n",
    "\n",
    "if tempType.upper() == 'C':\n",
    "  print(\"Temperature is \" + str(temperature) + \" Celsius or \" + str(CelsiustoFahrenheit(temperature)) + \" Fahrenheit\")\n",
    "elif tempType.upper() == 'F':\n",
    "  print(\"Temperature is \" + str(temperature) + \" Fahrenheit or \" + str(FahrenheittoCelsius(temperature)) + \" Celsius\")\n",
    "else: \n",
    "  print(\"try again with C or F\")"
   ]
  },
  {
   "cell_type": "markdown",
   "metadata": {},
   "source": [
    "***"
   ]
  },
  {
   "cell_type": "markdown",
   "metadata": {},
   "source": [
    "#### <font color=blue>Question 8</font>"
   ]
  },
  {
   "cell_type": "markdown",
   "metadata": {},
   "source": [
    "Write a python code which will swap two variables."
   ]
  },
  {
   "cell_type": "markdown",
   "metadata": {},
   "source": [
    "#### <font color=green>Solution 8</font>"
   ]
  },
  {
   "cell_type": "code",
   "execution_count": 10,
   "metadata": {},
   "outputs": [],
   "source": [
    "x = 3\n",
    "y = 9\n",
    "\n",
    "temp = x\n",
    "x = y\n",
    "y = temp"
   ]
  },
  {
   "cell_type": "markdown",
   "metadata": {},
   "source": [
    "#### <font color=green>Alternative Solution 8</font>"
   ]
  },
  {
   "cell_type": "code",
   "execution_count": 11,
   "metadata": {},
   "outputs": [],
   "source": [
    "x,y = y,x\n",
    "# In python, there is a simple construct to swap variable without the use of any temporary variable."
   ]
  },
  {
   "cell_type": "markdown",
   "metadata": {},
   "source": [
    "***"
   ]
  },
  {
   "cell_type": "markdown",
   "metadata": {},
   "source": [
    "#### <font color=blue>Question 9</font>"
   ]
  },
  {
   "cell_type": "markdown",
   "metadata": {},
   "source": [
    "Write a python code which will ask the user to enter a number. Print out the fibonacci sequence up to user entered number."
   ]
  },
  {
   "cell_type": "markdown",
   "metadata": {},
   "source": [
    " <div class=\"alert alert-block alert-info\">__Hint:__ <br>\n",
    "- A Fibonacci sequence is the integer sequence of 0, 1, 1, 2, 3, 5, 8... <br>\n",
    "- The first two terms are 0 and 1. All other terms are obtained by adding the preceding two terms.<br>\n",
    "<br>\n",
    "- You can use \"print(i),\" for inline printing\n",
    "</div>"
   ]
  },
  {
   "cell_type": "markdown",
   "metadata": {},
   "source": [
    " <div class=\"alert alert-block alert-warning\">\n",
    "__Suppose the following input is supplied to the program:__<br>\n",
    "How many terms? 20<br>\n",
    "<br>\n",
    "__Then, the output should be:__<br>\n",
    "Fibonacci sequence up to 20:<br>\n",
    "0 1 1 2 3 5 8 13 21 34 55 89 144 233 377 610 987 1597 2584 4181\n",
    "</div>"
   ]
  },
  {
   "cell_type": "markdown",
   "metadata": {},
   "source": [
    "#### <font color=green>Solution 9</font>"
   ]
  },
  {
   "cell_type": "code",
   "execution_count": 12,
   "metadata": {},
   "outputs": [
    {
     "name": "stdout",
     "output_type": "stream",
     "text": [
      "How many terms? 20\n",
      "Fibonacci sequence up to 20:\n",
      "0 1 1 2 3 5 8 13 21 34 55 89 144 233 377 610 987 1597 2584 4181\n"
     ]
    }
   ],
   "source": [
    "nterms = int(raw_input(\"How many terms? \"))\n",
    "n1 = 0\n",
    "n2 = 1\n",
    "count = 0\n",
    "\n",
    "if nterms <= 0:\n",
    "    print(\"Please enter a positive integer\")\n",
    "elif nterms == 1:\n",
    "    print(\"Fibonacci sequence up to \" + str(nterms) + \":\")\n",
    "    print(n1)\n",
    "else:\n",
    "    print(\"Fibonacci sequence up to \" + str(nterms) + \":\")\n",
    "    while count < nterms:\n",
    "        print(n1),\n",
    "        nth = n1 + n2\n",
    "        n1 = n2\n",
    "        n2 = nth\n",
    "        count += 1"
   ]
  },
  {
   "cell_type": "markdown",
   "metadata": {},
   "source": [
    "***"
   ]
  },
  {
   "cell_type": "markdown",
   "metadata": {},
   "source": [
    "#### <font color=blue>Question 9 Extra</font>"
   ]
  },
  {
   "cell_type": "markdown",
   "metadata": {},
   "source": [
    "Modify your previous solution code. New code print out exactly same message. But this time use recursive functions."
   ]
  },
  {
   "cell_type": "markdown",
   "metadata": {},
   "source": [
    " <div class=\"alert alert-block alert-info\">__Hint:__ <br>\n",
    "- A function to call itself is termed as recursive functions.\n",
    "</div>"
   ]
  },
  {
   "cell_type": "markdown",
   "metadata": {},
   "source": [
    "#### <font color=green>Solution 9 Extra</font>"
   ]
  },
  {
   "cell_type": "code",
   "execution_count": 13,
   "metadata": {
    "scrolled": true
   },
   "outputs": [
    {
     "name": "stdout",
     "output_type": "stream",
     "text": [
      "How many terms? 20\n",
      "Fibonacci sequence up to 20:\n",
      "0 1 1 2 3 5 8 13 21 34 55 89 144 233 377 610 987 1597 2584 4181\n"
     ]
    }
   ],
   "source": [
    "def recursivefibo(n):\n",
    "    if n <= 1:\n",
    "        return n\n",
    "    else:\n",
    "        return(recursivefibo(n-1) + recursivefibo(n-2))\n",
    "       \n",
    "nterms = int(raw_input(\"How many terms? \"))\n",
    "\n",
    "if nterms <= 0:\n",
    "    print(\"Plese enter a positive integer\")\n",
    "else:\n",
    "    print(\"Fibonacci sequence up to \" + str(nterms) + \":\")\n",
    "    for i in range(nterms):\n",
    "        print(recursivefibo(i)),"
   ]
  },
  {
   "cell_type": "markdown",
   "metadata": {},
   "source": [
    "***"
   ]
  },
  {
   "cell_type": "markdown",
   "metadata": {},
   "source": [
    "#### <font color=blue>Question 10</font>"
   ]
  },
  {
   "cell_type": "markdown",
   "metadata": {},
   "source": [
    "Write a python code which will generate a random integer between 0 and 100 and print it."
   ]
  },
  {
   "cell_type": "markdown",
   "metadata": {},
   "source": [
    " <div class=\"alert alert-block alert-info\">__Hint:__ <br>\n",
    "- Consider use randint() function.<br>\n",
    "- This function is defined in random module so don’t forget to import that module.\n",
    "</div>"
   ]
  },
  {
   "cell_type": "markdown",
   "metadata": {},
   "source": [
    "#### <font color=green>Solution 10</font>"
   ]
  },
  {
   "cell_type": "code",
   "execution_count": 14,
   "metadata": {
    "scrolled": false
   },
   "outputs": [
    {
     "name": "stdout",
     "output_type": "stream",
     "text": [
      "51\n"
     ]
    }
   ],
   "source": [
    "import random\n",
    "print(random.randint(0,100))"
   ]
  },
  {
   "cell_type": "markdown",
   "metadata": {},
   "source": [
    "***"
   ]
  },
  {
   "cell_type": "markdown",
   "metadata": {},
   "source": [
    "#### <font color=blue>Question 11</font>"
   ]
  },
  {
   "cell_type": "markdown",
   "metadata": {},
   "source": [
    "Write a “Guess the number” game. Your python code will generate a random integer between 0 and 100 and ask you to guess it. <br>\n",
    "Your code tell you if each guess is too high or too low. If you guess right number print out how many guess you made."
   ]
  },
  {
   "cell_type": "markdown",
   "metadata": {},
   "source": [
    " <div class=\"alert alert-block alert-info\">__Hint:__ <br>\n",
    "- Consider use randint() function.<br>\n",
    "- Consider use break statement.\n",
    "</div>"
   ]
  },
  {
   "cell_type": "markdown",
   "metadata": {},
   "source": [
    " <div class=\"alert alert-block alert-warning\">\n",
    "__Suppose the following input is supplied to the program:__<br>\n",
    "Enter an integer from 1 to 100:  50<br>\n",
    "<br>\n",
    "__Then, the output should be:__<br>\n",
    "Your guess is high<br>\n",
    "Enter an integer from 1 to 100:  25<br>\n",
    "Your guess is low<br>\n",
    "Enter an integer from 1 to 100:  37<br>\n",
    "Your guess is high<br>\n",
    "Enter an integer from 1 to 100:  32<br>\n",
    "You guessed it in 4 guesses!\n",
    "</div>"
   ]
  },
  {
   "cell_type": "markdown",
   "metadata": {},
   "source": [
    "#### <font color=green>Solution 11</font>"
   ]
  },
  {
   "cell_type": "code",
   "execution_count": 15,
   "metadata": {
    "scrolled": true
   },
   "outputs": [
    {
     "name": "stdout",
     "output_type": "stream",
     "text": [
      "type -1 to exit\n",
      "Enter an integer from 1 to 100: 50\n",
      "Your guess is too high\n",
      "Enter an integer from 1 to 100: 25\n",
      "Your guess is too high\n",
      "Enter an integer from 1 to 100: 12\n",
      "Your guess is too high\n",
      "Enter an integer from 1 to 100: 10\n",
      "Your guess is too high\n",
      "Enter an integer from 1 to 100: 11\n",
      "Your guess is too high\n",
      "Enter an integer from 1 to 100: 01\n",
      "Your guess is too low\n",
      "Enter an integer from 1 to 100: 6\n",
      "Your guess is too low\n",
      "Enter an integer from 1 to 100: 8\n",
      "Your guess is too low\n",
      "Enter an integer from 1 to 100: 9\n",
      "You guessed it in 9 guesses!\n"
     ]
    }
   ],
   "source": [
    "import random\n",
    "guessesTaken = 0\n",
    "n = random.randint(1, 100)\n",
    "print(\"type -1 to exit\")\n",
    "guess = int(input(\"Enter an integer from 1 to 100: \"))\n",
    "while True:\n",
    "    guessesTaken = guessesTaken + 1\n",
    "    if guess == -1:\n",
    "        print(\"You give up too easily :)\")\n",
    "        break\n",
    "    if guess < n:\n",
    "        print(\"Your guess is too low\")\n",
    "        guess = int(input(\"Enter an integer from 1 to 100: \"))\n",
    "    elif guess > n:\n",
    "        print(\"Your guess is too high\")\n",
    "        guess = int(input(\"Enter an integer from 1 to 100: \"))\n",
    "    else:\n",
    "        print(\"You guessed it in \" + str(guessesTaken) + \" guesses!\")\n",
    "        break"
   ]
  },
  {
   "cell_type": "markdown",
   "metadata": {},
   "source": [
    "***"
   ]
  },
  {
   "cell_type": "markdown",
   "metadata": {},
   "source": [
    "#### <font color=blue>Question 12</font>"
   ]
  },
  {
   "cell_type": "markdown",
   "metadata": {},
   "source": [
    "Write a python code which will ask the user to enter a string. Print out count up the number of vowels contained in the string.<br>\n",
    "(Source: MIT Introduction to Computer Science and Programming)"
   ]
  },
  {
   "cell_type": "markdown",
   "metadata": {},
   "source": [
    " <div class=\"alert alert-block alert-info\">__Hint:__ <br>\n",
    "- Consider use string.upper() method for providing case insensitivity.<br>\n",
    "- Consider use if, else statements with “Python Logical Operators\".<br>\n",
    "- Valid vowels are: 'a', 'e', 'i', 'o', and ‘u'.\n",
    "</div>"
   ]
  },
  {
   "cell_type": "markdown",
   "metadata": {},
   "source": [
    "#### <font color=green>Solution 12</font>"
   ]
  },
  {
   "cell_type": "code",
   "execution_count": 16,
   "metadata": {
    "scrolled": false
   },
   "outputs": [
    {
     "name": "stdout",
     "output_type": "stream",
     "text": [
      "MIT Introduction to Computer Science and Programming\n",
      "Number of vowels:17\n"
     ]
    }
   ],
   "source": [
    "s = raw_input()\n",
    "counter = 0\n",
    "for i in s.lower():\n",
    "    if i == 'a' or i == 'e' or i == 'i' or i == 'o' or i == 'u':\n",
    "        counter += 1\n",
    "\n",
    "print('Number of vowels:' + str(counter))"
   ]
  },
  {
   "cell_type": "markdown",
   "metadata": {},
   "source": [
    "***"
   ]
  },
  {
   "cell_type": "markdown",
   "metadata": {},
   "source": [
    "#### <font color=blue>Question 13</font>"
   ]
  },
  {
   "cell_type": "markdown",
   "metadata": {},
   "source": [
    "Write a python code which will ask the user to enter two strings. First one will be the main string and the second one will be the search string. Print out the number of times the search string occurs in main string."
   ]
  },
  {
   "cell_type": "markdown",
   "metadata": {},
   "source": [
    " <div class=\"alert alert-block alert-info\">__Hint:__ <br>\n",
    "\n",
    "- Consider use count(#searchString) function for string.<br>\n",
    "- Consider use string.lower() method for providing case insensitivity.<br>\n",
    "</div>"
   ]
  },
  {
   "cell_type": "markdown",
   "metadata": {},
   "source": [
    " <div class=\"alert alert-block alert-warning\">\n",
    "__Suppose the following input is supplied to the program:__<br>\n",
    "Main String: Hello World! I'm here at Data Science Bootcamp.<br>\n",
    "Search String: he<br>\n",
    "<br>\n",
    "__Then, the output should be:__<br>\n",
    "2\n",
    "</div>"
   ]
  },
  {
   "cell_type": "markdown",
   "metadata": {},
   "source": [
    "#### <font color=green>Solution 13</font>"
   ]
  },
  {
   "cell_type": "code",
   "execution_count": 17,
   "metadata": {
    "scrolled": true
   },
   "outputs": [
    {
     "name": "stdout",
     "output_type": "stream",
     "text": [
      "Main String: Hello World! I'm here at Data Science Bootcamp.\n",
      "Search String: he\n",
      "2\n"
     ]
    }
   ],
   "source": [
    "mainString = raw_input(\"Main String: \").lower()\n",
    "searchString = raw_input(\"Search String: \").lower()\n",
    "print(mainString.count(searchString))"
   ]
  },
  {
   "cell_type": "markdown",
   "metadata": {},
   "source": [
    "***"
   ]
  },
  {
   "cell_type": "markdown",
   "metadata": {},
   "source": [
    "#### <font color=blue>Question 13 Extra</font>"
   ]
  },
  {
   "cell_type": "markdown",
   "metadata": {},
   "source": [
    "Modify your previous solution code. New code will ask the user to ender three strings.Third string will be replace string. Your python code will be find and replace search string with replace string in your main string. Print out the new version of main string."
   ]
  },
  {
   "cell_type": "markdown",
   "metadata": {},
   "source": [
    " <div class=\"alert alert-block alert-info\">__Hint:__ <br>\n",
    "\n",
    "- Consider use replace(#search, #replace) function for string.\n",
    "</div>"
   ]
  },
  {
   "cell_type": "markdown",
   "metadata": {},
   "source": [
    " <div class=\"alert alert-block alert-warning\">\n",
    "__Suppose the following input is supplied to the program:__<br>\n",
    "Main String: Hello World! I'm here at Data Science Bootcamp.<br>\n",
    "Search String: Hello<br>\n",
    "Search String: Hi<br>\n",
    "<br>\n",
    "__Then, the output should be:__<br>\n",
    "Hi World! I'm here at Data Science Bootcamp.\n",
    "</div>"
   ]
  },
  {
   "cell_type": "markdown",
   "metadata": {},
   "source": [
    "#### <font color=green>Solution 13 Extra</font>"
   ]
  },
  {
   "cell_type": "code",
   "execution_count": 18,
   "metadata": {
    "scrolled": false
   },
   "outputs": [
    {
     "name": "stdout",
     "output_type": "stream",
     "text": [
      "Main String: Hello World! I'm here at Data Science Bootcamp.\n",
      "Search String: Hello\n",
      "Replace String: Hi\n",
      "Hi World! I'm here at Data Science Bootcamp.\n"
     ]
    }
   ],
   "source": [
    "mainString = raw_input(\"Main String: \")\n",
    "searchString = raw_input(\"Search String: \")\n",
    "replaceString = raw_input(\"Replace String: \")\n",
    "print(mainString.replace(searchString, replaceString))"
   ]
  },
  {
   "cell_type": "markdown",
   "metadata": {},
   "source": [
    "***"
   ]
  },
  {
   "cell_type": "markdown",
   "metadata": {},
   "source": [
    "#### <font color=blue>Question 14</font>"
   ]
  },
  {
   "cell_type": "markdown",
   "metadata": {},
   "source": [
    "Write a python code which will ask the user to enter a string with no spaces in it. Print out longest substring of user entered string in which the letters occur in alphabetical order.<br>\n",
    "(Source: MIT Introduction to Computer Science and Programming)"
   ]
  },
  {
   "cell_type": "markdown",
   "metadata": {},
   "source": [
    " <div class=\"alert alert-block alert-info\">__Hint:__ <br>\n",
    "- Strings, in Python, are arrays of characters so you can access a character in a index like this string[#index].<br>\n",
    "- Also you can create substring like this string[#start:#end].\n",
    "</div>"
   ]
  },
  {
   "cell_type": "markdown",
   "metadata": {},
   "source": [
    " <div class=\"alert alert-block alert-warning\">\n",
    "__Suppose the following input is supplied to the program:__<br>\n",
    "String: abcbcdefg<br>\n",
    "<br>\n",
    "__Then, the output should be:__<br>\n",
    "Longest substring in alphabetical order is: bcdefg\n",
    "</div>"
   ]
  },
  {
   "cell_type": "markdown",
   "metadata": {},
   "source": [
    "#### <font color=green>Solution 14</font>"
   ]
  },
  {
   "cell_type": "code",
   "execution_count": 19,
   "metadata": {
    "scrolled": true
   },
   "outputs": [
    {
     "name": "stdout",
     "output_type": "stream",
     "text": [
      "String: abcbcdefg\n",
      "Longest substring in alphabetical order is: bcdefg\n"
     ]
    }
   ],
   "source": [
    "s = raw_input(\"String: \")\n",
    "count = 0\n",
    "maxcount = 0\n",
    "result = 0\n",
    "\n",
    "for char in range(len(s) - 1):\n",
    "    if (s[char] <= s[char + 1]):\n",
    "        count += 1\n",
    "        if count > maxcount:\n",
    "            maxcount = count\n",
    "            result = char + 1\n",
    "    else:\n",
    "        count = 0\n",
    "startposition = result - maxcount\n",
    "print(\"Longest substring in alphabetical order is: \" + s[startposition:result + 1])\n"
   ]
  },
  {
   "cell_type": "markdown",
   "metadata": {},
   "source": [
    "***"
   ]
  },
  {
   "cell_type": "markdown",
   "metadata": {},
   "source": [
    "#### <font color=blue>Question 15</font>"
   ]
  },
  {
   "cell_type": "markdown",
   "metadata": {},
   "source": [
    "Write a python code which will find all such numbers which are divisible by 8 but are not a multiple of 5, between 1000 and 1200 (both included).<br>\n",
    "The numbers must be stored in list and printed in a comma-separated on a single line."
   ]
  },
  {
   "cell_type": "markdown",
   "metadata": {},
   "source": [
    " <div class=\"alert alert-block alert-info\">__Hint:__ <br>\n",
    "- Consider use range(#begin, #end) method <br>\n",
    "- Consider use join(sequence) method\n",
    "</div>"
   ]
  },
  {
   "cell_type": "markdown",
   "metadata": {},
   "source": [
    "#### <font color=green>Solution 15</font>"
   ]
  },
  {
   "cell_type": "code",
   "execution_count": 20,
   "metadata": {
    "scrolled": true
   },
   "outputs": [
    {
     "name": "stdout",
     "output_type": "stream",
     "text": [
      "1008,1016,1024,1032,1048,1056,1064,1072,1088,1096,1104,1112,1128,1136,1144,1152,1168,1176,1184,1192\n"
     ]
    }
   ],
   "source": [
    "arr = []\n",
    "for i in range(1000, 1201):\n",
    "    if (i%8 == 0) and (i%5 != 0):\n",
    "        arr.append(str(i))\n",
    "\n",
    "print(\",\".join(arr))"
   ]
  },
  {
   "cell_type": "markdown",
   "metadata": {},
   "source": [
    "***"
   ]
  },
  {
   "cell_type": "markdown",
   "metadata": {},
   "source": [
    "#### <font color=blue>Question 16</font>"
   ]
  },
  {
   "cell_type": "markdown",
   "metadata": {},
   "source": [
    "Write a python function which compute the factorial of a given number."
   ]
  },
  {
   "cell_type": "markdown",
   "metadata": {},
   "source": [
    " <div class=\"alert alert-block alert-info\">__Hint:__ <br>\n",
    "0! = 1\n",
    "</div>"
   ]
  },
  {
   "cell_type": "markdown",
   "metadata": {},
   "source": [
    " <div class=\"alert alert-block alert-warning\">\n",
    "__Suppose the following input is supplied to the program:__<br>\n",
    "5<br>\n",
    "<br>\n",
    "__Then, the output should be:__<br>\n",
    "120\n",
    "</div>"
   ]
  },
  {
   "cell_type": "markdown",
   "metadata": {},
   "source": [
    "#### <font color=green>Solution 16</font>"
   ]
  },
  {
   "cell_type": "code",
   "execution_count": 21,
   "metadata": {
    "scrolled": true
   },
   "outputs": [
    {
     "name": "stdout",
     "output_type": "stream",
     "text": [
      "5\n",
      "120\n"
     ]
    }
   ],
   "source": [
    "def fact(x):\n",
    "    if x == 0:\n",
    "        return 1\n",
    "    return x * fact(x - 1)\n",
    "x = int(raw_input())\n",
    "print(fact(x))"
   ]
  },
  {
   "cell_type": "markdown",
   "metadata": {},
   "source": [
    "***"
   ]
  },
  {
   "cell_type": "markdown",
   "metadata": {},
   "source": [
    "#### <font color=blue>Question 17</font>"
   ]
  },
  {
   "cell_type": "markdown",
   "metadata": {},
   "source": [
    "Write a python code to solve a classic puzzle: \n",
    "We count 26 heads and 88 legs among the chickens and rabbits in a farm. How many rabbits and how many chickens do we have?"
   ]
  },
  {
   "cell_type": "markdown",
   "metadata": {},
   "source": [
    " <div class=\"alert alert-block alert-info\">__Hint:__ <br>\n",
    "- Consider use a function for more reusability\n",
    "</div>"
   ]
  },
  {
   "cell_type": "markdown",
   "metadata": {},
   "source": [
    " <div class=\"alert alert-block alert-warning\">\n",
    "__Output should be:__<br>\n",
    "Chicken: 8<br>\n",
    "Rabbit: 18\n",
    "</div>"
   ]
  },
  {
   "cell_type": "markdown",
   "metadata": {},
   "source": [
    "#### <font color=green>Solution 17</font>"
   ]
  },
  {
   "cell_type": "code",
   "execution_count": 22,
   "metadata": {
    "scrolled": true
   },
   "outputs": [
    {
     "name": "stdout",
     "output_type": "stream",
     "text": [
      "Chicken: 8\n",
      "Rabbit: 18\n"
     ]
    }
   ],
   "source": [
    "def solve(numheads,numlegs):\n",
    "    for chickenCount in range(numheads+1):\n",
    "        rabbitCount = numheads - chickenCount\n",
    "        if (2*chickenCount + 4*rabbitCount) == numlegs:\n",
    "            return (chickenCount, rabbitCount)\n",
    "    return \"No solutions!\"\n",
    "\n",
    "numheads=26\n",
    "numlegs=88\n",
    "solution=solve(numheads,numlegs)\n",
    "print(\"Chicken: \" + str(solution[0]))\n",
    "print(\"Rabbit: \" + str(solution[1]))"
   ]
  },
  {
   "cell_type": "markdown",
   "metadata": {},
   "source": [
    "***"
   ]
  },
  {
   "cell_type": "markdown",
   "metadata": {},
   "source": [
    "#### <font color=blue>Question 18</font>"
   ]
  },
  {
   "cell_type": "markdown",
   "metadata": {},
   "source": [
    "Write a python code which will ask the user to enter a number then generate a dictionary that contains 1 to that number as keys and 1 to that number squared."
   ]
  },
  {
   "cell_type": "markdown",
   "metadata": {},
   "source": [
    " <div class=\"alert alert-block alert-warning\">\n",
    "__Suppose the following input is supplied to the program:__<br>\n",
    "8<br>\n",
    "<br>\n",
    "__Then, the output should be:__<br>\n",
    "{1: 1, 2: 4, 3: 9, 4: 16, 5: 25, 6: 36, 7: 49, 8: 64}\n",
    "</div>"
   ]
  },
  {
   "cell_type": "markdown",
   "metadata": {},
   "source": [
    "#### <font color=green>Solution 18</font>"
   ]
  },
  {
   "cell_type": "code",
   "execution_count": 23,
   "metadata": {
    "scrolled": true
   },
   "outputs": [
    {
     "name": "stdout",
     "output_type": "stream",
     "text": [
      "9\n",
      "{1: 1, 2: 4, 3: 9, 4: 16, 5: 25, 6: 36, 7: 49, 8: 64, 9: 81}\n"
     ]
    }
   ],
   "source": [
    "n=int(raw_input())\n",
    "d={}\n",
    "for i in range(1,n+1):\n",
    "    d[i]=i*i\n",
    "\n",
    "print d"
   ]
  },
  {
   "cell_type": "markdown",
   "metadata": {},
   "source": [
    "***"
   ]
  },
  {
   "cell_type": "markdown",
   "metadata": {},
   "source": [
    "#### <font color=blue>Question 19</font>"
   ]
  },
  {
   "cell_type": "markdown",
   "metadata": {},
   "source": [
    "Write a python code which will ask the user to enter 2 numbers then generates a 2-dimensional list. First number will be row count and the second number will be column count. Also values of this elements will be i * j. "
   ]
  },
  {
   "cell_type": "markdown",
   "metadata": {},
   "source": [
    " <div class=\"alert alert-block alert-info\">__Hint:__ <br>\n",
    "- Consider use nested two loops.\n",
    "</div>"
   ]
  },
  {
   "cell_type": "markdown",
   "metadata": {},
   "source": [
    " <div class=\"alert alert-block alert-warning\">\n",
    "__Suppose the following input is supplied to the program:__<br>\n",
    "Row Count: 4<br>\n",
    "Column Count: 3<br>\n",
    "<br>\n",
    "__Then, the output should be:__<br>\n",
    "[0, 0, 0]<br>\n",
    "[0, 1, 2]<br>\n",
    "[0, 2, 4]<br>\n",
    "[0, 3, 6]<br>\n",
    "</div>"
   ]
  },
  {
   "cell_type": "markdown",
   "metadata": {},
   "source": [
    "#### <font color=green>Solution 19</font>"
   ]
  },
  {
   "cell_type": "code",
   "execution_count": 24,
   "metadata": {
    "scrolled": false
   },
   "outputs": [
    {
     "name": "stdout",
     "output_type": "stream",
     "text": [
      "Row Count: 4\n",
      "Column Count: 3\n",
      "[0, 0, 0]\n",
      "[0, 1, 2]\n",
      "[0, 2, 4]\n",
      "[0, 3, 6]\n"
     ]
    }
   ],
   "source": [
    "rowNum = int(raw_input(\"Row Count: \"))\n",
    "colNum = int(raw_input(\"Column Count: \"))\n",
    "multilist = [[0 for col in range(colNum)] for row in range(rowNum)]\n",
    "\n",
    "for row in range(rowNum):\n",
    "    for col in range(colNum):\n",
    "        multilist[row][col]= row*col\n",
    "\n",
    "for row in multilist:\n",
    "    print(row)"
   ]
  },
  {
   "cell_type": "markdown",
   "metadata": {},
   "source": [
    "***"
   ]
  },
  {
   "cell_type": "markdown",
   "metadata": {},
   "source": [
    "#### <font color=blue>Question 20</font>"
   ]
  },
  {
   "cell_type": "markdown",
   "metadata": {},
   "source": [
    "Write a python code that accepts a comma separated sequence of words as line input and prints the words in a comma-separated sequence after sorting them alphabetically inline."
   ]
  },
  {
   "cell_type": "markdown",
   "metadata": {},
   "source": [
    " <div class=\"alert alert-block alert-info\">__Hint:__ <br>\n",
    "- In this case, data will be supplied.<br>\n",
    "- Consinder use 2-dimensional list.\n",
    "</div>"
   ]
  },
  {
   "cell_type": "markdown",
   "metadata": {},
   "source": [
    " <div class=\"alert alert-block alert-warning\">\n",
    "__Suppose the following input is supplied to the program:__<br>\n",
    "hello, world, python<br>\n",
    "data, science, bootcamp<br>\n",
    "awesome, amazing, alright<br>\n",
    "<br>\n",
    "__Then, the output should be:__<br>\n",
    "hello, python, world<br>\n",
    "bootcamp, data, science<br>\n",
    "alright, amazing, awesome<br>\n",
    "</div>"
   ]
  },
  {
   "cell_type": "markdown",
   "metadata": {},
   "source": [
    "#### <font color=green>Solution 20</font>"
   ]
  },
  {
   "cell_type": "code",
   "execution_count": 25,
   "metadata": {
    "scrolled": true
   },
   "outputs": [
    {
     "name": "stdout",
     "output_type": "stream",
     "text": [
      "hello, python, world\n",
      "bootcamp, data, science\n",
      "alright, amazing, awesome\n"
     ]
    }
   ],
   "source": [
    "data =  \"hello, world, python\\ndata, science, bootcamp\\nawesome, amazing, alright\"\n",
    "lines = data.split('\\n')\n",
    "for lineCounter in range(len(lines)):\n",
    "    words = lines[lineCounter].split(', ')\n",
    "    words.sort()\n",
    "    lines[lineCounter] = words\n",
    "for row in lines:\n",
    "    print ', '.join(row)"
   ]
  },
  {
   "cell_type": "markdown",
   "metadata": {},
   "source": [
    "***"
   ]
  },
  {
   "cell_type": "markdown",
   "metadata": {},
   "source": [
    "#### <font color=blue>Question 20 Extra</font>"
   ]
  },
  {
   "cell_type": "markdown",
   "metadata": {},
   "source": [
    "Modify your previous solution code. New code also remove duplicate words"
   ]
  },
  {
   "cell_type": "markdown",
   "metadata": {},
   "source": [
    " <div class=\"alert alert-block alert-info\">__Hint:__ <br>\n",
    "- Consider use set() function.\n",
    "</div>"
   ]
  },
  {
   "cell_type": "markdown",
   "metadata": {},
   "source": [
    " <div class=\"alert alert-block alert-warning\">\n",
    "__Suppose the following input is supplied to the program:__<br>\n",
    "hello, world, python, world<br>\n",
    "data, science, bootcamp, data<br>\n",
    "awesome, amazing, alright, okay<br>\n",
    "<br>\n",
    "__Then, the output should be:__<br>\n",
    "hello, python, world<br>\n",
    "bootcamp, data, science<br>\n",
    "alright, amazing, okay, awesome<br>\n",
    "</div>"
   ]
  },
  {
   "cell_type": "markdown",
   "metadata": {},
   "source": [
    "#### <font color=green>Solution 20 Extra</font>"
   ]
  },
  {
   "cell_type": "code",
   "execution_count": 26,
   "metadata": {
    "scrolled": false
   },
   "outputs": [
    {
     "name": "stdout",
     "output_type": "stream",
     "text": [
      "python, world, hello\n",
      "science, data, bootcamp\n",
      "alright, amazing, okay, awesome\n"
     ]
    }
   ],
   "source": [
    "data =  \"hello, world, python, world\\ndata, science, bootcamp, data\\nawesome, amazing, alright, okay\"\n",
    "lines = data.split('\\n')\n",
    "for lineCounter in range(len(lines)):\n",
    "    words = lines[lineCounter].split(', ')\n",
    "    words.sort()\n",
    "    lines[lineCounter] = set(words)\n",
    "for row in lines:\n",
    "    print ', '.join(row)"
   ]
  },
  {
   "cell_type": "code",
   "execution_count": null,
   "metadata": {},
   "outputs": [],
   "source": []
  }
 ],
 "metadata": {
  "kernelspec": {
   "display_name": "Python 2",
   "language": "python",
   "name": "python2"
  },
  "language_info": {
   "codemirror_mode": {
    "name": "ipython",
    "version": 2
   },
   "file_extension": ".py",
   "mimetype": "text/x-python",
   "name": "python",
   "nbconvert_exporter": "python",
   "pygments_lexer": "ipython2",
   "version": "2.7.14"
  }
 },
 "nbformat": 4,
 "nbformat_minor": 2
}
