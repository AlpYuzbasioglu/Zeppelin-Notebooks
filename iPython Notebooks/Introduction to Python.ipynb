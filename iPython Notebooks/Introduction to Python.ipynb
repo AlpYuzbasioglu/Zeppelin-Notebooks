{
 "cells": [
  {
   "cell_type": "markdown",
   "metadata": {
    "slideshow": {
     "slide_type": "slide"
    }
   },
   "source": [
    "# Data Science Boot Camp"
   ]
  },
  {
   "cell_type": "markdown",
   "metadata": {
    "slideshow": {
     "slide_type": "fragment"
    }
   },
   "source": [
    "## Introduction to Python"
   ]
  },
  {
   "cell_type": "markdown",
   "metadata": {
    "slideshow": {
     "slide_type": "slide"
    }
   },
   "source": [
    "<h2 style=\"color:maroon;\"> Chapters </h2>\n",
    "<ul>\n",
    "    <li><a href=\"#intro\" style=\"text-decoration:none;\"><h3 style=\"color:black;\">Introduction to Python</h3></a></li>\n",
    "    <li><a href=\"#types\" style=\"text-decoration:none;\"><h3 style=\"color:black;\">Types and Operations</h3></a></li>\n",
    "    <li><a href=\"#syntax\" style=\"text-decoration:none;\"><h3 style=\"color:black;\">Statements and Syntax</h3></a></li>\n",
    "    <li><a href=\"#func\" style=\"text-decoration:none;\"><h3 style=\"color:black;\">Functions and Files</h3></a></li>\n",
    "    <li><a href=\"#oop\" style=\"text-decoration:none;\"><h3 style=\"color:black;\">Object-Oriented Programming & Classes</h3></a></li>\n",
    "</ul>\n",
    "\n"
   ]
  },
  {
   "cell_type": "markdown",
   "metadata": {
    "slideshow": {
     "slide_type": "slide"
    }
   },
   "source": [
    "<div id=\"intro\">\n",
    "    <h2 style=\"color:maroon;\"> Introduction to Python </h2>\n",
    "    <ul>\n",
    "        <li><a style=\"text-decoration:none;\"><h3 style=\"color:black;\">History of Python</h3></a></li>\n",
    "        <li><a style=\"text-decoration:none;\"><h3 style=\"color:black;\">What is Python?</h3></a></li>\n",
    "        <li><a style=\"text-decoration:none;\"><h3 style=\"color:black;\">Installing & Running Python</h3></a></li>\n",
    "    </ul>\n",
    "</div>\n"
   ]
  },
  {
   "cell_type": "markdown",
   "metadata": {
    "slideshow": {
     "slide_type": "slide"
    }
   },
   "source": [
    "<h3 style=\"color:maroon;\">History of Python</h3>"
   ]
  },
  {
   "cell_type": "markdown",
   "metadata": {
    "slideshow": {
     "slide_type": "fragment"
    }
   },
   "source": [
    "* Invented in the Netherlands, early 90’s by Guido van Rossum<br>\n",
    "<br>\n",
    "* Named after “Monty Python”<br>\n",
    "<br>\n",
    "* Open sourced from the beginning<br>\n",
    "<br>\n",
    "* Considered a scripting language, but is much more<br>\n",
    "<br>\n",
    "* Scalable, object oriented and functional from the beginning<br>\n",
    "<br>\n",
    "* Used by Google from the beginning"
   ]
  },
  {
   "cell_type": "markdown",
   "metadata": {
    "slideshow": {
     "slide_type": "notes"
    }
   },
   "source": [
    "* Monty Python (also collectively known as The Pythons) were a British surreal comedy group who created their sketch comedy show Monty Python's Flying Circus, which first aired on the BBC in 1969. Forty-five episodes were made over four series.\n"
   ]
  },
  {
   "cell_type": "markdown",
   "metadata": {
    "slideshow": {
     "slide_type": "slide"
    }
   },
   "source": [
    "“Python is an experiment in how much freedom programmers need. Too much freedom and nobody can read another's code; too little and expressiveness is endangered.”\n",
    "<br>\n",
    "<p style=\"text-align:right;\">- Guido van Rossum</p>"
   ]
  },
  {
   "cell_type": "markdown",
   "metadata": {
    "slideshow": {
     "slide_type": "notes"
    }
   },
   "source": [
    "* Guido van Rossum ( born 31 January 1956) is a Dutch programmer best known as the author of the Python programming language, for which he is the \"Benevolent Dictator For Life\" (BDFL), which means he continues to oversee Python development, making decisions when necessary. From 2005 to December 2012, he worked at Google, where he spent half of his time developing the Python language. In January 2013, he started working for Dropbox."
   ]
  },
  {
   "cell_type": "markdown",
   "metadata": {
    "slideshow": {
     "slide_type": "slide"
    }
   },
   "source": [
    "<h3 style=\"color:maroon;\">Python 1</h3>\n",
    "* Python 1.0 - January 1994<br>\n",
    "<br>\n",
    "* Python 1.5 - December 31, 1997<br>\n",
    "<br>\n",
    "* Python 1.6 - September 5, 2000<br>"
   ]
  },
  {
   "cell_type": "markdown",
   "metadata": {
    "slideshow": {
     "slide_type": "slide"
    }
   },
   "source": [
    "<h3 style=\"color:maroon;\">Python 2</h3>\n",
    "* Python 2.0 - October 16, 2000<br>\n",
    "<br>\n",
    "* Python 2.1 - April 17, 2001<br>\n",
    "<br>\n",
    "* Python 2.2 - December 21, 2001<br>\n",
    "<br>\n",
    "* Python 2.3 - July 29, 2003<br>\n",
    "<br>\n",
    "* Python 2.4 - November 30, 2004<br>\n",
    "<br>\n",
    "* Python 2.5 - September 19, 2006<br>\n",
    "<br>\n",
    "* Python 2.6 - October 1, 2008<br>\n",
    "<br>\n",
    "* Python 2.7 - July 3, 2010<br>"
   ]
  },
  {
   "cell_type": "markdown",
   "metadata": {
    "slideshow": {
     "slide_type": "slide"
    }
   },
   "source": [
    "<h3 style=\"color:maroon;\">Python 3</h3>\n",
    "* Python 3.0 - December 3, 2008<br>\n",
    "<br>\n",
    "* Python 3.1 - June 27, 2009<br>\n",
    "<br>\n",
    "* Python 3.2 - February 20, 2011<br>\n",
    "<br>\n",
    "* Python 3.3 - September 29, 2012<br>\n",
    "<br>\n",
    "* Python 3.4 - March 16, 2014<br>\n",
    "<br>\n",
    "* Python 3.5 - September 13, 2015<br>\n",
    "<br>\n",
    "* Python 3.6 - December 23, 2016"
   ]
  },
  {
   "cell_type": "markdown",
   "metadata": {
    "slideshow": {
     "slide_type": "slide"
    }
   },
   "source": [
    "<h3 style=\"color:maroon;\">What is Python?</h3>"
   ]
  },
  {
   "cell_type": "markdown",
   "metadata": {
    "slideshow": {
     "slide_type": "fragment"
    }
   },
   "source": [
    "* Python is a open source computer programming language.<br>\n",
    "<br>\n",
    "* Python is an interpreted language.<br>\n",
    "<br>\n",
    "* Python is dynamically typed.<br>\n",
    "<br>\n",
    "* Python is well suited to object oriented programming.<br>\n",
    "<br>\n",
    "* Python is simple, easy to learn syntax emphasizes readability.<br>\n",
    "<br>\n",
    "* Python makes difficult things easy so programmers can focus on overriding algorithms and structures rather than low level details."
   ]
  },
  {
   "cell_type": "markdown",
   "metadata": {
    "slideshow": {
     "slide_type": "notes"
    }
   },
   "source": [
    "- Python is an interpreted language. That means that, unlike languages like C and its variants, Python does not need to be compiled before it is run. Other interpreted languages include PHP and Ruby.\n",
    "- Python is dynamically typed, this means that you don't need to state the types of variables when you declare them or anything like that. You can do things like x=111 and then x=\"I'm a string\" without error.\n",
    "- Like JavaScript, Python supports a programming style that uses simple functions and variables without engaging in class definitions."
   ]
  },
  {
   "cell_type": "markdown",
   "metadata": {
    "slideshow": {
     "slide_type": "slide"
    }
   },
   "source": [
    "* The Zen of Python is a collection of 20 software principles that influences the design of Python Programming Language, only 19 of which were written down—around June 1999 by Tim Peters."
   ]
  },
  {
   "cell_type": "code",
   "execution_count": 1,
   "metadata": {
    "slideshow": {
     "slide_type": "fragment"
    }
   },
   "outputs": [
    {
     "name": "stdout",
     "output_type": "stream",
     "text": [
      "The Zen of Python, by Tim Peters\n",
      "\n",
      "Beautiful is better than ugly.\n",
      "Explicit is better than implicit.\n",
      "Simple is better than complex.\n",
      "Complex is better than complicated.\n",
      "Flat is better than nested.\n",
      "Sparse is better than dense.\n",
      "Readability counts.\n",
      "Special cases aren't special enough to break the rules.\n",
      "Although practicality beats purity.\n",
      "Errors should never pass silently.\n",
      "Unless explicitly silenced.\n",
      "In the face of ambiguity, refuse the temptation to guess.\n",
      "There should be one-- and preferably only one --obvious way to do it.\n",
      "Although that way may not be obvious at first unless you're Dutch.\n",
      "Now is better than never.\n",
      "Although never is often better than *right* now.\n",
      "If the implementation is hard to explain, it's a bad idea.\n",
      "If the implementation is easy to explain, it may be a good idea.\n",
      "Namespaces are one honking great idea -- let's do more of those!\n"
     ]
    }
   ],
   "source": [
    "import this"
   ]
  },
  {
   "cell_type": "markdown",
   "metadata": {
    "slideshow": {
     "slide_type": "slide"
    }
   },
   "source": [
    "Some of the platforms that Python supports:"
   ]
  },
  {
   "cell_type": "markdown",
   "metadata": {
    "slideshow": {
     "slide_type": "fragment"
    }
   },
   "source": [
    "* Amiga Research OS (AROS)<br>\n",
    "<br>\n",
    "* Application System 400 (AS/400)<br>\n",
    "<br>\n",
    "* BeOS<br>\n",
    "<br>\n",
    "* Linux<br>\n",
    "<br>\n",
    "* Mac OS X (comes pre-installed with the OS)<br>\n",
    "<br>\n",
    "* Microsoft Disk Operating System (MS-DOS)<br>\n",
    "<br>\n",
    "* Playstation<br>\n",
    "<br>\n",
    "* Solaris<br>\n",
    "<br>\n",
    "* Windows 32-bit / 64-bit<br>\n",
    "<br>\n",
    "* Windows CE/Pocket PC"
   ]
  },
  {
   "cell_type": "markdown",
   "metadata": {
    "slideshow": {
     "slide_type": "slide"
    }
   },
   "source": [
    "Why Do People Use Python?"
   ]
  },
  {
   "cell_type": "markdown",
   "metadata": {
    "slideshow": {
     "slide_type": "fragment"
    }
   },
   "source": [
    "* Software quality<br>\n",
    "<br>\n",
    "* Developer productivity<br>\n",
    "<br>\n",
    "* Program portability<br>\n",
    "<br>\n",
    "* Support libraries<br>\n",
    "<br>\n",
    "* Component integration<br>\n",
    "<br>\n",
    "* Enjoyment"
   ]
  },
  {
   "cell_type": "markdown",
   "metadata": {
    "slideshow": {
     "slide_type": "slide"
    }
   },
   "source": [
    "What Can I Do with Python?"
   ]
  },
  {
   "cell_type": "markdown",
   "metadata": {
    "slideshow": {
     "slide_type": "fragment"
    }
   },
   "source": [
    "* Systems Programming<br>\n",
    "<br>\n",
    "* GUIs<br>\n",
    "<br>\n",
    "* Internet Scripting<br>\n",
    "<br>\n",
    "* Component Integration<br>\n",
    "<br>\n",
    "* Database Programming<br>\n",
    "<br>\n",
    "* Rapid Prototyping"
   ]
  },
  {
   "cell_type": "markdown",
   "metadata": {
    "slideshow": {
     "slide_type": "slide"
    }
   },
   "source": [
    "What Can I Do More?"
   ]
  },
  {
   "cell_type": "markdown",
   "metadata": {
    "slideshow": {
     "slide_type": "fragment"
    }
   },
   "source": [
    "* Data Analysis<br>\n",
    "<br>\n",
    "* Gaming<br>\n",
    "<br>\n",
    "* Image Processing<br>\n",
    "<br>\n",
    "* Artificial Intelligence<br>\n",
    "<br>\n",
    "* Data Visualization<br>\n",
    "<br>\n",
    "* Scientific Programming"
   ]
  },
  {
   "cell_type": "markdown",
   "metadata": {
    "slideshow": {
     "slide_type": "notes"
    }
   },
   "source": [
    "`Systems Programming`<br>\n",
    "* Python’s built-in interfaces to operating-system services make it ideal for writing portable, maintainable system-administration tools and utilities (sometimes called shell tools). Python programs can search files and directory trees, launch other programs, do parallel processing with processes and threads, and so on.\n",
    "* Python’s standard library comes with POSIX bindings and support for all the usual OS tools: environment variables, files, sockets, pipes, processes, multiple threads, regular expression pattern matching, command-line arguments, standard stream interfaces, shell-command launchers, filename expansion, zip file utilities, XML and JSON parsers, CSV file handlers, and more. In addition, the bulk of Python’s system interfaces are designed to be portable; for example, a script that copies directory trees typically runs unchanged on all major Python platforms.<br>\n",
    "`GUIs`<br>\n",
    "* Python’s simplicity and rapid turnaround also make it a good match for graphical user interface programming on the desktop. Python comes with a standard object-oriented interface to the Tk GUI API called tkinter (Tkinter in 2.X) that allows Python programs to implement portable GUIs with a native look and feel. Python/tkinter GUIs run unchanged on Microsoft Windows, X Windows (on Unix and Linux), and the Mac OS (both Classic and OS X).<br>\n",
    "`Internet Scripting`<br>\n",
    "* Python comes with standard Internet modules that allow Python programs to perform a wide variety of networking tasks, in client and server modes. Scripts can communicate over sockets; extract form information sent to server-side CGI scripts; transfer files by FTP; parse and generate XML and JSON documents… In addition, full-blown web development framework packages for Python, such as Django, TurboGears, web2py, Pylons, Zope, and WebWare, support quick construction of full-featured and production-quality websites with Python.<br>\n",
    "`Component Integration`<br>\n",
    "* Python’s ability to be extended by and embedded in C and C++ systems makes it useful as a flexible glue language for scripting the behavior of other systems and components. For instance, integrating a C library into Python enables Python to test and launch the library’s components, and embedding Python in a product enables onsite customizations to be coded without having to recompile the entire product (or ship its source code at all).<br>\n",
    "`Database Programming`<br>\n",
    "* For traditional database demands, there are Python interfaces to all commonly used relational database systems—Sybase, Oracle, Informix, ODBC, MySQL, PostgreSQL, SQLite, and more. The Python world has also defined a portable database API for ac- cessing SQL database systems from Python scripts.<br>\n",
    "`Rapid Prototyping`<br>\n",
    "* Unlike some prototyping tools, Python doesn’t require a complete rewrite once the prototype has solidified. Parts of the system that don’t require the efficiency of a language such as C++ can remain coded in Python for ease of maintenance and use.<br>\n",
    "`Data Analysis`<br>\n",
    "* Powerful statistical and numerical packages. NumPy and pandas allow you to read/manipulate data efficiently and easily. Scikit-learn allows you to train and apply machine learning algorithms to your data and make predictions. \n",
    "* PyMySQL allows you to easily connect to MySQL database, execute queries and extract data.\n",
    "* BeautifulSoup to easily read in XML and HTML type data which is quite common nowadays.\n",
    "* Natural language analysis with the NLTK package.<br>\n",
    "`Gaming`<br>\n",
    "* Game programming and multimedia with pygame, cgkit, pyglet, PySoy, Panda3D, and others<br>\n",
    "`Image Processing`<br>\n",
    "* Image processing with PIL and its newer Pillow fork, PyOpenGL, Blender, Maya, and more<br>\n",
    "`Artificial Intelligence`<br>\n",
    "* Artificial intelligence with the PyBrain neural net library and the Milk machine learning toolkit\n",
    "* Tensorflow for some neural network<br>\n",
    "`Data Visualization`<br>\n",
    "* Data visualization with Mayavi, matplotlib, VTK, VPython, and more<br>\n",
    "`Scientific Programming`<br>\n",
    "* Scientific Programming has grown to become one of Python’s most compelling use cases. Prominent here, the NumPy high-performance numeric programming extension for Python mentioned earlier in- cludes such advanced tools as an array object, interfaces to standard mathematical libraries, and much more.\n"
   ]
  },
  {
   "cell_type": "markdown",
   "metadata": {
    "slideshow": {
     "slide_type": "slide"
    }
   },
   "source": [
    "<h3 style=\"color:maroon;\">Installing Python</h3>"
   ]
  },
  {
   "cell_type": "markdown",
   "metadata": {
    "slideshow": {
     "slide_type": "fragment"
    }
   },
   "source": [
    "* Python is pre-installed on most Unix systems, including Linux and MAC OS X<br>\n",
    "<br>\n",
    "* The pre-installed version may not be the most recent one.<br>\n",
    "<br>\n",
    "* You can download from “http://python.org/download/”.<br>\n",
    "<br>\n",
    "* Also you can check out Anaconda.<br>\n",
    "<br>\n",
    "* Anaconda is a Python distribution that includes nearly 200 packages for data science. ( NumPy, SciPy, pandas, Jupyter, Matplotlib)"
   ]
  },
  {
   "cell_type": "markdown",
   "metadata": {
    "slideshow": {
     "slide_type": "slide"
    }
   },
   "source": [
    "* There are several options for an IDE<br>\n",
    "<br>\n",
    "* The best Python IDEs for data science are “Spyder”, “PyCharm”, “Rodeo”, “Jupyter Notebook” and “Atom Text Editor”.<br>\n",
    "<br>\n",
    "* We will use Jupyter formerly known as Ipython Notebook in this boot camp."
   ]
  },
  {
   "cell_type": "markdown",
   "metadata": {
    "slideshow": {
     "slide_type": "notes"
    }
   },
   "source": [
    "“The best Python IDEs” paper from datacamp.com → https://www.datacamp.com/community/tutorials/data-science-python-ide"
   ]
  },
  {
   "cell_type": "markdown",
   "metadata": {
    "slideshow": {
     "slide_type": "slide"
    }
   },
   "source": [
    "<h3 style=\"color:maroon;\">Running Python</h3>"
   ]
  },
  {
   "cell_type": "markdown",
   "metadata": {
    "slideshow": {
     "slide_type": "fragment"
    }
   },
   "source": [
    "* For running interactively on Unix terminals or Windows Powershell type ‘python’.<br\n",
    "<br>\n",
    "> Python prompts with ‘>>>’.<br>\n",
    "\\>\\>\\> 2 + 2<br>\n",
    "4<br>\n",
    "    * To exit Python (not Idle):\n",
    "    * In Unix, type CONTROL-D\n",
    "    * In Windows, type CONTROL-Z + <Enter>\n",
    "    * Evaluate exit() "
   ]
  },
  {
   "cell_type": "markdown",
   "metadata": {
    "slideshow": {
     "slide_type": "slide"
    }
   },
   "source": [
    "* For running python scripts via the python interpreter type ‘python’ and script name.\n",
    "> python bootcamp.py \n",
    "* Make a python file directly executable by:\n",
    ">Adding the appropriate path to your python interpreter as the first line of your file (#!/usr/bin/python)<br>\n",
    "Making the file executable (chmod a+x bootcamp.py)<br>\n",
    "Invoking file from Unix command line (bootcamp.py)<br>\n",
    "Or you can use your IDE for running.<br>\n",
    "\n",
    "\n"
   ]
  },
  {
   "cell_type": "markdown",
   "metadata": {
    "slideshow": {
     "slide_type": "slide"
    }
   },
   "source": [
    "<div id=\"types\">\n",
    "    <h2 style=\"color:maroon;\"> Types and Operations </h2>\n",
    "    <ul>\n",
    "        <li><a style=\"text-decoration:none;\"><h3 style=\"color:black;\">Variables</h3></a></li>\n",
    "        <li><a style=\"text-decoration:none;\"><h3 style=\"color:black;\">Data Types</h3></a></li>\n",
    "    </ul>\n",
    "</div>\n"
   ]
  },
  {
   "cell_type": "markdown",
   "metadata": {
    "slideshow": {
     "slide_type": "slide"
    }
   },
   "source": [
    "<h3 style=\"color:maroon;\">Variables</h3>"
   ]
  },
  {
   "cell_type": "markdown",
   "metadata": {
    "slideshow": {
     "slide_type": "fragment"
    }
   },
   "source": [
    "* Unlike other programming languages, Python does not need specific declaration of the data type to reserve memory space.<br>\n",
    "<br>\n",
    "* Values are assigned to variables with an equals sign ( “=” ).<br>"
   ]
  },
  {
   "cell_type": "code",
   "execution_count": 2,
   "metadata": {
    "slideshow": {
     "slide_type": "fragment"
    }
   },
   "outputs": [],
   "source": [
    "age = 3  # We assign the variable age a integer value\n",
    "pi = 3.14  # We give the variable grade a floating point value\n",
    "mood = \"happy\"  # We give the variable mood an string value\n"
   ]
  },
  {
   "cell_type": "markdown",
   "metadata": {
    "slideshow": {
     "slide_type": "fragment"
    }
   },
   "source": [
    "* Notice that each variable contains a different data type, however, we never had to explicitly declare each of their data types."
   ]
  },
  {
   "cell_type": "markdown",
   "metadata": {
    "slideshow": {
     "slide_type": "slide"
    }
   },
   "source": [
    "* You can also assign multiple variables a value at the same time."
   ]
  },
  {
   "cell_type": "code",
   "execution_count": 3,
   "metadata": {
    "slideshow": {
     "slide_type": "fragment"
    }
   },
   "outputs": [],
   "source": [
    "a = b = c = 3"
   ]
  },
  {
   "cell_type": "markdown",
   "metadata": {
    "slideshow": {
     "slide_type": "fragment"
    }
   },
   "source": [
    "* You can also assign multiple variables on the same line with different values and even different data types:"
   ]
  },
  {
   "cell_type": "code",
   "execution_count": 4,
   "metadata": {
    "slideshow": {
     "slide_type": "fragment"
    }
   },
   "outputs": [],
   "source": [
    "age, pi, mood = 3, 3.14, 'happy'"
   ]
  },
  {
   "cell_type": "markdown",
   "metadata": {
    "slideshow": {
     "slide_type": "fragment"
    }
   },
   "source": [
    "* I'd recommend doing whatever you feel is the most simple to understand."
   ]
  },
  {
   "cell_type": "markdown",
   "metadata": {
    "slideshow": {
     "slide_type": "slide"
    }
   },
   "source": [
    "* The python language defines 2 types of variables:<br>\n",
    "`Instance Variables` and `Local Variables`<br>"
   ]
  },
  {
   "cell_type": "markdown",
   "metadata": {
    "slideshow": {
     "slide_type": "slide"
    }
   },
   "source": [
    "* An instance variable is visible to all functions, constructors and blocks, within the file that it is declared in."
   ]
  },
  {
   "cell_type": "code",
   "execution_count": 5,
   "metadata": {
    "slideshow": {
     "slide_type": "fragment"
    }
   },
   "outputs": [
    {
     "name": "stdout",
     "output_type": "stream",
     "text": [
      "3\n"
     ]
    }
   ],
   "source": [
    "a = 3\n",
    "def testGlobalVariable():\n",
    "    print(a)\n",
    "testGlobalVariable()"
   ]
  },
  {
   "cell_type": "markdown",
   "metadata": {
    "slideshow": {
     "slide_type": "slide"
    }
   },
   "source": [
    "* Local variables are only declared within functions, blocks or constructors. They are only created when the function, block or constructor is created, and then destroyed as soon as the function ends."
   ]
  },
  {
   "cell_type": "code",
   "execution_count": 6,
   "metadata": {
    "slideshow": {
     "slide_type": "fragment"
    }
   },
   "outputs": [
    {
     "ename": "NameError",
     "evalue": "name 'x' is not defined",
     "output_type": "error",
     "traceback": [
      "\u001b[0;31m---------------------------------------------------------------------------\u001b[0m",
      "\u001b[0;31mNameError\u001b[0m                                 Traceback (most recent call last)",
      "\u001b[0;32m<ipython-input-6-99515e79f09d>\u001b[0m in \u001b[0;36m<module>\u001b[0;34m()\u001b[0m\n\u001b[1;32m      3\u001b[0m     \u001b[0mx\u001b[0m \u001b[0;34m=\u001b[0m \u001b[0;36m5\u001b[0m\u001b[0;34m\u001b[0m\u001b[0m\n\u001b[1;32m      4\u001b[0m \u001b[0mtestLocalVariable\u001b[0m\u001b[0;34m(\u001b[0m\u001b[0;34m)\u001b[0m\u001b[0;34m\u001b[0m\u001b[0m\n\u001b[0;32m----> 5\u001b[0;31m \u001b[0;32mprint\u001b[0m\u001b[0;34m(\u001b[0m\u001b[0mx\u001b[0m\u001b[0;34m)\u001b[0m\u001b[0;34m\u001b[0m\u001b[0m\n\u001b[0m",
      "\u001b[0;31mNameError\u001b[0m: name 'x' is not defined"
     ]
    }
   ],
   "source": [
    "a = 3\n",
    "def testLocalVariable():\n",
    "    x = 5\n",
    "testLocalVariable()\n",
    "print(x)"
   ]
  },
  {
   "cell_type": "markdown",
   "metadata": {
    "slideshow": {
     "slide_type": "slide"
    }
   },
   "source": [
    "* For having user input in python there is a function exist: raw_input"
   ]
  },
  {
   "cell_type": "code",
   "execution_count": 7,
   "metadata": {
    "slideshow": {
     "slide_type": "fragment"
    }
   },
   "outputs": [
    {
     "name": "stdout",
     "output_type": "stream",
     "text": [
      "Enter a value for me5\n",
      "You entered:5\n"
     ]
    },
    {
     "data": {
      "text/plain": [
       "str"
      ]
     },
     "execution_count": 7,
     "metadata": {},
     "output_type": "execute_result"
    }
   ],
   "source": [
    "v = raw_input(\"Enter a value for me\")\n",
    "\n",
    "print(\"You entered:\" + v)\n",
    "\n",
    "type(v)"
   ]
  },
  {
   "cell_type": "markdown",
   "metadata": {
    "slideshow": {
     "slide_type": "slide"
    }
   },
   "source": [
    "<h3 style=\"color:maroon;\">Data Types</h3>"
   ]
  },
  {
   "cell_type": "markdown",
   "metadata": {
    "slideshow": {
     "slide_type": "fragment"
    }
   },
   "source": [
    "* When you create a variable, the data stored within it can be of many different data types.<br>\n",
    "<br>\n",
    "* Python has multiple different data types that you can use to store different types of values, each of which will have its own set of unique operations that you can use to manipulate and work with the variables.<br>\n",
    "<br>\n",
    "* Python has 5 standard core Data Types:<br>\n",
    "`Numbers`, `Strings`, `Lists`, `Tuples`, `Dictionary`"
   ]
  },
  {
   "cell_type": "markdown",
   "metadata": {
    "slideshow": {
     "slide_type": "slide"
    }
   },
   "source": [
    "<h2 style=\"color:maroon;\"> Data Types </h2>\n",
    "<ul>\n",
    "    <li><a style=\"text-decoration:none;\"><h3 style=\"color:maroon;\">Numbers</h3></a></li>\n",
    "    <li><a style=\"text-decoration:none;\"><h3 style=\"color:black;\">Strings</h3></a></li>\n",
    "    <li><a style=\"text-decoration:none;\"><h3 style=\"color:black;\">Lists</h3></a></li>\n",
    "    <li><a style=\"text-decoration:none;\"><h3 style=\"color:black;\">Tuples</h3></a></li>\n",
    "    <li><a style=\"text-decoration:none;\"><h3 style=\"color:black;\">Dictionary</h3></a></li>\n",
    "</ul>\n",
    "\n",
    "\n"
   ]
  },
  {
   "cell_type": "markdown",
   "metadata": {
    "slideshow": {
     "slide_type": "slide"
    }
   },
   "source": [
    "<h3 style=\"color:maroon;\">Numbers</h3>"
   ]
  },
  {
   "cell_type": "markdown",
   "metadata": {
    "slideshow": {
     "slide_type": "fragment"
    }
   },
   "source": [
    "* Number data types store numbers.<br>\n",
    "<br>\n",
    "* They are created when you create a variable that holds a numerical value.<br>\n",
    "<br>\n",
    "* Python supports 4 types of number values:<br>\n",
    "`int`, `long`, `float` and `complex`\n"
   ]
  },
  {
   "cell_type": "markdown",
   "metadata": {
    "slideshow": {
     "slide_type": "slide"
    }
   },
   "source": [
    "* Int data type is a 32-bit signed two’s complement integer.<br>\n",
    "<br>\n",
    "* It’s maximum value is:<br>\n",
    "`2,147,483,647 (2^31 -1)`<br>\n",
    "<br>\n",
    "* It’s minimum value is:<br>\n",
    "`- 2,147,483,648 (-2^31)`<br>\n",
    "<br>\n",
    "* Int is the most common used data type"
   ]
  },
  {
   "cell_type": "code",
   "execution_count": 8,
   "metadata": {
    "slideshow": {
     "slide_type": "fragment"
    }
   },
   "outputs": [
    {
     "name": "stdout",
     "output_type": "stream",
     "text": [
      "9223372036854775807\n",
      "<type 'int'>\n",
      "<type 'long'>\n"
     ]
    }
   ],
   "source": [
    "import sys\n",
    "intSample = sys.maxint\n",
    "print(intSample) #unsigned 2^63 - 1\n",
    "print(type(intSample))\n",
    "intSample = intSample + 1\n",
    "print(type(intSample))"
   ]
  },
  {
   "cell_type": "markdown",
   "metadata": {
    "slideshow": {
     "slide_type": "slide"
    }
   },
   "source": [
    "* Long data type is a 64-bit signed two’s complement integer.<br>\n",
    "<br>\n",
    "* It’s maximum value is:<br>\n",
    "`9,223,372,036,854,775,807 (2^63 -1)`<br>\n",
    "<br>\n",
    "* It’s minimum value is:<br>\n",
    "`-9,223,372,036,854,775,808 (-2^63)`<br>\n",
    "<br>\n",
    "* This data type is used when a larger number is required to work with than would be possible with an int"
   ]
  },
  {
   "cell_type": "code",
   "execution_count": 9,
   "metadata": {
    "slideshow": {
     "slide_type": "fragment"
    }
   },
   "outputs": [
    {
     "name": "stdout",
     "output_type": "stream",
     "text": [
      "12351235\n",
      "<type 'long'>\n"
     ]
    }
   ],
   "source": [
    "longSample = 12351235L  # has a value of 12351235\n",
    "print(longSample)\n",
    "print(type(longSample))"
   ]
  },
  {
   "cell_type": "markdown",
   "metadata": {
    "slideshow": {
     "slide_type": "slide"
    }
   },
   "source": [
    "* The floating point data type is a double-precision 64-bit IEEE 754 floating point.<br>\n",
    "<br>\n",
    "* The min and max values are too large to discuss here.<br>\n",
    "<br>\n",
    "* For detailed information import sys and type sys.float_info<br>"
   ]
  },
  {
   "cell_type": "code",
   "execution_count": 10,
   "metadata": {
    "slideshow": {
     "slide_type": "fragment"
    }
   },
   "outputs": [
    {
     "name": "stdout",
     "output_type": "stream",
     "text": [
      "3.14\n",
      "<type 'float'>\n"
     ]
    }
   ],
   "source": [
    "floatSample = 3.14\n",
    "print(floatSample)\n",
    "print(type(floatSample))"
   ]
  },
  {
   "cell_type": "code",
   "execution_count": 11,
   "metadata": {
    "slideshow": {
     "slide_type": "fragment"
    }
   },
   "outputs": [
    {
     "data": {
      "text/plain": [
       "sys.float_info(max=1.7976931348623157e+308, max_exp=1024, max_10_exp=308, min=2.2250738585072014e-308, min_exp=-1021, min_10_exp=-307, dig=15, mant_dig=53, epsilon=2.220446049250313e-16, radix=2, rounds=1)"
      ]
     },
     "execution_count": 11,
     "metadata": {},
     "output_type": "execute_result"
    }
   ],
   "source": [
    "import sys\n",
    "sys.float_info\n",
    "\n",
    "\n",
    "# v = sys.float_info.max\n",
    "\n",
    "# if that's not big enough then there is another option :)\n",
    "# infinity = float(\"inf\")\n",
    "\n",
    "# infinity > v\n",
    "\n"
   ]
  },
  {
   "cell_type": "markdown",
   "metadata": {
    "slideshow": {
     "slide_type": "slide"
    }
   },
   "source": [
    "* Complex numbers consist of ordered pairs of real floating-point numbers represented by x + yj<br>\n",
    "<br>\n",
    "* x is the real floating number, while yj is the imaginary part of it.<br>\n",
    "<br>"
   ]
  },
  {
   "cell_type": "code",
   "execution_count": 12,
   "metadata": {
    "slideshow": {
     "slide_type": "fragment"
    }
   },
   "outputs": [
    {
     "name": "stdout",
     "output_type": "stream",
     "text": [
      "3.14j\n",
      "<type 'complex'>\n"
     ]
    }
   ],
   "source": [
    "complexSample = 3.14j\n",
    "print(complexSample)\n",
    "print(type(complexSample))"
   ]
  },
  {
   "cell_type": "markdown",
   "metadata": {
    "slideshow": {
     "slide_type": "slide"
    }
   },
   "source": [
    "* Beginning with Python 2.0, the set of additional assignment statement formats became available. \n",
    "* Known as augmented assignments, and borrowed from the C language."
   ]
  },
  {
   "cell_type": "code",
   "execution_count": 13,
   "metadata": {
    "slideshow": {
     "slide_type": "fragment"
    }
   },
   "outputs": [],
   "source": [
    "x = 10\n",
    "y = 5\n",
    "x = x + y   # Traditional form\n",
    "x += y      # Newer augmented form"
   ]
  },
  {
   "cell_type": "code",
   "execution_count": 14,
   "metadata": {
    "slideshow": {
     "slide_type": "fragment"
    }
   },
   "outputs": [],
   "source": [
    "x += y\n",
    "x *= y\n",
    "x %= y\n",
    "x &= y\n",
    "x ^= y\n",
    "x <<= y\n",
    "x -= y\n",
    "x /= y\n",
    "x **= y\n",
    "x |= y\n",
    "x >>= y\n",
    "x //= y"
   ]
  },
  {
   "cell_type": "markdown",
   "metadata": {
    "slideshow": {
     "slide_type": "skip"
    }
   },
   "source": [
    "<table>\n",
    "<thead>\n",
    "<tr>\n",
    "<th style=\"text-align:left;\">Operator</th>\n",
    "<th style=\"text-align:left;\">Description</th>\n",
    "</tr>\n",
    "</thead>\n",
    "<tbody>\n",
    "<tr>\n",
    "<td style=\"text-align:left;\">lambda</td>\n",
    "<td style=\"text-align:left;\">Lambda expression</td>\n",
    "</tr>\n",
    "<tr>\n",
    "<td style=\"text-align:left;\">if – else</td>\n",
    "<td style=\"text-align:left;\">Conditional expression</td>\n",
    "</tr>\n",
    "<tr>\n",
    "<td style=\"text-align:left;\">or</td>\n",
    "<td style=\"text-align:left;\">Boolean OR</td>\n",
    "</tr>\n",
    "<tr>\n",
    "<td style=\"text-align:left;\">and</td>\n",
    "<td style=\"text-align:left;\">Boolean AND</td>\n",
    "</tr>\n",
    "<tr>\n",
    "<td style=\"text-align:left;\">not x</td>\n",
    "<td style=\"text-align:left;\">Boolean NOT</td>\n",
    "</tr>\n",
    "<tr>\n",
    "<td style=\"text-align:left;\">in, not in, is, is not, <, <=, >, >=, <>, !=, ==</td>\n",
    "<td style=\"text-align:left;\">Comparisons, including membership tests and identity tests</td>\n",
    "</tr>\n",
    "<tr>\n",
    "<td style=\"text-align:left;\">|</td>\n",
    "<td style=\"text-align:left;\">Bitwise OR</td>\n",
    "</tr>\n",
    "<tr>\n",
    "<td style=\"text-align:left;\">^</td>\n",
    "<td style=\"text-align:left;\">Bitwise XOR</td>\n",
    "</tr>\n",
    "<tr>\n",
    "<td style=\"text-align:left;\">&</td>\n",
    "<td style=\"text-align:left;\">Bitwise AND</td>\n",
    "</tr>\n",
    "<tr>\n",
    "<td style=\"text-align:left;\"><<, >></td>\n",
    "<td style=\"text-align:left;\">Shifts</td>\n",
    "</tr>\n",
    "<tr>\n",
    "<td style=\"text-align:left;\">+, -</td>\n",
    "<td style=\"text-align:left;\">Addition and subtraction</td>\n",
    "</tr>\n",
    "<tr>\n",
    "<td style=\"text-align:left;\">*, /, //, %</td>\n",
    "<td style=\"text-align:left;\">Multiplication, division, remainder</td>\n",
    "</tr>\n",
    "<tr>\n",
    "<td style=\"text-align:left;\">+x, -x, ~x</td>\n",
    "<td style=\"text-align:left;\">Positive, negative, bitwise NOT</td>\n",
    "</tr>\n",
    "<tr>\n",
    "<td style=\"text-align:left;\">**</td>\n",
    "<td style=\"text-align:left;\">Exponentiation</td>\n",
    "</tr>\n",
    "<tr>\n",
    "<td style=\"text-align:left;\">x[index], x[index:index], x(arguments...), x.attribute</td>\n",
    "<td style=\"text-align:left;\">Subscription, slicing, call, attribute reference</td>\n",
    "</tr>\n",
    "<tr>\n",
    "<td style=\"text-align:left;\">(expressions...), [expressions...], {key: value...}, `expressions...`</td>\n",
    "<td style=\"text-align:left;\">Binding or tuple display, list display, dictionary display, string conversion</td>\n",
    "</tr>\n",
    "</tbody>\n",
    "</table>"
   ]
  },
  {
   "cell_type": "markdown",
   "metadata": {
    "slideshow": {
     "slide_type": "slide"
    }
   },
   "source": [
    "* Python provides a built-in functions. We can examine this functions in 3 category for numbers:<br>\n",
    "`Math Functions`<br>\n",
    "<br>\n",
    "`Conversion Functions`<br>\n",
    "<br>\n",
    "`Collection Functions`<br>"
   ]
  },
  {
   "cell_type": "markdown",
   "metadata": {
    "slideshow": {
     "slide_type": "slide"
    }
   },
   "source": [
    "<h3 style=\"color:maroon;\">Numbers (Math Functions)</h3>"
   ]
  },
  {
   "cell_type": "markdown",
   "metadata": {
    "slideshow": {
     "slide_type": "notes"
    }
   },
   "source": [
    "* The formal definitions of mathematical built-in functions are provided below."
   ]
  },
  {
   "cell_type": "markdown",
   "metadata": {
    "slideshow": {
     "slide_type": "fragment"
    }
   },
   "source": [
    "* abs ( number ) → number<br>\n",
    "Return the absolute value of the argument, | x |."
   ]
  },
  {
   "cell_type": "code",
   "execution_count": 15,
   "metadata": {
    "slideshow": {
     "slide_type": "fragment"
    }
   },
   "outputs": [
    {
     "data": {
      "text/plain": [
       "10"
      ]
     },
     "execution_count": 15,
     "metadata": {},
     "output_type": "execute_result"
    }
   ],
   "source": [
    "abs(-10)"
   ]
  },
  {
   "cell_type": "markdown",
   "metadata": {
    "slideshow": {
     "slide_type": "slide"
    }
   },
   "source": [
    "* pow ( x , y ) → number<br>\n",
    "Raise x to the y power."
   ]
  },
  {
   "cell_type": "code",
   "execution_count": 16,
   "metadata": {
    "slideshow": {
     "slide_type": "fragment"
    }
   },
   "outputs": [
    {
     "name": "stdout",
     "output_type": "stream",
     "text": [
      "8\n",
      "3\n"
     ]
    }
   ],
   "source": [
    "print(pow(2,3))\n",
    "print(pow(2,3,5))"
   ]
  },
  {
   "cell_type": "markdown",
   "metadata": {
    "slideshow": {
     "slide_type": "slide"
    }
   },
   "source": [
    "* round ( number , [ ndigits ] ) → float<br>\n",
    "Round number to ndigits beyond the decimal point."
   ]
  },
  {
   "cell_type": "code",
   "execution_count": 17,
   "metadata": {
    "slideshow": {
     "slide_type": "fragment"
    }
   },
   "outputs": [
    {
     "data": {
      "text/plain": [
       "3.14"
      ]
     },
     "execution_count": 17,
     "metadata": {},
     "output_type": "execute_result"
    }
   ],
   "source": [
    "round(3.141592, 2)"
   ]
  },
  {
   "cell_type": "markdown",
   "metadata": {
    "slideshow": {
     "slide_type": "slide"
    }
   },
   "source": [
    "* cmp ( x , y ) → integer<br>\n",
    "Compare x and y , returning a number. "
   ]
  },
  {
   "cell_type": "code",
   "execution_count": 18,
   "metadata": {
    "slideshow": {
     "slide_type": "fragment"
    }
   },
   "outputs": [
    {
     "name": "stdout",
     "output_type": "stream",
     "text": [
      "1\n",
      "0\n",
      "-1\n"
     ]
    }
   ],
   "source": [
    "print(cmp(10,5))\n",
    "print(cmp(5,5))\n",
    "print(cmp(5,10))"
   ]
  },
  {
   "cell_type": "markdown",
   "metadata": {
    "slideshow": {
     "slide_type": "slide"
    }
   },
   "source": [
    "<h3 style=\"color:maroon;\">Numbers (Conversion Functions)</h3>"
   ]
  },
  {
   "cell_type": "markdown",
   "metadata": {
    "slideshow": {
     "slide_type": "fragment"
    }
   },
   "source": [
    "* The conversion functions provide alternate representations for numeric values."
   ]
  },
  {
   "cell_type": "markdown",
   "metadata": {
    "slideshow": {
     "slide_type": "fragment"
    }
   },
   "source": [
    "* hex ( number ) → string<br>\n",
    "Create a hexadecimal string representation of number . A leading '0x' is placed on the string as a reminder that this is hexadecimal.\n"
   ]
  },
  {
   "cell_type": "code",
   "execution_count": 19,
   "metadata": {
    "slideshow": {
     "slide_type": "fragment"
    }
   },
   "outputs": [
    {
     "data": {
      "text/plain": [
       "'0x18'"
      ]
     },
     "execution_count": 19,
     "metadata": {},
     "output_type": "execute_result"
    }
   ],
   "source": [
    "hex(24)"
   ]
  },
  {
   "cell_type": "markdown",
   "metadata": {
    "slideshow": {
     "slide_type": "slide"
    }
   },
   "source": [
    "* oct ( number ) → string<br>\n",
    "Create a octal string representation of number . A leading '0' is placed on the string as a reminder that this is octal not decimal. "
   ]
  },
  {
   "cell_type": "code",
   "execution_count": 20,
   "metadata": {
    "slideshow": {
     "slide_type": "fragment"
    }
   },
   "outputs": [
    {
     "data": {
      "text/plain": [
       "'030'"
      ]
     },
     "execution_count": 20,
     "metadata": {},
     "output_type": "execute_result"
    }
   ],
   "source": [
    "oct(24)"
   ]
  },
  {
   "cell_type": "markdown",
   "metadata": {
    "slideshow": {
     "slide_type": "slide"
    }
   },
   "source": [
    "* int ( string , [ base ]) → integer<br>\n",
    "Generates an integer from the string x . If base is supplied, x must be in the given base. If base is omitted, x must be decimal."
   ]
  },
  {
   "cell_type": "code",
   "execution_count": 21,
   "metadata": {
    "slideshow": {
     "slide_type": "fragment"
    }
   },
   "outputs": [
    {
     "name": "stdout",
     "output_type": "stream",
     "text": [
      "100\n",
      "<type 'int'>\n"
     ]
    }
   ],
   "source": [
    "print(int(\"100\"))\n",
    "print(type(int(\"100\")))"
   ]
  },
  {
   "cell_type": "code",
   "execution_count": 22,
   "metadata": {
    "slideshow": {
     "slide_type": "fragment"
    }
   },
   "outputs": [
    {
     "data": {
      "text/plain": [
       "23"
      ]
     },
     "execution_count": 22,
     "metadata": {},
     "output_type": "execute_result"
    }
   ],
   "source": [
    "int(\"010111\",2)"
   ]
  },
  {
   "cell_type": "markdown",
   "metadata": {
    "slideshow": {
     "slide_type": "slide"
    }
   },
   "source": [
    "* str ( object ) → string<br>\n",
    "Generate a string representation of the given object."
   ]
  },
  {
   "cell_type": "code",
   "execution_count": 23,
   "metadata": {
    "slideshow": {
     "slide_type": "fragment"
    }
   },
   "outputs": [
    {
     "name": "stdout",
     "output_type": "stream",
     "text": [
      "200\n",
      "<type 'str'>\n"
     ]
    }
   ],
   "source": [
    "print(str(200))\n",
    "print(type(str(200)))"
   ]
  },
  {
   "cell_type": "markdown",
   "metadata": {
    "slideshow": {
     "slide_type": "slide"
    }
   },
   "source": [
    "<h3 style=\"color:maroon;\">Numbers (Collection Functions)</h3>"
   ]
  },
  {
   "cell_type": "markdown",
   "metadata": {
    "slideshow": {
     "slide_type": "fragment"
    }
   },
   "source": [
    "* These are two built-in functions which operate on a collection of data elements."
   ]
  },
  {
   "cell_type": "code",
   "execution_count": 24,
   "metadata": {
    "slideshow": {
     "slide_type": "fragment"
    }
   },
   "outputs": [],
   "source": [
    "listSample = [0, 1, 2, 3, 4, 5, 6, 7, 8, 9]"
   ]
  },
  {
   "cell_type": "markdown",
   "metadata": {
    "slideshow": {
     "slide_type": "fragment"
    }
   },
   "source": [
    "* max ( sequence ) → value<br>\n",
    "Return the largest value in sequence"
   ]
  },
  {
   "cell_type": "code",
   "execution_count": 25,
   "metadata": {
    "slideshow": {
     "slide_type": "fragment"
    }
   },
   "outputs": [
    {
     "data": {
      "text/plain": [
       "9"
      ]
     },
     "execution_count": 25,
     "metadata": {},
     "output_type": "execute_result"
    }
   ],
   "source": [
    "max(listSample)"
   ]
  },
  {
   "cell_type": "markdown",
   "metadata": {
    "slideshow": {
     "slide_type": "fragment"
    }
   },
   "source": [
    "* min ( sequence ) → value<br>\n",
    "Return the smallest value in sequence"
   ]
  },
  {
   "cell_type": "code",
   "execution_count": 26,
   "metadata": {
    "slideshow": {
     "slide_type": "fragment"
    }
   },
   "outputs": [
    {
     "data": {
      "text/plain": [
       "0"
      ]
     },
     "execution_count": 26,
     "metadata": {},
     "output_type": "execute_result"
    }
   ],
   "source": [
    "min(listSample)"
   ]
  },
  {
   "cell_type": "markdown",
   "metadata": {
    "slideshow": {
     "slide_type": "slide"
    }
   },
   "source": [
    "* Python’s standard library is very extensive, offering a wide range of modules. Let’s look at 2 of them:<br>\n",
    "<br>\n",
    "`math Module`<br>\n",
    "<br>\n",
    "`random Module`"
   ]
  },
  {
   "cell_type": "markdown",
   "metadata": {
    "slideshow": {
     "slide_type": "slide"
    }
   },
   "source": [
    "<h3 style=\"color:maroon;\">Numbers (Math Module)</h3>"
   ]
  },
  {
   "cell_type": "markdown",
   "metadata": {
    "slideshow": {
     "slide_type": "fragment"
    }
   },
   "source": [
    "* Math Module provides access to the mathematical functions defined by the C standard.<br>\n",
    "<br>\n",
    "* These functions cannot be used with complex numbers; use the functions of the same name from the “cmath” module if you require support for complex numbers.<br>\n",
    "<br>\n",
    "* All return values are floats."
   ]
  },
  {
   "cell_type": "markdown",
   "metadata": {
    "slideshow": {
     "slide_type": "fragment"
    }
   },
   "source": [
    "* Let’s check out some of the functions that provided by this module:"
   ]
  },
  {
   "cell_type": "code",
   "execution_count": 27,
   "metadata": {
    "slideshow": {
     "slide_type": "slide"
    }
   },
   "outputs": [],
   "source": [
    "import math"
   ]
  },
  {
   "cell_type": "markdown",
   "metadata": {
    "slideshow": {
     "slide_type": "fragment"
    }
   },
   "source": [
    "* math.ceil (x) → float<br>\n",
    "Return the ceiling of x as a float, the smallest integer value greater than or equal to x."
   ]
  },
  {
   "cell_type": "code",
   "execution_count": 28,
   "metadata": {
    "slideshow": {
     "slide_type": "fragment"
    }
   },
   "outputs": [
    {
     "data": {
      "text/plain": [
       "2.0"
      ]
     },
     "execution_count": 28,
     "metadata": {},
     "output_type": "execute_result"
    }
   ],
   "source": [
    "math.ceil(1.3)"
   ]
  },
  {
   "cell_type": "markdown",
   "metadata": {
    "slideshow": {
     "slide_type": "slide"
    }
   },
   "source": [
    "* math.factorial(x) → float<br>\n",
    "Return x factorial. Raises ValueError if x is not integral or is negative."
   ]
  },
  {
   "cell_type": "code",
   "execution_count": 29,
   "metadata": {
    "slideshow": {
     "slide_type": "fragment"
    }
   },
   "outputs": [
    {
     "data": {
      "text/plain": [
       "120"
      ]
     },
     "execution_count": 29,
     "metadata": {},
     "output_type": "execute_result"
    }
   ],
   "source": [
    "math.factorial(5)"
   ]
  },
  {
   "cell_type": "markdown",
   "metadata": {
    "slideshow": {
     "slide_type": "slide"
    }
   },
   "source": [
    "* math.floor(x) → float<br>\n",
    "Return the floor of x as a float, the largest integer value less than or equal to x."
   ]
  },
  {
   "cell_type": "code",
   "execution_count": 30,
   "metadata": {
    "slideshow": {
     "slide_type": "fragment"
    }
   },
   "outputs": [
    {
     "data": {
      "text/plain": [
       "1.0"
      ]
     },
     "execution_count": 30,
     "metadata": {},
     "output_type": "execute_result"
    }
   ],
   "source": [
    "math.floor(1.9)"
   ]
  },
  {
   "cell_type": "markdown",
   "metadata": {
    "slideshow": {
     "slide_type": "slide"
    }
   },
   "source": [
    "* math.isnan(x) → boolean<br>\n",
    "Check if the float x is a NaN (not a number)"
   ]
  },
  {
   "cell_type": "code",
   "execution_count": 31,
   "metadata": {
    "slideshow": {
     "slide_type": "fragment"
    }
   },
   "outputs": [
    {
     "data": {
      "text/plain": [
       "False"
      ]
     },
     "execution_count": 31,
     "metadata": {},
     "output_type": "execute_result"
    }
   ],
   "source": [
    "math.isnan(0.9)"
   ]
  },
  {
   "cell_type": "markdown",
   "metadata": {
    "slideshow": {
     "slide_type": "slide"
    }
   },
   "source": [
    "* math.pi<br>\n",
    "The mathematical constant π = 3.141592…, to available precision."
   ]
  },
  {
   "cell_type": "code",
   "execution_count": 32,
   "metadata": {
    "slideshow": {
     "slide_type": "fragment"
    }
   },
   "outputs": [
    {
     "data": {
      "text/plain": [
       "3.141592653589793"
      ]
     },
     "execution_count": 32,
     "metadata": {},
     "output_type": "execute_result"
    }
   ],
   "source": [
    "math.pi"
   ]
  },
  {
   "cell_type": "markdown",
   "metadata": {
    "slideshow": {
     "slide_type": "notes"
    }
   },
   "source": [
    "* math.e<br>\n",
    "The mathematical constant e = 2.718281…, to available precision."
   ]
  },
  {
   "cell_type": "code",
   "execution_count": 33,
   "metadata": {
    "slideshow": {
     "slide_type": "notes"
    }
   },
   "outputs": [
    {
     "data": {
      "text/plain": [
       "2.718281828459045"
      ]
     },
     "execution_count": 33,
     "metadata": {},
     "output_type": "execute_result"
    }
   ],
   "source": [
    "math.e"
   ]
  },
  {
   "cell_type": "markdown",
   "metadata": {
    "slideshow": {
     "slide_type": "notes"
    }
   },
   "source": [
    "* math.exp(x) → float<br>\n",
    "Return e**x"
   ]
  },
  {
   "cell_type": "code",
   "execution_count": 34,
   "metadata": {
    "slideshow": {
     "slide_type": "notes"
    }
   },
   "outputs": [
    {
     "data": {
      "text/plain": [
       "20.085536923187668"
      ]
     },
     "execution_count": 34,
     "metadata": {},
     "output_type": "execute_result"
    }
   ],
   "source": [
    "math.exp(3)"
   ]
  },
  {
   "cell_type": "markdown",
   "metadata": {
    "slideshow": {
     "slide_type": "notes"
    }
   },
   "source": [
    "* math.log(x [, base]) → float<br>\n",
    "With one argument, return the natural logarithm of x (to base e).\n",
    "With two arguments, return the logarithm of x to the given base, calculated as log(x)/log(base)."
   ]
  },
  {
   "cell_type": "code",
   "execution_count": 35,
   "metadata": {
    "slideshow": {
     "slide_type": "notes"
    }
   },
   "outputs": [
    {
     "name": "stdout",
     "output_type": "stream",
     "text": [
      "3.0\n",
      "6.0\n"
     ]
    }
   ],
   "source": [
    "print(math.log(20.085536923187668))\n",
    "print(math.log(64,2))"
   ]
  },
  {
   "cell_type": "markdown",
   "metadata": {
    "slideshow": {
     "slide_type": "notes"
    }
   },
   "source": [
    "* math.log10(x) → float<br>\n",
    "Return the base-10 logarithm of x. This is usually more accurate than log(x, 10)."
   ]
  },
  {
   "cell_type": "code",
   "execution_count": 36,
   "metadata": {
    "slideshow": {
     "slide_type": "notes"
    }
   },
   "outputs": [
    {
     "data": {
      "text/plain": [
       "2.0"
      ]
     },
     "execution_count": 36,
     "metadata": {},
     "output_type": "execute_result"
    }
   ],
   "source": [
    "math.log10(100)"
   ]
  },
  {
   "cell_type": "markdown",
   "metadata": {
    "slideshow": {
     "slide_type": "notes"
    }
   },
   "source": [
    "* math.pow(x, y) → float<br>\n",
    "Return x raised to the power y. Unlike the built-in ** operator, math.pow() converts both its arguments to type float."
   ]
  },
  {
   "cell_type": "code",
   "execution_count": 37,
   "metadata": {
    "slideshow": {
     "slide_type": "notes"
    }
   },
   "outputs": [
    {
     "data": {
      "text/plain": [
       "64.0"
      ]
     },
     "execution_count": 37,
     "metadata": {},
     "output_type": "execute_result"
    }
   ],
   "source": [
    "math.pow(2,6)"
   ]
  },
  {
   "cell_type": "markdown",
   "metadata": {
    "slideshow": {
     "slide_type": "notes"
    }
   },
   "source": [
    "* math.sin(x) → float<br>\n",
    "Return the sine of x radians."
   ]
  },
  {
   "cell_type": "code",
   "execution_count": 38,
   "metadata": {
    "slideshow": {
     "slide_type": "notes"
    }
   },
   "outputs": [
    {
     "data": {
      "text/plain": [
       "0.6502878401571169"
      ]
     },
     "execution_count": 38,
     "metadata": {},
     "output_type": "execute_result"
    }
   ],
   "source": [
    "math.sin(15)"
   ]
  },
  {
   "cell_type": "markdown",
   "metadata": {
    "slideshow": {
     "slide_type": "slide"
    }
   },
   "source": [
    "<h3 style=\"color:maroon;\">Numbers (Random Module)</h3>"
   ]
  },
  {
   "cell_type": "markdown",
   "metadata": {
    "slideshow": {
     "slide_type": "fragment"
    }
   },
   "source": [
    "* random.random()<br>\n",
    "Return the next random floating point number in the range [0.0, 1.0)."
   ]
  },
  {
   "cell_type": "code",
   "execution_count": 39,
   "metadata": {
    "slideshow": {
     "slide_type": "fragment"
    }
   },
   "outputs": [
    {
     "data": {
      "text/plain": [
       "0.07508753463423534"
      ]
     },
     "execution_count": 39,
     "metadata": {},
     "output_type": "execute_result"
    }
   ],
   "source": [
    "import random\n",
    "random.random()"
   ]
  },
  {
   "cell_type": "markdown",
   "metadata": {
    "slideshow": {
     "slide_type": "slide"
    }
   },
   "source": [
    "* random.uniform(a, b) <br>\n",
    "Return a random floating point number N such that a <= N <= b"
   ]
  },
  {
   "cell_type": "code",
   "execution_count": 40,
   "metadata": {
    "slideshow": {
     "slide_type": "fragment"
    }
   },
   "outputs": [
    {
     "data": {
      "text/plain": [
       "6.925986237278145"
      ]
     },
     "execution_count": 40,
     "metadata": {},
     "output_type": "execute_result"
    }
   ],
   "source": [
    "random.uniform(1,10) "
   ]
  },
  {
   "cell_type": "markdown",
   "metadata": {
    "slideshow": {
     "slide_type": "slide"
    }
   },
   "source": [
    "* random.randint(a, b)<br>\n",
    "Return a random integer N such that a <= N <= b."
   ]
  },
  {
   "cell_type": "code",
   "execution_count": 41,
   "metadata": {
    "slideshow": {
     "slide_type": "fragment"
    }
   },
   "outputs": [
    {
     "data": {
      "text/plain": [
       "2"
      ]
     },
     "execution_count": 41,
     "metadata": {},
     "output_type": "execute_result"
    }
   ],
   "source": [
    "random.randint(1, 10)"
   ]
  },
  {
   "cell_type": "markdown",
   "metadata": {
    "slideshow": {
     "slide_type": "notes"
    }
   },
   "source": [
    "* random.randrange(start, stop[, step])<br>\n",
    "Return a randomly selected element from range(start, stop, step)."
   ]
  },
  {
   "cell_type": "code",
   "execution_count": 42,
   "metadata": {
    "slideshow": {
     "slide_type": "notes"
    }
   },
   "outputs": [
    {
     "data": {
      "text/plain": [
       "12"
      ]
     },
     "execution_count": 42,
     "metadata": {},
     "output_type": "execute_result"
    }
   ],
   "source": [
    "random.randrange(0, 101, 2) "
   ]
  },
  {
   "cell_type": "markdown",
   "metadata": {
    "slideshow": {
     "slide_type": "slide"
    }
   },
   "source": [
    "* random.choice(seq)<br>\n",
    "Return a random element from the non-empty sequence seq"
   ]
  },
  {
   "cell_type": "code",
   "execution_count": 43,
   "metadata": {
    "slideshow": {
     "slide_type": "fragment"
    }
   },
   "outputs": [
    {
     "data": {
      "text/plain": [
       "'j'"
      ]
     },
     "execution_count": 43,
     "metadata": {},
     "output_type": "execute_result"
    }
   ],
   "source": [
    "random.choice('abcdefghij') "
   ]
  },
  {
   "cell_type": "markdown",
   "metadata": {
    "slideshow": {
     "slide_type": "slide"
    }
   },
   "source": [
    "* random.shuffle(x)<br>\n",
    "Shuffle the sequence x in place. "
   ]
  },
  {
   "cell_type": "code",
   "execution_count": 44,
   "metadata": {
    "slideshow": {
     "slide_type": "fragment"
    }
   },
   "outputs": [
    {
     "data": {
      "text/plain": [
       "[6, 5, 1, 4, 7, 2, 3]"
      ]
     },
     "execution_count": 44,
     "metadata": {},
     "output_type": "execute_result"
    }
   ],
   "source": [
    "items = [1, 2, 3, 4, 5, 6, 7]\n",
    "random.shuffle(items)\n",
    "items"
   ]
  },
  {
   "cell_type": "markdown",
   "metadata": {
    "slideshow": {
     "slide_type": "slide"
    }
   },
   "source": [
    "* random.sample(population, k)<br>\n",
    "Return a k length list of unique elements chosen from the population sequence.<br>\n",
    "Used for random sampling without replacement."
   ]
  },
  {
   "cell_type": "code",
   "execution_count": 45,
   "metadata": {
    "slideshow": {
     "slide_type": "fragment"
    }
   },
   "outputs": [
    {
     "data": {
      "text/plain": [
       "[5, 3, 1]"
      ]
     },
     "execution_count": 45,
     "metadata": {},
     "output_type": "execute_result"
    }
   ],
   "source": [
    "random.sample([1, 2, 3, 4, 5],  3)"
   ]
  },
  {
   "cell_type": "markdown",
   "metadata": {
    "slideshow": {
     "slide_type": "slide"
    }
   },
   "source": [
    "<h2 style=\"color:maroon;\"> Data Types </h2>\n",
    "<ul>\n",
    "    <li><a style=\"text-decoration:none;\"><h3 style=\"color:black;\">Numbers</h3></a></li>\n",
    "    <li><a style=\"text-decoration:none;\"><h3 style=\"color:maroon;\">Strings</h3></a></li>\n",
    "    <li><a style=\"text-decoration:none;\"><h3 style=\"color:black;\">Lists</h3></a></li>\n",
    "    <li><a style=\"text-decoration:none;\"><h3 style=\"color:black;\">Tuples</h3></a></li>\n",
    "    <li><a style=\"text-decoration:none;\"><h3 style=\"color:black;\">Dictionary</h3></a></li>\n",
    "</ul>\n",
    "\n",
    "\n"
   ]
  },
  {
   "cell_type": "markdown",
   "metadata": {
    "slideshow": {
     "slide_type": "slide"
    }
   },
   "source": [
    "<h3 style=\"color:maroon;\">Strings</h3>"
   ]
  },
  {
   "cell_type": "markdown",
   "metadata": {
    "slideshow": {
     "slide_type": "fragment"
    }
   },
   "source": [
    "* A string is identified as a continuous set of characters within a set of quotation marks.<br>\n",
    "<br>\n",
    "* Python allows strings to be declared with in single ('  ') and double (\" \") quotes.<br>\n",
    "<br>\n",
    "* Also you can think strings as a immutable sequances in python.<br>"
   ]
  },
  {
   "cell_type": "code",
   "execution_count": 46,
   "metadata": {
    "slideshow": {
     "slide_type": "fragment"
    }
   },
   "outputs": [
    {
     "name": "stdout",
     "output_type": "stream",
     "text": [
      "11\n",
      "H\n"
     ]
    }
   ],
   "source": [
    "hello = \"Hello World\"\n",
    "print(len(hello)) # return the length of string\n",
    "character = hello[0] # return first character of string\n",
    "print(character)"
   ]
  },
  {
   "cell_type": "code",
   "execution_count": 47,
   "metadata": {
    "slideshow": {
     "slide_type": "fragment"
    }
   },
   "outputs": [
    {
     "ename": "TypeError",
     "evalue": "'str' object does not support item assignment",
     "output_type": "error",
     "traceback": [
      "\u001b[0;31m---------------------------------------------------------------------------\u001b[0m",
      "\u001b[0;31mTypeError\u001b[0m                                 Traceback (most recent call last)",
      "\u001b[0;32m<ipython-input-47-ab6dbf280adf>\u001b[0m in \u001b[0;36m<module>\u001b[0;34m()\u001b[0m\n\u001b[0;32m----> 1\u001b[0;31m \u001b[0mhello\u001b[0m\u001b[0;34m[\u001b[0m\u001b[0;36m1\u001b[0m\u001b[0;34m]\u001b[0m \u001b[0;34m=\u001b[0m \u001b[0;34m\"o\"\u001b[0m \u001b[0;31m# Immutable objects cannot be changed\u001b[0m\u001b[0;34m\u001b[0m\u001b[0m\n\u001b[0m",
      "\u001b[0;31mTypeError\u001b[0m: 'str' object does not support item assignment"
     ]
    }
   ],
   "source": [
    "hello[1] = \"o\" # Immutable objects cannot be changed"
   ]
  },
  {
   "cell_type": "markdown",
   "metadata": {
    "slideshow": {
     "slide_type": "slide"
    }
   },
   "source": [
    "* Also you can splice strings:"
   ]
  },
  {
   "cell_type": "code",
   "execution_count": 48,
   "metadata": {
    "slideshow": {
     "slide_type": "fragment"
    }
   },
   "outputs": [
    {
     "name": "stdout",
     "output_type": "stream",
     "text": [
      "He\n",
      "Hello\n",
      "World\n",
      "Hello Wor\n",
      "HloWr\n"
     ]
    }
   ],
   "source": [
    "print(hello[0:2])\n",
    "print(hello[:5])\n",
    "print(hello[6:])\n",
    "print(hello[:-2])\n",
    "print(hello[0:-1:2])"
   ]
  },
  {
   "cell_type": "markdown",
   "metadata": {
    "slideshow": {
     "slide_type": "slide"
    }
   },
   "source": [
    "* Strings support concatenation with the plus sign (joining two strings into a new string)"
   ]
  },
  {
   "cell_type": "code",
   "execution_count": 49,
   "metadata": {
    "slideshow": {
     "slide_type": "fragment"
    }
   },
   "outputs": [
    {
     "data": {
      "text/plain": [
       "'Hello World'"
      ]
     },
     "execution_count": 49,
     "metadata": {},
     "output_type": "execute_result"
    }
   ],
   "source": [
    "hello = \"Hello\"\n",
    "world = \"World\"\n",
    "msg = hello + \" \" + world\n",
    "msg"
   ]
  },
  {
   "cell_type": "markdown",
   "metadata": {
    "slideshow": {
     "slide_type": "slide"
    }
   },
   "source": [
    "* Strings also support repetition"
   ]
  },
  {
   "cell_type": "code",
   "execution_count": 50,
   "metadata": {
    "slideshow": {
     "slide_type": "fragment"
    }
   },
   "outputs": [
    {
     "data": {
      "text/plain": [
       "'HelloHello'"
      ]
     },
     "execution_count": 50,
     "metadata": {},
     "output_type": "execute_result"
    }
   ],
   "source": [
    "hello * 2"
   ]
  },
  {
   "cell_type": "markdown",
   "metadata": {
    "slideshow": {
     "slide_type": "slide"
    }
   },
   "source": [
    "* You can expand strings to a list"
   ]
  },
  {
   "cell_type": "code",
   "execution_count": 51,
   "metadata": {
    "slideshow": {
     "slide_type": "fragment"
    }
   },
   "outputs": [
    {
     "data": {
      "text/plain": [
       "['H', 'e', 'l', 'l', 'o', ' ', 'W', 'o', 'r', 'l', 'd']"
      ]
     },
     "execution_count": 51,
     "metadata": {},
     "output_type": "execute_result"
    }
   ],
   "source": [
    "listSample = list(msg)\n",
    "listSample"
   ]
  },
  {
   "cell_type": "markdown",
   "metadata": {
    "slideshow": {
     "slide_type": "slide"
    }
   },
   "source": [
    "* And you can join list elements to string"
   ]
  },
  {
   "cell_type": "code",
   "execution_count": 52,
   "metadata": {
    "slideshow": {
     "slide_type": "fragment"
    }
   },
   "outputs": [
    {
     "data": {
      "text/plain": [
       "'Hello World'"
      ]
     },
     "execution_count": 52,
     "metadata": {},
     "output_type": "execute_result"
    }
   ],
   "source": [
    "newMsg = ''.join(listSample)\n",
    "newMsg"
   ]
  },
  {
   "cell_type": "code",
   "execution_count": 53,
   "metadata": {
    "slideshow": {
     "slide_type": "fragment"
    }
   },
   "outputs": [
    {
     "data": {
      "text/plain": [
       "'H.e.l.l.o. .W.o.r.l.d'"
      ]
     },
     "execution_count": 53,
     "metadata": {},
     "output_type": "execute_result"
    }
   ],
   "source": [
    "newMsgWithDots = '.'.join(listSample)\n",
    "newMsgWithDots"
   ]
  },
  {
   "cell_type": "markdown",
   "metadata": {
    "slideshow": {
     "slide_type": "slide"
    }
   },
   "source": [
    "* Operation we’ve looked so far is really a sequence operation. These operations will work on other sequences in Python. <br>\n",
    "Now let’s check strings specific methods"
   ]
  },
  {
   "cell_type": "code",
   "execution_count": 54,
   "metadata": {
    "slideshow": {
     "slide_type": "fragment"
    }
   },
   "outputs": [
    {
     "name": "stdout",
     "output_type": "stream",
     "text": [
      "3\n",
      "Hi\n"
     ]
    }
   ],
   "source": [
    "hello = \"Hello\"\n",
    "print(hello.find(\"lo\")) # return index of substring \n",
    "hi = hello.replace(\"ello\", \"i\")\n",
    "print(hi)"
   ]
  },
  {
   "cell_type": "markdown",
   "metadata": {
    "slideshow": {
     "slide_type": "slide"
    }
   },
   "source": [
    "* Split a string into substrings on a delimiter (handy as a simple form of parsing)<br>"
   ]
  },
  {
   "cell_type": "code",
   "execution_count": 55,
   "metadata": {
    "slideshow": {
     "slide_type": "fragment"
    }
   },
   "outputs": [
    {
     "data": {
      "text/plain": [
       "['cat', 'dog', 'bird']"
      ]
     },
     "execution_count": 55,
     "metadata": {},
     "output_type": "execute_result"
    }
   ],
   "source": [
    "line = \"cat,dog,bird\"\n",
    "arr =  line.split(',')\n",
    "arr"
   ]
  },
  {
   "cell_type": "markdown",
   "metadata": {
    "slideshow": {
     "slide_type": "fragment"
    }
   },
   "source": [
    "* Upper and lowercase conversions:"
   ]
  },
  {
   "cell_type": "code",
   "execution_count": 56,
   "metadata": {
    "slideshow": {
     "slide_type": "fragment"
    }
   },
   "outputs": [
    {
     "name": "stdout",
     "output_type": "stream",
     "text": [
      "HELLO\n",
      "hello\n"
     ]
    }
   ],
   "source": [
    "print(hello.upper())\n",
    "print(hello.lower())"
   ]
  },
  {
   "cell_type": "markdown",
   "metadata": {
    "slideshow": {
     "slide_type": "slide"
    }
   },
   "source": [
    "* Content tests:"
   ]
  },
  {
   "cell_type": "code",
   "execution_count": 57,
   "metadata": {
    "slideshow": {
     "slide_type": "fragment"
    }
   },
   "outputs": [
    {
     "name": "stdout",
     "output_type": "stream",
     "text": [
      "True\n",
      "True\n"
     ]
    }
   ],
   "source": [
    "textSample = \"world\"\n",
    "digitSample = \"01010\"\n",
    "print(textSample.isalpha())\n",
    "print(digitSample.isdigit())"
   ]
  },
  {
   "cell_type": "markdown",
   "metadata": {
    "slideshow": {
     "slide_type": "slide"
    }
   },
   "source": [
    "* You can import re for pattern matching:"
   ]
  },
  {
   "cell_type": "code",
   "execution_count": 58,
   "metadata": {
    "slideshow": {
     "slide_type": "fragment"
    }
   },
   "outputs": [
    {
     "data": {
      "text/plain": [
       "'Python '"
      ]
     },
     "execution_count": 58,
     "metadata": {},
     "output_type": "execute_result"
    }
   ],
   "source": [
    "import re\n",
    "pattern = 'Hello[ \\t]*(.*)world'\n",
    "match = re.match(pattern, 'Hello Python world')\n",
    "match.group(1)"
   ]
  },
  {
   "cell_type": "markdown",
   "metadata": {
    "slideshow": {
     "slide_type": "slide"
    }
   },
   "source": [
    "* Strings also support an advanced substitution operation known as formatting:"
   ]
  },
  {
   "cell_type": "code",
   "execution_count": 59,
   "metadata": {
    "slideshow": {
     "slide_type": "fragment"
    }
   },
   "outputs": [
    {
     "data": {
      "text/plain": [
       "'cats, dogs, and birds'"
      ]
     },
     "execution_count": 59,
     "metadata": {},
     "output_type": "execute_result"
    }
   ],
   "source": [
    "'%s, dogs, and %s' % ('cats', 'birds') # Works on all versions"
   ]
  },
  {
   "cell_type": "code",
   "execution_count": 60,
   "metadata": {
    "slideshow": {
     "slide_type": "fragment"
    }
   },
   "outputs": [
    {
     "data": {
      "text/plain": [
       "'cats, dogs, and birds'"
      ]
     },
     "execution_count": 60,
     "metadata": {},
     "output_type": "execute_result"
    }
   ],
   "source": [
    "'{0}, dogs, and {1}'.format('cats', 'birds') # Works on 2.6+, 3.0+"
   ]
  },
  {
   "cell_type": "code",
   "execution_count": 61,
   "metadata": {
    "slideshow": {
     "slide_type": "fragment"
    }
   },
   "outputs": [
    {
     "data": {
      "text/plain": [
       "'cats, dogs, and birds'"
      ]
     },
     "execution_count": 61,
     "metadata": {},
     "output_type": "execute_result"
    }
   ],
   "source": [
    "'{}, dogs, and {}'.format('cats', 'birds') # Works on 2.7+, 3.1+"
   ]
  },
  {
   "cell_type": "markdown",
   "metadata": {
    "slideshow": {
     "slide_type": "slide"
    }
   },
   "source": [
    "<h2 style=\"color:maroon;\"> Data Types </h2>\n",
    "<ul>\n",
    "    <li><a style=\"text-decoration:none;\"><h3 style=\"color:black;\">Numbers</h3></a></li>\n",
    "    <li><a style=\"text-decoration:none;\"><h3 style=\"color:black;\">Strings</h3></a></li>\n",
    "    <li><a style=\"text-decoration:none;\"><h3 style=\"color:maroon;\">Lists</h3></a></li>\n",
    "    <li><a style=\"text-decoration:none;\"><h3 style=\"color:black;\">Tuples</h3></a></li>\n",
    "    <li><a style=\"text-decoration:none;\"><h3 style=\"color:black;\">Dictionary</h3></a></li>\n",
    "</ul>\n",
    "\n",
    "\n"
   ]
  },
  {
   "cell_type": "markdown",
   "metadata": {
    "slideshow": {
     "slide_type": "slide"
    }
   },
   "source": [
    "<h3 style=\"color:maroon;\">Lists</h3>"
   ]
  },
  {
   "cell_type": "markdown",
   "metadata": {
    "slideshow": {
     "slide_type": "fragment"
    }
   },
   "source": [
    "* List object is the most general sequence provided by Python.<br>\n",
    "<br>\n",
    "* Lists have no fixed size.<br>\n",
    "<br>\n",
    "* Lists are mutable, can be modified in place<br>"
   ]
  },
  {
   "cell_type": "markdown",
   "metadata": {
    "slideshow": {
     "slide_type": "fragment"
    }
   },
   "source": [
    "* You can have a list hold multiple different types of data"
   ]
  },
  {
   "cell_type": "code",
   "execution_count": 62,
   "metadata": {
    "slideshow": {
     "slide_type": "fragment"
    }
   },
   "outputs": [],
   "source": [
    "listSample = [3,'happy',3.14]"
   ]
  },
  {
   "cell_type": "markdown",
   "metadata": {
    "slideshow": {
     "slide_type": "slide"
    }
   },
   "source": [
    "* They are sequences, lists support all the sequence operations we looked at strings."
   ]
  },
  {
   "cell_type": "code",
   "execution_count": 63,
   "metadata": {
    "slideshow": {
     "slide_type": "fragment"
    }
   },
   "outputs": [
    {
     "data": {
      "text/plain": [
       "3"
      ]
     },
     "execution_count": 63,
     "metadata": {},
     "output_type": "execute_result"
    }
   ],
   "source": [
    "len(listSample)"
   ]
  },
  {
   "cell_type": "markdown",
   "metadata": {
    "slideshow": {
     "slide_type": "fragment"
    }
   },
   "source": [
    "* We can index, slice, and so on, just as for strings"
   ]
  },
  {
   "cell_type": "code",
   "execution_count": 64,
   "metadata": {
    "slideshow": {
     "slide_type": "fragment"
    }
   },
   "outputs": [
    {
     "name": "stdout",
     "output_type": "stream",
     "text": [
      "3\n",
      "[3, 'happy']\n",
      "[3, 'happy', 3.14, 5, 6]\n",
      "[3, 'happy', 3.14, 3, 'happy', 3.14]\n"
     ]
    }
   ],
   "source": [
    "print(listSample[0])\n",
    "print(listSample[:-1]) # return a new list\n",
    "print(listSample + [5,6]) # return a new list\n",
    "print(listSample * 2) # return a new list"
   ]
  },
  {
   "cell_type": "markdown",
   "metadata": {
    "slideshow": {
     "slide_type": "slide"
    }
   },
   "source": [
    "* Lists can grow and shrink on demand"
   ]
  },
  {
   "cell_type": "code",
   "execution_count": 65,
   "metadata": {
    "slideshow": {
     "slide_type": "fragment"
    }
   },
   "outputs": [
    {
     "data": {
      "text/plain": [
       "[3, 'happy', 3.14, 'cats']"
      ]
     },
     "execution_count": 65,
     "metadata": {},
     "output_type": "execute_result"
    }
   ],
   "source": [
    "listSample.append('cats') # add item to last\n",
    "listSample"
   ]
  },
  {
   "cell_type": "code",
   "execution_count": 66,
   "metadata": {
    "slideshow": {
     "slide_type": "fragment"
    }
   },
   "outputs": [
    {
     "data": {
      "text/plain": [
       "[3, 'happy', 3.14]"
      ]
     },
     "execution_count": 66,
     "metadata": {},
     "output_type": "execute_result"
    }
   ],
   "source": [
    "listSample.pop() # pick & delete last item\n",
    "listSample"
   ]
  },
  {
   "cell_type": "code",
   "execution_count": 67,
   "metadata": {
    "slideshow": {
     "slide_type": "fragment"
    }
   },
   "outputs": [
    {
     "data": {
      "text/plain": [
       "['happy', 3.14]"
      ]
     },
     "execution_count": 67,
     "metadata": {},
     "output_type": "execute_result"
    }
   ],
   "source": [
    "listSample.pop(0) #  pick & delete item on index 0\n",
    "listSample"
   ]
  },
  {
   "cell_type": "code",
   "execution_count": 68,
   "metadata": {
    "slideshow": {
     "slide_type": "fragment"
    }
   },
   "outputs": [
    {
     "data": {
      "text/plain": [
       "['happy', 'dogs', 3.14]"
      ]
     },
     "execution_count": 68,
     "metadata": {},
     "output_type": "execute_result"
    }
   ],
   "source": [
    "listSample.insert(1, \"dogs\") # insert at given index\n",
    "listSample"
   ]
  },
  {
   "cell_type": "code",
   "execution_count": 69,
   "metadata": {
    "slideshow": {
     "slide_type": "fragment"
    }
   },
   "outputs": [
    {
     "data": {
      "text/plain": [
       "['happy', 3.14]"
      ]
     },
     "execution_count": 69,
     "metadata": {},
     "output_type": "execute_result"
    }
   ],
   "source": [
    "listSample.remove('dogs') # remove the first ‘dogs’ appearance in the list\n",
    "listSample"
   ]
  },
  {
   "cell_type": "markdown",
   "metadata": {
    "slideshow": {
     "slide_type": "slide"
    }
   },
   "source": [
    "* Most list methods change the list object in place, instead of creating a new one:"
   ]
  },
  {
   "cell_type": "code",
   "execution_count": 70,
   "metadata": {
    "slideshow": {
     "slide_type": "fragment"
    }
   },
   "outputs": [
    {
     "name": "stdout",
     "output_type": "stream",
     "text": [
      "['aa', 'bb', 'cc']\n",
      "['cc', 'bb', 'aa']\n"
     ]
    }
   ],
   "source": [
    "M = ['bb', 'aa', 'cc']\n",
    "M.sort()\n",
    "print(M)\n",
    "M.reverse()\n",
    "print(M)"
   ]
  },
  {
   "cell_type": "markdown",
   "metadata": {
    "slideshow": {
     "slide_type": "slide"
    }
   },
   "source": [
    "* The list methods make it very easy to use a list as a stack"
   ]
  },
  {
   "cell_type": "code",
   "execution_count": 71,
   "metadata": {
    "slideshow": {
     "slide_type": "fragment"
    }
   },
   "outputs": [
    {
     "name": "stdout",
     "output_type": "stream",
     "text": [
      "[3, 4, 5, 6]\n",
      "[3, 4, 5, 6, 7]\n",
      "[3, 4, 5, 6]\n",
      "[3, 4, 5]\n"
     ]
    }
   ],
   "source": [
    "stack = [3, 4, 5]\n",
    "stack.append(6)\n",
    "print(stack)\n",
    "stack.append(7)\n",
    "print(stack)\n",
    "stack.pop() # 7\n",
    "print(stack)\n",
    "stack.pop() # 6\n",
    "print(stack)"
   ]
  },
  {
   "cell_type": "markdown",
   "metadata": {
    "slideshow": {
     "slide_type": "slide"
    }
   },
   "source": [
    "* It is also possible to use a list as a queue (First In, First Out)"
   ]
  },
  {
   "cell_type": "code",
   "execution_count": 72,
   "metadata": {
    "slideshow": {
     "slide_type": "fragment"
    }
   },
   "outputs": [
    {
     "name": "stdout",
     "output_type": "stream",
     "text": [
      "['cats', 'dogs', 'birds', 'cows']\n",
      "['dogs', 'birds', 'cows']\n",
      "['birds', 'cows']\n"
     ]
    }
   ],
   "source": [
    "queue = [\"cats\", \"dogs\", \"birds\"]\n",
    "queue.append(\"cows\")\n",
    "print(queue)\n",
    "queue.pop(0) # “cats\n",
    "print(queue)\n",
    "queue.pop(0) # “dogs”\n",
    "print(queue)"
   ]
  },
  {
   "cell_type": "markdown",
   "metadata": {
    "slideshow": {
     "slide_type": "notes"
    }
   },
   "source": [
    "* It is also possible to concat lists with zip() function:<br>\n",
    "The zip() function returns an iterator of tuples based on the iterable object.<br>\n",
    "If no parameters are passed, zip() returns an empty iterator<br>\n",
    "If a single iterable is passed, zip() returns an iterator of 1-tuples.\n"
   ]
  },
  {
   "cell_type": "code",
   "execution_count": 73,
   "metadata": {
    "slideshow": {
     "slide_type": "notes"
    }
   },
   "outputs": [
    {
     "name": "stdout",
     "output_type": "stream",
     "text": [
      "[]\n",
      "[(1,), (2,), (3,)]\n",
      "[(1, 'a'), (2, 'b'), (3, 'c')]\n"
     ]
    }
   ],
   "source": [
    "list1 = [1, 2, 3]\n",
    "list2 = ['a', 'b', 'c', 'd']\n",
    "result = zip()\n",
    "print(result)\n",
    "result = zip(list1)\n",
    "print(result)\n",
    "result = zip(list1, list2)\n",
    "print(result)"
   ]
  },
  {
   "cell_type": "code",
   "execution_count": 74,
   "metadata": {
    "slideshow": {
     "slide_type": "notes"
    }
   },
   "outputs": [
    {
     "name": "stdout",
     "output_type": "stream",
     "text": [
      "(1, 2, 3)\n",
      "('a', 'b', 'c')\n"
     ]
    }
   ],
   "source": [
    "newList1, newList2 = zip(*result)\n",
    "print(newList1)\n",
    "print(newList2)"
   ]
  },
  {
   "cell_type": "markdown",
   "metadata": {
    "slideshow": {
     "slide_type": "slide"
    }
   },
   "source": [
    "* One nice feature of Python’s core data types is that they support arbitrary nesting:"
   ]
  },
  {
   "cell_type": "code",
   "execution_count": 75,
   "metadata": {
    "slideshow": {
     "slide_type": "fragment"
    }
   },
   "outputs": [
    {
     "name": "stdout",
     "output_type": "stream",
     "text": [
      "[[1, 2, 3], [4, 5, 6], [7, 8, 9]]\n"
     ]
    }
   ],
   "source": [
    "M = [[1, 2, 3], \n",
    "     [4, 5, 6],\n",
    "     [7, 8, 9]]\n",
    "print(M)"
   ]
  },
  {
   "cell_type": "code",
   "execution_count": 76,
   "metadata": {
    "slideshow": {
     "slide_type": "fragment"
    }
   },
   "outputs": [
    {
     "data": {
      "text/plain": [
       "[4, 5, 6]"
      ]
     },
     "execution_count": 76,
     "metadata": {},
     "output_type": "execute_result"
    }
   ],
   "source": [
    "M[1]"
   ]
  },
  {
   "cell_type": "code",
   "execution_count": 77,
   "metadata": {
    "slideshow": {
     "slide_type": "fragment"
    }
   },
   "outputs": [
    {
     "data": {
      "text/plain": [
       "6"
      ]
     },
     "execution_count": 77,
     "metadata": {},
     "output_type": "execute_result"
    }
   ],
   "source": [
    "M[1][2]"
   ]
  },
  {
   "cell_type": "markdown",
   "metadata": {
    "slideshow": {
     "slide_type": "slide"
    }
   },
   "source": [
    "<h2 style=\"color:maroon;\"> Data Types </h2>\n",
    "<ul>\n",
    "    <li><a style=\"text-decoration:none;\"><h3 style=\"color:black;\">Numbers</h3></a></li>\n",
    "    <li><a style=\"text-decoration:none;\"><h3 style=\"color:black;\">Strings</h3></a></li>\n",
    "    <li><a style=\"text-decoration:none;\"><h3 style=\"color:black;\">Lists</h3></a></li>\n",
    "    <li><a style=\"text-decoration:none;\"><h3 style=\"color:maroon;\">Tuples</h3></a></li>\n",
    "    <li><a style=\"text-decoration:none;\"><h3 style=\"color:black;\">Dictionary</h3></a></li>\n",
    "</ul>\n",
    "\n",
    "\n"
   ]
  },
  {
   "cell_type": "markdown",
   "metadata": {
    "slideshow": {
     "slide_type": "slide"
    }
   },
   "source": [
    "<h3 style=\"color:maroon;\">Tuples</h3>"
   ]
  },
  {
   "cell_type": "markdown",
   "metadata": {
    "slideshow": {
     "slide_type": "fragment"
    }
   },
   "source": [
    "* The tuple object is roughly like a list that cannot be changed.<br>\n",
    "<br>\n",
    "* Tuples are sequences, like lists, but they are immutable, like strings.<br>\n",
    "<br>\n",
    "* They're used to represent fixed collections of items.\n"
   ]
  },
  {
   "cell_type": "markdown",
   "metadata": {
    "slideshow": {
     "slide_type": "fragment"
    }
   },
   "source": [
    "* They are normally coded in parentheses instead of square brackets."
   ]
  },
  {
   "cell_type": "code",
   "execution_count": 78,
   "metadata": {
    "slideshow": {
     "slide_type": "fragment"
    }
   },
   "outputs": [
    {
     "name": "stdout",
     "output_type": "stream",
     "text": [
      "(1, 2, 3, 4)\n",
      "4\n",
      "1\n",
      "(1, 2, 3, 4, 5, 6)\n"
     ]
    }
   ],
   "source": [
    "tupleSample = (1, 2, 3, 4)\n",
    "print(tupleSample)\n",
    "print(len(tupleSample))\n",
    "print(tupleSample[0])\n",
    "print(tupleSample + (5,6))"
   ]
  },
  {
   "cell_type": "markdown",
   "metadata": {
    "slideshow": {
     "slide_type": "slide"
    }
   },
   "source": [
    "* Tuples also have type-specific callable methods, but not nearly as many as lists"
   ]
  },
  {
   "cell_type": "code",
   "execution_count": 79,
   "metadata": {},
   "outputs": [
    {
     "name": "stdout",
     "output_type": "stream",
     "text": [
      "(1, 2, 3, 4)\n",
      "3\n",
      "1\n"
     ]
    }
   ],
   "source": [
    "print(tupleSample)\n",
    "print(tupleSample.index(4))\n",
    "print(tupleSample.count(4))"
   ]
  },
  {
   "cell_type": "markdown",
   "metadata": {
    "slideshow": {
     "slide_type": "slide"
    }
   },
   "source": [
    "* The primary distinction for tuples is that they cannot be changed once created."
   ]
  },
  {
   "cell_type": "code",
   "execution_count": 80,
   "metadata": {
    "slideshow": {
     "slide_type": "fragment"
    }
   },
   "outputs": [
    {
     "ename": "TypeError",
     "evalue": "'tuple' object does not support item assignment",
     "output_type": "error",
     "traceback": [
      "\u001b[0;31m---------------------------------------------------------------------------\u001b[0m",
      "\u001b[0;31mTypeError\u001b[0m                                 Traceback (most recent call last)",
      "\u001b[0;32m<ipython-input-80-0e01725daafe>\u001b[0m in \u001b[0;36m<module>\u001b[0;34m()\u001b[0m\n\u001b[0;32m----> 1\u001b[0;31m \u001b[0mtupleSample\u001b[0m\u001b[0;34m[\u001b[0m\u001b[0;36m2\u001b[0m\u001b[0;34m]\u001b[0m \u001b[0;34m=\u001b[0m \u001b[0;36m4\u001b[0m\u001b[0;34m\u001b[0m\u001b[0m\n\u001b[0m",
      "\u001b[0;31mTypeError\u001b[0m: 'tuple' object does not support item assignment"
     ]
    }
   ],
   "source": [
    "tupleSample[2] = 4"
   ]
  },
  {
   "cell_type": "code",
   "execution_count": 81,
   "metadata": {
    "scrolled": true,
    "slideshow": {
     "slide_type": "fragment"
    }
   },
   "outputs": [
    {
     "ename": "AttributeError",
     "evalue": "'tuple' object has no attribute 'append'",
     "output_type": "error",
     "traceback": [
      "\u001b[0;31m---------------------------------------------------------------------------\u001b[0m",
      "\u001b[0;31mAttributeError\u001b[0m                            Traceback (most recent call last)",
      "\u001b[0;32m<ipython-input-81-ff8021987501>\u001b[0m in \u001b[0;36m<module>\u001b[0;34m()\u001b[0m\n\u001b[0;32m----> 1\u001b[0;31m \u001b[0mtupleSample\u001b[0m\u001b[0;34m.\u001b[0m\u001b[0mappend\u001b[0m\u001b[0;34m(\u001b[0m\u001b[0;36m7\u001b[0m\u001b[0;34m)\u001b[0m\u001b[0;34m\u001b[0m\u001b[0m\n\u001b[0m",
      "\u001b[0;31mAttributeError\u001b[0m: 'tuple' object has no attribute 'append'"
     ]
    }
   ],
   "source": [
    "tupleSample.append(7)"
   ]
  },
  {
   "cell_type": "markdown",
   "metadata": {
    "slideshow": {
     "slide_type": "slide"
    }
   },
   "source": [
    "<h2 style=\"color:maroon;\"> Data Types </h2>\n",
    "<ul>\n",
    "    <li><a style=\"text-decoration:none;\"><h3 style=\"color:black;\">Numbers</h3></a></li>\n",
    "    <li><a style=\"text-decoration:none;\"><h3 style=\"color:black;\">Strings</h3></a></li>\n",
    "    <li><a style=\"text-decoration:none;\"><h3 style=\"color:black;\">Lists</h3></a></li>\n",
    "    <li><a style=\"text-decoration:none;\"><h3 style=\"color:black;\">Tuples</h3></a></li>\n",
    "    <li><a style=\"text-decoration:none;\"><h3 style=\"color:maroon;\">Dictionary</h3></a></li>\n",
    "</ul>\n",
    "\n",
    "\n"
   ]
  },
  {
   "cell_type": "markdown",
   "metadata": {
    "slideshow": {
     "slide_type": "slide"
    }
   },
   "source": [
    "<h3 style=\"color:maroon;\">Dictionary</h3>"
   ]
  },
  {
   "cell_type": "markdown",
   "metadata": {
    "slideshow": {
     "slide_type": "fragment"
    }
   },
   "source": [
    "* Dictionaries consist of key-value pairs.<br>\n",
    "<br>\n",
    "* A Dictionary consists of a name, followed by a key, which then hold a certain amount of values.<br>\n",
    "<br>\n",
    "* A dictionary works in a similar way to a real dictionary. You can sort of think of a key as if it were a word, and then the value as the definition of the word, or the value that the word holds.<br>\n",
    "<br>\n",
    "* A key can be almost any python data type<br>"
   ]
  },
  {
   "cell_type": "code",
   "execution_count": 82,
   "metadata": {
    "slideshow": {
     "slide_type": "slide"
    }
   },
   "outputs": [
    {
     "data": {
      "text/plain": [
       "{'first': 3, 'pi': 3.14, 'second': 'happy'}"
      ]
     },
     "execution_count": 82,
     "metadata": {},
     "output_type": "execute_result"
    }
   ],
   "source": [
    "dict1 = {} # declares an empty dictionary\n",
    "dict1[\"first\"] = 3\n",
    "dict1[\"second\"] = \"happy\"\n",
    "dict1[\"pi\"] = 3.14\n",
    "dict1"
   ]
  },
  {
   "cell_type": "code",
   "execution_count": 83,
   "metadata": {
    "slideshow": {
     "slide_type": "fragment"
    }
   },
   "outputs": [
    {
     "data": {
      "text/plain": [
       "{'first': 3, 'pi': 3.14, 'second': 'happy'}"
      ]
     },
     "execution_count": 83,
     "metadata": {},
     "output_type": "execute_result"
    }
   ],
   "source": [
    "dict2 = {\"first\": 3, \"second\": \"happy\", \"pi\": 3.14}\n",
    "dict2"
   ]
  },
  {
   "cell_type": "code",
   "execution_count": 84,
   "metadata": {
    "slideshow": {
     "slide_type": "fragment"
    }
   },
   "outputs": [
    {
     "data": {
      "text/plain": [
       "{'first': 3, 'pi': 3.14, 'second': 'happy'}"
      ]
     },
     "execution_count": 84,
     "metadata": {},
     "output_type": "execute_result"
    }
   ],
   "source": [
    "dict3 = dict(zip(['first', 'second', 'pi'], [3, 'happy', 3.14]))\n",
    "dict3"
   ]
  },
  {
   "cell_type": "code",
   "execution_count": 85,
   "metadata": {
    "slideshow": {
     "slide_type": "fragment"
    }
   },
   "outputs": [
    {
     "name": "stdout",
     "output_type": "stream",
     "text": [
      "3\n",
      "['second', 'pi', 'first']\n",
      "['happy', 3.14, 3]\n"
     ]
    }
   ],
   "source": [
    "print(dict1[\"first\"]) # prints the value of key \"first\"\n",
    "print(dict2.keys()) # prints all keys\n",
    "print(dict3.values()) # prints all values"
   ]
  },
  {
   "cell_type": "markdown",
   "metadata": {
    "slideshow": {
     "slide_type": "slide"
    }
   },
   "source": [
    "<div id=\"syntax\">\n",
    "    <h2 style=\"color:maroon;\"> Statements and Syntax </h2>\n",
    "    <ul>\n",
    "        <li><a style=\"text-decoration:none;\"><h3 style=\"color:black;\">Control Flow Statements</h3></a></li>\n",
    "        <li><a style=\"text-decoration:none;\"><h3 style=\"color:black;\">Loops</h3></a></li>\n",
    "    </ul>\n",
    "</div>\n",
    "\n"
   ]
  },
  {
   "cell_type": "markdown",
   "metadata": {
    "slideshow": {
     "slide_type": "slide"
    }
   },
   "source": [
    "<h3 style=\"color:maroon;\">Control Flow Statements</h3>"
   ]
  },
  {
   "cell_type": "markdown",
   "metadata": {
    "slideshow": {
     "slide_type": "slide"
    }
   },
   "source": [
    "* The Python if statement is typical of if statements in most procedural languages.<br>\n",
    "<br>\n",
    "* It takes the form of an if test, followed by one or more optional elif (“else if”) tests and a final optional else block.<br>\n",
    "<br>\n",
    "* The tests and the else part each have an associated block of nested statements, indented under a header line"
   ]
  },
  {
   "cell_type": "code",
   "execution_count": 86,
   "metadata": {
    "slideshow": {
     "slide_type": "slide"
    }
   },
   "outputs": [
    {
     "name": "stdout",
     "output_type": "stream",
     "text": [
      "True\n"
     ]
    }
   ],
   "source": [
    "if 1:\n",
    "    print('True')"
   ]
  },
  {
   "cell_type": "markdown",
   "metadata": {
    "slideshow": {
     "slide_type": "fragment"
    }
   },
   "source": [
    "* As you can see, whitespace is meaningful in Python<br>\n",
    "<br>\n",
    "* Use a newline to end a line of code.<br>\n",
    "<br>\n",
    "* No braces { } to mark blocks of code, use consistent indentation instead.<br>\n",
    "<br>\n",
    "* First line with less indentation is outside of the block,<br>\n",
    "* First line with more indentation starts a nested block<br>\n"
   ]
  },
  {
   "cell_type": "code",
   "execution_count": 87,
   "metadata": {
    "slideshow": {
     "slide_type": "slide"
    }
   },
   "outputs": [
    {
     "name": "stdout",
     "output_type": "stream",
     "text": [
      "positive\n"
     ]
    }
   ],
   "source": [
    "x = 10\n",
    "if x > 0:\n",
    "    print(\"positive\")\n",
    "elif x == 0:\n",
    "    print(\"0\")\n",
    "else:\n",
    "    print(negative)\n"
   ]
  },
  {
   "cell_type": "markdown",
   "metadata": {
    "slideshow": {
     "slide_type": "slide"
    }
   },
   "source": [
    "* There is no switch or case statement in Python.<br>\n",
    "<br>\n",
    "* But you can use a dictionary-based 'switch':<br>"
   ]
  },
  {
   "cell_type": "code",
   "execution_count": 88,
   "metadata": {
    "slideshow": {
     "slide_type": "fragment"
    }
   },
   "outputs": [
    {
     "name": "stdout",
     "output_type": "stream",
     "text": [
      "1.99\n"
     ]
    }
   ],
   "source": [
    "choices = {'ham': 1.99, 'eggs': 0.99, 'milk': 1.10}\n",
    "customerChoice = 'ham'\n",
    "print(choices[customerChoice])"
   ]
  },
  {
   "cell_type": "markdown",
   "metadata": {
    "slideshow": {
     "slide_type": "fragment"
    }
   },
   "source": [
    "* Also you can use get method of dictionary:"
   ]
  },
  {
   "cell_type": "code",
   "execution_count": 89,
   "metadata": {
    "slideshow": {
     "slide_type": "fragment"
    }
   },
   "outputs": [
    {
     "name": "stdout",
     "output_type": "stream",
     "text": [
      "1.1\n",
      "Bad choice\n"
     ]
    }
   ],
   "source": [
    "choices = {'ham': 1.99, 'eggs': 0.99, 'milk': 1.10}\n",
    "print(choices.get('milk', 'Bad choice'))\n",
    "print(choices.get('butter', 'Bad choice'))"
   ]
  },
  {
   "cell_type": "markdown",
   "metadata": {
    "slideshow": {
     "slide_type": "slide"
    }
   },
   "source": [
    "* and (&)<br>\n",
    "If both the operands are true then condition becomes true.<br>\n",
    "(a and b) is true."
   ]
  },
  {
   "cell_type": "code",
   "execution_count": 90,
   "metadata": {
    "slideshow": {
     "slide_type": "fragment"
    }
   },
   "outputs": [
    {
     "name": "stdout",
     "output_type": "stream",
     "text": [
      "False\n"
     ]
    }
   ],
   "source": [
    "if 1 & 0:\n",
    "    print('True')\n",
    "else:\n",
    "    print('False')"
   ]
  },
  {
   "cell_type": "markdown",
   "metadata": {
    "slideshow": {
     "slide_type": "slide"
    }
   },
   "source": [
    "* or (|)<br>\n",
    "If any of the two operands are non-zero then condition becomes true.<br>\n",
    "(a or b) is true."
   ]
  },
  {
   "cell_type": "code",
   "execution_count": 91,
   "metadata": {
    "slideshow": {
     "slide_type": "fragment"
    }
   },
   "outputs": [
    {
     "name": "stdout",
     "output_type": "stream",
     "text": [
      "True\n"
     ]
    }
   ],
   "source": [
    "if 1 or 0:\n",
    "    print('True')\n",
    "else:\n",
    "    print('False')"
   ]
  },
  {
   "cell_type": "markdown",
   "metadata": {
    "slideshow": {
     "slide_type": "slide"
    }
   },
   "source": [
    "* not (!)<br>\n",
    "Used to reverse the logical state of its operand.<br>\n",
    "Not(a and b) is false."
   ]
  },
  {
   "cell_type": "code",
   "execution_count": 92,
   "metadata": {
    "slideshow": {
     "slide_type": "fragment"
    }
   },
   "outputs": [
    {
     "name": "stdout",
     "output_type": "stream",
     "text": [
      "True\n"
     ]
    }
   ],
   "source": [
    "if not 0:\n",
    "    print('True')\n",
    "else:\n",
    "    print('False')"
   ]
  },
  {
   "cell_type": "markdown",
   "metadata": {
    "slideshow": {
     "slide_type": "slide"
    }
   },
   "source": [
    "<h3 style=\"color:maroon;\">Loops</h3>"
   ]
  },
  {
   "cell_type": "markdown",
   "metadata": {
    "slideshow": {
     "slide_type": "fragment"
    }
   },
   "source": [
    "* Python has two two main looping constructs; `while` and `for`."
   ]
  },
  {
   "cell_type": "code",
   "execution_count": 93,
   "metadata": {
    "slideshow": {
     "slide_type": "fragment"
    }
   },
   "outputs": [
    {
     "name": "stdout",
     "output_type": "stream",
     "text": [
      "0\n",
      "1\n",
      "2\n",
      "3\n",
      "4\n",
      "5\n",
      "6\n",
      "7\n",
      "8\n",
      "9\n",
      "while loop finished\n"
     ]
    }
   ],
   "source": [
    "i=0\n",
    "while i<10: # Loop test\n",
    "    print(i) #Loop body\n",
    "    i+=1\n",
    "    \n",
    "print(\"while loop finished\")"
   ]
  },
  {
   "cell_type": "markdown",
   "metadata": {
    "slideshow": {
     "slide_type": "slide"
    }
   },
   "source": [
    "* The for loop is a generic iterator in Python: it can step through the items in any ordered sequence or other iterable object"
   ]
  },
  {
   "cell_type": "code",
   "execution_count": 94,
   "metadata": {
    "slideshow": {
     "slide_type": "fragment"
    }
   },
   "outputs": [
    {
     "name": "stdout",
     "output_type": "stream",
     "text": [
      "['happy', 3.14]\n",
      "happy\n",
      "3.14\n",
      "\n",
      "\n",
      "for loop finished\n"
     ]
    }
   ],
   "source": [
    "print(listSample)\n",
    "for elements in listSample:\n",
    "    print(elements) #Loop body\n",
    "\n",
    "print(\"\\n\\nfor loop finished\")"
   ]
  },
  {
   "cell_type": "markdown",
   "metadata": {
    "slideshow": {
     "slide_type": "slide"
    }
   },
   "source": [
    "* Also you can use range function:"
   ]
  },
  {
   "cell_type": "code",
   "execution_count": 95,
   "metadata": {
    "slideshow": {
     "slide_type": "fragment"
    }
   },
   "outputs": [
    {
     "name": "stdout",
     "output_type": "stream",
     "text": [
      "[0, 1, 2, 3, 4, 5, 6, 7, 8, 9]\n",
      "[5, 6, 7, 8, 9]\n",
      "[10, 9, 8, 7, 6, 5, 4, 3, 2, 1]\n",
      "[0, 3, 6, 9]\n"
     ]
    }
   ],
   "source": [
    "print(range(10))\n",
    "print(range(5,10))\n",
    "print(range(10,0, -1))\n",
    "print(range(0,10, 3))"
   ]
  },
  {
   "cell_type": "code",
   "execution_count": 96,
   "metadata": {
    "slideshow": {
     "slide_type": "fragment"
    }
   },
   "outputs": [
    {
     "name": "stdout",
     "output_type": "stream",
     "text": [
      "45\n"
     ]
    }
   ],
   "source": [
    "sum = 0\n",
    "for i in range(0,10):\n",
    "    sum = sum + i\n",
    "print(sum)"
   ]
  },
  {
   "cell_type": "markdown",
   "metadata": {
    "slideshow": {
     "slide_type": "slide"
    }
   },
   "source": [
    "* Any sequence works in a for, as it’s a generic tool:"
   ]
  },
  {
   "cell_type": "code",
   "execution_count": 97,
   "metadata": {
    "slideshow": {
     "slide_type": "fragment"
    }
   },
   "outputs": [
    {
     "name": "stdout",
     "output_type": "stream",
     "text": [
      "Hello World p y t h o n\n"
     ]
    }
   ],
   "source": [
    "textList = [\"Hello\", \"World\"]\n",
    "username = \"python\"\n",
    "for i in textList: \n",
    "    print(i),\n",
    "for i in username:\n",
    "    print(i + ''), # Print statement ends with a comma means print inline"
   ]
  },
  {
   "cell_type": "markdown",
   "metadata": {
    "slideshow": {
     "slide_type": "slide"
    }
   },
   "source": [
    "* `Break`, `continue`, `pass`, and the Loop `else` are the simple statements you can use with loops"
   ]
  },
  {
   "cell_type": "markdown",
   "metadata": {
    "slideshow": {
     "slide_type": "slide"
    }
   },
   "source": [
    "* The break statement causes an immediate exit from a loop."
   ]
  },
  {
   "cell_type": "code",
   "execution_count": 98,
   "metadata": {
    "scrolled": true,
    "slideshow": {
     "slide_type": "fragment"
    }
   },
   "outputs": [
    {
     "name": "stdout",
     "output_type": "stream",
     "text": [
      "enter a integer (0 for exit)0\n",
      "0\n"
     ]
    }
   ],
   "source": [
    "sum = 0\n",
    "while True:\n",
    "    num = int(raw_input(\"enter a integer (0 for exit)\"))\n",
    "    if num == 0: break\n",
    "    sum = sum + num\n",
    "print(sum)\n"
   ]
  },
  {
   "cell_type": "markdown",
   "metadata": {
    "slideshow": {
     "slide_type": "slide"
    }
   },
   "source": [
    "<div id=\"func\">\n",
    "    <h2 style=\"color:maroon;\"> Functions and Files </h2>\n",
    "    <ul>\n",
    "        <li><a style=\"text-decoration:none;\"><h3 style=\"color:black;\">Function Basics</h3></a></li>\n",
    "        <li><a style=\"text-decoration:none;\"><h3 style=\"color:black;\">Lambda Functions</h3></a></li>\n",
    "        <li><a style=\"text-decoration:none;\"><h3 style=\"color:black;\">Files</h3></a></li>\n",
    "    </ul>\n",
    "</div>"
   ]
  },
  {
   "cell_type": "markdown",
   "metadata": {
    "slideshow": {
     "slide_type": "slide"
    }
   },
   "source": [
    "<h3 style=\"color:maroon;\">Function Basics</h3>"
   ]
  },
  {
   "cell_type": "markdown",
   "metadata": {
    "slideshow": {
     "slide_type": "fragment"
    }
   },
   "source": [
    "* In simple terms, a function is a device that groups a set of statements so they can be run more than once in a program, a packaged procedure invoked by name.<br>\n",
    "<br>\n",
    "* Functions are the alternative to programming by cutting and pasting rather than having multiple redundant copies of an operation’s code"
   ]
  },
  {
   "cell_type": "code",
   "execution_count": 99,
   "metadata": {
    "slideshow": {
     "slide_type": "fragment"
    }
   },
   "outputs": [
    {
     "data": {
      "text/plain": [
       "16"
      ]
     },
     "execution_count": 99,
     "metadata": {},
     "output_type": "execute_result"
    }
   ],
   "source": [
    "def times(x, y):  # Create and assign function\n",
    "    return x * y  # Body executed when called\n",
    "prod = times(2,8) # Call function\n",
    "prod"
   ]
  },
  {
   "cell_type": "markdown",
   "metadata": {
    "slideshow": {
     "slide_type": "slide"
    }
   },
   "source": [
    "* Variables that are defined inside a function body have a local scope, and those defined outside have a global scope.<br>\n",
    "* This means that local variables can be accessed only inside the function in which they are declared, whereas global variables can be accessed throughout the program body by all functions.\n"
   ]
  },
  {
   "cell_type": "code",
   "execution_count": 100,
   "metadata": {
    "slideshow": {
     "slide_type": "fragment"
    }
   },
   "outputs": [
    {
     "name": "stdout",
     "output_type": "stream",
     "text": [
      "Inside the function local sum: 4\n",
      "Outside the function global sum: 0\n"
     ]
    }
   ],
   "source": [
    "z = 0 # This is global variable\n",
    "def sum(x, y):\n",
    "    z = x + y # This is local variable\n",
    "    print(\"Inside the function local sum: \" + str(z))\n",
    "    return z \n",
    "sum(2, 2)\n",
    "print(\"Outside the function global sum: \" + str(z))"
   ]
  },
  {
   "cell_type": "markdown",
   "metadata": {
    "slideshow": {
     "slide_type": "slide"
    }
   },
   "source": [
    "* For changing global variable in function:"
   ]
  },
  {
   "cell_type": "code",
   "execution_count": 101,
   "metadata": {
    "slideshow": {
     "slide_type": "fragment"
    }
   },
   "outputs": [
    {
     "name": "stdout",
     "output_type": "stream",
     "text": [
      "4\n"
     ]
    }
   ],
   "source": [
    "z = 0\n",
    "def sum(x, y):\n",
    "    global z\n",
    "    z = x + y\n",
    "    return z \n",
    "sum(2, 2)\n",
    "print(z)"
   ]
  },
  {
   "cell_type": "markdown",
   "metadata": {
    "slideshow": {
     "slide_type": "slide"
    }
   },
   "source": [
    "* You can call a function by using the following types of formal arguments:<br>\n",
    "<br>\n",
    "`Required arguments`<br>\n",
    "<br>\n",
    "`Default arguments`<br>\n",
    "<br>\n",
    "`Keyword arguments`<br>"
   ]
  },
  {
   "cell_type": "markdown",
   "metadata": {
    "slideshow": {
     "slide_type": "slide"
    }
   },
   "source": [
    "<h3 style=\"color:maroon;\">Required Arguments</h3>"
   ]
  },
  {
   "cell_type": "markdown",
   "metadata": {
    "slideshow": {
     "slide_type": "fragment"
    }
   },
   "source": [
    "* Required arguments are the arguments passed to a function in correct positional order."
   ]
  },
  {
   "cell_type": "code",
   "execution_count": 102,
   "metadata": {
    "slideshow": {
     "slide_type": "fragment"
    }
   },
   "outputs": [
    {
     "ename": "TypeError",
     "evalue": "sayHello() takes exactly 1 argument (0 given)",
     "output_type": "error",
     "traceback": [
      "\u001b[0;31m---------------------------------------------------------------------------\u001b[0m",
      "\u001b[0;31mTypeError\u001b[0m                                 Traceback (most recent call last)",
      "\u001b[0;32m<ipython-input-102-2a68d96b744e>\u001b[0m in \u001b[0;36m<module>\u001b[0;34m()\u001b[0m\n\u001b[1;32m      2\u001b[0m     \u001b[0;32mprint\u001b[0m\u001b[0;34m(\u001b[0m\u001b[0mmsg\u001b[0m\u001b[0;34m)\u001b[0m\u001b[0;34m\u001b[0m\u001b[0m\n\u001b[1;32m      3\u001b[0m \u001b[0;34m\u001b[0m\u001b[0m\n\u001b[0;32m----> 4\u001b[0;31m \u001b[0msayHello\u001b[0m\u001b[0;34m(\u001b[0m\u001b[0;34m)\u001b[0m \u001b[0;31m# call function with 0 arguments\u001b[0m\u001b[0;34m\u001b[0m\u001b[0m\n\u001b[0m",
      "\u001b[0;31mTypeError\u001b[0m: sayHello() takes exactly 1 argument (0 given)"
     ]
    }
   ],
   "source": [
    "def sayHello(msg):\n",
    "    print(msg)\n",
    "\n",
    "sayHello() # call function with 0 arguments"
   ]
  },
  {
   "cell_type": "markdown",
   "metadata": {
    "slideshow": {
     "slide_type": "slide"
    }
   },
   "source": [
    "<h3 style=\"color:maroon;\">Default Arguments</h3>"
   ]
  },
  {
   "cell_type": "markdown",
   "metadata": {
    "slideshow": {
     "slide_type": "fragment"
    }
   },
   "source": [
    "* A default argument is an argument that assumes a default value if a value is not provided in the function call for that argument.<br>\n",
    "<br>\n",
    "* For some functions, you may want to make some parameters optional, you can use default arguments.\n"
   ]
  },
  {
   "cell_type": "code",
   "execution_count": 103,
   "metadata": {
    "scrolled": true
   },
   "outputs": [
    {
     "name": "stdout",
     "output_type": "stream",
     "text": [
      "merhaba\n",
      "HelloHello\n"
     ]
    }
   ],
   "source": [
    "def sayHello(msg, times=1):\n",
    "    print(msg * times)\n",
    "    \n",
    "sayHello(\"merhaba\")\n",
    "sayHello(\"Hello\", 2)"
   ]
  },
  {
   "cell_type": "markdown",
   "metadata": {
    "slideshow": {
     "slide_type": "slide"
    }
   },
   "source": [
    "<h3 style=\"color:maroon;\">Keyword Arguments</h3>"
   ]
  },
  {
   "cell_type": "markdown",
   "metadata": {
    "slideshow": {
     "slide_type": "fragment"
    }
   },
   "source": [
    "* When you use keyword arguments in a function call, the caller identifies the arguments by the parameter name.<br>\n",
    "<br>\n",
    "* If you have some functions with many parameters and you want to specify only some of them, you can use keyword arguments.\n"
   ]
  },
  {
   "cell_type": "code",
   "execution_count": 104,
   "metadata": {
    "slideshow": {
     "slide_type": "fragment"
    }
   },
   "outputs": [
    {
     "name": "stdout",
     "output_type": "stream",
     "text": [
      "x: 10\n",
      "y: 20\n",
      "z: 30\n",
      "------\n",
      "x: 3\n",
      "y: 10\n",
      "z: 1\n",
      "------\n"
     ]
    }
   ],
   "source": [
    "def func(x, y, z=1):\n",
    "    print(\"x: \" + str(x))\n",
    "    print(\"y: \" + str(y)) \n",
    "    print(\"z: \" + str(z))\n",
    "    print(\"------\")\n",
    "func(10, 20, 30)\n",
    "func(y=10, x=3)"
   ]
  },
  {
   "cell_type": "markdown",
   "metadata": {
    "slideshow": {
     "slide_type": "notes"
    }
   },
   "source": [
    "<h3 style=\"color:maroon;\">Extra: Variable-length arguments</h3>"
   ]
  },
  {
   "cell_type": "markdown",
   "metadata": {
    "slideshow": {
     "slide_type": "notes"
    }
   },
   "source": [
    "* You may need to process a function for more arguments than you specified while defining the function.<br>\n",
    "<br>\n",
    "* These arguments are called variable-length arguments and are not named in the function definition, unlike required and default arguments."
   ]
  },
  {
   "cell_type": "code",
   "execution_count": 105,
   "metadata": {
    "slideshow": {
     "slide_type": "notes"
    }
   },
   "outputs": [
    {
     "name": "stdout",
     "output_type": "stream",
     "text": [
      "a = 10\n",
      "item: 1\n",
      "item: 2\n",
      "item: 3\n",
      "('cats', 5)\n",
      "('dogs', 10)\n"
     ]
    }
   ],
   "source": [
    "def total(a=5, *numbers, **animals):\n",
    "    print('a = ' + str(a))\n",
    "    for item in numbers:\n",
    "        print('item: ' + str(item))\n",
    "        \n",
    "    for firstPart, secondPart in animals.items():\n",
    "        print(firstPart, secondPart)\n",
    "\n",
    "total(10,1,2,3,cats=5,dogs=10)"
   ]
  },
  {
   "cell_type": "markdown",
   "metadata": {
    "slideshow": {
     "slide_type": "slide"
    }
   },
   "source": [
    "<h3 style=\"color:maroon;\">Lambda Functions</h3>"
   ]
  },
  {
   "cell_type": "markdown",
   "metadata": {
    "slideshow": {
     "slide_type": "fragment"
    }
   },
   "source": [
    "* Python supports the creation of anonymous functions at runtime, using a construct called \"lambda\".<br>\n",
    "<br>\n",
    "* This piece of code in the next cell shows the difference between a normal function definition (\"f\") and a lambda function (\"g\"):"
   ]
  },
  {
   "cell_type": "code",
   "execution_count": 106,
   "metadata": {
    "slideshow": {
     "slide_type": "fragment"
    }
   },
   "outputs": [
    {
     "name": "stdout",
     "output_type": "stream",
     "text": [
      "25\n"
     ]
    }
   ],
   "source": [
    "def f (x): \n",
    "    return x**2\n",
    "x = f(5)\n",
    "print(x)"
   ]
  },
  {
   "cell_type": "code",
   "execution_count": 107,
   "metadata": {
    "slideshow": {
     "slide_type": "fragment"
    }
   },
   "outputs": [
    {
     "name": "stdout",
     "output_type": "stream",
     "text": [
      "25\n"
     ]
    }
   ],
   "source": [
    "g = lambda x: x**2\n",
    "x = g(5) \n",
    "print(x)"
   ]
  },
  {
   "cell_type": "markdown",
   "metadata": {
    "slideshow": {
     "slide_type": "fragment"
    }
   },
   "source": [
    "* Note that the lambda definition does not include a \"return\" statement it always contains an expression which is returned."
   ]
  },
  {
   "cell_type": "markdown",
   "metadata": {
    "slideshow": {
     "slide_type": "slide"
    }
   },
   "source": [
    "* In the following slide, we will first define a simple list of integer values, then use the standard functions filter(), map() and reduce() to do various things with that list. All of the three functions expect two arguments: A function and a list."
   ]
  },
  {
   "cell_type": "code",
   "execution_count": 108,
   "metadata": {
    "slideshow": {
     "slide_type": "slide"
    }
   },
   "outputs": [],
   "source": [
    "numbers = [0, 6, 9, 12, 14]"
   ]
  },
  {
   "cell_type": "code",
   "execution_count": 109,
   "metadata": {
    "slideshow": {
     "slide_type": "fragment"
    }
   },
   "outputs": [
    {
     "name": "stdout",
     "output_type": "stream",
     "text": [
      "[0, 6, 9, 12]\n"
     ]
    }
   ],
   "source": [
    "print filter(lambda x: x % 3 == 0, numbers)"
   ]
  },
  {
   "cell_type": "markdown",
   "metadata": {
    "slideshow": {
     "slide_type": "fragment"
    }
   },
   "source": [
    "* filter() calls our lambda function for each element of the list, and returns a new list that contains only those elements for which the function returned \"True\".<br>\n",
    "<br>\n",
    "* In this case, we get a list of all elements that are multiples of 3. The expression x % 3 == 0 computes the remainder of x divided by 3 and compares the result with 0 "
   ]
  },
  {
   "cell_type": "code",
   "execution_count": 110,
   "metadata": {
    "slideshow": {
     "slide_type": "slide"
    }
   },
   "outputs": [
    {
     "name": "stdout",
     "output_type": "stream",
     "text": [
      "[10, 22, 28, 34, 38]\n"
     ]
    }
   ],
   "source": [
    "print map(lambda x: x * 2 + 10, numbers)"
   ]
  },
  {
   "cell_type": "markdown",
   "metadata": {},
   "source": [
    "* map() is used to convert our list. The given function is called for every element in the original list, and a new list is created which contains the return values from our lambda function.<br>\n",
    "<br>\n",
    "* In this case, it computes 2 * x + 10 for every element."
   ]
  },
  {
   "cell_type": "code",
   "execution_count": 111,
   "metadata": {
    "slideshow": {
     "slide_type": "slide"
    }
   },
   "outputs": [
    {
     "name": "stdout",
     "output_type": "stream",
     "text": [
      "41\n"
     ]
    }
   ],
   "source": [
    "print reduce(lambda x, y: x + y, numbers)"
   ]
  },
  {
   "cell_type": "markdown",
   "metadata": {
    "slideshow": {
     "slide_type": "fragment"
    }
   },
   "source": [
    "* reduce() is somewhat special. The \"worker function\" for this one must accept two arguments (we've called them x and y here), not just one. <br>\n",
    "<br>\n",
    "* The function is called with the first two elements from the list, then with the result of that call and the third element, and so on, until all of the list elements have been handled. This means that our function is called n-1 times if the list contains n elements.<br>\n",
    "<br>\n",
    "* The return value of the last call is the result of the reduce() construct.<br>\n",
    "<br>\n",
    "* In the above example, it simply adds the arguments, so we get the sum of all elements."
   ]
  },
  {
   "cell_type": "markdown",
   "metadata": {
    "slideshow": {
     "slide_type": "slide"
    }
   },
   "source": [
    "<h3 style=\"color:maroon;\">Files</h3>"
   ]
  },
  {
   "cell_type": "markdown",
   "metadata": {
    "slideshow": {
     "slide_type": "fragment"
    }
   },
   "source": [
    "* When you’re working with Python, you don’t need to import a library in order to read and write files. It’s handled natively in the language.<br>\n",
    "<br>\n",
    "* The first thing you’ll need to do is use Python’s built-in open function to get a file object.<br>\n",
    "<br>\n",
    "* In short, the built-in open function creates a Python file object, which serves as a link to a file residing on your machine."
   ]
  },
  {
   "cell_type": "code",
   "execution_count": 112,
   "metadata": {
    "scrolled": true,
    "slideshow": {
     "slide_type": "slide"
    }
   },
   "outputs": [],
   "source": [
    "myFile = open('myfile.txt', 'w')\n",
    "myFile.write(\"['cats', 'dogs', 'birds', 'cows']\\n['dogs', 'birds', 'cows']\\n['birds', 'cows']\")"
   ]
  },
  {
   "cell_type": "code",
   "execution_count": 113,
   "metadata": {
    "slideshow": {
     "slide_type": "slide"
    }
   },
   "outputs": [
    {
     "name": "stdout",
     "output_type": "stream",
     "text": [
      "<open file 'myfile.txt', mode 'r' at 0x103db1c90>\n"
     ]
    }
   ],
   "source": [
    "myFile = open('myfile.txt')\n",
    "print(myFile)"
   ]
  },
  {
   "cell_type": "code",
   "execution_count": 114,
   "metadata": {
    "slideshow": {
     "slide_type": "fragment"
    }
   },
   "outputs": [
    {
     "name": "stdout",
     "output_type": "stream",
     "text": [
      "['cats', 'dogs', 'birds', 'cows']\n",
      "\n"
     ]
    }
   ],
   "source": [
    "myFile = open('myfile.txt')\n",
    "print(myFile.readline()) # Return first line of file"
   ]
  },
  {
   "cell_type": "code",
   "execution_count": 115,
   "metadata": {
    "slideshow": {
     "slide_type": "fragment"
    }
   },
   "outputs": [
    {
     "name": "stdout",
     "output_type": "stream",
     "text": [
      "['cats', 'dogs', 'birds', 'cows']\n",
      "['dogs', 'birds', 'cows']\n",
      "['birds', 'cows']\n"
     ]
    }
   ],
   "source": [
    "myFile = open('myfile.txt')\n",
    "print(myFile.read()) # Read all at once into string"
   ]
  },
  {
   "cell_type": "code",
   "execution_count": 116,
   "metadata": {
    "slideshow": {
     "slide_type": "fragment"
    }
   },
   "outputs": [
    {
     "name": "stdout",
     "output_type": "stream",
     "text": [
      "['cats', 'dogs', 'birds', 'cows']\n",
      "\n",
      "['dogs', 'birds', 'cows']\n",
      "\n",
      "['birds', 'cows']\n"
     ]
    }
   ],
   "source": [
    "myFile = open('myfile.txt')\n",
    "for line in myFile:\n",
    "    print(line)"
   ]
  },
  {
   "cell_type": "code",
   "execution_count": 117,
   "metadata": {
    "slideshow": {
     "slide_type": "slide"
    }
   },
   "outputs": [],
   "source": [
    "myFile = open('myfile.txt', 'a')\n",
    "myFile.write(\"\\n['cows']\")\n",
    "myFile.close()"
   ]
  },
  {
   "cell_type": "code",
   "execution_count": 118,
   "metadata": {
    "slideshow": {
     "slide_type": "fragment"
    }
   },
   "outputs": [
    {
     "name": "stdout",
     "output_type": "stream",
     "text": [
      "['cats', 'dogs', 'birds', 'cows']\n",
      "['dogs', 'birds', 'cows']\n",
      "['birds', 'cows']\n",
      "['cows']\n"
     ]
    }
   ],
   "source": [
    "myFile = open('myfile.txt')\n",
    "print(myFile.read())"
   ]
  },
  {
   "cell_type": "markdown",
   "metadata": {
    "slideshow": {
     "slide_type": "slide"
    }
   },
   "source": [
    "* You can see open modes and descriptions in the next slide."
   ]
  },
  {
   "cell_type": "markdown",
   "metadata": {
    "slideshow": {
     "slide_type": "slide"
    }
   },
   "source": [
    "<table>\n",
    "<thead>\n",
    "<tr>\n",
    "<th style=\"text-align:left;\">Mode</th>\n",
    "<th style=\"text-align:left;\">Description</th>\n",
    "</tr>\n",
    "</thead>\n",
    "<tbody>\n",
    "<tr>\n",
    "<td style=\"text-align:left;\">r</td>\n",
    "<td style=\"text-align:left;\">Opens a file for reading only. The file pointer is placed at the beginning of the file. This is the default mode.</td>\n",
    "</tr>\n",
    "<tr>\n",
    "<td style=\"text-align:left;\">rb</td>\n",
    "<td style=\"text-align:left;\">Opens a file for reading only in binary format. The file pointer is placed at the beginning of the file. This is the default mode.</td>\n",
    "</tr>\n",
    "<tr>\n",
    "<td style=\"text-align:left;\">r+</td>\n",
    "<td style=\"text-align:left;\">Opens a file for both reading and writing. The file pointer placed at the beginning of the file.</td>\n",
    "</tr>\n",
    "<tr>\n",
    "<td style=\"text-align:left;\">rb+</td>\n",
    "<td style=\"text-align:left;\">Opens a file for both reading and writing in binary format. The file pointer placed at the beginning of the file.</td>\n",
    "</tr>\n",
    "<tr>\n",
    "<td style=\"text-align:left;\">w</td>\n",
    "<td style=\"text-align:left;\">Opens a file for writing only. Overwrites the file if the file exists. If the file does not exist, creates a new file for writing.</td>\n",
    "</tr>\n",
    "<tr>\n",
    "<td style=\"text-align:left;\">wb</td>\n",
    "<td style=\"text-align:left;\">Opens a file for writing only in binary format. Overwrites the file if the file exists. If the file does not exist, creates a new file for writing.</td>\n",
    "</tr>\n",
    "<tr>\n",
    "<td style=\"text-align:left;\">w+</td>\n",
    "<td style=\"text-align:left;\">Opens a file for both writing and reading. Overwrites the existing file if the file exists. If the file does not exist, creates a new file for reading and writing.</td>\n",
    "</tr>\n",
    "<tr>\n",
    "<td style=\"text-align:left;\">wb+</td>\n",
    "<td style=\"text-align:left;\">Opens a file for both writing and reading in binary format. Overwrites the existing file if the file exists. If the file does not exist, creates a new file for reading and writing.</td>\n",
    "</tr>\n",
    "<tr>\n",
    "<td style=\"text-align:left;\">a</td>\n",
    "<td style=\"text-align:left;\">Opens a file for appending. The file pointer is at the end of the file if the file exists. That is, the file is in the append mode. If the file does not exist, it creates a new file for writing.</td>\n",
    "</tr>\n",
    "<tr>\n",
    "<td style=\"text-align:left;\">ab</td>\n",
    "<td style=\"text-align:left;\">Opens a file for appending in binary format. The file pointer is at the end of the file if the file exists. That is, the file is in the append mode. If the file does not exist, it creates a new file for writing.</td>\n",
    "</tr>\n",
    "<tr>\n",
    "<td style=\"text-align:left;\">a+</td>\n",
    "<td style=\"text-align:left;\">Opens a file for both appending and reading. The file pointer is at the end of the file if the file exists. The file opens in the append mode. If the file does not exist, it creates a new file for reading and writing.</td>\n",
    "</tr>\n",
    "<tr>\n",
    "<td style=\"text-align:left;\">ab+</td>\n",
    "<td style=\"text-align:left;\">Opens a file for both appending and reading in binary format. The file pointer is at the end of the file if the file exists. The file opens in the append mode. If the file does not exist, it creates a new file for reading and writing.\n",
    "</td>\n",
    "</tr>\n",
    "</tbody>\n",
    "</table>"
   ]
  },
  {
   "cell_type": "markdown",
   "metadata": {
    "slideshow": {
     "slide_type": "slide"
    }
   },
   "source": [
    "* Example Write in CSV:"
   ]
  },
  {
   "cell_type": "code",
   "execution_count": 119,
   "metadata": {
    "slideshow": {
     "slide_type": "fragment"
    }
   },
   "outputs": [],
   "source": [
    "import csv\n",
    "with open('sample.csv', 'wb') as csvfile:\n",
    "    writer = csv.writer(csvfile, delimiter=',')\n",
    "    writer.writerows([['cats', 'dogs', 'birds']])\n",
    "    writer.writerows([['cows', 'birds', 'cats']])"
   ]
  },
  {
   "cell_type": "markdown",
   "metadata": {
    "slideshow": {
     "slide_type": "slide"
    }
   },
   "source": [
    "* Example Read in CSV:"
   ]
  },
  {
   "cell_type": "code",
   "execution_count": 120,
   "metadata": {
    "slideshow": {
     "slide_type": "fragment"
    }
   },
   "outputs": [
    {
     "name": "stdout",
     "output_type": "stream",
     "text": [
      "['cats', 'dogs', 'birds']\n",
      "['cows', 'birds', 'cats']\n"
     ]
    }
   ],
   "source": [
    "import csv\n",
    "with open('sample.csv', 'rb') as csvfile:\n",
    "    reader = csv.reader(csvfile, delimiter=',')\n",
    "    for row in reader:\n",
    "        print(row)"
   ]
  },
  {
   "cell_type": "markdown",
   "metadata": {
    "slideshow": {
     "slide_type": "slide"
    }
   },
   "source": [
    "* Example Write in JSON:"
   ]
  },
  {
   "cell_type": "code",
   "execution_count": 121,
   "metadata": {
    "slideshow": {
     "slide_type": "fragment"
    }
   },
   "outputs": [],
   "source": [
    "import json\n",
    "weird_json = {\"3\": \"Python\", \"2\": \"World\", \"1\": \"Hello\"}\n",
    "with open('sample.json', 'w') as jsonfile:\n",
    "    json.dump(weird_json, jsonfile)"
   ]
  },
  {
   "cell_type": "markdown",
   "metadata": {
    "slideshow": {
     "slide_type": "slide"
    }
   },
   "source": [
    "* Example Read in JSON:"
   ]
  },
  {
   "cell_type": "code",
   "execution_count": 122,
   "metadata": {
    "slideshow": {
     "slide_type": "fragment"
    }
   },
   "outputs": [
    {
     "name": "stdout",
     "output_type": "stream",
     "text": [
      "{u'1': u'Hello', u'3': u'Python', u'2': u'World'}\n"
     ]
    }
   ],
   "source": [
    "import json\n",
    "with open('sample.json') as jsonfile:\n",
    "    data = json.load(jsonfile)\n",
    "    print(data)"
   ]
  },
  {
   "cell_type": "markdown",
   "metadata": {
    "slideshow": {
     "slide_type": "fragment"
    }
   },
   "source": [
    "* When load json you can see ‘u’ prefix. The u prefix means that those strings are unicode rather than 8-bit strings. When you really use the string, it won't appear in your data.  "
   ]
  },
  {
   "cell_type": "code",
   "execution_count": 123,
   "metadata": {
    "slideshow": {
     "slide_type": "fragment"
    }
   },
   "outputs": [
    {
     "name": "stdout",
     "output_type": "stream",
     "text": [
      "Hello\n",
      "<type 'unicode'>\n",
      "<type 'str'>\n"
     ]
    }
   ],
   "source": [
    "print(data['1'])\n",
    "print(type(data['1']))\n",
    "print(type(data['1'].encode('utf-8')))"
   ]
  },
  {
   "cell_type": "markdown",
   "metadata": {
    "slideshow": {
     "slide_type": "slide"
    }
   },
   "source": [
    "<div id=\"oop\">\n",
    "    <h2 style=\"color:maroon;\">Object-Oriented Programming & Classes</h2>\n",
    "    <ul>\n",
    "        <li><a style=\"text-decoration:none;\"><h3 style=\"color:black;\">Object Oriented Programming (OOP)</h3></a></li>\n",
    "        <li><a style=\"text-decoration:none;\"><h3 style=\"color:black;\">Classes</h3></a></li>\n",
    "    </ul>\n",
    "</div>\n"
   ]
  },
  {
   "cell_type": "markdown",
   "metadata": {
    "slideshow": {
     "slide_type": "slide"
    }
   },
   "source": [
    "<h3 style=\"color:maroon;\">Object Oriented Programming (OOP)</h3>"
   ]
  },
  {
   "cell_type": "markdown",
   "metadata": {
    "slideshow": {
     "slide_type": "fragment"
    }
   },
   "source": [
    "* In all the examples we look at it till now, is around functions i.e. blocks of statements which manipulate data. This is called the procedure-oriented way of programming.<br>\n",
    "<br>\n",
    "* There is another way of organizing your program which is to combine data and functionality and wrap it inside something called an object. This is called the object oriented programming paradigm.<br>\n",
    "<br>\n",
    "* Most of the time you can use procedural programming, but when writing large programs or have a problem that is better suited to this method, you can use object oriented programming techniques."
   ]
  },
  {
   "cell_type": "markdown",
   "metadata": {
    "slideshow": {
     "slide_type": "slide"
    }
   },
   "source": [
    "<h3 style=\"color:maroon;\">Classes</h3>"
   ]
  },
  {
   "cell_type": "markdown",
   "metadata": {
    "slideshow": {
     "slide_type": "fragment"
    }
   },
   "source": [
    "* Classes and objects are the two main aspects of object oriented programming.<br>\n",
    "<br>\n",
    "* A class creates a new type where objects are instances of the class.<br>\n",
    "<br>\n",
    "* Objects are a representation of the real world objects like cars, dogs, peoples, etc.<br>\n",
    "<br>\n",
    "* The objects share two main characteristics: data and behavior."
   ]
  },
  {
   "cell_type": "markdown",
   "metadata": {
    "slideshow": {
     "slide_type": "fragment"
    }
   },
   "source": [
    "* For Example, Cars have data like number of wheels, number of doors, seating capacity and also have behavior: accelerate, stop, show how much fuel is missing and so many other."
   ]
  },
  {
   "cell_type": "markdown",
   "metadata": {
    "slideshow": {
     "slide_type": "fragment"
    }
   },
   "source": [
    "* Data = Attributes\n",
    "* Behavior = Methods"
   ]
  },
  {
   "cell_type": "markdown",
   "metadata": {
    "slideshow": {
     "slide_type": "slide"
    }
   },
   "source": [
    "* A class is a blueprint, a model for its objects, a way to define attributes and behavior."
   ]
  },
  {
   "cell_type": "markdown",
   "metadata": {
    "slideshow": {
     "slide_type": "fragment"
    }
   },
   "source": [
    "Let’s look Python syntax for classes:"
   ]
  },
  {
   "cell_type": "code",
   "execution_count": 124,
   "metadata": {
    "slideshow": {
     "slide_type": "fragment"
    }
   },
   "outputs": [],
   "source": [
    "class Vehicle:\n",
    "    pass\n",
    "car = Vehicle() # Creating an instance"
   ]
  },
  {
   "cell_type": "markdown",
   "metadata": {
    "slideshow": {
     "slide_type": "slide"
    }
   },
   "source": [
    "* Class methods have only one specific difference from ordinary functions:\n",
    "> * Class methods have a extra parameter, but you do not give a value for this parameter when you call the method, Python will provide it.<br>\n",
    "<br>\n",
    "> * This particular variable refers to the object itself, and by convention, it is given the name self."
   ]
  },
  {
   "cell_type": "markdown",
   "metadata": {
    "slideshow": {
     "slide_type": "slide"
    }
   },
   "source": [
    "* Let’s define some attributes and methods to our ‘Vehicle’ Class:"
   ]
  },
  {
   "cell_type": "code",
   "execution_count": 125,
   "metadata": {
    "slideshow": {
     "slide_type": "fragment"
    }
   },
   "outputs": [],
   "source": [
    "class Vehicle:\n",
    "    def __init__(self, numWheels, fuelType, seatCapacity, maxVelocity):\n",
    "        self.numWheels = numWheels\n",
    "        self.fuelType = fuelType\n",
    "        self.seatCapacity = seatCapacity\n",
    "        self.maxVelocity = maxVelocity"
   ]
  },
  {
   "cell_type": "markdown",
   "metadata": {
    "slideshow": {
     "slide_type": "fragment"
    }
   },
   "source": [
    "* As you can see we use the init method. We call it a constructor method. So when create the vehicle object, we can define this attributes."
   ]
  },
  {
   "cell_type": "markdown",
   "metadata": {
    "slideshow": {
     "slide_type": "fragment"
    }
   },
   "source": [
    "* Let’s create an object and define attributes:"
   ]
  },
  {
   "cell_type": "code",
   "execution_count": 126,
   "metadata": {
    "slideshow": {
     "slide_type": "fragment"
    }
   },
   "outputs": [
    {
     "data": {
      "text/plain": [
       "<__main__.Vehicle instance at 0x103e44560>"
      ]
     },
     "execution_count": 126,
     "metadata": {},
     "output_type": "execute_result"
    }
   ],
   "source": [
    "teslaS = Vehicle(4, 'electric', 5, 250)\n",
    "teslaS"
   ]
  },
  {
   "cell_type": "markdown",
   "metadata": {
    "slideshow": {
     "slide_type": "fragment"
    }
   },
   "source": [
    "* Let’s create another car with methods this time"
   ]
  },
  {
   "cell_type": "code",
   "execution_count": 127,
   "metadata": {
    "slideshow": {
     "slide_type": "slide"
    }
   },
   "outputs": [
    {
     "name": "stdout",
     "output_type": "stream",
     "text": [
      "I have 4 wheels and can speed up to 120 km/h.\n",
      "I have 4 wheels and can speed up to 220 km/h.\n"
     ]
    }
   ],
   "source": [
    "class Vehicle:\n",
    "    def __init__(self, numWheels, fuelType, seatCapacity, maxVelocity):\n",
    "        self.numWheels = numWheels\n",
    "        self.fuelType = fuelType\n",
    "        self.seatCapacity = seatCapacity\n",
    "        self.maxVelocity = maxVelocity\n",
    "    def speedUp(self, amount):\n",
    "        self.maxVelocity += amount\n",
    "    def printInfo(self):\n",
    "        print(\"I have \" + str(self.numWheels) + \" wheels and can speed up to \" + str(self.maxVelocity) + \" km/h.\")\n",
    "\n",
    "    \n",
    "myCar = Vehicle(4,'electric', 5, 120)\n",
    "\n",
    "myCar.printInfo()\n",
    "\n",
    "myCar.speedUp(100)\n",
    "\n",
    "myCar.printInfo()"
   ]
  }
 ],
 "metadata": {
  "kernelspec": {
   "display_name": "Python 2",
   "language": "python",
   "name": "python2"
  },
  "language_info": {
   "codemirror_mode": {
    "name": "ipython",
    "version": 2
   },
   "file_extension": ".py",
   "mimetype": "text/x-python",
   "name": "python",
   "nbconvert_exporter": "python",
   "pygments_lexer": "ipython2",
   "version": "2.7.14"
  }
 },
 "nbformat": 4,
 "nbformat_minor": 2
}
